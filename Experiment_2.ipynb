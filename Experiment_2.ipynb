{
  "cells": [
    {
      "cell_type": "markdown",
      "metadata": {
        "id": "JWOT8ThmsFpb"
      },
      "source": [
        "# Importing required Libraries"
      ]
    },
    {
      "cell_type": "code",
      "execution_count": 1,
      "metadata": {
        "id": "Ei3695CRSsd6"
      },
      "outputs": [],
      "source": [
        "#--importing required libraries-----------\n",
        "import matplotlib.pyplot as plt # plotting\n",
        "import numpy as np # linear algebra\n",
        "import os # accessing directory structure\n",
        "import pandas as pd # data processing, CSV file I/O (e.g. pd.read_csv)\n",
        "import re\n",
        "from collections import Counter\n",
        "import random as rn"
      ]
    },
    {
      "cell_type": "markdown",
      "metadata": {
        "id": "840XcFsAh5hT"
      },
      "source": [
        "## Reading the news dataset input file"
      ]
    },
    {
      "cell_type": "code",
      "execution_count": 2,
      "metadata": {
        "id": "WSoMeRyKTYda"
      },
      "outputs": [],
      "source": [
        "data = pd.ExcelFile('News Dataset.xlsx')\n",
        "df_nd = data.parse(\"train\")\n"
      ]
    },
    {
      "cell_type": "code",
      "execution_count": 3,
      "metadata": {
        "colab": {
          "base_uri": "https://localhost:8080/",
          "height": 363
        },
        "id": "Z7SW9wizUDG4",
        "outputId": "07901b6e-6d75-46c9-f039-da97a84b56dd"
      },
      "outputs": [
        {
          "output_type": "execute_result",
          "data": {
            "text/plain": [
              "                                                text       category sentiment  \\\n",
              "0  കൊച്ചി ചെരുപ്പ് വിതരണ കേന്ദ്രത്തിലെ തീപിടിത്തം...       business  negative   \n",
              "1  ഈ​​​സ്റ്റേ​​​ണ്‍ ക​​​റി പൗ​​​ഡ​​​റി​​​ന് പു​​​...       business  positive   \n",
              "2      ശ്രീശാന്തിന്റെ ആജീവനാന്ത വിലക്ക് പിന്‍വലിച്ചു         sports  positive   \n",
              "3  റയല്‍ മാഡ്രിഡിനെ ഞെട്ടിച്ച യുവതാരം ബ്രസീല്‍ ടീ...         sports  positive   \n",
              "4  എനിക്ക് ശ്രീനിവാസന്‍ ആകേണ്ട, ലോഹിതദാസ് മതി : ക...  entertainment   neutral   \n",
              "5  മുല്ലപ്പൂ വിപ്ലവം ഇന്നു മുതല്‍, തിയറ്റര്‍ ലിസ്...  entertainment  positive   \n",
              "6  'അനാന്‍' ചിത്രത്തിന്‍റെ പുതിയ പോസ്റ്റര്‍ പുറത്...  entertainment  positive   \n",
              "7                         മുകേഷ് അംബാനി കുതിക്കുന്നു       business  positive   \n",
              "8  കിസാന്‍ സമ്മാന്‍ നിധിക്കായി സംസ്ഥാനത്തെ കൃഷിഭവ...       business  positive   \n",
              "9  \\nഒടുവില്‍ ടി വി ചന്ദ്രന്‍ അയ്യപ്പനോടുള്ള വാക്...  entertainment  positive   \n",
              "\n",
              "       offensive  \n",
              "0      Offensive  \n",
              "1  Not Offensive  \n",
              "2  Not Offensive  \n",
              "3  Not Offensive  \n",
              "4      Offensive  \n",
              "5            NaN  \n",
              "6            NaN  \n",
              "7            NaN  \n",
              "8            NaN  \n",
              "9            NaN  "
            ],
            "text/html": [
              "\n",
              "  <div id=\"df-d3d1a43e-54c7-4a49-ba44-00980536ae6e\">\n",
              "    <div class=\"colab-df-container\">\n",
              "      <div>\n",
              "<style scoped>\n",
              "    .dataframe tbody tr th:only-of-type {\n",
              "        vertical-align: middle;\n",
              "    }\n",
              "\n",
              "    .dataframe tbody tr th {\n",
              "        vertical-align: top;\n",
              "    }\n",
              "\n",
              "    .dataframe thead th {\n",
              "        text-align: right;\n",
              "    }\n",
              "</style>\n",
              "<table border=\"1\" class=\"dataframe\">\n",
              "  <thead>\n",
              "    <tr style=\"text-align: right;\">\n",
              "      <th></th>\n",
              "      <th>text</th>\n",
              "      <th>category</th>\n",
              "      <th>sentiment</th>\n",
              "      <th>offensive</th>\n",
              "    </tr>\n",
              "  </thead>\n",
              "  <tbody>\n",
              "    <tr>\n",
              "      <th>0</th>\n",
              "      <td>കൊച്ചി ചെരുപ്പ് വിതരണ കേന്ദ്രത്തിലെ തീപിടിത്തം...</td>\n",
              "      <td>business</td>\n",
              "      <td>negative</td>\n",
              "      <td>Offensive</td>\n",
              "    </tr>\n",
              "    <tr>\n",
              "      <th>1</th>\n",
              "      <td>ഈ​​​സ്റ്റേ​​​ണ്‍ ക​​​റി പൗ​​​ഡ​​​റി​​​ന് പു​​​...</td>\n",
              "      <td>business</td>\n",
              "      <td>positive</td>\n",
              "      <td>Not Offensive</td>\n",
              "    </tr>\n",
              "    <tr>\n",
              "      <th>2</th>\n",
              "      <td>ശ്രീശാന്തിന്റെ ആജീവനാന്ത വിലക്ക് പിന്‍വലിച്ചു</td>\n",
              "      <td>sports</td>\n",
              "      <td>positive</td>\n",
              "      <td>Not Offensive</td>\n",
              "    </tr>\n",
              "    <tr>\n",
              "      <th>3</th>\n",
              "      <td>റയല്‍ മാഡ്രിഡിനെ ഞെട്ടിച്ച യുവതാരം ബ്രസീല്‍ ടീ...</td>\n",
              "      <td>sports</td>\n",
              "      <td>positive</td>\n",
              "      <td>Not Offensive</td>\n",
              "    </tr>\n",
              "    <tr>\n",
              "      <th>4</th>\n",
              "      <td>എനിക്ക് ശ്രീനിവാസന്‍ ആകേണ്ട, ലോഹിതദാസ് മതി : ക...</td>\n",
              "      <td>entertainment</td>\n",
              "      <td>neutral</td>\n",
              "      <td>Offensive</td>\n",
              "    </tr>\n",
              "    <tr>\n",
              "      <th>5</th>\n",
              "      <td>മുല്ലപ്പൂ വിപ്ലവം ഇന്നു മുതല്‍, തിയറ്റര്‍ ലിസ്...</td>\n",
              "      <td>entertainment</td>\n",
              "      <td>positive</td>\n",
              "      <td>NaN</td>\n",
              "    </tr>\n",
              "    <tr>\n",
              "      <th>6</th>\n",
              "      <td>'അനാന്‍' ചിത്രത്തിന്‍റെ പുതിയ പോസ്റ്റര്‍ പുറത്...</td>\n",
              "      <td>entertainment</td>\n",
              "      <td>positive</td>\n",
              "      <td>NaN</td>\n",
              "    </tr>\n",
              "    <tr>\n",
              "      <th>7</th>\n",
              "      <td>മുകേഷ് അംബാനി കുതിക്കുന്നു</td>\n",
              "      <td>business</td>\n",
              "      <td>positive</td>\n",
              "      <td>NaN</td>\n",
              "    </tr>\n",
              "    <tr>\n",
              "      <th>8</th>\n",
              "      <td>കിസാന്‍ സമ്മാന്‍ നിധിക്കായി സംസ്ഥാനത്തെ കൃഷിഭവ...</td>\n",
              "      <td>business</td>\n",
              "      <td>positive</td>\n",
              "      <td>NaN</td>\n",
              "    </tr>\n",
              "    <tr>\n",
              "      <th>9</th>\n",
              "      <td>\\nഒടുവില്‍ ടി വി ചന്ദ്രന്‍ അയ്യപ്പനോടുള്ള വാക്...</td>\n",
              "      <td>entertainment</td>\n",
              "      <td>positive</td>\n",
              "      <td>NaN</td>\n",
              "    </tr>\n",
              "  </tbody>\n",
              "</table>\n",
              "</div>\n",
              "      <button class=\"colab-df-convert\" onclick=\"convertToInteractive('df-d3d1a43e-54c7-4a49-ba44-00980536ae6e')\"\n",
              "              title=\"Convert this dataframe to an interactive table.\"\n",
              "              style=\"display:none;\">\n",
              "        \n",
              "  <svg xmlns=\"http://www.w3.org/2000/svg\" height=\"24px\"viewBox=\"0 0 24 24\"\n",
              "       width=\"24px\">\n",
              "    <path d=\"M0 0h24v24H0V0z\" fill=\"none\"/>\n",
              "    <path d=\"M18.56 5.44l.94 2.06.94-2.06 2.06-.94-2.06-.94-.94-2.06-.94 2.06-2.06.94zm-11 1L8.5 8.5l.94-2.06 2.06-.94-2.06-.94L8.5 2.5l-.94 2.06-2.06.94zm10 10l.94 2.06.94-2.06 2.06-.94-2.06-.94-.94-2.06-.94 2.06-2.06.94z\"/><path d=\"M17.41 7.96l-1.37-1.37c-.4-.4-.92-.59-1.43-.59-.52 0-1.04.2-1.43.59L10.3 9.45l-7.72 7.72c-.78.78-.78 2.05 0 2.83L4 21.41c.39.39.9.59 1.41.59.51 0 1.02-.2 1.41-.59l7.78-7.78 2.81-2.81c.8-.78.8-2.07 0-2.86zM5.41 20L4 18.59l7.72-7.72 1.47 1.35L5.41 20z\"/>\n",
              "  </svg>\n",
              "      </button>\n",
              "      \n",
              "  <style>\n",
              "    .colab-df-container {\n",
              "      display:flex;\n",
              "      flex-wrap:wrap;\n",
              "      gap: 12px;\n",
              "    }\n",
              "\n",
              "    .colab-df-convert {\n",
              "      background-color: #E8F0FE;\n",
              "      border: none;\n",
              "      border-radius: 50%;\n",
              "      cursor: pointer;\n",
              "      display: none;\n",
              "      fill: #1967D2;\n",
              "      height: 32px;\n",
              "      padding: 0 0 0 0;\n",
              "      width: 32px;\n",
              "    }\n",
              "\n",
              "    .colab-df-convert:hover {\n",
              "      background-color: #E2EBFA;\n",
              "      box-shadow: 0px 1px 2px rgba(60, 64, 67, 0.3), 0px 1px 3px 1px rgba(60, 64, 67, 0.15);\n",
              "      fill: #174EA6;\n",
              "    }\n",
              "\n",
              "    [theme=dark] .colab-df-convert {\n",
              "      background-color: #3B4455;\n",
              "      fill: #D2E3FC;\n",
              "    }\n",
              "\n",
              "    [theme=dark] .colab-df-convert:hover {\n",
              "      background-color: #434B5C;\n",
              "      box-shadow: 0px 1px 3px 1px rgba(0, 0, 0, 0.15);\n",
              "      filter: drop-shadow(0px 1px 2px rgba(0, 0, 0, 0.3));\n",
              "      fill: #FFFFFF;\n",
              "    }\n",
              "  </style>\n",
              "\n",
              "      <script>\n",
              "        const buttonEl =\n",
              "          document.querySelector('#df-d3d1a43e-54c7-4a49-ba44-00980536ae6e button.colab-df-convert');\n",
              "        buttonEl.style.display =\n",
              "          google.colab.kernel.accessAllowed ? 'block' : 'none';\n",
              "\n",
              "        async function convertToInteractive(key) {\n",
              "          const element = document.querySelector('#df-d3d1a43e-54c7-4a49-ba44-00980536ae6e');\n",
              "          const dataTable =\n",
              "            await google.colab.kernel.invokeFunction('convertToInteractive',\n",
              "                                                     [key], {});\n",
              "          if (!dataTable) return;\n",
              "\n",
              "          const docLinkHtml = 'Like what you see? Visit the ' +\n",
              "            '<a target=\"_blank\" href=https://colab.research.google.com/notebooks/data_table.ipynb>data table notebook</a>'\n",
              "            + ' to learn more about interactive tables.';\n",
              "          element.innerHTML = '';\n",
              "          dataTable['output_type'] = 'display_data';\n",
              "          await google.colab.output.renderOutput(dataTable, element);\n",
              "          const docLink = document.createElement('div');\n",
              "          docLink.innerHTML = docLinkHtml;\n",
              "          element.appendChild(docLink);\n",
              "        }\n",
              "      </script>\n",
              "    </div>\n",
              "  </div>\n",
              "  "
            ]
          },
          "metadata": {},
          "execution_count": 3
        }
      ],
      "source": [
        "# reading first 10 rows\n",
        "df_nd.head(10)"
      ]
    },
    {
      "cell_type": "code",
      "execution_count": 4,
      "metadata": {
        "colab": {
          "base_uri": "https://localhost:8080/"
        },
        "id": "Gx8wMN1aVJo_",
        "outputId": "b4c2a5b2-292f-4b18-b907-15eb9589575a"
      },
      "outputs": [
        {
          "output_type": "stream",
          "name": "stdout",
          "text": [
            "There are 5036 rows and 4 columns in news dataset\n"
          ]
        }
      ],
      "source": [
        "# Number of rows and columns\n",
        "nRow, nCol = df_nd.shape\n",
        "print(f'There are {nRow} rows and {nCol} columns in news dataset')"
      ]
    },
    {
      "cell_type": "markdown",
      "metadata": {
        "id": "xIxPiwz2tpks"
      },
      "source": [
        "## Reading youtube comment dataset"
      ]
    },
    {
      "cell_type": "code",
      "execution_count": 5,
      "metadata": {
        "colab": {
          "base_uri": "https://localhost:8080/",
          "height": 363
        },
        "id": "EZ2oew91uaSx",
        "outputId": "b256ee77-84b1-403b-cd4b-4aa32bc53a22"
      },
      "outputs": [
        {
          "output_type": "execute_result",
          "data": {
            "text/plain": [
              "                                                text          category  \\\n",
              "0  ഇത്തരം  വനജീവികളെ വീട്ടിൽ  വളർത്തുന്നവരോട് പറയ...  Pets_and_Animals   \n",
              "1  ജീവിതത്തിൽ പലപ്പോഴും തോന്നിട്ടുണ്ട്  സുഹൃത്തുക...  Pets_and_Animals   \n",
              "2  ഈ പൂച്ച കുട്ടിയെ ഞങ്ങളാ വാങ്ങിയത് സുറുമി എന്ന ...  Pets_and_Animals   \n",
              "3  അവന്റെ കണ്ണുകളിൽ അന്നു കണ്ട ദയനീയത കണ്ടവർക്ക് ...  Pets_and_Animals   \n",
              "4  പൊള്ളിയാലോ  ഗ്രീൻ ഗപ്പി ഫുഡ്  ഈ വിഡിയോ  ഇട്ട  ...  Pets_and_Animals   \n",
              "5  ജാസ്മിനിൽ പൂർണമായി  ആ വൈരാഗ്യം അവസാനിക്കും എന്...  Pets_and_Animals   \n",
              "6  പൊന്നേട്ടൻ വിശേഷങ്ങൾ നന്നായി പോകുന്നുണ്ട് ട്ടോ...  Pets_and_Animals   \n",
              "7  ഗുരുവായൂർ കണ്ണന്റെ ഇന്ദ്രസേൻ ഗജരത്നം പത്മനാഭന്...  Pets_and_Animals   \n",
              "8  ചെരിഞ്ഞപ്പോൾ ആദരാഞ്ജലികൾ ഇടാൻ എല്ലാവരുമുണ്ട് ഇ...  Pets_and_Animals   \n",
              "9  ടീം നോക്കാതെ ക്രിക്കറ്റ് കണ്ടിരുന്ന കാലം 260 പ...            Sports   \n",
              "\n",
              "  sentiment  offensive  \n",
              "0  negative          0  \n",
              "1  positive          0  \n",
              "2  positive          0  \n",
              "3  positive          0  \n",
              "4  positive          0  \n",
              "5  negative          0  \n",
              "6  positive          0  \n",
              "7  positive          0  \n",
              "8  negative          0  \n",
              "9  positive          0  "
            ],
            "text/html": [
              "\n",
              "  <div id=\"df-c406d415-bcdb-46a8-9460-170f2ff7a9f9\">\n",
              "    <div class=\"colab-df-container\">\n",
              "      <div>\n",
              "<style scoped>\n",
              "    .dataframe tbody tr th:only-of-type {\n",
              "        vertical-align: middle;\n",
              "    }\n",
              "\n",
              "    .dataframe tbody tr th {\n",
              "        vertical-align: top;\n",
              "    }\n",
              "\n",
              "    .dataframe thead th {\n",
              "        text-align: right;\n",
              "    }\n",
              "</style>\n",
              "<table border=\"1\" class=\"dataframe\">\n",
              "  <thead>\n",
              "    <tr style=\"text-align: right;\">\n",
              "      <th></th>\n",
              "      <th>text</th>\n",
              "      <th>category</th>\n",
              "      <th>sentiment</th>\n",
              "      <th>offensive</th>\n",
              "    </tr>\n",
              "  </thead>\n",
              "  <tbody>\n",
              "    <tr>\n",
              "      <th>0</th>\n",
              "      <td>ഇത്തരം  വനജീവികളെ വീട്ടിൽ  വളർത്തുന്നവരോട് പറയ...</td>\n",
              "      <td>Pets_and_Animals</td>\n",
              "      <td>negative</td>\n",
              "      <td>0</td>\n",
              "    </tr>\n",
              "    <tr>\n",
              "      <th>1</th>\n",
              "      <td>ജീവിതത്തിൽ പലപ്പോഴും തോന്നിട്ടുണ്ട്  സുഹൃത്തുക...</td>\n",
              "      <td>Pets_and_Animals</td>\n",
              "      <td>positive</td>\n",
              "      <td>0</td>\n",
              "    </tr>\n",
              "    <tr>\n",
              "      <th>2</th>\n",
              "      <td>ഈ പൂച്ച കുട്ടിയെ ഞങ്ങളാ വാങ്ങിയത് സുറുമി എന്ന ...</td>\n",
              "      <td>Pets_and_Animals</td>\n",
              "      <td>positive</td>\n",
              "      <td>0</td>\n",
              "    </tr>\n",
              "    <tr>\n",
              "      <th>3</th>\n",
              "      <td>അവന്റെ കണ്ണുകളിൽ അന്നു കണ്ട ദയനീയത കണ്ടവർക്ക് ...</td>\n",
              "      <td>Pets_and_Animals</td>\n",
              "      <td>positive</td>\n",
              "      <td>0</td>\n",
              "    </tr>\n",
              "    <tr>\n",
              "      <th>4</th>\n",
              "      <td>പൊള്ളിയാലോ  ഗ്രീൻ ഗപ്പി ഫുഡ്  ഈ വിഡിയോ  ഇട്ട  ...</td>\n",
              "      <td>Pets_and_Animals</td>\n",
              "      <td>positive</td>\n",
              "      <td>0</td>\n",
              "    </tr>\n",
              "    <tr>\n",
              "      <th>5</th>\n",
              "      <td>ജാസ്മിനിൽ പൂർണമായി  ആ വൈരാഗ്യം അവസാനിക്കും എന്...</td>\n",
              "      <td>Pets_and_Animals</td>\n",
              "      <td>negative</td>\n",
              "      <td>0</td>\n",
              "    </tr>\n",
              "    <tr>\n",
              "      <th>6</th>\n",
              "      <td>പൊന്നേട്ടൻ വിശേഷങ്ങൾ നന്നായി പോകുന്നുണ്ട് ട്ടോ...</td>\n",
              "      <td>Pets_and_Animals</td>\n",
              "      <td>positive</td>\n",
              "      <td>0</td>\n",
              "    </tr>\n",
              "    <tr>\n",
              "      <th>7</th>\n",
              "      <td>ഗുരുവായൂർ കണ്ണന്റെ ഇന്ദ്രസേൻ ഗജരത്നം പത്മനാഭന്...</td>\n",
              "      <td>Pets_and_Animals</td>\n",
              "      <td>positive</td>\n",
              "      <td>0</td>\n",
              "    </tr>\n",
              "    <tr>\n",
              "      <th>8</th>\n",
              "      <td>ചെരിഞ്ഞപ്പോൾ ആദരാഞ്ജലികൾ ഇടാൻ എല്ലാവരുമുണ്ട് ഇ...</td>\n",
              "      <td>Pets_and_Animals</td>\n",
              "      <td>negative</td>\n",
              "      <td>0</td>\n",
              "    </tr>\n",
              "    <tr>\n",
              "      <th>9</th>\n",
              "      <td>ടീം നോക്കാതെ ക്രിക്കറ്റ് കണ്ടിരുന്ന കാലം 260 പ...</td>\n",
              "      <td>Sports</td>\n",
              "      <td>positive</td>\n",
              "      <td>0</td>\n",
              "    </tr>\n",
              "  </tbody>\n",
              "</table>\n",
              "</div>\n",
              "      <button class=\"colab-df-convert\" onclick=\"convertToInteractive('df-c406d415-bcdb-46a8-9460-170f2ff7a9f9')\"\n",
              "              title=\"Convert this dataframe to an interactive table.\"\n",
              "              style=\"display:none;\">\n",
              "        \n",
              "  <svg xmlns=\"http://www.w3.org/2000/svg\" height=\"24px\"viewBox=\"0 0 24 24\"\n",
              "       width=\"24px\">\n",
              "    <path d=\"M0 0h24v24H0V0z\" fill=\"none\"/>\n",
              "    <path d=\"M18.56 5.44l.94 2.06.94-2.06 2.06-.94-2.06-.94-.94-2.06-.94 2.06-2.06.94zm-11 1L8.5 8.5l.94-2.06 2.06-.94-2.06-.94L8.5 2.5l-.94 2.06-2.06.94zm10 10l.94 2.06.94-2.06 2.06-.94-2.06-.94-.94-2.06-.94 2.06-2.06.94z\"/><path d=\"M17.41 7.96l-1.37-1.37c-.4-.4-.92-.59-1.43-.59-.52 0-1.04.2-1.43.59L10.3 9.45l-7.72 7.72c-.78.78-.78 2.05 0 2.83L4 21.41c.39.39.9.59 1.41.59.51 0 1.02-.2 1.41-.59l7.78-7.78 2.81-2.81c.8-.78.8-2.07 0-2.86zM5.41 20L4 18.59l7.72-7.72 1.47 1.35L5.41 20z\"/>\n",
              "  </svg>\n",
              "      </button>\n",
              "      \n",
              "  <style>\n",
              "    .colab-df-container {\n",
              "      display:flex;\n",
              "      flex-wrap:wrap;\n",
              "      gap: 12px;\n",
              "    }\n",
              "\n",
              "    .colab-df-convert {\n",
              "      background-color: #E8F0FE;\n",
              "      border: none;\n",
              "      border-radius: 50%;\n",
              "      cursor: pointer;\n",
              "      display: none;\n",
              "      fill: #1967D2;\n",
              "      height: 32px;\n",
              "      padding: 0 0 0 0;\n",
              "      width: 32px;\n",
              "    }\n",
              "\n",
              "    .colab-df-convert:hover {\n",
              "      background-color: #E2EBFA;\n",
              "      box-shadow: 0px 1px 2px rgba(60, 64, 67, 0.3), 0px 1px 3px 1px rgba(60, 64, 67, 0.15);\n",
              "      fill: #174EA6;\n",
              "    }\n",
              "\n",
              "    [theme=dark] .colab-df-convert {\n",
              "      background-color: #3B4455;\n",
              "      fill: #D2E3FC;\n",
              "    }\n",
              "\n",
              "    [theme=dark] .colab-df-convert:hover {\n",
              "      background-color: #434B5C;\n",
              "      box-shadow: 0px 1px 3px 1px rgba(0, 0, 0, 0.15);\n",
              "      filter: drop-shadow(0px 1px 2px rgba(0, 0, 0, 0.3));\n",
              "      fill: #FFFFFF;\n",
              "    }\n",
              "  </style>\n",
              "\n",
              "      <script>\n",
              "        const buttonEl =\n",
              "          document.querySelector('#df-c406d415-bcdb-46a8-9460-170f2ff7a9f9 button.colab-df-convert');\n",
              "        buttonEl.style.display =\n",
              "          google.colab.kernel.accessAllowed ? 'block' : 'none';\n",
              "\n",
              "        async function convertToInteractive(key) {\n",
              "          const element = document.querySelector('#df-c406d415-bcdb-46a8-9460-170f2ff7a9f9');\n",
              "          const dataTable =\n",
              "            await google.colab.kernel.invokeFunction('convertToInteractive',\n",
              "                                                     [key], {});\n",
              "          if (!dataTable) return;\n",
              "\n",
              "          const docLinkHtml = 'Like what you see? Visit the ' +\n",
              "            '<a target=\"_blank\" href=https://colab.research.google.com/notebooks/data_table.ipynb>data table notebook</a>'\n",
              "            + ' to learn more about interactive tables.';\n",
              "          element.innerHTML = '';\n",
              "          dataTable['output_type'] = 'display_data';\n",
              "          await google.colab.output.renderOutput(dataTable, element);\n",
              "          const docLink = document.createElement('div');\n",
              "          docLink.innerHTML = docLinkHtml;\n",
              "          element.appendChild(docLink);\n",
              "        }\n",
              "      </script>\n",
              "    </div>\n",
              "  </div>\n",
              "  "
            ]
          },
          "metadata": {},
          "execution_count": 5
        }
      ],
      "source": [
        "df_yc = pd.read_csv('youtube_comments_dataset.csv')\n",
        "\n",
        "# reading first 10 rows\n",
        "df_yc.head(10)"
      ]
    },
    {
      "cell_type": "code",
      "execution_count": 6,
      "metadata": {
        "colab": {
          "base_uri": "https://localhost:8080/"
        },
        "id": "pi6qCdSmvffo",
        "outputId": "24396a5c-1d32-4c57-8148-c98b3c5cebb5"
      },
      "outputs": [
        {
          "output_type": "stream",
          "name": "stdout",
          "text": [
            "There are 6105 rows and 4 columns in youtube comments dataset\n"
          ]
        }
      ],
      "source": [
        "# Number of rows and columns\n",
        "nRow, nCol = df_yc.shape\n",
        "print(f'There are {nRow} rows and {nCol} columns in youtube comments dataset')"
      ]
    },
    {
      "cell_type": "markdown",
      "metadata": {
        "id": "PJYAHm3aiQs7"
      },
      "source": [
        "### Plotting the sentiments in the news and youtube comment dataset"
      ]
    },
    {
      "cell_type": "code",
      "execution_count": 7,
      "metadata": {
        "colab": {
          "base_uri": "https://localhost:8080/",
          "height": 346
        },
        "id": "s5ghYwYqXWKE",
        "outputId": "0b574201-189d-4030-caf0-3583255d13de"
      },
      "outputs": [
        {
          "output_type": "execute_result",
          "data": {
            "text/plain": [
              "Text(0.5, 0, 'Sentiments')"
            ]
          },
          "metadata": {},
          "execution_count": 7
        },
        {
          "output_type": "display_data",
          "data": {
            "text/plain": [
              "<Figure size 432x288 with 1 Axes>"
            ],
            "image/png": "[encoded data removed]"
          },
          "metadata": {
            "needs_background": "light"
          }
        }
      ],
      "source": [
        "plt.title(\"Sentiment Distribution for News dataset\")\n",
        "plt.ylabel('counts')\n",
        "df_nd['sentiment'].value_counts().plot.bar()\n",
        "plt.xlabel('Sentiments')"
      ]
    },
    {
      "cell_type": "code",
      "execution_count": 8,
      "metadata": {
        "colab": {
          "base_uri": "https://localhost:8080/"
        },
        "id": "O9Obq6Xl7kqF",
        "outputId": "7c63199f-93ba-43fc-c7f9-b5918891426e"
      },
      "outputs": [
        {
          "output_type": "execute_result",
          "data": {
            "text/plain": [
              "positive    2962\n",
              "negative    1473\n",
              "neutral      601\n",
              "Name: sentiment, dtype: int64"
            ]
          },
          "metadata": {},
          "execution_count": 8
        }
      ],
      "source": [
        "df_nd.sentiment.value_counts()"
      ]
    },
    {
      "cell_type": "code",
      "execution_count": 9,
      "metadata": {
        "colab": {
          "base_uri": "https://localhost:8080/",
          "height": 346
        },
        "id": "P-WscHHYw_P2",
        "outputId": "40ccab57-9b84-4911-b431-d26b4d3106f6"
      },
      "outputs": [
        {
          "output_type": "execute_result",
          "data": {
            "text/plain": [
              "Text(0.5, 0, 'Sentiments')"
            ]
          },
          "metadata": {},
          "execution_count": 9
        },
        {
          "output_type": "display_data",
          "data": {
            "text/plain": [
              "<Figure size 432x288 with 1 Axes>"
            ],
            "image/png": "[encoded data removed]"
          },
          "metadata": {
            "needs_background": "light"
          }
        }
      ],
      "source": [
        "plt.title(\"Sentiment Distribution for Youtube Comment dataset\")\n",
        "plt.ylabel('counts')\n",
        "df_yc['sentiment'].value_counts().plot.bar()\n",
        "plt.xlabel('Sentiments')"
      ]
    },
    {
      "cell_type": "code",
      "execution_count": 10,
      "metadata": {
        "colab": {
          "base_uri": "https://localhost:8080/"
        },
        "id": "JonVaj1m7tWB",
        "outputId": "2dd20aea-a5b3-43c3-df6b-fc95aec0c5e2"
      },
      "outputs": [
        {
          "output_type": "execute_result",
          "data": {
            "text/plain": [
              "positive    2394\n",
              "negative    2391\n",
              "neutral     1320\n",
              "Name: sentiment, dtype: int64"
            ]
          },
          "metadata": {},
          "execution_count": 10
        }
      ],
      "source": [
        "df_yc.sentiment.value_counts()"
      ]
    },
    {
      "cell_type": "markdown",
      "metadata": {
        "id": "DtvEIPSW80Cz"
      },
      "source": [
        "### Appending the neutral values from youtube comments to the news dataset"
      ]
    },
    {
      "cell_type": "code",
      "execution_count": 11,
      "metadata": {
        "id": "Ok83Sfa65Dy_"
      },
      "outputs": [],
      "source": [
        "df_neutral_yc=df_yc.loc[df_yc['sentiment'] == 'neutral']"
      ]
    },
    {
      "cell_type": "code",
      "execution_count": 12,
      "metadata": {
        "id": "pSnihV0E7Vi8"
      },
      "outputs": [],
      "source": [
        "df = df_nd.append(df_neutral_yc.head(800),ignore_index=True)"
      ]
    },
    {
      "cell_type": "code",
      "execution_count": 13,
      "metadata": {
        "colab": {
          "base_uri": "https://localhost:8080/"
        },
        "id": "OULhgj6piwLO",
        "outputId": "8d326cc5-c015-44ba-dcc2-e77c5346d8f0"
      },
      "outputs": [
        {
          "output_type": "stream",
          "name": "stdout",
          "text": [
            "There are 5836 rows and 4 columns in youtube comments dataset\n"
          ]
        }
      ],
      "source": [
        "# Number of rows and columns\n",
        "nRow, nCol = df.shape\n",
        "print(f'There are {nRow} rows and {nCol} columns in youtube comments dataset')"
      ]
    },
    {
      "cell_type": "code",
      "execution_count": 14,
      "metadata": {
        "colab": {
          "base_uri": "https://localhost:8080/",
          "height": 363
        },
        "id": "NFDN7wFfmeGB",
        "outputId": "7293a329-30eb-4b53-c0ba-89cb0482ced8"
      },
      "outputs": [
        {
          "output_type": "execute_result",
          "data": {
            "text/plain": [
              "                                                text       category sentiment  \\\n",
              "0  കൊച്ചി ചെരുപ്പ് വിതരണ കേന്ദ്രത്തിലെ തീപിടിത്തം...       business  negative   \n",
              "1  ഈ​​​സ്റ്റേ​​​ണ്‍ ക​​​റി പൗ​​​ഡ​​​റി​​​ന് പു​​​...       business  positive   \n",
              "2      ശ്രീശാന്തിന്റെ ആജീവനാന്ത വിലക്ക് പിന്‍വലിച്ചു         sports  positive   \n",
              "3  റയല്‍ മാഡ്രിഡിനെ ഞെട്ടിച്ച യുവതാരം ബ്രസീല്‍ ടീ...         sports  positive   \n",
              "4  എനിക്ക് ശ്രീനിവാസന്‍ ആകേണ്ട, ലോഹിതദാസ് മതി : ക...  entertainment   neutral   \n",
              "5  മുല്ലപ്പൂ വിപ്ലവം ഇന്നു മുതല്‍, തിയറ്റര്‍ ലിസ്...  entertainment  positive   \n",
              "6  'അനാന്‍' ചിത്രത്തിന്‍റെ പുതിയ പോസ്റ്റര്‍ പുറത്...  entertainment  positive   \n",
              "7                         മുകേഷ് അംബാനി കുതിക്കുന്നു       business  positive   \n",
              "8  കിസാന്‍ സമ്മാന്‍ നിധിക്കായി സംസ്ഥാനത്തെ കൃഷിഭവ...       business  positive   \n",
              "9  \\nഒടുവില്‍ ടി വി ചന്ദ്രന്‍ അയ്യപ്പനോടുള്ള വാക്...  entertainment  positive   \n",
              "\n",
              "       offensive  \n",
              "0      Offensive  \n",
              "1  Not Offensive  \n",
              "2  Not Offensive  \n",
              "3  Not Offensive  \n",
              "4      Offensive  \n",
              "5            NaN  \n",
              "6            NaN  \n",
              "7            NaN  \n",
              "8            NaN  \n",
              "9            NaN  "
            ],
            "text/html": [
              "\n",
              "  <div id=\"df-f29629e9-897c-4818-babe-ba2b17137c0a\">\n",
              "    <div class=\"colab-df-container\">\n",
              "      <div>\n",
              "<style scoped>\n",
              "    .dataframe tbody tr th:only-of-type {\n",
              "        vertical-align: middle;\n",
              "    }\n",
              "\n",
              "    .dataframe tbody tr th {\n",
              "        vertical-align: top;\n",
              "    }\n",
              "\n",
              "    .dataframe thead th {\n",
              "        text-align: right;\n",
              "    }\n",
              "</style>\n",
              "<table border=\"1\" class=\"dataframe\">\n",
              "  <thead>\n",
              "    <tr style=\"text-align: right;\">\n",
              "      <th></th>\n",
              "      <th>text</th>\n",
              "      <th>category</th>\n",
              "      <th>sentiment</th>\n",
              "      <th>offensive</th>\n",
              "    </tr>\n",
              "  </thead>\n",
              "  <tbody>\n",
              "    <tr>\n",
              "      <th>0</th>\n",
              "      <td>കൊച്ചി ചെരുപ്പ് വിതരണ കേന്ദ്രത്തിലെ തീപിടിത്തം...</td>\n",
              "      <td>business</td>\n",
              "      <td>negative</td>\n",
              "      <td>Offensive</td>\n",
              "    </tr>\n",
              "    <tr>\n",
              "      <th>1</th>\n",
              "      <td>ഈ​​​സ്റ്റേ​​​ണ്‍ ക​​​റി പൗ​​​ഡ​​​റി​​​ന് പു​​​...</td>\n",
              "      <td>business</td>\n",
              "      <td>positive</td>\n",
              "      <td>Not Offensive</td>\n",
              "    </tr>\n",
              "    <tr>\n",
              "      <th>2</th>\n",
              "      <td>ശ്രീശാന്തിന്റെ ആജീവനാന്ത വിലക്ക് പിന്‍വലിച്ചു</td>\n",
              "      <td>sports</td>\n",
              "      <td>positive</td>\n",
              "      <td>Not Offensive</td>\n",
              "    </tr>\n",
              "    <tr>\n",
              "      <th>3</th>\n",
              "      <td>റയല്‍ മാഡ്രിഡിനെ ഞെട്ടിച്ച യുവതാരം ബ്രസീല്‍ ടീ...</td>\n",
              "      <td>sports</td>\n",
              "      <td>positive</td>\n",
              "      <td>Not Offensive</td>\n",
              "    </tr>\n",
              "    <tr>\n",
              "      <th>4</th>\n",
              "      <td>എനിക്ക് ശ്രീനിവാസന്‍ ആകേണ്ട, ലോഹിതദാസ് മതി : ക...</td>\n",
              "      <td>entertainment</td>\n",
              "      <td>neutral</td>\n",
              "      <td>Offensive</td>\n",
              "    </tr>\n",
              "    <tr>\n",
              "      <th>5</th>\n",
              "      <td>മുല്ലപ്പൂ വിപ്ലവം ഇന്നു മുതല്‍, തിയറ്റര്‍ ലിസ്...</td>\n",
              "      <td>entertainment</td>\n",
              "      <td>positive</td>\n",
              "      <td>NaN</td>\n",
              "    </tr>\n",
              "    <tr>\n",
              "      <th>6</th>\n",
              "      <td>'അനാന്‍' ചിത്രത്തിന്‍റെ പുതിയ പോസ്റ്റര്‍ പുറത്...</td>\n",
              "      <td>entertainment</td>\n",
              "      <td>positive</td>\n",
              "      <td>NaN</td>\n",
              "    </tr>\n",
              "    <tr>\n",
              "      <th>7</th>\n",
              "      <td>മുകേഷ് അംബാനി കുതിക്കുന്നു</td>\n",
              "      <td>business</td>\n",
              "      <td>positive</td>\n",
              "      <td>NaN</td>\n",
              "    </tr>\n",
              "    <tr>\n",
              "      <th>8</th>\n",
              "      <td>കിസാന്‍ സമ്മാന്‍ നിധിക്കായി സംസ്ഥാനത്തെ കൃഷിഭവ...</td>\n",
              "      <td>business</td>\n",
              "      <td>positive</td>\n",
              "      <td>NaN</td>\n",
              "    </tr>\n",
              "    <tr>\n",
              "      <th>9</th>\n",
              "      <td>\\nഒടുവില്‍ ടി വി ചന്ദ്രന്‍ അയ്യപ്പനോടുള്ള വാക്...</td>\n",
              "      <td>entertainment</td>\n",
              "      <td>positive</td>\n",
              "      <td>NaN</td>\n",
              "    </tr>\n",
              "  </tbody>\n",
              "</table>\n",
              "</div>\n",
              "      <button class=\"colab-df-convert\" onclick=\"convertToInteractive('df-f29629e9-897c-4818-babe-ba2b17137c0a')\"\n",
              "              title=\"Convert this dataframe to an interactive table.\"\n",
              "              style=\"display:none;\">\n",
              "        \n",
              "  <svg xmlns=\"http://www.w3.org/2000/svg\" height=\"24px\"viewBox=\"0 0 24 24\"\n",
              "       width=\"24px\">\n",
              "    <path d=\"M0 0h24v24H0V0z\" fill=\"none\"/>\n",
              "    <path d=\"M18.56 5.44l.94 2.06.94-2.06 2.06-.94-2.06-.94-.94-2.06-.94 2.06-2.06.94zm-11 1L8.5 8.5l.94-2.06 2.06-.94-2.06-.94L8.5 2.5l-.94 2.06-2.06.94zm10 10l.94 2.06.94-2.06 2.06-.94-2.06-.94-.94-2.06-.94 2.06-2.06.94z\"/><path d=\"M17.41 7.96l-1.37-1.37c-.4-.4-.92-.59-1.43-.59-.52 0-1.04.2-1.43.59L10.3 9.45l-7.72 7.72c-.78.78-.78 2.05 0 2.83L4 21.41c.39.39.9.59 1.41.59.51 0 1.02-.2 1.41-.59l7.78-7.78 2.81-2.81c.8-.78.8-2.07 0-2.86zM5.41 20L4 18.59l7.72-7.72 1.47 1.35L5.41 20z\"/>\n",
              "  </svg>\n",
              "      </button>\n",
              "      \n",
              "  <style>\n",
              "    .colab-df-container {\n",
              "      display:flex;\n",
              "      flex-wrap:wrap;\n",
              "      gap: 12px;\n",
              "    }\n",
              "\n",
              "    .colab-df-convert {\n",
              "      background-color: #E8F0FE;\n",
              "      border: none;\n",
              "      border-radius: 50%;\n",
              "      cursor: pointer;\n",
              "      display: none;\n",
              "      fill: #1967D2;\n",
              "      height: 32px;\n",
              "      padding: 0 0 0 0;\n",
              "      width: 32px;\n",
              "    }\n",
              "\n",
              "    .colab-df-convert:hover {\n",
              "      background-color: #E2EBFA;\n",
              "      box-shadow: 0px 1px 2px rgba(60, 64, 67, 0.3), 0px 1px 3px 1px rgba(60, 64, 67, 0.15);\n",
              "      fill: #174EA6;\n",
              "    }\n",
              "\n",
              "    [theme=dark] .colab-df-convert {\n",
              "      background-color: #3B4455;\n",
              "      fill: #D2E3FC;\n",
              "    }\n",
              "\n",
              "    [theme=dark] .colab-df-convert:hover {\n",
              "      background-color: #434B5C;\n",
              "      box-shadow: 0px 1px 3px 1px rgba(0, 0, 0, 0.15);\n",
              "      filter: drop-shadow(0px 1px 2px rgba(0, 0, 0, 0.3));\n",
              "      fill: #FFFFFF;\n",
              "    }\n",
              "  </style>\n",
              "\n",
              "      <script>\n",
              "        const buttonEl =\n",
              "          document.querySelector('#df-f29629e9-897c-4818-babe-ba2b17137c0a button.colab-df-convert');\n",
              "        buttonEl.style.display =\n",
              "          google.colab.kernel.accessAllowed ? 'block' : 'none';\n",
              "\n",
              "        async function convertToInteractive(key) {\n",
              "          const element = document.querySelector('#df-f29629e9-897c-4818-babe-ba2b17137c0a');\n",
              "          const dataTable =\n",
              "            await google.colab.kernel.invokeFunction('convertToInteractive',\n",
              "                                                     [key], {});\n",
              "          if (!dataTable) return;\n",
              "\n",
              "          const docLinkHtml = 'Like what you see? Visit the ' +\n",
              "            '<a target=\"_blank\" href=https://colab.research.google.com/notebooks/data_table.ipynb>data table notebook</a>'\n",
              "            + ' to learn more about interactive tables.';\n",
              "          element.innerHTML = '';\n",
              "          dataTable['output_type'] = 'display_data';\n",
              "          await google.colab.output.renderOutput(dataTable, element);\n",
              "          const docLink = document.createElement('div');\n",
              "          docLink.innerHTML = docLinkHtml;\n",
              "          element.appendChild(docLink);\n",
              "        }\n",
              "      </script>\n",
              "    </div>\n",
              "  </div>\n",
              "  "
            ]
          },
          "metadata": {},
          "execution_count": 14
        }
      ],
      "source": [
        "df.head(10)"
      ]
    },
    {
      "cell_type": "code",
      "source": [
        "df['sentiment']"
      ],
      "metadata": {
        "colab": {
          "base_uri": "https://localhost:8080/"
        },
        "id": "TeKoNoXix_EI",
        "outputId": "362d871d-2077-41d1-f7ba-81e9964f795d"
      },
      "execution_count": 15,
      "outputs": [
        {
          "output_type": "execute_result",
          "data": {
            "text/plain": [
              "0       negative\n",
              "1       positive\n",
              "2       positive\n",
              "3       positive\n",
              "4        neutral\n",
              "          ...   \n",
              "5831     neutral\n",
              "5832     neutral\n",
              "5833     neutral\n",
              "5834     neutral\n",
              "5835     neutral\n",
              "Name: sentiment, Length: 5836, dtype: object"
            ]
          },
          "metadata": {},
          "execution_count": 15
        }
      ]
    },
    {
      "cell_type": "code",
      "execution_count": 16,
      "metadata": {
        "colab": {
          "base_uri": "https://localhost:8080/",
          "height": 346
        },
        "id": "X2SeGl3M8FFT",
        "outputId": "8c35fa14-1b13-4c09-fcf4-73ab02075e06"
      },
      "outputs": [
        {
          "output_type": "execute_result",
          "data": {
            "text/plain": [
              "Text(0.5, 0, 'Sentiments')"
            ]
          },
          "metadata": {},
          "execution_count": 16
        },
        {
          "output_type": "display_data",
          "data": {
            "text/plain": [
              "<Figure size 432x288 with 1 Axes>"
            ],
            "image/png": "[encoded data removed]"
          },
          "metadata": {
            "needs_background": "light"
          }
        }
      ],
      "source": [
        "plt.title(\"Sentiment Distribution for final dataset\")\n",
        "plt.ylabel('counts')\n",
        "df['sentiment'].value_counts().plot.bar()\n",
        "plt.xlabel('Sentiments')"
      ]
    },
    {
      "cell_type": "code",
      "execution_count": 17,
      "metadata": {
        "colab": {
          "base_uri": "https://localhost:8080/"
        },
        "id": "kotgBk5k8nAS",
        "outputId": "099b1d53-02e3-4669-a6fb-c300d7869ddc"
      },
      "outputs": [
        {
          "output_type": "execute_result",
          "data": {
            "text/plain": [
              "positive    2962\n",
              "negative    1473\n",
              "neutral     1401\n",
              "Name: sentiment, dtype: int64"
            ]
          },
          "metadata": {},
          "execution_count": 17
        }
      ],
      "source": [
        "df.sentiment.value_counts()"
      ]
    },
    {
      "cell_type": "code",
      "execution_count": 18,
      "metadata": {
        "colab": {
          "base_uri": "https://localhost:8080/"
        },
        "id": "rH4yo_T29HTF",
        "outputId": "5e47974d-9e49-4be5-cc87-680e469376fb"
      },
      "outputs": [
        {
          "output_type": "stream",
          "name": "stdout",
          "text": [
            "There are 5836 rows and 4 columns in final dataset\n"
          ]
        }
      ],
      "source": [
        "# Number of rows and columns\n",
        "nRow, nCol = df.shape\n",
        "print(f'There are {nRow} rows and {nCol} columns in final dataset')"
      ]
    },
    {
      "cell_type": "code",
      "execution_count": 19,
      "metadata": {
        "colab": {
          "base_uri": "https://localhost:8080/",
          "height": 421
        },
        "id": "_rjY_7GaLHFh",
        "outputId": "11dfbfcb-4c7d-4d52-f82d-1fae366dc6b4"
      },
      "outputs": [
        {
          "output_type": "display_data",
          "data": {
            "text/plain": [
              "<Figure size 432x288 with 1 Axes>"
            ],
            "image/png": "[encoded data removed]"
          },
          "metadata": {
            "needs_background": "light"
          }
        },
        {
          "output_type": "execute_result",
          "data": {
            "text/plain": [
              "count    5836.000000\n",
              "mean       95.149589\n",
              "std        68.139708\n",
              "min         4.000000\n",
              "25%        57.000000\n",
              "50%        78.000000\n",
              "75%       107.000000\n",
              "max      1358.000000\n",
              "dtype: float64"
            ]
          },
          "metadata": {},
          "execution_count": 19
        }
      ],
      "source": [
        "text_len = [len(x) for x in df['text']]\n",
        "pd.Series(text_len).hist()\n",
        "plt.show()\n",
        "pd.Series(text_len).describe()"
      ]
    },
    {
      "cell_type": "markdown",
      "metadata": {
        "id": "U587x_hBLiXx"
      },
      "source": [
        "### Number of words"
      ]
    },
    {
      "cell_type": "code",
      "execution_count": 20,
      "metadata": {
        "colab": {
          "base_uri": "https://localhost:8080/",
          "height": 424
        },
        "id": "KpA06JdqLlgr",
        "outputId": "414dffb3-1f5d-4ccc-95a7-f172e50a80db"
      },
      "outputs": [
        {
          "output_type": "execute_result",
          "data": {
            "text/plain": [
              "                                                   text  \\\n",
              "0     കൊച്ചി ചെരുപ്പ് വിതരണ കേന്ദ്രത്തിലെ തീപിടിത്തം...   \n",
              "1     ഈ​​​സ്റ്റേ​​​ണ്‍ ക​​​റി പൗ​​​ഡ​​​റി​​​ന് പു​​​...   \n",
              "2         ശ്രീശാന്തിന്റെ ആജീവനാന്ത വിലക്ക് പിന്‍വലിച്ചു   \n",
              "3     റയല്‍ മാഡ്രിഡിനെ ഞെട്ടിച്ച യുവതാരം ബ്രസീല്‍ ടീ...   \n",
              "4     എനിക്ക് ശ്രീനിവാസന്‍ ആകേണ്ട, ലോഹിതദാസ് മതി : ക...   \n",
              "...                                                 ...   \n",
              "5831  സുമ്മുൻ ബുക് മുൻ ഉംയുൻ ഫഹും ലായർജി ഊൻ (ദുൽ മത്...   \n",
              "5832  സുധാകരനും സതീശനും മുട്ടനാടുകളെ രക്ഷ പെടുത്താൻ ...   \n",
              "5833              സുകന്യ അക്കൌണ്ടിന്റെ പ്രായം പറഞ്ഞില്ല   \n",
              "5834  ഷൈനപ്പൻ അശ്വതിപ്രീന തിരുവാതിര അനുജ രേവതി ദിയ പ...   \n",
              "5835  ഷാജനെപോലുള്ള ഓൺലൈൻ പത്രക്കാർ ഉള്ളത് കൊണ്ടാണ് പ...   \n",
              "\n",
              "                    category sentiment      offensive  number_of_words  \n",
              "0                   business  negative      Offensive               10  \n",
              "1                   business  positive  Not Offensive               14  \n",
              "2                     sports  positive  Not Offensive                4  \n",
              "3                     sports  positive  Not Offensive                6  \n",
              "4              entertainment   neutral      Offensive               11  \n",
              "...                      ...       ...            ...              ...  \n",
              "5831               Education   neutral              0               10  \n",
              "5832       News_and_Politics   neutral              0                8  \n",
              "5833       News_and_Politics   neutral              0                4  \n",
              "5834  Science_and_Technology   neutral              0               10  \n",
              "5835       News_and_Politics   neutral              0                9  \n",
              "\n",
              "[5836 rows x 5 columns]"
            ],
            "text/html": [
              "\n",
              "  <div id=\"df-2fad2c69-0fa6-4dcf-8603-afce35037db4\">\n",
              "    <div class=\"colab-df-container\">\n",
              "      <div>\n",
              "<style scoped>\n",
              "    .dataframe tbody tr th:only-of-type {\n",
              "        vertical-align: middle;\n",
              "    }\n",
              "\n",
              "    .dataframe tbody tr th {\n",
              "        vertical-align: top;\n",
              "    }\n",
              "\n",
              "    .dataframe thead th {\n",
              "        text-align: right;\n",
              "    }\n",
              "</style>\n",
              "<table border=\"1\" class=\"dataframe\">\n",
              "  <thead>\n",
              "    <tr style=\"text-align: right;\">\n",
              "      <th></th>\n",
              "      <th>text</th>\n",
              "      <th>category</th>\n",
              "      <th>sentiment</th>\n",
              "      <th>offensive</th>\n",
              "      <th>number_of_words</th>\n",
              "    </tr>\n",
              "  </thead>\n",
              "  <tbody>\n",
              "    <tr>\n",
              "      <th>0</th>\n",
              "      <td>കൊച്ചി ചെരുപ്പ് വിതരണ കേന്ദ്രത്തിലെ തീപിടിത്തം...</td>\n",
              "      <td>business</td>\n",
              "      <td>negative</td>\n",
              "      <td>Offensive</td>\n",
              "      <td>10</td>\n",
              "    </tr>\n",
              "    <tr>\n",
              "      <th>1</th>\n",
              "      <td>ഈ​​​സ്റ്റേ​​​ണ്‍ ക​​​റി പൗ​​​ഡ​​​റി​​​ന് പു​​​...</td>\n",
              "      <td>business</td>\n",
              "      <td>positive</td>\n",
              "      <td>Not Offensive</td>\n",
              "      <td>14</td>\n",
              "    </tr>\n",
              "    <tr>\n",
              "      <th>2</th>\n",
              "      <td>ശ്രീശാന്തിന്റെ ആജീവനാന്ത വിലക്ക് പിന്‍വലിച്ചു</td>\n",
              "      <td>sports</td>\n",
              "      <td>positive</td>\n",
              "      <td>Not Offensive</td>\n",
              "      <td>4</td>\n",
              "    </tr>\n",
              "    <tr>\n",
              "      <th>3</th>\n",
              "      <td>റയല്‍ മാഡ്രിഡിനെ ഞെട്ടിച്ച യുവതാരം ബ്രസീല്‍ ടീ...</td>\n",
              "      <td>sports</td>\n",
              "      <td>positive</td>\n",
              "      <td>Not Offensive</td>\n",
              "      <td>6</td>\n",
              "    </tr>\n",
              "    <tr>\n",
              "      <th>4</th>\n",
              "      <td>എനിക്ക് ശ്രീനിവാസന്‍ ആകേണ്ട, ലോഹിതദാസ് മതി : ക...</td>\n",
              "      <td>entertainment</td>\n",
              "      <td>neutral</td>\n",
              "      <td>Offensive</td>\n",
              "      <td>11</td>\n",
              "    </tr>\n",
              "    <tr>\n",
              "      <th>...</th>\n",
              "      <td>...</td>\n",
              "      <td>...</td>\n",
              "      <td>...</td>\n",
              "      <td>...</td>\n",
              "      <td>...</td>\n",
              "    </tr>\n",
              "    <tr>\n",
              "      <th>5831</th>\n",
              "      <td>സുമ്മുൻ ബുക് മുൻ ഉംയുൻ ഫഹും ലായർജി ഊൻ (ദുൽ മത്...</td>\n",
              "      <td>Education</td>\n",
              "      <td>neutral</td>\n",
              "      <td>0</td>\n",
              "      <td>10</td>\n",
              "    </tr>\n",
              "    <tr>\n",
              "      <th>5832</th>\n",
              "      <td>സുധാകരനും സതീശനും മുട്ടനാടുകളെ രക്ഷ പെടുത്താൻ ...</td>\n",
              "      <td>News_and_Politics</td>\n",
              "      <td>neutral</td>\n",
              "      <td>0</td>\n",
              "      <td>8</td>\n",
              "    </tr>\n",
              "    <tr>\n",
              "      <th>5833</th>\n",
              "      <td>സുകന്യ അക്കൌണ്ടിന്റെ പ്രായം പറഞ്ഞില്ല</td>\n",
              "      <td>News_and_Politics</td>\n",
              "      <td>neutral</td>\n",
              "      <td>0</td>\n",
              "      <td>4</td>\n",
              "    </tr>\n",
              "    <tr>\n",
              "      <th>5834</th>\n",
              "      <td>ഷൈനപ്പൻ അശ്വതിപ്രീന തിരുവാതിര അനുജ രേവതി ദിയ പ...</td>\n",
              "      <td>Science_and_Technology</td>\n",
              "      <td>neutral</td>\n",
              "      <td>0</td>\n",
              "      <td>10</td>\n",
              "    </tr>\n",
              "    <tr>\n",
              "      <th>5835</th>\n",
              "      <td>ഷാജനെപോലുള്ള ഓൺലൈൻ പത്രക്കാർ ഉള്ളത് കൊണ്ടാണ് പ...</td>\n",
              "      <td>News_and_Politics</td>\n",
              "      <td>neutral</td>\n",
              "      <td>0</td>\n",
              "      <td>9</td>\n",
              "    </tr>\n",
              "  </tbody>\n",
              "</table>\n",
              "<p>5836 rows × 5 columns</p>\n",
              "</div>\n",
              "      <button class=\"colab-df-convert\" onclick=\"convertToInteractive('df-2fad2c69-0fa6-4dcf-8603-afce35037db4')\"\n",
              "              title=\"Convert this dataframe to an interactive table.\"\n",
              "              style=\"display:none;\">\n",
              "        \n",
              "  <svg xmlns=\"http://www.w3.org/2000/svg\" height=\"24px\"viewBox=\"0 0 24 24\"\n",
              "       width=\"24px\">\n",
              "    <path d=\"M0 0h24v24H0V0z\" fill=\"none\"/>\n",
              "    <path d=\"M18.56 5.44l.94 2.06.94-2.06 2.06-.94-2.06-.94-.94-2.06-.94 2.06-2.06.94zm-11 1L8.5 8.5l.94-2.06 2.06-.94-2.06-.94L8.5 2.5l-.94 2.06-2.06.94zm10 10l.94 2.06.94-2.06 2.06-.94-2.06-.94-.94-2.06-.94 2.06-2.06.94z\"/><path d=\"M17.41 7.96l-1.37-1.37c-.4-.4-.92-.59-1.43-.59-.52 0-1.04.2-1.43.59L10.3 9.45l-7.72 7.72c-.78.78-.78 2.05 0 2.83L4 21.41c.39.39.9.59 1.41.59.51 0 1.02-.2 1.41-.59l7.78-7.78 2.81-2.81c.8-.78.8-2.07 0-2.86zM5.41 20L4 18.59l7.72-7.72 1.47 1.35L5.41 20z\"/>\n",
              "  </svg>\n",
              "      </button>\n",
              "      \n",
              "  <style>\n",
              "    .colab-df-container {\n",
              "      display:flex;\n",
              "      flex-wrap:wrap;\n",
              "      gap: 12px;\n",
              "    }\n",
              "\n",
              "    .colab-df-convert {\n",
              "      background-color: #E8F0FE;\n",
              "      border: none;\n",
              "      border-radius: 50%;\n",
              "      cursor: pointer;\n",
              "      display: none;\n",
              "      fill: #1967D2;\n",
              "      height: 32px;\n",
              "      padding: 0 0 0 0;\n",
              "      width: 32px;\n",
              "    }\n",
              "\n",
              "    .colab-df-convert:hover {\n",
              "      background-color: #E2EBFA;\n",
              "      box-shadow: 0px 1px 2px rgba(60, 64, 67, 0.3), 0px 1px 3px 1px rgba(60, 64, 67, 0.15);\n",
              "      fill: #174EA6;\n",
              "    }\n",
              "\n",
              "    [theme=dark] .colab-df-convert {\n",
              "      background-color: #3B4455;\n",
              "      fill: #D2E3FC;\n",
              "    }\n",
              "\n",
              "    [theme=dark] .colab-df-convert:hover {\n",
              "      background-color: #434B5C;\n",
              "      box-shadow: 0px 1px 3px 1px rgba(0, 0, 0, 0.15);\n",
              "      filter: drop-shadow(0px 1px 2px rgba(0, 0, 0, 0.3));\n",
              "      fill: #FFFFFF;\n",
              "    }\n",
              "  </style>\n",
              "\n",
              "      <script>\n",
              "        const buttonEl =\n",
              "          document.querySelector('#df-2fad2c69-0fa6-4dcf-8603-afce35037db4 button.colab-df-convert');\n",
              "        buttonEl.style.display =\n",
              "          google.colab.kernel.accessAllowed ? 'block' : 'none';\n",
              "\n",
              "        async function convertToInteractive(key) {\n",
              "          const element = document.querySelector('#df-2fad2c69-0fa6-4dcf-8603-afce35037db4');\n",
              "          const dataTable =\n",
              "            await google.colab.kernel.invokeFunction('convertToInteractive',\n",
              "                                                     [key], {});\n",
              "          if (!dataTable) return;\n",
              "\n",
              "          const docLinkHtml = 'Like what you see? Visit the ' +\n",
              "            '<a target=\"_blank\" href=https://colab.research.google.com/notebooks/data_table.ipynb>data table notebook</a>'\n",
              "            + ' to learn more about interactive tables.';\n",
              "          element.innerHTML = '';\n",
              "          dataTable['output_type'] = 'display_data';\n",
              "          await google.colab.output.renderOutput(dataTable, element);\n",
              "          const docLink = document.createElement('div');\n",
              "          docLink.innerHTML = docLinkHtml;\n",
              "          element.appendChild(docLink);\n",
              "        }\n",
              "      </script>\n",
              "    </div>\n",
              "  </div>\n",
              "  "
            ]
          },
          "metadata": {},
          "execution_count": 20
        }
      ],
      "source": [
        "df['number_of_words'] = [len(tw.split()) for tw in df.text]\n",
        "df"
      ]
    },
    {
      "cell_type": "code",
      "execution_count": 21,
      "metadata": {
        "id": "Ff8FqZjb62RX"
      },
      "outputs": [],
      "source": [
        "#counting the number of unique words in the corpora\n",
        "\n",
        "def counter_word(text):\n",
        "    print(\"Started counting words\")\n",
        "    count = Counter()\n",
        "    for i in text.values:\n",
        "        for word in i.split():\n",
        "            count[word] += 1\n",
        "    print(\"Finished counting words\")\n",
        "    return count"
      ]
    },
    {
      "cell_type": "code",
      "execution_count": 22,
      "metadata": {
        "colab": {
          "base_uri": "https://localhost:8080/"
        },
        "id": "SxLrl8NP7Prm",
        "outputId": "37c0c9e9-0885-4188-cb4e-63657e114f53"
      },
      "outputs": [
        {
          "output_type": "stream",
          "name": "stdout",
          "text": [
            "Started counting words\n",
            "Finished counting words\n",
            "24983\n"
          ]
        }
      ],
      "source": [
        "no_of_words= counter_word(df['text'])\n",
        "print(len(no_of_words))"
      ]
    },
    {
      "cell_type": "markdown",
      "metadata": {
        "id": "lN-KGxkzpLNT"
      },
      "source": [
        "Importing Rachana font for printing Malayalam words in plot"
      ]
    },
    {
      "cell_type": "code",
      "execution_count": 23,
      "metadata": {
        "id": "GThkVmJGXoYf",
        "colab": {
          "base_uri": "https://localhost:8080/",
          "height": 294
        },
        "outputId": "f9ad8813-51ff-46e5-c938-31a04e2c1790"
      },
      "outputs": [
        {
          "output_type": "display_data",
          "data": {
            "text/plain": [
              "<Figure size 432x288 with 1 Axes>"
            ],
            "image/png": "[encoded data removed]"
          },
          "metadata": {
            "needs_background": "light"
          }
        }
      ],
      "source": [
        "import matplotlib.pyplot as plt\n",
        "from matplotlib import font_manager\n",
        "from matplotlib import rcParams\n",
        "\n",
        "# download and save any malayalam font file in current directory\n",
        "font_path = 'Rachana.ttf'  \n",
        "font_manager.fontManager.addfont(font_path)\n",
        "rcParams['font.family'] = 'Rachana'\n",
        "fig, ax = plt.subplots()\n",
        "\n",
        "ax.set_title(f'പുതിയ:  font')\n",
        "ax.set_xlabel('This is the default font')\n",
        "plt.show()"
      ]
    },
    {
      "cell_type": "markdown",
      "metadata": {
        "id": "P7K_BuMpJ0gK"
      },
      "source": [
        "Filtering the most common words which are considered as stop words."
      ]
    },
    {
      "cell_type": "code",
      "execution_count": 24,
      "metadata": {
        "id": "mPp-kbwjYOtE"
      },
      "outputs": [],
      "source": [
        "from collections import Counter\n",
        "mystopwords = ['ഒരു', 'ഈ',  'ആണ്', 'വളരെ', 'ഞാൻ', 'തന്നെ', 'ആ', 'വീഡിയോ',  'എന്റെ', 'നമ്മുടെ', 'എല്ലാ', 'അത്', 'എന്ന', 'കൊണ്ട്', 'ഉള്ള', 'ഇത്',  'എല്ലാം', \n",
        "               'എനിക്ക്', 'ഓരോ',  'പിന്നെ',  'ഒക്കെ',  'നിങ്ങൾ', 'വേണ്ടി', 'മാത്രം', 'നിങ്ങളുടെ', 'നിന്നും', 'കൂടെ', 'ഏറ്റവും', 'ഇങ്ങനെ', 'അവരുടെ',  'കാരണം', 'ഇല്ല', \n",
        "               'കൂടുതൽ', '-', 'എല്ലാവർക്കും', 'അവർ', 'പോലും', 'വീണ്ടും', 'എന്നു', 'ചെയ്യാൻ', 'അവിടെ', 'സ്വന്തം', 'അതിന്റെ', 'ഇവിടെ', 'അങ്ങനെ',  'എല്ലാവരും', \n",
        "               'ഞങ്ങൾ',  'നമ്മൾ', 'നമുക്ക്',  'പക്ഷെ', 'നീ',  'പക്ഷേ', 'എന്നെ',  'എന്നാൽ',  'ആരും', 'അതിൽ',  'അല്ല', 'ശേഷം',  'എന്ത്', 'താങ്കൾ', 'എങ്ങനെ', 'അതാണ്',\n",
        "               'നിങ്ങൾക്ക്', 'അവർക്ക്',  'ഏത്',  'മറ്റു', 'അവരെ','നല്ല', 'ഉണ്ട്','എന്ന്', 'പോലെ', 'ആയി', 'കണ്ടു', 'ഒന്നും', 'നിന്ന്', 'വരെ', 'ചെയ്തു', 'വന്നു', 'ആയിരുന്നു', \n",
        "               'അടുത്ത', 'ചെയ്യുന്ന', 'പല', 'വേറെ', 'ചില', 'മതി', 'ഒരിക്കലും', 'കുറിച്ച്', 'പറഞ്ഞ', 'വന്ന', 'താങ്കളുടെ', 'ചേട്ടൻ', 'ചേട്ടാ', 'ചെയ്ത', 'നൽകി', 'കണ്ട്', 'എൻറെ', \n",
        "               'വെച്ച്', 'യും', 'നിങ്ങളെ', 'പറഞ്ഞത്', 'മാത്രമേ', 'അവൻ', 'എന്തെങ്കിലും', 'എന്നത്', 'എന്താണ്', 'കഴിഞ്ഞു', 'അറിയാം', 'അതു', 'മാത്രമാണ്', 'അതിനെ', 'ചെയ്ത്',\n",
        "               'ഇവർ', 'സ്വയം', 'മുൻപ്', 'ഉള്ളത്', 'പേര്','ഇപ്പോൾ', 'ഇനി', 'ഇനിയും', 'ഇനി' , 'ഇപ്പോൾ' , 'എങ്കിൽ', 'അപ്പോൾ', 'അല്ലെങ്കിൽ', 'ഇതിൽ', 'ഇതൊക്കെ', 'ഇത്രയും', \n",
        "               'ഇതിന്റെ', 'ഞങ്ങളുടെ', 'ഇതാണ്' , 'പിന്നീട്']\n",
        "# mystopwords = set(mystopwords)\n",
        "\n",
        "stop_words= ['.', ',', '\"', \"'\", ':', ';', '(', ')', '[', ']', '{', '}','-']\n",
        "\n",
        "mystopwords = mystopwords + stop_words\n",
        "mystopwords = set(mystopwords)\n",
        "\n",
        "text =\" \".join(df.text)\n",
        "f_words = filter(lambda x : x not in mystopwords, text.split())\n",
        "\n"
      ]
    },
    {
      "cell_type": "markdown",
      "metadata": {
        "id": "SHwV4JoMMBQS"
      },
      "source": [
        "### Positive + Negative + Neutral"
      ]
    },
    {
      "cell_type": "code",
      "execution_count": 25,
      "metadata": {
        "id": "E3HKqCwJKK5v",
        "colab": {
          "base_uri": "https://localhost:8080/",
          "height": 311
        },
        "outputId": "68970536-0d05-4aba-dff6-29ea87825bd8"
      },
      "outputs": [
        {
          "output_type": "execute_result",
          "data": {
            "text/plain": [
              "<BarContainer object of 20 artists>"
            ]
          },
          "metadata": {},
          "execution_count": 25
        },
        {
          "output_type": "display_data",
          "data": {
            "text/plain": [
              "<Figure size 1152x288 with 1 Axes>"
            ],
            "image/png": "[encoded data removed]"
          },
          "metadata": {
            "needs_background": "light"
          }
        }
      ],
      "source": [
        "text_pos =\" \".join(df[df['sentiment']==\"positive\"].text)\n",
        "f_words = filter(lambda x : x not in mystopwords, text_pos.split())\n",
        "counted_words = Counter(f_words)\n",
        "words = []\n",
        "counts = []\n",
        "for letter, count in counted_words.most_common(20):\n",
        "    words.append(letter)\n",
        "    counts.append(count)\n",
        "\n",
        "# plt.rcParams['font.sans-serif'] = ['Source Han Sans TW', 'sans-serif']   \n",
        "\n",
        "plt.figure(figsize = (16, 4))\n",
        "plt.title('Most common words for postive texts')\n",
        "plt.xlabel('Words')\n",
        "plt.ylabel('Count')\n",
        "plt.bar(words, counts)\n",
        "# matplotlib.rc('font', family='Your Font')"
      ]
    },
    {
      "cell_type": "code",
      "execution_count": 26,
      "metadata": {
        "colab": {
          "base_uri": "https://localhost:8080/",
          "height": 311
        },
        "id": "y-y5lgnYKnmK",
        "outputId": "50d903e8-3db6-4046-f38e-b86316647cbd"
      },
      "outputs": [
        {
          "output_type": "execute_result",
          "data": {
            "text/plain": [
              "<BarContainer object of 20 artists>"
            ]
          },
          "metadata": {},
          "execution_count": 26
        },
        {
          "output_type": "display_data",
          "data": {
            "text/plain": [
              "<Figure size 1152x288 with 1 Axes>"
            ],
            "image/png": "[encoded data removed]"
          },
          "metadata": {
            "needs_background": "light"
          }
        }
      ],
      "source": [
        "text_neg =\" \".join(df[df['sentiment']==\"negative\"].text)\n",
        "f_words = filter(lambda x : x not in mystopwords, text_neg.split())\n",
        "counted_words = Counter(f_words)\n",
        "words = []\n",
        "counts = []\n",
        "for letter, count in counted_words.most_common(20):\n",
        "    words.append(letter)\n",
        "    counts.append(count)\n",
        "\n",
        "# plt.rcParams['font.sans-serif'] = ['Source Han Sans TW', 'sans-serif']   \n",
        "\n",
        "plt.figure(figsize = (16, 4))\n",
        "plt.title('Most common words for negative texts')\n",
        "plt.xlabel('Words')\n",
        "plt.ylabel('Count')\n",
        "plt.bar(words, counts)\n",
        "# matplotlib.rc('font', family='Your Font')"
      ]
    },
    {
      "cell_type": "code",
      "execution_count": 27,
      "metadata": {
        "colab": {
          "base_uri": "https://localhost:8080/",
          "height": 310
        },
        "id": "9xbJYAhcLVub",
        "outputId": "88cd58bd-034e-4878-ec2b-8f3a1460e472"
      },
      "outputs": [
        {
          "output_type": "execute_result",
          "data": {
            "text/plain": [
              "<BarContainer object of 20 artists>"
            ]
          },
          "metadata": {},
          "execution_count": 27
        },
        {
          "output_type": "display_data",
          "data": {
            "text/plain": [
              "<Figure size 1152x288 with 1 Axes>"
            ],
            "image/png": "[encoded data removed]"
          },
          "metadata": {
            "needs_background": "light"
          }
        }
      ],
      "source": [
        "text_neg =\" \".join(df[df['sentiment']==\"neutral\"].text)\n",
        "f_words = filter(lambda x : x not in mystopwords, text_neg.split())\n",
        "counted_words = Counter(f_words)\n",
        "words = []\n",
        "counts = []\n",
        "for letter, count in counted_words.most_common(20):\n",
        "    words.append(letter)\n",
        "    counts.append(count)\n",
        "\n",
        "# plt.rcParams['font.sans-serif'] = ['Source Han Sans TW', 'sans-serif']   \n",
        "\n",
        "plt.figure(figsize = (16, 4))\n",
        "plt.title('Most common words for neutral texts')\n",
        "plt.xlabel('Words')\n",
        "plt.ylabel('Count')\n",
        "plt.bar(words, counts)\n",
        "# matplotlib.rc('font', family='Your Font')"
      ]
    },
    {
      "cell_type": "markdown",
      "metadata": {
        "id": "9aCN-DPBjAsI"
      },
      "source": [
        "# Installing mlmorph for stemming "
      ]
    },
    {
      "cell_type": "code",
      "execution_count": 28,
      "metadata": {
        "colab": {
          "base_uri": "https://localhost:8080/"
        },
        "id": "8uqzt8CCUH-t",
        "outputId": "0c497deb-5f5a-4b3e-d7a6-e4d6888c887b"
      },
      "outputs": [
        {
          "output_type": "stream",
          "name": "stdout",
          "text": [
            "Looking in indexes: https://pypi.org/simple, https://us-python.pkg.dev/colab-wheels/public/simple/\n",
            "Collecting mlmorph\n",
            "  Downloading mlmorph-1.3.5.tar.gz (5.6 MB)\n",
            "\u001b[K     |████████████████████████████████| 5.6 MB 8.2 MB/s \n",
            "\u001b[?25hRequirement already satisfied: regex in /usr/local/lib/python3.7/dist-packages (from mlmorph) (2022.6.2)\n",
            "Collecting sfst>=1.5.4\n",
            "  Downloading sfst-1.5.6-cp37-cp37m-manylinux_2_17_x86_64.manylinux2014_x86_64.whl (365 kB)\n",
            "\u001b[K     |████████████████████████████████| 365 kB 66.1 MB/s \n",
            "\u001b[?25hBuilding wheels for collected packages: mlmorph\n",
            "  Building wheel for mlmorph (setup.py) ... \u001b[?25l\u001b[?25hdone\n",
            "  Created wheel for mlmorph: filename=mlmorph-1.3.5-py3-none-any.whl size=5646002 sha256=34ed852296ab6cce63fbcd3665cb90207ceb9b4caa676c7dbd29564503b6470f\n",
            "  Stored in directory: /root/.cache/pip/wheels/d2/8a/c6/b8acaed490e36c02f00f9adb345eb50a5c6124a15037db7119\n",
            "Successfully built mlmorph\n",
            "Installing collected packages: sfst, mlmorph\n",
            "Successfully installed mlmorph-1.3.5 sfst-1.5.6\n"
          ]
        }
      ],
      "source": [
        "#installing mlmorph\n",
        "! pip install mlmorph"
      ]
    },
    {
      "cell_type": "markdown",
      "metadata": {
        "id": "CD8pLS10jLYw"
      },
      "source": [
        "Example of mlmorph with some malayalam words"
      ]
    },
    {
      "cell_type": "code",
      "execution_count": 29,
      "metadata": {
        "colab": {
          "base_uri": "https://localhost:8080/"
        },
        "id": "q6sp4IYGT7oA",
        "outputId": "3be386c2-46ef-4635-f6ec-b7d19953dcc0"
      },
      "outputs": [
        {
          "output_type": "execute_result",
          "data": {
            "text/plain": [
              "[('ആലാപനം<n>', 123),\n",
              " ('ആൽ<n><adj>ആപനം<n>', 265),\n",
              " ('ആൽ<n><coordinative>ആപനം<n>', 265)]"
            ]
          },
          "metadata": {},
          "execution_count": 29
        }
      ],
      "source": [
        "from mlmorph import Analyser\n",
        "analyser = Analyser()\n",
        "import sfst\n",
        "\n",
        "analyser.analyse(\"ആലാപനം\")"
      ]
    },
    {
      "cell_type": "code",
      "execution_count": 30,
      "metadata": {
        "colab": {
          "base_uri": "https://localhost:8080/"
        },
        "id": "FcGDYiDRxsCf",
        "outputId": "b9cc6783-4f49-4826-8171-40410e9fba1a"
      },
      "outputs": [
        {
          "output_type": "execute_result",
          "data": {
            "text/plain": [
              "[('കേന്ദ്രം<n><locative>എ<indeclinable>', 325)]"
            ]
          },
          "metadata": {},
          "execution_count": 30
        }
      ],
      "source": [
        "analyser.analyse(\"കേന്ദ്രത്തിലെ\")"
      ]
    },
    {
      "cell_type": "code",
      "execution_count": 31,
      "metadata": {
        "colab": {
          "base_uri": "https://localhost:8080/"
        },
        "id": "kf0rDZITxubt",
        "outputId": "a511cae6-0c15-4186-e17a-fcfe333610e5"
      },
      "outputs": [
        {
          "output_type": "execute_result",
          "data": {
            "text/plain": [
              "[('പൊളിയുക<v><causative-voice><past>', 247)]"
            ]
          },
          "metadata": {},
          "execution_count": 31
        }
      ],
      "source": [
        "analyser.analyse(\"പൊളിച്ചു\")"
      ]
    },
    {
      "cell_type": "markdown",
      "metadata": {
        "id": "UtIZD-MDjiBC"
      },
      "source": [
        "#Reading text calling from dataset "
      ]
    },
    {
      "cell_type": "code",
      "execution_count": 32,
      "metadata": {
        "id": "uMnMn-4Z1yXT"
      },
      "outputs": [],
      "source": [
        "#Getting all the news to string from padas dataframe\n",
        "string_lst = df[\"text\"].values.tolist()"
      ]
    },
    {
      "cell_type": "markdown",
      "metadata": {
        "id": "h_smKvCpjhNB"
      },
      "source": [
        "Splitting the string to words of list"
      ]
    },
    {
      "cell_type": "code",
      "execution_count": 33,
      "metadata": {
        "id": "FFUWxjKSvBzJ"
      },
      "outputs": [],
      "source": [
        "# function for splitting the string\n",
        "def string_to_list(string_lst):\n",
        "  str_list_stem=[]\n",
        "  for string in string_lst:\n",
        "    split_string_list=string.split()\n",
        "    str_list_stem.append(split_string_list)\n",
        "  return str_list_stem"
      ]
    },
    {
      "cell_type": "code",
      "execution_count": 34,
      "metadata": {
        "id": "n5f4mUlCeHjN"
      },
      "outputs": [],
      "source": [
        "str_list_stem=string_to_list(string_lst)"
      ]
    },
    {
      "cell_type": "code",
      "execution_count": 35,
      "metadata": {
        "colab": {
          "base_uri": "https://localhost:8080/"
        },
        "id": "PGxOI3EPzn-L",
        "outputId": "c9c00986-f464-4bb4-a20b-a6efbcbcf7e9"
      },
      "outputs": [
        {
          "output_type": "stream",
          "name": "stdout",
          "text": [
            "Length of list which are splitted into words: 5836\n"
          ]
        }
      ],
      "source": [
        "\n",
        "print('Length of list which are splitted into words:',len(str_list_stem))\n"
      ]
    },
    {
      "cell_type": "markdown",
      "metadata": {
        "id": "lD1-Lzfkkh2Y"
      },
      "source": [
        "#Function for stemming"
      ]
    },
    {
      "cell_type": "code",
      "execution_count": 36,
      "metadata": {
        "id": "ljisVuh7yt00"
      },
      "outputs": [],
      "source": [
        "# function for stemming\n",
        "def stemmer(string_lst):\n",
        "\n",
        "  for words in string_lst:\n",
        "    stem_words=analyser.analyse(words)\n",
        "    # print(stem_words)\n",
        "\n",
        "    if  not stem_words:\n",
        "      stem_list.append(words)\n",
        "    else:\n",
        "      pat = re.compile(r'[^\\u0d00-\\u0d7f\\s]',re.UNICODE)\n",
        "      stem_list.append(re.sub(pat, \"\", stem_words[0][0]).strip())\n",
        "\n",
        "  return stem_list"
      ]
    },
    {
      "cell_type": "code",
      "execution_count": null,
      "metadata": {
        "id": "TwB5zqGqytxW"
      },
      "outputs": [],
      "source": [
        "# for loop for entire dataframe\n",
        "final_stem_list=[]\n",
        "for str in str_list_stem:\n",
        "  # print('String is',str)\n",
        "  stem_list=[]\n",
        "  stem=stemmer(str)\n",
        "  # print('stemmed list is',stem)\n",
        "  final_stem_list.append(stem)\n"
      ]
    },
    {
      "cell_type": "code",
      "execution_count": null,
      "metadata": {
        "id": "8VIqSzzeicbE"
      },
      "outputs": [],
      "source": [
        "print('Length of stemmed list: ',len(final_stem_list))"
      ]
    },
    {
      "cell_type": "code",
      "execution_count": null,
      "metadata": {
        "id": "ZL_TFOGpyrZe"
      },
      "outputs": [],
      "source": [
        "final_stem_list"
      ]
    },
    {
      "cell_type": "code",
      "execution_count": null,
      "metadata": {
        "id": "dnEHwfEVp-Nh"
      },
      "outputs": [],
      "source": [
        "#All this for reproducibility\n",
        "np.random.seed(1)\n",
        "rn.seed(1)"
      ]
    },
    {
      "cell_type": "markdown",
      "metadata": {
        "id": "gg0Ce-mW1T6r"
      },
      "source": [
        "Function for splitting data in to train and test with all classes"
      ]
    },
    {
      "cell_type": "code",
      "execution_count": 38,
      "metadata": {
        "id": "JyulGwB10wI-"
      },
      "outputs": [],
      "source": [
        "def testtrainsplit(df,frac=0.20):\n",
        "\n",
        "  from sklearn.model_selection import train_test_split\n",
        "\n",
        "  trainx = [] \n",
        "\n",
        "  testx = []\n",
        "\n",
        "  for i in ['positive','negative','neutral']:\n",
        "\n",
        "     tdf = df[df['sentiment'] == i]\n",
        "\n",
        "     t1, t2 = train_test_split(tdf, test_size=frac, random_state=0)\n",
        "\n",
        "     num=len(tdf)\n",
        "\n",
        "     trainx.append(t1)\n",
        "\n",
        "     testx.append(t2)\n",
        "\n",
        "  return pd.concat(trainx),pd.concat(testx)"
      ]
    },
    {
      "cell_type": "code",
      "execution_count": 39,
      "metadata": {
        "id": "4pYBilQ91Z4h"
      },
      "outputs": [],
      "source": [
        "train_df,test_df=testtrainsplit(df,frac=0.20)"
      ]
    },
    {
      "cell_type": "code",
      "execution_count": 40,
      "metadata": {
        "colab": {
          "base_uri": "https://localhost:8080/"
        },
        "id": "vTBqGTCE1vXe",
        "outputId": "8d62dbf6-8e75-4509-ef00-87fd71a8b718"
      },
      "outputs": [
        {
          "output_type": "stream",
          "name": "stdout",
          "text": [
            "Number of training data  4667\n",
            "Number of testing data:  1169\n"
          ]
        }
      ],
      "source": [
        "print(\"Number of training data \", train_df.shape[0])\n",
        "print(\"Number of testing data: \", test_df.shape[0])"
      ]
    },
    {
      "cell_type": "code",
      "execution_count": 41,
      "metadata": {
        "colab": {
          "base_uri": "https://localhost:8080/",
          "height": 424
        },
        "id": "0E3Hf1UIlKwO",
        "outputId": "dfdb4a6e-30ee-4f2f-f705-19b1bef8c72f"
      },
      "outputs": [
        {
          "output_type": "execute_result",
          "data": {
            "text/plain": [
              "                                                   text            category  \\\n",
              "233          ശ്രീശാന്തിന് ആശ്വാസം, വിലക്ക് പിന്‍വലിച്ചു              sports   \n",
              "2623  പുതിയ കളികളുമായി പത്മനാഭന്റെ മണ്ണിലേക്ക് 'പട്ട...       entertainment   \n",
              "2589  സിനിമയ്ക്ക് പുറമേ മോദിയുടെ ജീവിതകഥ വെബ് സീരീസാ...       entertainment   \n",
              "4096  'നീര്‍മാതളം പൂത്തകാലം' ചിത്രത്തിലെ പുതിയ വീഡിയ...       entertainment   \n",
              "1942  \\nമൊഹാലി ഏകദിനം: പ്രതീക്ഷ കൈവിടാതെ ഓസീസ്; ഹാന്...              sports   \n",
              "...                                                 ...                 ...   \n",
              "5198  ശരിയാണ് പറഞ്ഞത് കാട്ടാനകളുടെ എണ്ണം കൂടുമ്പോൾ  ...  Autos_and_Vehicles   \n",
              "5270  എടാ വിമാനം അവിടേക്ക് സർവീസ് നടത്തിയാലല്ലേ ഇവിട...    People_and_Blogs   \n",
              "5651  അസ്സലാമുഅലൈക്കും വറഹ്മതുള്ളാഹിവബറകാതുഹു ഷ ഹമാര...           Education   \n",
              "4676  കുമ്ബളങ്ങി നെറ്റസിലെ ഫ്രാങ്കി എന്ന കഥാപാത്രത്ത...       entertainment   \n",
              "5119  ബ്രദർ ബാബസാഹിബ് അംബേദ്കർ എന്ന ഇതിഹാസത്തെ പറ്റി...       Entertainment   \n",
              "\n",
              "     sentiment offensive  number_of_words  \n",
              "233   positive       NaN                4  \n",
              "2623  positive       NaN               11  \n",
              "2589  positive       NaN                7  \n",
              "4096  positive       NaN                7  \n",
              "1942  positive       NaN                7  \n",
              "...        ...       ...              ...  \n",
              "5198   neutral         0               31  \n",
              "5270   neutral         0                9  \n",
              "5651   neutral         0               23  \n",
              "4676   neutral       NaN               13  \n",
              "5119   neutral         0               47  \n",
              "\n",
              "[4667 rows x 5 columns]"
            ],
            "text/html": [
              "\n",
              "  <div id=\"df-0ff2db0a-78f5-4293-b2cb-be7bfc1ce691\">\n",
              "    <div class=\"colab-df-container\">\n",
              "      <div>\n",
              "<style scoped>\n",
              "    .dataframe tbody tr th:only-of-type {\n",
              "        vertical-align: middle;\n",
              "    }\n",
              "\n",
              "    .dataframe tbody tr th {\n",
              "        vertical-align: top;\n",
              "    }\n",
              "\n",
              "    .dataframe thead th {\n",
              "        text-align: right;\n",
              "    }\n",
              "</style>\n",
              "<table border=\"1\" class=\"dataframe\">\n",
              "  <thead>\n",
              "    <tr style=\"text-align: right;\">\n",
              "      <th></th>\n",
              "      <th>text</th>\n",
              "      <th>category</th>\n",
              "      <th>sentiment</th>\n",
              "      <th>offensive</th>\n",
              "      <th>number_of_words</th>\n",
              "    </tr>\n",
              "  </thead>\n",
              "  <tbody>\n",
              "    <tr>\n",
              "      <th>233</th>\n",
              "      <td>ശ്രീശാന്തിന് ആശ്വാസം, വിലക്ക് പിന്‍വലിച്ചു</td>\n",
              "      <td>sports</td>\n",
              "      <td>positive</td>\n",
              "      <td>NaN</td>\n",
              "      <td>4</td>\n",
              "    </tr>\n",
              "    <tr>\n",
              "      <th>2623</th>\n",
              "      <td>പുതിയ കളികളുമായി പത്മനാഭന്റെ മണ്ണിലേക്ക് 'പട്ട...</td>\n",
              "      <td>entertainment</td>\n",
              "      <td>positive</td>\n",
              "      <td>NaN</td>\n",
              "      <td>11</td>\n",
              "    </tr>\n",
              "    <tr>\n",
              "      <th>2589</th>\n",
              "      <td>സിനിമയ്ക്ക് പുറമേ മോദിയുടെ ജീവിതകഥ വെബ് സീരീസാ...</td>\n",
              "      <td>entertainment</td>\n",
              "      <td>positive</td>\n",
              "      <td>NaN</td>\n",
              "      <td>7</td>\n",
              "    </tr>\n",
              "    <tr>\n",
              "      <th>4096</th>\n",
              "      <td>'നീര്‍മാതളം പൂത്തകാലം' ചിത്രത്തിലെ പുതിയ വീഡിയ...</td>\n",
              "      <td>entertainment</td>\n",
              "      <td>positive</td>\n",
              "      <td>NaN</td>\n",
              "      <td>7</td>\n",
              "    </tr>\n",
              "    <tr>\n",
              "      <th>1942</th>\n",
              "      <td>\\nമൊഹാലി ഏകദിനം: പ്രതീക്ഷ കൈവിടാതെ ഓസീസ്; ഹാന്...</td>\n",
              "      <td>sports</td>\n",
              "      <td>positive</td>\n",
              "      <td>NaN</td>\n",
              "      <td>7</td>\n",
              "    </tr>\n",
              "    <tr>\n",
              "      <th>...</th>\n",
              "      <td>...</td>\n",
              "      <td>...</td>\n",
              "      <td>...</td>\n",
              "      <td>...</td>\n",
              "      <td>...</td>\n",
              "    </tr>\n",
              "    <tr>\n",
              "      <th>5198</th>\n",
              "      <td>ശരിയാണ് പറഞ്ഞത് കാട്ടാനകളുടെ എണ്ണം കൂടുമ്പോൾ  ...</td>\n",
              "      <td>Autos_and_Vehicles</td>\n",
              "      <td>neutral</td>\n",
              "      <td>0</td>\n",
              "      <td>31</td>\n",
              "    </tr>\n",
              "    <tr>\n",
              "      <th>5270</th>\n",
              "      <td>എടാ വിമാനം അവിടേക്ക് സർവീസ് നടത്തിയാലല്ലേ ഇവിട...</td>\n",
              "      <td>People_and_Blogs</td>\n",
              "      <td>neutral</td>\n",
              "      <td>0</td>\n",
              "      <td>9</td>\n",
              "    </tr>\n",
              "    <tr>\n",
              "      <th>5651</th>\n",
              "      <td>അസ്സലാമുഅലൈക്കും വറഹ്മതുള്ളാഹിവബറകാതുഹു ഷ ഹമാര...</td>\n",
              "      <td>Education</td>\n",
              "      <td>neutral</td>\n",
              "      <td>0</td>\n",
              "      <td>23</td>\n",
              "    </tr>\n",
              "    <tr>\n",
              "      <th>4676</th>\n",
              "      <td>കുമ്ബളങ്ങി നെറ്റസിലെ ഫ്രാങ്കി എന്ന കഥാപാത്രത്ത...</td>\n",
              "      <td>entertainment</td>\n",
              "      <td>neutral</td>\n",
              "      <td>NaN</td>\n",
              "      <td>13</td>\n",
              "    </tr>\n",
              "    <tr>\n",
              "      <th>5119</th>\n",
              "      <td>ബ്രദർ ബാബസാഹിബ് അംബേദ്കർ എന്ന ഇതിഹാസത്തെ പറ്റി...</td>\n",
              "      <td>Entertainment</td>\n",
              "      <td>neutral</td>\n",
              "      <td>0</td>\n",
              "      <td>47</td>\n",
              "    </tr>\n",
              "  </tbody>\n",
              "</table>\n",
              "<p>4667 rows × 5 columns</p>\n",
              "</div>\n",
              "      <button class=\"colab-df-convert\" onclick=\"convertToInteractive('df-0ff2db0a-78f5-4293-b2cb-be7bfc1ce691')\"\n",
              "              title=\"Convert this dataframe to an interactive table.\"\n",
              "              style=\"display:none;\">\n",
              "        \n",
              "  <svg xmlns=\"http://www.w3.org/2000/svg\" height=\"24px\"viewBox=\"0 0 24 24\"\n",
              "       width=\"24px\">\n",
              "    <path d=\"M0 0h24v24H0V0z\" fill=\"none\"/>\n",
              "    <path d=\"M18.56 5.44l.94 2.06.94-2.06 2.06-.94-2.06-.94-.94-2.06-.94 2.06-2.06.94zm-11 1L8.5 8.5l.94-2.06 2.06-.94-2.06-.94L8.5 2.5l-.94 2.06-2.06.94zm10 10l.94 2.06.94-2.06 2.06-.94-2.06-.94-.94-2.06-.94 2.06-2.06.94z\"/><path d=\"M17.41 7.96l-1.37-1.37c-.4-.4-.92-.59-1.43-.59-.52 0-1.04.2-1.43.59L10.3 9.45l-7.72 7.72c-.78.78-.78 2.05 0 2.83L4 21.41c.39.39.9.59 1.41.59.51 0 1.02-.2 1.41-.59l7.78-7.78 2.81-2.81c.8-.78.8-2.07 0-2.86zM5.41 20L4 18.59l7.72-7.72 1.47 1.35L5.41 20z\"/>\n",
              "  </svg>\n",
              "      </button>\n",
              "      \n",
              "  <style>\n",
              "    .colab-df-container {\n",
              "      display:flex;\n",
              "      flex-wrap:wrap;\n",
              "      gap: 12px;\n",
              "    }\n",
              "\n",
              "    .colab-df-convert {\n",
              "      background-color: #E8F0FE;\n",
              "      border: none;\n",
              "      border-radius: 50%;\n",
              "      cursor: pointer;\n",
              "      display: none;\n",
              "      fill: #1967D2;\n",
              "      height: 32px;\n",
              "      padding: 0 0 0 0;\n",
              "      width: 32px;\n",
              "    }\n",
              "\n",
              "    .colab-df-convert:hover {\n",
              "      background-color: #E2EBFA;\n",
              "      box-shadow: 0px 1px 2px rgba(60, 64, 67, 0.3), 0px 1px 3px 1px rgba(60, 64, 67, 0.15);\n",
              "      fill: #174EA6;\n",
              "    }\n",
              "\n",
              "    [theme=dark] .colab-df-convert {\n",
              "      background-color: #3B4455;\n",
              "      fill: #D2E3FC;\n",
              "    }\n",
              "\n",
              "    [theme=dark] .colab-df-convert:hover {\n",
              "      background-color: #434B5C;\n",
              "      box-shadow: 0px 1px 3px 1px rgba(0, 0, 0, 0.15);\n",
              "      filter: drop-shadow(0px 1px 2px rgba(0, 0, 0, 0.3));\n",
              "      fill: #FFFFFF;\n",
              "    }\n",
              "  </style>\n",
              "\n",
              "      <script>\n",
              "        const buttonEl =\n",
              "          document.querySelector('#df-0ff2db0a-78f5-4293-b2cb-be7bfc1ce691 button.colab-df-convert');\n",
              "        buttonEl.style.display =\n",
              "          google.colab.kernel.accessAllowed ? 'block' : 'none';\n",
              "\n",
              "        async function convertToInteractive(key) {\n",
              "          const element = document.querySelector('#df-0ff2db0a-78f5-4293-b2cb-be7bfc1ce691');\n",
              "          const dataTable =\n",
              "            await google.colab.kernel.invokeFunction('convertToInteractive',\n",
              "                                                     [key], {});\n",
              "          if (!dataTable) return;\n",
              "\n",
              "          const docLinkHtml = 'Like what you see? Visit the ' +\n",
              "            '<a target=\"_blank\" href=https://colab.research.google.com/notebooks/data_table.ipynb>data table notebook</a>'\n",
              "            + ' to learn more about interactive tables.';\n",
              "          element.innerHTML = '';\n",
              "          dataTable['output_type'] = 'display_data';\n",
              "          await google.colab.output.renderOutput(dataTable, element);\n",
              "          const docLink = document.createElement('div');\n",
              "          docLink.innerHTML = docLinkHtml;\n",
              "          element.appendChild(docLink);\n",
              "        }\n",
              "      </script>\n",
              "    </div>\n",
              "  </div>\n",
              "  "
            ]
          },
          "metadata": {},
          "execution_count": 41
        }
      ],
      "source": [
        "train_df"
      ]
    },
    {
      "cell_type": "code",
      "execution_count": 43,
      "metadata": {
        "colab": {
          "base_uri": "https://localhost:8080/",
          "height": 348
        },
        "id": "sW8w3E6iAZ1R",
        "outputId": "e2f1bcf5-6989-4c30-c6d4-12f2545eee42"
      },
      "outputs": [
        {
          "output_type": "stream",
          "name": "stderr",
          "text": [
            "/usr/local/lib/python3.7/dist-packages/seaborn/distributions.py:2619: FutureWarning: `distplot` is a deprecated function and will be removed in a future version. Please adapt your code to use either `displot` (a figure-level function with similar flexibility) or `histplot` (an axes-level function for histograms).\n",
            "  warnings.warn(msg, FutureWarning)\n"
          ]
        },
        {
          "output_type": "display_data",
          "data": {
            "text/plain": [
              "<Figure size 432x288 with 1 Axes>"
            ],
            "image/png": "[encoded data removed]"
          },
          "metadata": {
            "needs_background": "light"
          }
        }
      ],
      "source": [
        "y_train = train_df[\"sentiment\"].tolist()\n",
        "y_test = test_df[\"sentiment\"].tolist()\n",
        "train_df['doc_len'] = train_df['text'].apply(lambda words: len(words.split(\" \")))\n",
        "max_seq_len = np.round(train_df['doc_len'].mean() + train_df['doc_len'].std()).astype(int)\n",
        "\n",
        "import seaborn as sns\n",
        "sns.distplot(train_df['doc_len'], hist=True, kde=True, color='b', label='doc len')\n",
        "plt.axvline(x=max_seq_len, color='k', linestyle='--', label='max len')\n",
        "plt.title('comment length'); plt.legend()\n",
        "plt.show()"
      ]
    },
    {
      "cell_type": "code",
      "execution_count": 44,
      "metadata": {
        "colab": {
          "base_uri": "https://localhost:8080/"
        },
        "id": "snXw7zz7A9oI",
        "outputId": "ae6d7a21-b8a4-4a5b-e247-36d9d852337a"
      },
      "outputs": [
        {
          "output_type": "stream",
          "name": "stdout",
          "text": [
            "Maximum length:  28\n"
          ]
        }
      ],
      "source": [
        "print('Maximum length: ',max_seq_len)"
      ]
    },
    {
      "cell_type": "markdown",
      "metadata": {
        "id": "OIwRQkSnImaY"
      },
      "source": [
        "tokenizing the data with tokenizer from tensorflow"
      ]
    },
    {
      "cell_type": "code",
      "execution_count": 45,
      "metadata": {
        "id": "ksZZNR3g44xA"
      },
      "outputs": [],
      "source": [
        "stop_words=mystopwords"
      ]
    },
    {
      "cell_type": "code",
      "execution_count": null,
      "metadata": {
        "id": "AIMNJk8wvaQ2"
      },
      "outputs": [],
      "source": [
        "stop_words = ['ഒരു', 'ഈ',  'ആണ്', 'വളരെ', 'ഞാൻ', 'തന്നെ', 'ആ', 'വീഡിയോ',  'എന്റെ', 'നമ്മുടെ', 'എല്ലാ', 'അത്', 'എന്ന', 'കൊണ്ട്', 'ഉള്ള', 'ഇത്',  'എല്ലാം', \n",
        "               'എനിക്ക്', 'ഓരോ',  'പിന്നെ',  'ഒക്കെ',  'നിങ്ങൾ', 'വേണ്ടി', 'മാത്രം', 'നിങ്ങളുടെ', 'നിന്നും', 'കൂടെ', 'ഏറ്റവും', 'ഇങ്ങനെ', 'അവരുടെ',  'കാരണം', 'ഇല്ല', \n",
        "               'കൂടുതൽ', '-', 'എല്ലാവർക്കും', 'അവർ', 'പോലും', 'വീണ്ടും', 'എന്നു', 'ചെയ്യാൻ', 'അവിടെ', 'സ്വന്തം', 'അതിന്റെ', 'ഇവിടെ', 'അങ്ങനെ',  'എല്ലാവരും', \n",
        "               'ഞങ്ങൾ',  'നമ്മൾ', 'നമുക്ക്',  'പക്ഷെ', 'നീ',  'പക്ഷേ', 'എന്നെ',  'എന്നാൽ',  'ആരും', 'അതിൽ',  'അല്ല', 'ശേഷം',  'എന്ത്', 'താങ്കൾ', 'എങ്ങനെ', 'അതാണ്',\n",
        "               'നിങ്ങൾക്ക്', 'അവർക്ക്',  'ഏത്',  'മറ്റു', 'അവരെ','നല്ല', 'ഉണ്ട്','എന്ന്', 'പോലെ', 'ആയി', 'കണ്ടു', 'ഒന്നും', 'നിന്ന്', 'വരെ', 'ചെയ്തു', 'വന്നു', 'ആയിരുന്നു', \n",
        "               'അടുത്ത', 'ചെയ്യുന്ന', 'പല', 'വേറെ', 'ചില', 'മതി', 'ഒരിക്കലും', 'കുറിച്ച്', 'പറഞ്ഞ', 'വന്ന', 'താങ്കളുടെ', 'ചേട്ടൻ', 'ചേട്ടാ', 'ചെയ്ത', 'നൽകി', 'കണ്ട്', 'എൻറെ', \n",
        "               'വെച്ച്', 'യും', 'നിങ്ങളെ', 'പറഞ്ഞത്', 'മാത്രമേ', 'അവൻ', 'എന്തെങ്കിലും', 'എന്നത്', 'എന്താണ്', 'കഴിഞ്ഞു', 'അറിയാം', 'അതു', 'മാത്രമാണ്', 'അതിനെ', 'ചെയ്ത്',\n",
        "               'ഇവർ', 'സ്വയം', 'മുൻപ്', 'ഉള്ളത്', 'പേര്','ഇപ്പോൾ', 'ഇനി', 'ഇനിയും', 'ഇനി' , 'ഇപ്പോൾ' , 'എങ്കിൽ', 'അപ്പോൾ', 'അല്ലെങ്കിൽ', 'ഇതിൽ', 'ഇതൊക്കെ', 'ഇത്രയും', \n",
        "               'ഇതിന്റെ', 'ഞങ്ങളുടെ', 'ഇതാണ്' , 'പിന്നീട്']"
      ]
    },
    {
      "cell_type": "code",
      "execution_count": 47,
      "metadata": {
        "id": "aru_Fg6OjeGp"
      },
      "outputs": [],
      "source": [
        "from sklearn.utils import shuffle \n",
        "\n",
        "raw_docs_train = train_df['text'].tolist()\n",
        "raw_docs_test = test_df['text'].tolist() \n",
        "# num_classes = len(label_names)\n",
        "\n",
        "\n"
      ]
    },
    {
      "cell_type": "markdown",
      "metadata": {
        "id": "F86A3cHXbgQz"
      },
      "source": [
        "###Fuunction for f1score/precision/accuracy/recall"
      ]
    },
    {
      "cell_type": "code",
      "execution_count": 48,
      "metadata": {
        "id": "7ktjxbhEZQju"
      },
      "outputs": [],
      "source": [
        "mean_fpr = np.linspace(start=0, stop=1, num=100)\n",
        "from sklearn.metrics import roc_curve,roc_auc_score, auc, accuracy_score, precision_recall_fscore_support\n",
        "from sklearn.metrics import f1_score, precision_score, recall_score, classification_report, confusion_matrix\n",
        "from scipy import interp\n",
        "\n",
        "def evaluate_model(X_test, y_test, model):\n",
        "    # predict probabilities for test set\n",
        "    _probs = model.predict(X_test, verbose=0)\n",
        "    # predict crisp classes for test set\n",
        "    _classes=np.argmax(_probs,axis=1)\n",
        "    # _classes = model.predict_classes(X_test, verbose=0)\n",
        "    # reduce to 1d array\n",
        "    # _probs = _probs[:, 0]\n",
        "    # _classes = _classes[:, 0]\n",
        "\n",
        "    # accuracy: (tp + tn) / (p + n)\n",
        "    accuracy = accuracy_score(y_test, _classes)\n",
        "    # precision tp / (tp + fp)\n",
        "    precision = precision_score(y_test, _classes, average='macro')\n",
        "    # recall: tp / (tp + fn)\n",
        "    recall = recall_score(y_test, _classes, average='macro')\n",
        "    # f1: 2 tp / (2 tp + fp + fn)\n",
        "    f1 = f1_score(y_test, _classes, average='macro')\n",
        "    \n",
        "    # fpr, tpr, _ = roc_curve(y_test, _probs)\n",
        "    \n",
        "    # tpr_transformed = np.array([interp(mean_fpr, fpr, tpr)])\n",
        "    \n",
        "    # compute the area under the curve\n",
        "    # _auc = auc(fpr, tpr)\n",
        "    \n",
        "    return accuracy, precision, recall , f1,_classes#,tpr_transformed #,_auc"
      ]
    },
    {
      "cell_type": "code",
      "execution_count": 49,
      "metadata": {
        "colab": {
          "base_uri": "https://localhost:8080/"
        },
        "id": "BCaMqsVt7C0r",
        "outputId": "792f2565-4688-4437-db84-d01d82781d30"
      },
      "outputs": [
        {
          "output_type": "stream",
          "name": "stdout",
          "text": [
            "Looking in indexes: https://pypi.org/simple, https://us-python.pkg.dev/colab-wheels/public/simple/\n",
            "Collecting beautifultable\n",
            "  Downloading beautifultable-1.1.0-py2.py3-none-any.whl (28 kB)\n",
            "Requirement already satisfied: wcwidth in /usr/local/lib/python3.7/dist-packages (from beautifultable) (0.2.5)\n",
            "Installing collected packages: beautifultable\n",
            "Successfully installed beautifultable-1.1.0\n"
          ]
        }
      ],
      "source": [
        "!pip install beautifultable"
      ]
    },
    {
      "cell_type": "markdown",
      "source": [
        "###function for confusion matrix"
      ],
      "metadata": {
        "id": "MUOgF12Chzwe"
      }
    },
    {
      "cell_type": "code",
      "execution_count": 50,
      "metadata": {
        "id": "oXen3oe0dktH"
      },
      "outputs": [],
      "source": [
        "def show_confusion_matrix(confusion_matrix):\n",
        "  hmap = sns.heatmap(confusion_matrix, annot=True, fmt=\"d\", cmap=\"Blues\")\n",
        "  hmap.yaxis.set_ticklabels(hmap.yaxis.get_ticklabels(), rotation=0, ha='right')\n",
        "  hmap.xaxis.set_ticklabels(hmap.xaxis.get_ticklabels(), rotation=30, ha='right')\n",
        "  plt.ylabel('True sentiment')\n",
        "  plt.xlabel('Predicted sentiment')"
      ]
    },
    {
      "cell_type": "markdown",
      "source": [
        "Stemed texts"
      ],
      "metadata": {
        "id": "ubIgN4n0iVQM"
      }
    },
    {
      "cell_type": "code",
      "source": [
        "from sklearn.utils import shuffle \n",
        "\n",
        "raw_docs_train = train_df['text'].tolist()\n",
        "raw_docs_test = test_df['text'].tolist() \n",
        "# num_classes = len(label_names)\n",
        "#splitting train list for stemming\n",
        "str_list_stem_train=string_to_list(raw_docs_train)\n",
        "#splitting test list for stemming\n",
        "str_list_stem_test=string_to_list(raw_docs_test)"
      ],
      "metadata": {
        "id": "_EEG2JLAiXYE"
      },
      "execution_count": 51,
      "outputs": []
    },
    {
      "cell_type": "code",
      "source": [
        "#stemming for train list\n",
        "print('Length of list which are splitted into words in train list:',len(str_list_stem_train))\n",
        "raw_docs_train_stem=[]\n",
        "for str in str_list_stem_train:\n",
        "  # print('String is',str)\n",
        "  stem_list=[]\n",
        "  stem=stemmer(str)\n",
        "  # print('stemmed list is',stem)\n",
        "  raw_docs_train_stem.append(\" \".join(stem))"
      ],
      "metadata": {
        "colab": {
          "base_uri": "https://localhost:8080/"
        },
        "id": "_hcLEOK0ie0H",
        "outputId": "0b02088d-e18a-4b89-bcf8-efa83bc36a4a"
      },
      "execution_count": 52,
      "outputs": [
        {
          "output_type": "stream",
          "name": "stdout",
          "text": [
            "Length of list which are splitted into words in train list: 4667\n"
          ]
        }
      ]
    },
    {
      "cell_type": "code",
      "source": [
        "#stemming for test list\n",
        "print('Length of list which are splitted into words in test list:',len(str_list_stem_test))\n",
        "raw_docs_test_stem=[]\n",
        "for str in str_list_stem_test:\n",
        "  # print('String is',str)\n",
        "  stem_list=[]\n",
        "  stem=stemmer(str)\n",
        "  # print('stemmed list is',stem)\n",
        "  raw_docs_test_stem.append(\" \".join(stem))"
      ],
      "metadata": {
        "colab": {
          "base_uri": "https://localhost:8080/"
        },
        "id": "ZScFuiROigpz",
        "outputId": "e7997b98-9bfc-4436-c43e-f54e8067f7bf"
      },
      "execution_count": 53,
      "outputs": [
        {
          "output_type": "stream",
          "name": "stdout",
          "text": [
            "Length of list which are splitted into words in test list: 1169\n"
          ]
        }
      ]
    },
    {
      "cell_type": "markdown",
      "source": [
        "Function for calculating performance metrics"
      ],
      "metadata": {
        "id": "cHjyosDHi-oG"
      }
    },
    {
      "cell_type": "code",
      "source": [
        "mean_fpr = np.linspace(start=0, stop=1, num=100)\n",
        "\n",
        "def evaluate_model1(X_test, y_test, model):\n",
        "    # compute probabilistic predictiond for the evaluation set\n",
        "    _probabilities = model.predict_proba(X_test)[:, 1]\n",
        "    \n",
        "    # compute exact predictiond for the evaluation set\n",
        "    _predicted_values = model.predict(X_test)\n",
        "        \n",
        "    # compute accuracy\n",
        "    _accuracy = accuracy_score(y_test, _predicted_values)\n",
        "        \n",
        "    # compute precision, recall and f1 score for class 1\n",
        "    _precision, _recall, _f1_score, _ = precision_recall_fscore_support(y_test, _predicted_values, labels=[1])\n",
        "    \n",
        "    # # compute fpr and tpr values for various thresholds \n",
        "    # # by comparing the true target values to the predicted probabilities for class 1\n",
        "    # _fpr, _tpr, _ = roc_auc_score(y_test, _probabilities,multi_class=\"ovr\")\n",
        "        \n",
        "    # # compute true positive rates for the values in the array mean_fpr\n",
        "    # _tpr_transformed = np.array([interp(mean_fpr, _fpr, _tpr)])\n",
        "    \n",
        "    # # compute the area under the curve\n",
        "    # _auc = auc(_fpr, _tpr)\n",
        "            \n",
        "    return _accuracy, _precision[0], _recall[0], _f1_score[0]\n",
        "    #, _tpr_transformed, _auc"
      ],
      "metadata": {
        "id": "lBinuV6pi9hw"
      },
      "execution_count": 54,
      "outputs": []
    },
    {
      "cell_type": "markdown",
      "source": [
        "#Experiment 2"
      ],
      "metadata": {
        "id": "ye_On7OgHXxP"
      }
    },
    {
      "cell_type": "markdown",
      "source": [
        "Importing required libraries"
      ],
      "metadata": {
        "id": "QPL1EQQbHvjp"
      }
    },
    {
      "cell_type": "code",
      "source": [
        "!pip install transformers\n",
        "!pip install bert-for-tf2\n",
        "!pip install tensorflow-text"
      ],
      "metadata": {
        "id": "1j0Pop8l0dkQ"
      },
      "execution_count": null,
      "outputs": []
    },
    {
      "cell_type": "code",
      "source": [
        "!apt-get -qq install -y libfluidsynth1\n",
        "!pip install matplotlib-venn\n",
        "# https://pypi.python.org/pypi/libarchive\n",
        "!apt-get -qq install -y libarchive-dev && pip install -U libarchive\n",
        "import libarchive\n",
        "# https://pypi.python.org/pypi/pydot\n",
        "!apt-get -qq install -y graphviz && pip install pydot\n",
        "import pydot\n",
        "!pip install cartopy\n",
        "import cartopy"
      ],
      "metadata": {
        "id": "1ye1-30h3VpF"
      },
      "execution_count": null,
      "outputs": []
    },
    {
      "cell_type": "code",
      "source": [
        "import transformers\n",
        "import tensorflow as tf\n",
        "from transformers import DistilBertTokenizer, DistilBertModel, BertTokenizer, BertModel, AutoTokenizer, AutoModel, AutoModelForMaskedLM\n",
        "import tensorflow as tf\n",
        "import tensorflow_hub as hub\n",
        "# from bert import bert_tokenization\n",
        "# from bert import tokenization\n",
        "\n",
        "from torch import cuda\n",
        "from sklearn.model_selection import train_test_split\n",
        "\n",
        "from torch.nn.utils.rnn import pad_sequence\n",
        "from torch.utils.data import DataLoader, Dataset, RandomSampler, SequentialSampler\n",
        "from tqdm import tqdm, trange\n",
        "\n",
        "from pathlib import Path\n",
        "import gc\n",
        "from transformers import (\n",
        "    WEIGHTS_NAME,\n",
        "    AdamW,\n",
        "    AutoConfig,\n",
        "    AutoModel,\n",
        "    AutoTokenizer,\n",
        "    PreTrainedModel,\n",
        "    PreTrainedTokenizer,\n",
        "    get_linear_schedule_with_warmup,\n",
        "    RemBertModel,\n",
        "    RemBertTokenizer,\n",
        ")\n",
        "import torch"
      ],
      "metadata": {
        "id": "mJj-8Hgota_3"
      },
      "execution_count": 76,
      "outputs": []
    },
    {
      "cell_type": "code",
      "source": [
        "from sklearn.preprocessing import MinMaxScaler\n",
        "\n",
        "from sklearn.preprocessing import LabelEncoder\n",
        "from keras.utils import np_utils\n",
        "\n",
        "from sklearn.model_selection import train_test_split\n",
        "from keras.models import Sequential\n",
        "from keras.layers import CuDNNLSTM\n",
        "from keras.layers import Dense\n",
        "from keras.layers import Dropout\n",
        "from keras import optimizers\n",
        "from sklearn.metrics import classification_report,confusion_matrix"
      ],
      "metadata": {
        "id": "5BHBGgy0lyB-"
      },
      "execution_count": 75,
      "outputs": []
    },
    {
      "cell_type": "markdown",
      "source": [
        "Mounting to google drive"
      ],
      "metadata": {
        "id": "Yg-fEWuOHs2R"
      }
    },
    {
      "cell_type": "code",
      "source": [
        "from google.colab import files\n",
        "import glob\n",
        "import shutil\n",
        "from google.colab import drive\n",
        "drive.mount('/content/drive')"
      ],
      "metadata": {
        "colab": {
          "base_uri": "https://localhost:8080/"
        },
        "id": "xbyNCoq0HsK8",
        "outputId": "3d574b60-76a0-4352-8213-48523aa18069"
      },
      "execution_count": 84,
      "outputs": [
        {
          "output_type": "stream",
          "name": "stdout",
          "text": [
            "Mounted at /content/drive\n"
          ]
        }
      ]
    },
    {
      "cell_type": "markdown",
      "source": [
        "Muril setup and tokenization using bert tokenization"
      ],
      "metadata": {
        "id": "EyOcp4mQKkre"
      }
    },
    {
      "cell_type": "code",
      "source": [
        "#function for tokenize\n",
        "def tokenize(column, tokenizer):\n",
        "  torch.cuda.empty_cache()\n",
        "  gc.collect()\n",
        "  tokenized_text=column.apply((lambda x: tokenizer.encode(x, add_special_tokens=True, truncation=True)))\n",
        "  max_len = 0\n",
        "  k=0\n",
        "  for i in tokenized_text.values:\n",
        "    if len(i) > max_len:\n",
        "      max_len = len(i)\n",
        "    k+=1\n",
        "  tokenized_padded_text = np.array([i + [0]*(max_len-len(i)) for i in tokenized_text.values])\n",
        "  tokenized_text = None\n",
        "  gc.collect()\n",
        "  torch.cuda.empty_cache()\n",
        "  return create_attention_mask(tokenized_padded_text)\n",
        "#function for attention mask\n",
        "def create_attention_mask(tokenized_padded_text,device='cuda'):\n",
        "      torch.cuda.empty_cache()\n",
        "      gc.collect()\n",
        "      attention_mask = np.where(tokenized_padded_text != 0, 1, 0)\n",
        "      input_ids = torch.tensor(tokenized_padded_text).to(device)  \n",
        "      attention_mask = torch.tensor(attention_mask).to(device)\n",
        "      torch.cuda.empty_cache()\n",
        "      gc.collect()\n",
        "      return input_ids,attention_mask\n",
        "#function for get features\n",
        "def GetFeatures(model,input_ids, attention_mask,input=None):\n",
        "   torch.cuda.empty_cache()\n",
        "   gc.collect()\n",
        "   with torch.no_grad():\n",
        "    last_hidden_states = model(input_ids, attention_mask=attention_mask)\n",
        "   torch.cuda.empty_cache()\n",
        "   features = last_hidden_states[0][:,0,:].cpu().numpy()\n",
        "   features=pd.DataFrame(features)\n",
        "   torch.cuda.empty_cache()\n",
        "   gc.collect()\n",
        "   return features\n",
        "\n",
        "device='cuda'\n",
        "model_name='google/muril-large-cased'\n",
        "model = AutoModel.from_pretrained(model_name).to(device)\n",
        "tokenizer = AutoTokenizer.from_pretrained(model_name, model_max_length=512)\n",
        "subset=100\n",
        "dflist=[]\n",
        "for k,g in df.groupby(np.arange(len(df))//subset):\n",
        "      input_ids, attention_mask = tokenize(g.text, tokenizer)\n",
        "      dflist.append(GetFeatures(model, input_ids, attention_mask))\n",
        "dataframe = pd.concat(dflist,ignore_index=True)\n",
        "dataframe['sentiment'] = df.sentiment"
      ],
      "metadata": {
        "colab": {
          "base_uri": "https://localhost:8080/",
          "height": 89,
          "referenced_widgets": [
            "dfdab0fb00df479c9846ccbc61e1ea78",
            "d0185802b5724c5d8aa7389d5cc6caf4",
            "c3b8209ca9014c769ae831063fcea637",
            "98387de91113463bb2053c5a9818368b",
            "51a5a308fce741b5900002631ffbaddf",
            "140dc9e1804d4ad4989ccecf77b93596",
            "c40f67867b6741acb9704e47e085609e",
            "9aa5f5ea8dcd462a8db57606b526a9eb",
            "dd99187cdfc94c538a5ff61344e813e9",
            "ce3488bae51748f7b485950ae9aa07dd",
            "6d89a0d5c6674ef0abce8e6144dd53d4",
            "80fd2fc9024a4628b3500e7b473ade2a",
            "6012581151d743b286a7eb869b9e2859",
            "777960ffa92546f282e024911341fa3f",
            "67d019e767c64c9ab6ce68732a5ff88d",
            "4a86e740628049baa2bc731d85d062ab",
            "dea8c83784084ac5a776da0fc3698fc4",
            "927782b06acb4e409711d709f8b263ef",
            "d0051cafe7ff4220b500e7d1cffc5d5f",
            "880d501cc8c44c7a9ebf057b941c24e6",
            "f48f4a326e264f20bb52bd72b7456b11",
            "cbd49df74e7a471285535615af41dccf",
            "e97cc2a457e748beb45439c8ff704cf3",
            "66b1c99edd204208b1e7ad33ad3cb4e1",
            "a26f06baf1884e43b83e2436f2abef30",
            "b7338c2b78e248249c85fb7019f5f311",
            "e9a601e0bad54197b8fb9fc2167cf752",
            "0aaa8d4f38914e08aeeb593289cbe8e8",
            "dc28398ca9cc4fb187cf064dbc58a4a5",
            "5ba69fbe8cd74e9f93ea9e0bc111ba34",
            "5327d5e5b8004445bd9ce82549902897",
            "7fd7043d40c94719a307465194a6bb6f",
            "4aac11e86a8d4ff0973967b8bac6ad6e",
            "a51437bf2cef46d59c266fd657b4d757",
            "35251dce68b245409f531401550c13ef",
            "3b4df85e9206473a8399d4fe3dee4a30",
            "41dd261decdd4b4792811ec79c60f358",
            "7f05c28466234fbe833ac54690d1cdc2",
            "6064775dc84144cd82edfdda54ad9244",
            "5f6ed3fbcb7545729a2d28dc7c73b68e",
            "8b632bb2f2eb40c78219c98bedbd9ddd",
            "f02658dbf91340749e0249ca632d0871",
            "de7c0853b5024ffbb206c095976136bd",
            "3469bc5ccc6d44f2ab5027cfd9285b58",
            "dcf4662a9fa040f7b4ab3936a795bda8",
            "a32642fe9a07458990b68d8da8a02956",
            "11925ea8e5ae4cd5bc51d0add972b11d",
            "df5203e2db1341c9a0734dc19feb911e",
            "6033433dbb2b49489e5f1cb6a967068a",
            "cfb5bbb6dee444f193b219ca482f4440",
            "d09cf4b1e6c842449beb7a71b1e88217",
            "13e040d4c5b3463bad8c569110e632c2",
            "2f44bde433264bf39cfd2408cfc2af75",
            "141c274df2ec4068934bfc803511dfd2",
            "3225c021185f4ae9b2aa6b351bc93571"
          ]
        },
        "id": "vX_iX16gOWLS",
        "outputId": "4545623d-f04d-4d3c-e6d2-85b7e7008a21"
      },
      "execution_count": 77,
      "outputs": [
        {
          "output_type": "display_data",
          "data": {
            "text/plain": [
              "Downloading config.json:   0%|          | 0.00/406 [00:00<?, ?B/s]"
            ],
            "application/vnd.jupyter.widget-view+json": {
              "version_major": 2,
              "version_minor": 0,
              "model_id": "dfdab0fb00df479c9846ccbc61e1ea78"
            },
            "application/json": {
              "n": 0,
              "total": 406,
              "elapsed": 0.01916050910949707,
              "ncols": null,
              "nrows": null,
              "prefix": "Downloading config.json",
              "ascii": false,
              "unit": "B",
              "unit_scale": true,
              "rate": null,
              "bar_format": null,
              "postfix": null,
              "unit_divisor": 1024,
              "initial": 0,
              "colour": null
            }
          },
          "metadata": {}
        },
        {
          "output_type": "display_data",
          "data": {
            "text/plain": [
              "Downloading pytorch_model.bin:   0%|          | 0.00/1.89G [00:00<?, ?B/s]"
            ],
            "application/vnd.jupyter.widget-view+json": {
              "version_major": 2,
              "version_minor": 0,
              "model_id": "80fd2fc9024a4628b3500e7b473ade2a"
            },
            "application/json": {
              "n": 0,
              "total": 2028800502,
              "elapsed": 0.017437219619750977,
              "ncols": null,
              "nrows": null,
              "prefix": "Downloading pytorch_model.bin",
              "ascii": false,
              "unit": "B",
              "unit_scale": true,
              "rate": null,
              "bar_format": null,
              "postfix": null,
              "unit_divisor": 1024,
              "initial": 0,
              "colour": null
            }
          },
          "metadata": {}
        },
        {
          "output_type": "stream",
          "name": "stderr",
          "text": [
            "Some weights of the model checkpoint at google/muril-large-cased were not used when initializing BertModel: ['cls.predictions.bias', 'cls.predictions.transform.LayerNorm.weight', 'cls.seq_relationship.bias', 'cls.predictions.transform.dense.weight', 'cls.predictions.transform.dense.bias', 'cls.seq_relationship.weight', 'cls.predictions.decoder.weight', 'cls.predictions.transform.LayerNorm.bias', 'cls.predictions.decoder.bias']\n",
            "- This IS expected if you are initializing BertModel from the checkpoint of a model trained on another task or with another architecture (e.g. initializing a BertForSequenceClassification model from a BertForPreTraining model).\n",
            "- This IS NOT expected if you are initializing BertModel from the checkpoint of a model that you expect to be exactly identical (initializing a BertForSequenceClassification model from a BertForSequenceClassification model).\n"
          ]
        },
        {
          "output_type": "display_data",
          "data": {
            "text/plain": [
              "Downloading tokenizer_config.json:   0%|          | 0.00/181 [00:00<?, ?B/s]"
            ],
            "application/vnd.jupyter.widget-view+json": {
              "version_major": 2,
              "version_minor": 0,
              "model_id": "e97cc2a457e748beb45439c8ff704cf3"
            },
            "application/json": {
              "n": 0,
              "total": 181,
              "elapsed": 0.017802715301513672,
              "ncols": null,
              "nrows": null,
              "prefix": "Downloading tokenizer_config.json",
              "ascii": false,
              "unit": "B",
              "unit_scale": true,
              "rate": null,
              "bar_format": null,
              "postfix": null,
              "unit_divisor": 1024,
              "initial": 0,
              "colour": null
            }
          },
          "metadata": {}
        },
        {
          "output_type": "display_data",
          "data": {
            "text/plain": [
              "Downloading vocab.txt:   0%|          | 0.00/3.02M [00:00<?, ?B/s]"
            ],
            "application/vnd.jupyter.widget-view+json": {
              "version_major": 2,
              "version_minor": 0,
              "model_id": "a51437bf2cef46d59c266fd657b4d757"
            },
            "application/json": {
              "n": 0,
              "total": 3162999,
              "elapsed": 0.2954685688018799,
              "ncols": null,
              "nrows": null,
              "prefix": "Downloading vocab.txt",
              "ascii": false,
              "unit": "B",
              "unit_scale": true,
              "rate": null,
              "bar_format": null,
              "postfix": null,
              "unit_divisor": 1024,
              "initial": 0,
              "colour": null
            }
          },
          "metadata": {}
        },
        {
          "output_type": "display_data",
          "data": {
            "text/plain": [
              "Downloading special_tokens_map.json:   0%|          | 0.00/112 [00:00<?, ?B/s]"
            ],
            "application/vnd.jupyter.widget-view+json": {
              "version_major": 2,
              "version_minor": 0,
              "model_id": "dcf4662a9fa040f7b4ab3936a795bda8"
            },
            "application/json": {
              "n": 0,
              "total": 112,
              "elapsed": 0.017392396926879883,
              "ncols": null,
              "nrows": null,
              "prefix": "Downloading special_tokens_map.json",
              "ascii": false,
              "unit": "B",
              "unit_scale": true,
              "rate": null,
              "bar_format": null,
              "postfix": null,
              "unit_divisor": 1024,
              "initial": 0,
              "colour": null
            }
          },
          "metadata": {}
        }
      ]
    },
    {
      "cell_type": "markdown",
      "source": [
        "Stemmed list Muril encoding"
      ],
      "metadata": {
        "id": "xW9zPVGzXshu"
      }
    },
    {
      "cell_type": "code",
      "source": [
        "X = [*raw_docs_train_stem, *raw_docs_test_stem]"
      ],
      "metadata": {
        "id": "GuS5fKSkYWmU"
      },
      "execution_count": 78,
      "outputs": []
    },
    {
      "cell_type": "code",
      "source": [
        "y =[*y_train,*y_test]"
      ],
      "metadata": {
        "id": "W8kgvjbHZXHt"
      },
      "execution_count": 79,
      "outputs": []
    },
    {
      "cell_type": "code",
      "source": [
        "data_tuples = list(zip(X,y))\n",
        "df_stem=pd.DataFrame(data_tuples, columns=['text','sentiment'])"
      ],
      "metadata": {
        "id": "UFeUbki6cybU"
      },
      "execution_count": 80,
      "outputs": []
    },
    {
      "cell_type": "code",
      "source": [
        "df_stem"
      ],
      "metadata": {
        "colab": {
          "base_uri": "https://localhost:8080/",
          "height": 424
        },
        "id": "HlECXTGzaqc2",
        "outputId": "eee99be3-08a7-4639-99c0-5d0031b8ee7c"
      },
      "execution_count": 81,
      "outputs": [
        {
          "output_type": "execute_result",
          "data": {
            "text/plain": [
              "                                                   text sentiment\n",
              "0              ശ്രീശാന്തിന് ആശ്വാസം വിലക്ക് പിൻവലിക്കുക  positive\n",
              "1     പുതിയ കളിഉംആയി പത്മനാഭൻ മണ്ണ് 'പട്ടാഭിരാമന്‍';...  positive\n",
              "2     സിനിമ പുറമേ മോദിയുടെ ജീവിതംകഥ വെബ് സീരീസായും എ...  positive\n",
              "3     നീർമാതളം പൂത്ത്അകാലം ചിത്രംഎ പുതിയ വീഡിയോ ഗാനം...  positive\n",
              "4     മൊഹാലി ഏകംദിനം പ്രതീക്ഷ കൈവിടുക ഓസീസ്; ഹാൻഡ്സ്...  positive\n",
              "...                                                 ...       ...\n",
              "5831   വനിത ടി ഇംഗ്ലണ്ട്എതിരെ ഇന്ത്യ  റൺസ് വിജയ ലക്ഷ്യം   neutral\n",
              "5832  ലവൊദീക്യായിലെ സഭ ദൂതൻ എഴുതുക വിശ്വസ്തനും സത്യ...   neutral\n",
              "5833  സംസ്കാരം എപ്പോഴ്ഉം ഒരു ശക്തി മറ്റൊരു ശക്തി ഏറ്...   neutral\n",
              "5834  എന്തിന്ആണ് പാൻ കാർഡ് പെർമനന്റ് അക്കൗണ്ട് നമ്ബറ...   neutral\n",
              "5835  മലയാളം സിനിമ രണ്ട്ഒരു ജയൻ വേണ്ടെന്ന തോനല്‍ കാര...   neutral\n",
              "\n",
              "[5836 rows x 2 columns]"
            ],
            "text/html": [
              "\n",
              "  <div id=\"df-1c167c0e-7798-4486-887b-7489c3044dd6\">\n",
              "    <div class=\"colab-df-container\">\n",
              "      <div>\n",
              "<style scoped>\n",
              "    .dataframe tbody tr th:only-of-type {\n",
              "        vertical-align: middle;\n",
              "    }\n",
              "\n",
              "    .dataframe tbody tr th {\n",
              "        vertical-align: top;\n",
              "    }\n",
              "\n",
              "    .dataframe thead th {\n",
              "        text-align: right;\n",
              "    }\n",
              "</style>\n",
              "<table border=\"1\" class=\"dataframe\">\n",
              "  <thead>\n",
              "    <tr style=\"text-align: right;\">\n",
              "      <th></th>\n",
              "      <th>text</th>\n",
              "      <th>sentiment</th>\n",
              "    </tr>\n",
              "  </thead>\n",
              "  <tbody>\n",
              "    <tr>\n",
              "      <th>0</th>\n",
              "      <td>ശ്രീശാന്തിന് ആശ്വാസം വിലക്ക് പിൻവലിക്കുക</td>\n",
              "      <td>positive</td>\n",
              "    </tr>\n",
              "    <tr>\n",
              "      <th>1</th>\n",
              "      <td>പുതിയ കളിഉംആയി പത്മനാഭൻ മണ്ണ് 'പട്ടാഭിരാമന്‍';...</td>\n",
              "      <td>positive</td>\n",
              "    </tr>\n",
              "    <tr>\n",
              "      <th>2</th>\n",
              "      <td>സിനിമ പുറമേ മോദിയുടെ ജീവിതംകഥ വെബ് സീരീസായും എ...</td>\n",
              "      <td>positive</td>\n",
              "    </tr>\n",
              "    <tr>\n",
              "      <th>3</th>\n",
              "      <td>നീർമാതളം പൂത്ത്അകാലം ചിത്രംഎ പുതിയ വീഡിയോ ഗാനം...</td>\n",
              "      <td>positive</td>\n",
              "    </tr>\n",
              "    <tr>\n",
              "      <th>4</th>\n",
              "      <td>മൊഹാലി ഏകംദിനം പ്രതീക്ഷ കൈവിടുക ഓസീസ്; ഹാൻഡ്സ്...</td>\n",
              "      <td>positive</td>\n",
              "    </tr>\n",
              "    <tr>\n",
              "      <th>...</th>\n",
              "      <td>...</td>\n",
              "      <td>...</td>\n",
              "    </tr>\n",
              "    <tr>\n",
              "      <th>5831</th>\n",
              "      <td>വനിത ടി ഇംഗ്ലണ്ട്എതിരെ ഇന്ത്യ  റൺസ് വിജയ ലക്ഷ്യം</td>\n",
              "      <td>neutral</td>\n",
              "    </tr>\n",
              "    <tr>\n",
              "      <th>5832</th>\n",
              "      <td>ലവൊദീക്യായിലെ സഭ ദൂതൻ എഴുതുക വിശ്വസ്തനും സത്യ...</td>\n",
              "      <td>neutral</td>\n",
              "    </tr>\n",
              "    <tr>\n",
              "      <th>5833</th>\n",
              "      <td>സംസ്കാരം എപ്പോഴ്ഉം ഒരു ശക്തി മറ്റൊരു ശക്തി ഏറ്...</td>\n",
              "      <td>neutral</td>\n",
              "    </tr>\n",
              "    <tr>\n",
              "      <th>5834</th>\n",
              "      <td>എന്തിന്ആണ് പാൻ കാർഡ് പെർമനന്റ് അക്കൗണ്ട് നമ്ബറ...</td>\n",
              "      <td>neutral</td>\n",
              "    </tr>\n",
              "    <tr>\n",
              "      <th>5835</th>\n",
              "      <td>മലയാളം സിനിമ രണ്ട്ഒരു ജയൻ വേണ്ടെന്ന തോനല്‍ കാര...</td>\n",
              "      <td>neutral</td>\n",
              "    </tr>\n",
              "  </tbody>\n",
              "</table>\n",
              "<p>5836 rows × 2 columns</p>\n",
              "</div>\n",
              "      <button class=\"colab-df-convert\" onclick=\"convertToInteractive('df-1c167c0e-7798-4486-887b-7489c3044dd6')\"\n",
              "              title=\"Convert this dataframe to an interactive table.\"\n",
              "              style=\"display:none;\">\n",
              "        \n",
              "  <svg xmlns=\"http://www.w3.org/2000/svg\" height=\"24px\"viewBox=\"0 0 24 24\"\n",
              "       width=\"24px\">\n",
              "    <path d=\"M0 0h24v24H0V0z\" fill=\"none\"/>\n",
              "    <path d=\"M18.56 5.44l.94 2.06.94-2.06 2.06-.94-2.06-.94-.94-2.06-.94 2.06-2.06.94zm-11 1L8.5 8.5l.94-2.06 2.06-.94-2.06-.94L8.5 2.5l-.94 2.06-2.06.94zm10 10l.94 2.06.94-2.06 2.06-.94-2.06-.94-.94-2.06-.94 2.06-2.06.94z\"/><path d=\"M17.41 7.96l-1.37-1.37c-.4-.4-.92-.59-1.43-.59-.52 0-1.04.2-1.43.59L10.3 9.45l-7.72 7.72c-.78.78-.78 2.05 0 2.83L4 21.41c.39.39.9.59 1.41.59.51 0 1.02-.2 1.41-.59l7.78-7.78 2.81-2.81c.8-.78.8-2.07 0-2.86zM5.41 20L4 18.59l7.72-7.72 1.47 1.35L5.41 20z\"/>\n",
              "  </svg>\n",
              "      </button>\n",
              "      \n",
              "  <style>\n",
              "    .colab-df-container {\n",
              "      display:flex;\n",
              "      flex-wrap:wrap;\n",
              "      gap: 12px;\n",
              "    }\n",
              "\n",
              "    .colab-df-convert {\n",
              "      background-color: #E8F0FE;\n",
              "      border: none;\n",
              "      border-radius: 50%;\n",
              "      cursor: pointer;\n",
              "      display: none;\n",
              "      fill: #1967D2;\n",
              "      height: 32px;\n",
              "      padding: 0 0 0 0;\n",
              "      width: 32px;\n",
              "    }\n",
              "\n",
              "    .colab-df-convert:hover {\n",
              "      background-color: #E2EBFA;\n",
              "      box-shadow: 0px 1px 2px rgba(60, 64, 67, 0.3), 0px 1px 3px 1px rgba(60, 64, 67, 0.15);\n",
              "      fill: #174EA6;\n",
              "    }\n",
              "\n",
              "    [theme=dark] .colab-df-convert {\n",
              "      background-color: #3B4455;\n",
              "      fill: #D2E3FC;\n",
              "    }\n",
              "\n",
              "    [theme=dark] .colab-df-convert:hover {\n",
              "      background-color: #434B5C;\n",
              "      box-shadow: 0px 1px 3px 1px rgba(0, 0, 0, 0.15);\n",
              "      filter: drop-shadow(0px 1px 2px rgba(0, 0, 0, 0.3));\n",
              "      fill: #FFFFFF;\n",
              "    }\n",
              "  </style>\n",
              "\n",
              "      <script>\n",
              "        const buttonEl =\n",
              "          document.querySelector('#df-1c167c0e-7798-4486-887b-7489c3044dd6 button.colab-df-convert');\n",
              "        buttonEl.style.display =\n",
              "          google.colab.kernel.accessAllowed ? 'block' : 'none';\n",
              "\n",
              "        async function convertToInteractive(key) {\n",
              "          const element = document.querySelector('#df-1c167c0e-7798-4486-887b-7489c3044dd6');\n",
              "          const dataTable =\n",
              "            await google.colab.kernel.invokeFunction('convertToInteractive',\n",
              "                                                     [key], {});\n",
              "          if (!dataTable) return;\n",
              "\n",
              "          const docLinkHtml = 'Like what you see? Visit the ' +\n",
              "            '<a target=\"_blank\" href=https://colab.research.google.com/notebooks/data_table.ipynb>data table notebook</a>'\n",
              "            + ' to learn more about interactive tables.';\n",
              "          element.innerHTML = '';\n",
              "          dataTable['output_type'] = 'display_data';\n",
              "          await google.colab.output.renderOutput(dataTable, element);\n",
              "          const docLink = document.createElement('div');\n",
              "          docLink.innerHTML = docLinkHtml;\n",
              "          element.appendChild(docLink);\n",
              "        }\n",
              "      </script>\n",
              "    </div>\n",
              "  </div>\n",
              "  "
            ]
          },
          "metadata": {},
          "execution_count": 81
        }
      ]
    },
    {
      "cell_type": "markdown",
      "source": [
        "Stemmed List encoding"
      ],
      "metadata": {
        "id": "qlSk-8V6eSK3"
      }
    },
    {
      "cell_type": "code",
      "source": [
        "dflist_stem=[]\n",
        "for k,g in df.groupby(np.arange(len(df_stem))//subset):\n",
        "      input_ids, attention_mask = tokenize(g.text, tokenizer)\n",
        "      dflist_stem.append(GetFeatures(model, input_ids, attention_mask))\n",
        "dataframe_stem = pd.concat(dflist_stem,ignore_index=True)\n",
        "dataframe_stem['sentiment'] = df_stem.sentiment"
      ],
      "metadata": {
        "id": "YWlhnZwSdJnn"
      },
      "execution_count": null,
      "outputs": []
    },
    {
      "cell_type": "code",
      "source": [
        "dataframe.to_csv('/content/drive/MyDrive/dataframe1.csv')"
      ],
      "metadata": {
        "id": "nb8HkTCzyaOC"
      },
      "execution_count": null,
      "outputs": []
    },
    {
      "cell_type": "code",
      "source": [
        "dataframe_stem.to_csv('/content/drive/MyDrive/dataframe_stem1.csv')"
      ],
      "metadata": {
        "id": "YhfJTTsYfjhb"
      },
      "execution_count": null,
      "outputs": []
    },
    {
      "cell_type": "code",
      "source": [
        "dataframe = pd.read_csv('/content/drive/MyDrive/dataframe1.csv')\n",
        "traindf, testdf = testtrainsplit(dataframe)\n",
        "X_train = traindf.iloc[:, :-1]\n",
        "X_test = testdf.iloc[:, :-1]\n",
        "y_train = traindf.sentiment\n",
        "y_test = testdf.sentiment"
      ],
      "metadata": {
        "id": "lqIrPFdL3NLv"
      },
      "execution_count": 85,
      "outputs": []
    },
    {
      "cell_type": "code",
      "source": [
        "x_train = traindf.iloc[:, :-1].to_numpy()\n",
        "x_test = testdf.iloc[:, :-1].to_numpy()\n",
        "y_train = traindf.sentiment.to_numpy()\n",
        "y_test = testdf.sentiment.to_numpy()"
      ],
      "metadata": {
        "id": "7WQ5Dtko6QZw"
      },
      "execution_count": 86,
      "outputs": []
    },
    {
      "cell_type": "code",
      "source": [
        "type(traindf)"
      ],
      "metadata": {
        "colab": {
          "base_uri": "https://localhost:8080/"
        },
        "id": "fVFb70AzLZoF",
        "outputId": "b3f249ac-f2e7-4c53-d96a-1cd1fe065f69"
      },
      "execution_count": 87,
      "outputs": [
        {
          "output_type": "execute_result",
          "data": {
            "text/plain": [
              "pandas.core.frame.DataFrame"
            ]
          },
          "metadata": {},
          "execution_count": 87
        }
      ]
    },
    {
      "cell_type": "code",
      "source": [
        "traindf.sentiment"
      ],
      "metadata": {
        "id": "IxizObElK6CN"
      },
      "execution_count": null,
      "outputs": []
    },
    {
      "cell_type": "markdown",
      "source": [
        "Encoding labels"
      ],
      "metadata": {
        "id": "zsIyyh1qIKSY"
      }
    },
    {
      "cell_type": "code",
      "source": [
        "encoder = LabelEncoder()\n",
        "encoder.fit(list(y_train)+list(y_test))\n",
        "y_traino = encoder.transform(y_train)\n",
        "y_testo = encoder.transform(y_test)"
      ],
      "metadata": {
        "id": "tnRHplOJjZci"
      },
      "execution_count": 89,
      "outputs": []
    },
    {
      "cell_type": "markdown",
      "source": [
        "#Muril with LSTM"
      ],
      "metadata": {
        "id": "11JTPv7UHTq7"
      }
    },
    {
      "cell_type": "code",
      "source": [
        "best_num_neurons1=512\n",
        "best_num_neurons2=512\n",
        "best_learning_rate=0.01\n",
        "\n",
        "#y_train=training_label_seq\n",
        "#y_test=testing_label_seq\n",
        "\n",
        "encoder = LabelEncoder()\n",
        "encoder.fit(list(y_train)+list(y_test))\n",
        "#One hot encoding\n",
        "y_train = np_utils.to_categorical(encoder.transform(y_train))\n",
        "y_test  = np_utils.to_categorical(encoder.transform(y_test))\n",
        "\n",
        "x_train_modified = x_train.reshape(x_train.shape[0],1,x_train.shape[1])\n",
        "x_test_modified = x_test.reshape(x_test.shape[0],1,x_test.shape[1])\n",
        "\n",
        "optimizer=tf.keras.optimizers.Adam(lr=best_learning_rate, beta_1=0.9, beta_2=0.999, amsgrad=False)\n",
        "\n",
        "model = Sequential()\n",
        "model.add(CuDNNLSTM(best_num_neurons1, input_shape=(x_train_modified.shape[1],x_train_modified.shape[2]), return_sequences=True))\n",
        "model.add(Dropout(0.2))\n",
        "model.add(CuDNNLSTM(best_num_neurons2))\n",
        "model.add(Dropout(0.2))\n",
        "model.add(Dense(y_train.shape[1], activation='softmax')) \n",
        "model.compile(loss='categorical_crossentropy', optimizer='adam',metrics=['accuracy'])\n",
        "model.summary()\n",
        "\n",
        "history=model.fit(x_train_modified, y_train, epochs=100, batch_size=128, validation_data=(x_test_modified,y_test))\n",
        "\n",
        "\n"
      ],
      "metadata": {
        "colab": {
          "base_uri": "https://localhost:8080/"
        },
        "id": "xplvaihBgeYD",
        "outputId": "cfc4b20e-5996-4579-c920-7fa40a8c5265"
      },
      "execution_count": null,
      "outputs": [
        {
          "output_type": "stream",
          "name": "stderr",
          "text": [
            "/usr/local/lib/python3.7/dist-packages/keras/optimizers/optimizer_v2/adam.py:110: UserWarning: The `lr` argument is deprecated, use `learning_rate` instead.\n",
            "  super(Adam, self).__init__(name, **kwargs)\n"
          ]
        },
        {
          "output_type": "stream",
          "name": "stdout",
          "text": [
            "Model: \"sequential\"\n",
            "_________________________________________________________________\n",
            " Layer (type)                Output Shape              Param #   \n",
            "=================================================================\n",
            " cu_dnnlstm (CuDNNLSTM)      (None, 1, 512)            3151872   \n",
            "                                                                 \n",
            " dropout (Dropout)           (None, 1, 512)            0         \n",
            "                                                                 \n",
            " cu_dnnlstm_1 (CuDNNLSTM)    (None, 512)               2101248   \n",
            "                                                                 \n",
            " dropout_1 (Dropout)         (None, 512)               0         \n",
            "                                                                 \n",
            " dense (Dense)               (None, 3)                 1539      \n",
            "                                                                 \n",
            "=================================================================\n",
            "Total params: 5,254,659\n",
            "Trainable params: 5,254,659\n",
            "Non-trainable params: 0\n",
            "_________________________________________________________________\n",
            "Epoch 1/100\n",
            "37/37 [==============================] - 4s 21ms/step - loss: 0.9762 - accuracy: 0.5528 - val_loss: 0.8586 - val_accuracy: 0.6185\n",
            "Epoch 2/100\n",
            "37/37 [==============================] - 0s 8ms/step - loss: 0.8275 - accuracy: 0.6368 - val_loss: 0.8306 - val_accuracy: 0.6330\n",
            "Epoch 3/100\n",
            "37/37 [==============================] - 0s 9ms/step - loss: 0.7680 - accuracy: 0.6630 - val_loss: 0.7489 - val_accuracy: 0.7143\n",
            "Epoch 4/100\n",
            "37/37 [==============================] - 0s 8ms/step - loss: 0.7233 - accuracy: 0.6951 - val_loss: 0.7764 - val_accuracy: 0.6621\n",
            "Epoch 5/100\n",
            "37/37 [==============================] - 0s 8ms/step - loss: 0.6779 - accuracy: 0.7195 - val_loss: 0.6320 - val_accuracy: 0.7305\n",
            "Epoch 6/100\n",
            "37/37 [==============================] - 0s 8ms/step - loss: 0.6333 - accuracy: 0.7472 - val_loss: 0.6791 - val_accuracy: 0.7357\n",
            "Epoch 7/100\n",
            "37/37 [==============================] - 0s 9ms/step - loss: 0.6022 - accuracy: 0.7641 - val_loss: 0.6395 - val_accuracy: 0.7434\n",
            "Epoch 8/100\n",
            "37/37 [==============================] - 0s 9ms/step - loss: 0.5834 - accuracy: 0.7752 - val_loss: 0.6292 - val_accuracy: 0.7511\n",
            "Epoch 9/100\n",
            "37/37 [==============================] - 0s 8ms/step - loss: 0.6131 - accuracy: 0.7562 - val_loss: 0.6136 - val_accuracy: 0.7588\n",
            "Epoch 10/100\n",
            "37/37 [==============================] - 0s 7ms/step - loss: 0.5491 - accuracy: 0.7817 - val_loss: 0.6003 - val_accuracy: 0.7511\n",
            "Epoch 11/100\n",
            "37/37 [==============================] - 0s 8ms/step - loss: 0.5232 - accuracy: 0.7939 - val_loss: 0.6260 - val_accuracy: 0.7553\n",
            "Epoch 12/100\n",
            "37/37 [==============================] - 0s 8ms/step - loss: 0.5163 - accuracy: 0.7926 - val_loss: 0.5993 - val_accuracy: 0.7665\n",
            "Epoch 13/100\n",
            "37/37 [==============================] - 0s 8ms/step - loss: 0.5117 - accuracy: 0.8003 - val_loss: 0.5899 - val_accuracy: 0.7682\n",
            "Epoch 14/100\n",
            "37/37 [==============================] - 0s 9ms/step - loss: 0.5446 - accuracy: 0.7795 - val_loss: 0.6114 - val_accuracy: 0.7622\n",
            "Epoch 15/100\n",
            "37/37 [==============================] - 0s 10ms/step - loss: 0.5136 - accuracy: 0.7883 - val_loss: 0.6673 - val_accuracy: 0.7682\n",
            "Epoch 16/100\n",
            "37/37 [==============================] - 0s 9ms/step - loss: 0.5486 - accuracy: 0.7778 - val_loss: 0.6328 - val_accuracy: 0.7613\n",
            "Epoch 17/100\n",
            "37/37 [==============================] - 0s 7ms/step - loss: 0.5224 - accuracy: 0.7979 - val_loss: 0.6157 - val_accuracy: 0.7699\n",
            "Epoch 18/100\n",
            "37/37 [==============================] - 0s 8ms/step - loss: 0.5037 - accuracy: 0.8074 - val_loss: 0.6949 - val_accuracy: 0.7408\n",
            "Epoch 19/100\n",
            "37/37 [==============================] - 0s 8ms/step - loss: 0.4945 - accuracy: 0.8093 - val_loss: 0.5999 - val_accuracy: 0.7784\n",
            "Epoch 20/100\n",
            "37/37 [==============================] - 0s 8ms/step - loss: 0.4908 - accuracy: 0.8046 - val_loss: 0.5850 - val_accuracy: 0.7819\n",
            "Epoch 21/100\n",
            "37/37 [==============================] - 0s 9ms/step - loss: 0.4859 - accuracy: 0.8155 - val_loss: 0.6353 - val_accuracy: 0.7716\n",
            "Epoch 22/100\n",
            "37/37 [==============================] - 0s 9ms/step - loss: 0.4638 - accuracy: 0.8219 - val_loss: 0.6068 - val_accuracy: 0.7673\n",
            "Epoch 23/100\n",
            "37/37 [==============================] - 0s 9ms/step - loss: 0.4638 - accuracy: 0.8189 - val_loss: 0.6525 - val_accuracy: 0.7536\n",
            "Epoch 24/100\n",
            "37/37 [==============================] - 0s 7ms/step - loss: 0.4421 - accuracy: 0.8282 - val_loss: 0.5967 - val_accuracy: 0.7639\n",
            "Epoch 25/100\n",
            "37/37 [==============================] - 0s 7ms/step - loss: 0.4449 - accuracy: 0.8211 - val_loss: 0.6802 - val_accuracy: 0.7502\n",
            "Epoch 26/100\n",
            "37/37 [==============================] - 0s 7ms/step - loss: 0.4504 - accuracy: 0.8228 - val_loss: 0.6054 - val_accuracy: 0.7759\n",
            "Epoch 27/100\n",
            "37/37 [==============================] - 0s 7ms/step - loss: 0.4328 - accuracy: 0.8305 - val_loss: 0.6164 - val_accuracy: 0.7750\n",
            "Epoch 28/100\n",
            "37/37 [==============================] - 0s 7ms/step - loss: 0.4331 - accuracy: 0.8354 - val_loss: 0.6399 - val_accuracy: 0.7673\n",
            "Epoch 29/100\n",
            "37/37 [==============================] - 0s 8ms/step - loss: 0.4501 - accuracy: 0.8267 - val_loss: 0.6951 - val_accuracy: 0.7528\n",
            "Epoch 30/100\n",
            "37/37 [==============================] - 0s 8ms/step - loss: 0.4731 - accuracy: 0.8196 - val_loss: 0.6371 - val_accuracy: 0.7819\n",
            "Epoch 31/100\n",
            "37/37 [==============================] - 0s 8ms/step - loss: 0.4380 - accuracy: 0.8361 - val_loss: 0.6107 - val_accuracy: 0.7861\n",
            "Epoch 32/100\n",
            "37/37 [==============================] - 0s 8ms/step - loss: 0.4303 - accuracy: 0.8367 - val_loss: 0.6142 - val_accuracy: 0.7836\n",
            "Epoch 33/100\n",
            "37/37 [==============================] - 0s 8ms/step - loss: 0.4862 - accuracy: 0.8168 - val_loss: 0.6999 - val_accuracy: 0.7656\n",
            "Epoch 34/100\n",
            "37/37 [==============================] - 0s 8ms/step - loss: 0.4628 - accuracy: 0.8307 - val_loss: 0.6312 - val_accuracy: 0.7827\n",
            "Epoch 35/100\n",
            "37/37 [==============================] - 0s 10ms/step - loss: 0.4409 - accuracy: 0.8309 - val_loss: 0.5895 - val_accuracy: 0.7844\n",
            "Epoch 36/100\n",
            "37/37 [==============================] - 0s 10ms/step - loss: 0.4320 - accuracy: 0.8404 - val_loss: 0.6907 - val_accuracy: 0.7673\n",
            "Epoch 37/100\n",
            "37/37 [==============================] - 0s 11ms/step - loss: 0.4469 - accuracy: 0.8249 - val_loss: 0.6066 - val_accuracy: 0.7870\n",
            "Epoch 38/100\n",
            "37/37 [==============================] - 0s 10ms/step - loss: 0.4323 - accuracy: 0.8378 - val_loss: 0.6364 - val_accuracy: 0.7802\n",
            "Epoch 39/100\n",
            "37/37 [==============================] - 0s 10ms/step - loss: 0.4438 - accuracy: 0.8316 - val_loss: 0.6293 - val_accuracy: 0.7759\n",
            "Epoch 40/100\n",
            "37/37 [==============================] - 0s 11ms/step - loss: 0.4016 - accuracy: 0.8485 - val_loss: 0.6162 - val_accuracy: 0.7844\n",
            "Epoch 41/100\n",
            "37/37 [==============================] - 0s 8ms/step - loss: 0.4041 - accuracy: 0.8532 - val_loss: 0.6266 - val_accuracy: 0.7810\n",
            "Epoch 42/100\n",
            "37/37 [==============================] - 0s 8ms/step - loss: 0.4062 - accuracy: 0.8457 - val_loss: 0.7631 - val_accuracy: 0.7553\n",
            "Epoch 43/100\n",
            "37/37 [==============================] - 0s 8ms/step - loss: 0.4443 - accuracy: 0.8277 - val_loss: 0.6142 - val_accuracy: 0.7802\n",
            "Epoch 44/100\n",
            "37/37 [==============================] - 0s 8ms/step - loss: 0.4415 - accuracy: 0.8292 - val_loss: 0.6388 - val_accuracy: 0.7802\n",
            "Epoch 45/100\n",
            "37/37 [==============================] - 0s 8ms/step - loss: 0.4459 - accuracy: 0.8256 - val_loss: 0.6587 - val_accuracy: 0.7802\n",
            "Epoch 46/100\n",
            "37/37 [==============================] - 0s 8ms/step - loss: 0.4303 - accuracy: 0.8352 - val_loss: 0.5980 - val_accuracy: 0.7887\n",
            "Epoch 47/100\n",
            "37/37 [==============================] - 0s 8ms/step - loss: 0.4241 - accuracy: 0.8382 - val_loss: 0.6683 - val_accuracy: 0.7784\n",
            "Epoch 48/100\n",
            "37/37 [==============================] - 0s 8ms/step - loss: 0.4038 - accuracy: 0.8404 - val_loss: 0.6671 - val_accuracy: 0.7571\n",
            "Epoch 49/100\n",
            "37/37 [==============================] - 0s 8ms/step - loss: 0.3854 - accuracy: 0.8517 - val_loss: 0.6503 - val_accuracy: 0.7844\n",
            "Epoch 50/100\n",
            "37/37 [==============================] - 0s 8ms/step - loss: 0.3877 - accuracy: 0.8502 - val_loss: 0.6544 - val_accuracy: 0.8007\n",
            "Epoch 51/100\n",
            "37/37 [==============================] - 0s 8ms/step - loss: 0.4088 - accuracy: 0.8489 - val_loss: 0.6395 - val_accuracy: 0.7956\n",
            "Epoch 52/100\n",
            "37/37 [==============================] - 0s 8ms/step - loss: 0.4005 - accuracy: 0.8489 - val_loss: 0.6547 - val_accuracy: 0.7827\n",
            "Epoch 53/100\n",
            "37/37 [==============================] - 0s 8ms/step - loss: 0.4106 - accuracy: 0.8524 - val_loss: 0.6128 - val_accuracy: 0.7921\n",
            "Epoch 54/100\n",
            "37/37 [==============================] - 0s 8ms/step - loss: 0.4040 - accuracy: 0.8447 - val_loss: 0.6875 - val_accuracy: 0.7870\n",
            "Epoch 55/100\n",
            "37/37 [==============================] - 0s 8ms/step - loss: 0.4067 - accuracy: 0.8487 - val_loss: 0.6535 - val_accuracy: 0.7810\n",
            "Epoch 56/100\n",
            "37/37 [==============================] - 0s 8ms/step - loss: 0.3982 - accuracy: 0.8477 - val_loss: 0.7062 - val_accuracy: 0.7802\n",
            "Epoch 57/100\n",
            "37/37 [==============================] - 0s 8ms/step - loss: 0.3962 - accuracy: 0.8517 - val_loss: 0.6433 - val_accuracy: 0.7827\n",
            "Epoch 58/100\n",
            "37/37 [==============================] - 0s 8ms/step - loss: 0.3863 - accuracy: 0.8513 - val_loss: 0.6346 - val_accuracy: 0.7921\n",
            "Epoch 59/100\n",
            "37/37 [==============================] - 0s 8ms/step - loss: 0.3794 - accuracy: 0.8586 - val_loss: 0.6742 - val_accuracy: 0.7853\n",
            "Epoch 60/100\n",
            "37/37 [==============================] - 0s 8ms/step - loss: 0.3873 - accuracy: 0.8530 - val_loss: 0.6391 - val_accuracy: 0.7802\n",
            "Epoch 61/100\n",
            "37/37 [==============================] - 0s 8ms/step - loss: 0.3897 - accuracy: 0.8588 - val_loss: 0.6475 - val_accuracy: 0.7844\n",
            "Epoch 62/100\n",
            "37/37 [==============================] - 0s 8ms/step - loss: 0.4126 - accuracy: 0.8421 - val_loss: 0.6784 - val_accuracy: 0.7793\n",
            "Epoch 63/100\n",
            "37/37 [==============================] - 0s 8ms/step - loss: 0.4053 - accuracy: 0.8305 - val_loss: 0.6879 - val_accuracy: 0.7767\n",
            "Epoch 64/100\n",
            "37/37 [==============================] - 0s 9ms/step - loss: 0.3833 - accuracy: 0.8404 - val_loss: 0.6792 - val_accuracy: 0.7870\n",
            "Epoch 65/100\n",
            "37/37 [==============================] - 0s 9ms/step - loss: 0.3533 - accuracy: 0.8631 - val_loss: 0.6996 - val_accuracy: 0.7656\n",
            "Epoch 66/100\n",
            "37/37 [==============================] - 0s 8ms/step - loss: 0.3609 - accuracy: 0.8659 - val_loss: 0.6563 - val_accuracy: 0.7973\n",
            "Epoch 67/100\n",
            "37/37 [==============================] - 0s 9ms/step - loss: 0.3638 - accuracy: 0.8665 - val_loss: 0.6569 - val_accuracy: 0.7767\n",
            "Epoch 68/100\n",
            "37/37 [==============================] - 0s 10ms/step - loss: 0.3361 - accuracy: 0.8729 - val_loss: 0.6932 - val_accuracy: 0.7793\n",
            "Epoch 69/100\n",
            "37/37 [==============================] - 0s 9ms/step - loss: 0.3910 - accuracy: 0.8399 - val_loss: 0.6551 - val_accuracy: 0.7733\n",
            "Epoch 70/100\n",
            "37/37 [==============================] - 0s 10ms/step - loss: 0.3572 - accuracy: 0.8657 - val_loss: 0.6786 - val_accuracy: 0.7930\n",
            "Epoch 71/100\n",
            "37/37 [==============================] - 0s 10ms/step - loss: 0.3594 - accuracy: 0.8676 - val_loss: 0.6536 - val_accuracy: 0.7981\n",
            "Epoch 72/100\n",
            "37/37 [==============================] - 0s 8ms/step - loss: 0.3398 - accuracy: 0.8759 - val_loss: 0.7160 - val_accuracy: 0.7827\n",
            "Epoch 73/100\n",
            "37/37 [==============================] - 0s 8ms/step - loss: 0.3949 - accuracy: 0.8438 - val_loss: 0.7330 - val_accuracy: 0.7844\n",
            "Epoch 74/100\n",
            "37/37 [==============================] - 0s 10ms/step - loss: 0.3639 - accuracy: 0.8631 - val_loss: 0.6344 - val_accuracy: 0.7938\n",
            "Epoch 75/100\n",
            "37/37 [==============================] - 0s 10ms/step - loss: 0.3726 - accuracy: 0.8620 - val_loss: 0.7091 - val_accuracy: 0.7690\n",
            "Epoch 76/100\n",
            "37/37 [==============================] - 0s 9ms/step - loss: 0.3768 - accuracy: 0.8594 - val_loss: 0.7272 - val_accuracy: 0.7716\n",
            "Epoch 77/100\n",
            "37/37 [==============================] - 0s 9ms/step - loss: 0.3624 - accuracy: 0.8603 - val_loss: 0.6497 - val_accuracy: 0.7938\n",
            "Epoch 78/100\n",
            "37/37 [==============================] - 0s 8ms/step - loss: 0.3449 - accuracy: 0.8699 - val_loss: 0.6902 - val_accuracy: 0.7921\n",
            "Epoch 79/100\n",
            "37/37 [==============================] - 0s 8ms/step - loss: 0.3352 - accuracy: 0.8740 - val_loss: 0.6564 - val_accuracy: 0.7990\n",
            "Epoch 80/100\n",
            "37/37 [==============================] - 0s 8ms/step - loss: 0.3570 - accuracy: 0.8663 - val_loss: 0.6778 - val_accuracy: 0.7742\n",
            "Epoch 81/100\n",
            "37/37 [==============================] - 0s 8ms/step - loss: 0.3638 - accuracy: 0.8605 - val_loss: 0.7539 - val_accuracy: 0.7374\n",
            "Epoch 82/100\n",
            "37/37 [==============================] - 0s 8ms/step - loss: 0.3636 - accuracy: 0.8624 - val_loss: 0.6931 - val_accuracy: 0.7870\n",
            "Epoch 83/100\n",
            "37/37 [==============================] - 0s 8ms/step - loss: 0.3483 - accuracy: 0.8729 - val_loss: 0.6604 - val_accuracy: 0.7896\n",
            "Epoch 84/100\n",
            "37/37 [==============================] - 0s 8ms/step - loss: 0.3566 - accuracy: 0.8729 - val_loss: 0.7201 - val_accuracy: 0.7930\n",
            "Epoch 85/100\n",
            "37/37 [==============================] - 0s 8ms/step - loss: 0.4033 - accuracy: 0.8543 - val_loss: 0.6985 - val_accuracy: 0.7998\n",
            "Epoch 86/100\n",
            "37/37 [==============================] - 0s 8ms/step - loss: 0.3658 - accuracy: 0.8714 - val_loss: 0.7067 - val_accuracy: 0.7759\n",
            "Epoch 87/100\n",
            "37/37 [==============================] - 0s 8ms/step - loss: 0.3628 - accuracy: 0.8687 - val_loss: 0.7240 - val_accuracy: 0.7879\n",
            "Epoch 88/100\n",
            "37/37 [==============================] - 0s 8ms/step - loss: 0.3256 - accuracy: 0.8807 - val_loss: 0.7470 - val_accuracy: 0.7896\n",
            "Epoch 89/100\n",
            "37/37 [==============================] - 0s 8ms/step - loss: 0.3496 - accuracy: 0.8659 - val_loss: 0.7031 - val_accuracy: 0.7810\n",
            "Epoch 90/100\n",
            "37/37 [==============================] - 0s 8ms/step - loss: 0.3331 - accuracy: 0.8766 - val_loss: 0.7021 - val_accuracy: 0.7990\n",
            "Epoch 91/100\n",
            "37/37 [==============================] - 0s 8ms/step - loss: 0.3514 - accuracy: 0.8605 - val_loss: 0.7232 - val_accuracy: 0.7802\n",
            "Epoch 92/100\n",
            "37/37 [==============================] - 0s 8ms/step - loss: 0.3440 - accuracy: 0.8699 - val_loss: 0.7225 - val_accuracy: 0.7947\n",
            "Epoch 93/100\n",
            "37/37 [==============================] - 0s 8ms/step - loss: 0.3259 - accuracy: 0.8809 - val_loss: 0.7356 - val_accuracy: 0.7776\n",
            "Epoch 94/100\n",
            "37/37 [==============================] - 0s 8ms/step - loss: 0.3186 - accuracy: 0.8856 - val_loss: 0.7074 - val_accuracy: 0.7913\n",
            "Epoch 95/100\n",
            "37/37 [==============================] - 0s 8ms/step - loss: 0.3584 - accuracy: 0.8612 - val_loss: 0.6850 - val_accuracy: 0.7990\n",
            "Epoch 96/100\n",
            "37/37 [==============================] - 0s 8ms/step - loss: 0.4146 - accuracy: 0.8346 - val_loss: 0.6998 - val_accuracy: 0.7870\n",
            "Epoch 97/100\n",
            "37/37 [==============================] - 0s 9ms/step - loss: 0.3701 - accuracy: 0.8564 - val_loss: 0.6991 - val_accuracy: 0.7784\n",
            "Epoch 98/100\n",
            "37/37 [==============================] - 0s 9ms/step - loss: 0.3416 - accuracy: 0.8725 - val_loss: 0.7075 - val_accuracy: 0.8007\n",
            "Epoch 99/100\n",
            "37/37 [==============================] - 0s 8ms/step - loss: 0.3269 - accuracy: 0.8757 - val_loss: 0.7042 - val_accuracy: 0.8007\n",
            "Epoch 100/100\n",
            "37/37 [==============================] - 0s 10ms/step - loss: 0.3329 - accuracy: 0.8789 - val_loss: 0.7193 - val_accuracy: 0.7887\n"
          ]
        }
      ]
    },
    {
      "cell_type": "markdown",
      "source": [
        "Test data accuracy"
      ],
      "metadata": {
        "id": "FIGGvrAaH41o"
      }
    },
    {
      "cell_type": "code",
      "source": [
        "y_prob=model.predict(x_test_modified)\n",
        "y_pred_test = np.argmax(y_prob, axis=1)\n",
        "print(classification_report(y_testo, y_pred_test))"
      ],
      "metadata": {
        "colab": {
          "base_uri": "https://localhost:8080/"
        },
        "id": "DFOoy-9dH4P4",
        "outputId": "d813022e-ff84-4548-d2d3-c01416452e80"
      },
      "execution_count": null,
      "outputs": [
        {
          "output_type": "stream",
          "name": "stdout",
          "text": [
            "37/37 [==============================] - 0s 2ms/step\n",
            "              precision    recall  f1-score   support\n",
            "\n",
            "           0       0.80      0.69      0.74       295\n",
            "           1       0.76      0.70      0.73       281\n",
            "           2       0.79      0.88      0.84       593\n",
            "\n",
            "    accuracy                           0.79      1169\n",
            "   macro avg       0.79      0.76      0.77      1169\n",
            "weighted avg       0.79      0.79      0.79      1169\n",
            "\n"
          ]
        }
      ]
    },
    {
      "cell_type": "markdown",
      "source": [
        "Train accuracy"
      ],
      "metadata": {
        "id": "a7nZb-Z1H2cP"
      }
    },
    {
      "cell_type": "code",
      "source": [
        "y_prob=model.predict(x_train_modified)\n",
        "y_pred_train = np.argmax(y_prob, axis=1)\n",
        "print(classification_report(y_traino, y_pred_train))"
      ],
      "metadata": {
        "colab": {
          "base_uri": "https://localhost:8080/"
        },
        "id": "X-p9VtHUHkww",
        "outputId": "86b5c1d5-5034-4549-a7ad-17b5d99c9dbd"
      },
      "execution_count": null,
      "outputs": [
        {
          "output_type": "stream",
          "name": "stdout",
          "text": [
            "146/146 [==============================] - 0s 2ms/step\n",
            "              precision    recall  f1-score   support\n",
            "\n",
            "           0       0.96      0.85      0.90      1178\n",
            "           1       0.91      0.88      0.89      1120\n",
            "           2       0.90      0.97      0.93      2369\n",
            "\n",
            "    accuracy                           0.92      4667\n",
            "   macro avg       0.92      0.90      0.91      4667\n",
            "weighted avg       0.92      0.92      0.92      4667\n",
            "\n"
          ]
        }
      ]
    },
    {
      "cell_type": "code",
      "source": [
        "#generate plots\n",
        "plt.figure()\n",
        "plt.plot(history.history['loss'], lw=2.0, color='b', label='train')\n",
        "plt.plot(history.history['val_loss'], lw=2.0, color='r', label='val')\n",
        "plt.title('LSTM sentiment Muril')\n",
        "plt.xlabel('Epochs')\n",
        "plt.ylabel('Cross-Entropy Loss')\n",
        "plt.legend(loc='upper right')\n",
        "plt.show()\n"
      ],
      "metadata": {
        "colab": {
          "base_uri": "https://localhost:8080/",
          "height": 295
        },
        "id": "3j-AdKGkISUi",
        "outputId": "93a3df53-4627-4328-b590-1ef5de99db80"
      },
      "execution_count": null,
      "outputs": [
        {
          "output_type": "display_data",
          "data": {
            "text/plain": [
              "<Figure size 432x288 with 1 Axes>"
            ],
            "image/png": "[encoded data removed]"
          },
          "metadata": {}
        }
      ]
    },
    {
      "cell_type": "code",
      "source": [
        "plt.figure()\n",
        "plt.plot(history.history['accuracy'], lw=2.0, color='b', label='train')\n",
        "plt.plot(history.history['val_accuracy'], lw=2.0, color='r', label='val')\n",
        "plt.title('LSTM sentiment Muril')\n",
        "plt.xlabel('Epochs')\n",
        "plt.ylabel('Accuracy')\n",
        "plt.legend(loc='upper left')\n",
        "plt.show()"
      ],
      "metadata": {
        "colab": {
          "base_uri": "https://localhost:8080/",
          "height": 295
        },
        "id": "5BMs3ZGmIyDe",
        "outputId": "a63a85d7-6227-4a78-8524-5f98e22ea47e"
      },
      "execution_count": null,
      "outputs": [
        {
          "output_type": "display_data",
          "data": {
            "text/plain": [
              "<Figure size 432x288 with 1 Axes>"
            ],
            "image/png": "[encoded data removed]"
          },
          "metadata": {}
        }
      ]
    },
    {
      "cell_type": "code",
      "source": [
        "LSTM_MU_accuracy, LSTM_MU_precision, LSTM_MU_recall,LSTM_MU_f1_score,y_pred  = evaluate_model(x_test_modified, y_testo, model)"
      ],
      "metadata": {
        "id": "tRDU8t4XJHNI"
      },
      "execution_count": 93,
      "outputs": []
    },
    {
      "cell_type": "code",
      "source": [
        "!pip install beautifultable"
      ],
      "metadata": {
        "colab": {
          "base_uri": "https://localhost:8080/"
        },
        "id": "1p30vviDJ2G6",
        "outputId": "44d0f1b8-8bad-4296-fbcb-4ae157967f2a"
      },
      "execution_count": null,
      "outputs": [
        {
          "output_type": "stream",
          "name": "stdout",
          "text": [
            "Looking in indexes: https://pypi.org/simple, https://us-python.pkg.dev/colab-wheels/public/simple/\n",
            "Requirement already satisfied: beautifultable in /usr/local/lib/python3.7/dist-packages (1.1.0)\n",
            "Requirement already satisfied: wcwidth in /usr/local/lib/python3.7/dist-packages (from beautifultable) (0.2.5)\n"
          ]
        }
      ]
    },
    {
      "cell_type": "code",
      "source": [
        "h0=[\"Algorithm\"]\n",
        "h1=[\"LSTM\",LSTM_MU_accuracy,LSTM_MU_f1_score,LSTM_MU_precision,LSTM_MU_recall]\n",
        "\n",
        "h0.append(\"LSTM_MU_accuracy\")\n",
        "h0.append(\"LSTM_MU_F1 Measure\")\n",
        "h0.append(\"LSTM_MU_Precision\")\n",
        "h0.append(\"LSTM_MU_Recall\")\n",
        "\n",
        "from beautifultable import BeautifulTable\n",
        "table = BeautifulTable()\n",
        "table.column_headers = h0\n",
        "table.append_row(h1)\n",
        "print(table)"
      ],
      "metadata": {
        "colab": {
          "base_uri": "https://localhost:8080/"
        },
        "id": "_hCE3esHJ0Nu",
        "outputId": "fde213dd-ef9c-40e9-e25a-ff96488924d2"
      },
      "execution_count": null,
      "outputs": [
        {
          "output_type": "stream",
          "name": "stdout",
          "text": [
            "+-----------+---------------+-------------------+----------------+-------------+\n",
            "| Algorithm | LSTM_MU_accur | LSTM_MU_F1 Measur | LSTM_MU_Precis | LSTM_MU_Rec |\n",
            "|           |      acy      |         e         |      ion       |     all     |\n",
            "+-----------+---------------+-------------------+----------------+-------------+\n",
            "|   LSTM    |     0.789     |       0.768       |     0.786      |    0.756    |\n",
            "+-----------+---------------+-------------------+----------------+-------------+\n"
          ]
        },
        {
          "output_type": "stream",
          "name": "stderr",
          "text": [
            "/usr/local/lib/python3.7/dist-packages/beautifultable/utils.py:125: FutureWarning: 'BeautifulTable.column_headers' has been deprecated in 'v1.0.0' and will be removed in 'v1.2.0'. Use 'BTColumnCollection.header' instead.\n",
            "  warnings.warn(message, FutureWarning)\n",
            "/usr/local/lib/python3.7/dist-packages/beautifultable/utils.py:125: FutureWarning: 'BeautifulTable.append_row' has been deprecated in 'v1.0.0' and will be removed in 'v1.2.0'. Use 'BTRowCollection.append' instead.\n",
            "  warnings.warn(message, FutureWarning)\n"
          ]
        }
      ]
    },
    {
      "cell_type": "code",
      "source": [
        "y_traino.shape"
      ],
      "metadata": {
        "colab": {
          "base_uri": "https://localhost:8080/"
        },
        "id": "jU1pvo9WMIGv",
        "outputId": "15170f2d-ac3f-4537-93b5-7024d90d3ae3"
      },
      "execution_count": null,
      "outputs": [
        {
          "output_type": "execute_result",
          "data": {
            "text/plain": [
              "(4667,)"
            ]
          },
          "metadata": {},
          "execution_count": 156
        }
      ]
    },
    {
      "cell_type": "code",
      "execution_count": null,
      "metadata": {
        "colab": {
          "base_uri": "https://localhost:8080/"
        },
        "id": "TI8NwVMeqvzS",
        "outputId": "c4fba3f1-65bd-4b8c-a391-707914497cb1"
      },
      "outputs": [
        {
          "output_type": "stream",
          "name": "stdout",
          "text": [
            "              precision    recall  f1-score   support\n",
            "\n",
            "    Negative     0.7992    0.6881    0.7395       295\n",
            "     Neutral     0.7626    0.6975    0.7286       281\n",
            "    Positive     0.7948    0.8820    0.8361       593\n",
            "\n",
            "    accuracy                         0.7887      1169\n",
            "   macro avg     0.7856    0.7559    0.7681      1169\n",
            "weighted avg     0.7882    0.7887    0.7859      1169\n",
            "\n"
          ]
        }
      ],
      "source": [
        "class_name = ['Negative','Neutral','Positive']\n",
        "from sklearn.metrics import classification_report,confusion_matrix\n",
        "print(classification_report(y_testo, y_pred_test, target_names=class_name, zero_division=0, digits=4))\n"
      ]
    },
    {
      "cell_type": "code",
      "execution_count": null,
      "metadata": {
        "colab": {
          "base_uri": "https://localhost:8080/",
          "height": 300
        },
        "id": "oqvvdUG3rayf",
        "outputId": "a4e09927-a065-498e-c456-6a9553741a2f"
      },
      "outputs": [
        {
          "output_type": "display_data",
          "data": {
            "text/plain": [
              "<Figure size 432x288 with 2 Axes>"
            ],
            "image/png": "[encoded data removed]"
          },
          "metadata": {}
        }
      ],
      "source": [
        "cm = confusion_matrix(y_testo, y_pred_test)\n",
        "df_cm = pd.DataFrame(cm, index=class_name, columns=class_name)\n",
        "show_confusion_matrix(df_cm)"
      ]
    },
    {
      "cell_type": "markdown",
      "metadata": {
        "id": "mp5_wJysBxwt"
      },
      "source": [
        "#MuRIL with LSTM -Stemming"
      ]
    },
    {
      "cell_type": "code",
      "source": [
        "dataframe_stem = pd.read_csv('/content/drive/MyDrive/dataframe_stem1.csv')\n"
      ],
      "metadata": {
        "id": "jhB02YcYljEK"
      },
      "execution_count": null,
      "outputs": []
    },
    {
      "cell_type": "code",
      "source": [
        "traindf, testdf = testtrainsplit(dataframe_stem)\n",
        "X_train = traindf.iloc[:, :-1]\n",
        "X_test = testdf.iloc[:, :-1]\n",
        "y_train = traindf.sentiment\n",
        "y_test = testdf.sentiment"
      ],
      "metadata": {
        "id": "xeqNXONfgOXV"
      },
      "execution_count": null,
      "outputs": []
    },
    {
      "cell_type": "code",
      "source": [
        "x_train = traindf.iloc[:, :-1].to_numpy()\n",
        "x_test = testdf.iloc[:, :-1].to_numpy()\n",
        "y_train = traindf.sentiment.to_numpy()\n",
        "y_test = testdf.sentiment.to_numpy()"
      ],
      "metadata": {
        "id": "jRf3Cehbhq-6"
      },
      "execution_count": null,
      "outputs": []
    },
    {
      "cell_type": "code",
      "source": [
        "encoder = LabelEncoder()\n",
        "encoder.fit(list(y_train)+list(y_test))\n",
        "y_traino = encoder.transform(y_train)\n",
        "y_testo = encoder.transform(y_test)"
      ],
      "metadata": {
        "id": "r11xr5V1gtqI"
      },
      "execution_count": null,
      "outputs": []
    },
    {
      "cell_type": "code",
      "source": [
        "best_num_neurons1=512\n",
        "best_num_neurons2=512\n",
        "best_learning_rate=0.01\n",
        "\n",
        "#y_train=training_label_seq\n",
        "#y_test=testing_label_seq\n",
        "\n",
        "encoder = LabelEncoder()\n",
        "encoder.fit(list(y_train)+list(y_test))\n",
        "#One hot encoding\n",
        "y_train = np_utils.to_categorical(encoder.transform(y_train))\n",
        "y_test  = np_utils.to_categorical(encoder.transform(y_test))\n",
        "\n",
        "x_train_modified = x_train.reshape(x_train.shape[0],1,x_train.shape[1])\n",
        "x_test_modified = x_test.reshape(x_test.shape[0],1,x_test.shape[1])\n",
        "\n",
        "optimizer=tf.keras.optimizers.Adam(lr=best_learning_rate, beta_1=0.9, beta_2=0.999, amsgrad=False)\n",
        "\n",
        "model = Sequential()\n",
        "model.add(CuDNNLSTM(best_num_neurons1, input_shape=(x_train_modified.shape[1],x_train_modified.shape[2]), return_sequences=True))\n",
        "model.add(Dropout(0.2))\n",
        "model.add(CuDNNLSTM(best_num_neurons2))\n",
        "model.add(Dropout(0.2))\n",
        "model.add(Dense(y_train.shape[1], activation='softmax')) \n",
        "model.compile(loss='categorical_crossentropy', optimizer='adam',metrics=['accuracy'])\n",
        "model.summary()\n",
        "\n",
        "history=model.fit(x_train_modified, y_train, epochs=100, batch_size=128, validation_data=(x_test_modified,y_test))\n",
        "\n",
        "\n"
      ],
      "metadata": {
        "colab": {
          "base_uri": "https://localhost:8080/"
        },
        "id": "bstktbMCh54f",
        "outputId": "b9df00f3-5610-4d70-d4a8-eccf5dabdc3b"
      },
      "execution_count": null,
      "outputs": [
        {
          "output_type": "stream",
          "name": "stderr",
          "text": [
            "/usr/local/lib/python3.7/dist-packages/keras/optimizers/optimizer_v2/adam.py:110: UserWarning: The `lr` argument is deprecated, use `learning_rate` instead.\n",
            "  super(Adam, self).__init__(name, **kwargs)\n"
          ]
        },
        {
          "output_type": "stream",
          "name": "stdout",
          "text": [
            "Model: \"sequential_1\"\n",
            "_________________________________________________________________\n",
            " Layer (type)                Output Shape              Param #   \n",
            "=================================================================\n",
            " cu_dnnlstm_2 (CuDNNLSTM)    (None, 1, 512)            3151872   \n",
            "                                                                 \n",
            " dropout_2 (Dropout)         (None, 1, 512)            0         \n",
            "                                                                 \n",
            " cu_dnnlstm_3 (CuDNNLSTM)    (None, 512)               2101248   \n",
            "                                                                 \n",
            " dropout_3 (Dropout)         (None, 512)               0         \n",
            "                                                                 \n",
            " dense_1 (Dense)             (None, 3)                 1539      \n",
            "                                                                 \n",
            "=================================================================\n",
            "Total params: 5,254,659\n",
            "Trainable params: 5,254,659\n",
            "Non-trainable params: 0\n",
            "_________________________________________________________________\n",
            "Epoch 1/100\n",
            "37/37 [==============================] - 2s 19ms/step - loss: 0.7359 - accuracy: 0.6379 - val_loss: 0.6554 - val_accuracy: 0.6433\n",
            "Epoch 2/100\n",
            "37/37 [==============================] - 0s 8ms/step - loss: 0.5812 - accuracy: 0.7504 - val_loss: 0.5267 - val_accuracy: 0.7870\n",
            "Epoch 3/100\n",
            "37/37 [==============================] - 0s 7ms/step - loss: 0.5270 - accuracy: 0.7658 - val_loss: 0.5552 - val_accuracy: 0.7528\n",
            "Epoch 4/100\n",
            "37/37 [==============================] - 0s 7ms/step - loss: 0.5156 - accuracy: 0.7759 - val_loss: 0.4981 - val_accuracy: 0.7904\n",
            "Epoch 5/100\n",
            "37/37 [==============================] - 0s 7ms/step - loss: 0.4663 - accuracy: 0.7962 - val_loss: 0.4602 - val_accuracy: 0.7639\n",
            "Epoch 6/100\n",
            "37/37 [==============================] - 0s 7ms/step - loss: 0.4603 - accuracy: 0.7932 - val_loss: 0.4016 - val_accuracy: 0.8015\n",
            "Epoch 7/100\n",
            "37/37 [==============================] - 0s 7ms/step - loss: 0.4355 - accuracy: 0.8044 - val_loss: 0.4695 - val_accuracy: 0.7981\n",
            "Epoch 8/100\n",
            "37/37 [==============================] - 0s 7ms/step - loss: 0.4644 - accuracy: 0.7992 - val_loss: 0.4535 - val_accuracy: 0.8058\n",
            "Epoch 9/100\n",
            "37/37 [==============================] - 0s 7ms/step - loss: 0.4736 - accuracy: 0.8031 - val_loss: 0.4609 - val_accuracy: 0.8033\n",
            "Epoch 10/100\n",
            "37/37 [==============================] - 0s 7ms/step - loss: 0.4525 - accuracy: 0.8104 - val_loss: 0.4755 - val_accuracy: 0.7981\n",
            "Epoch 11/100\n",
            "37/37 [==============================] - 0s 7ms/step - loss: 0.4446 - accuracy: 0.8149 - val_loss: 0.4378 - val_accuracy: 0.8075\n",
            "Epoch 12/100\n",
            "37/37 [==============================] - 0s 7ms/step - loss: 0.4442 - accuracy: 0.8082 - val_loss: 0.4693 - val_accuracy: 0.8015\n",
            "Epoch 13/100\n",
            "37/37 [==============================] - 0s 7ms/step - loss: 0.4533 - accuracy: 0.8087 - val_loss: 0.4792 - val_accuracy: 0.7853\n",
            "Epoch 14/100\n",
            "37/37 [==============================] - 0s 7ms/step - loss: 0.4384 - accuracy: 0.8151 - val_loss: 0.4461 - val_accuracy: 0.8058\n",
            "Epoch 15/100\n",
            "37/37 [==============================] - 0s 7ms/step - loss: 0.4334 - accuracy: 0.8192 - val_loss: 0.4834 - val_accuracy: 0.7699\n",
            "Epoch 16/100\n",
            "37/37 [==============================] - 0s 7ms/step - loss: 0.4383 - accuracy: 0.8136 - val_loss: 0.4587 - val_accuracy: 0.7973\n",
            "Epoch 17/100\n",
            "37/37 [==============================] - 0s 7ms/step - loss: 0.4604 - accuracy: 0.8061 - val_loss: 0.4404 - val_accuracy: 0.8084\n",
            "Epoch 18/100\n",
            "37/37 [==============================] - 0s 7ms/step - loss: 0.4331 - accuracy: 0.8177 - val_loss: 0.4773 - val_accuracy: 0.7844\n",
            "Epoch 19/100\n",
            "37/37 [==============================] - 0s 7ms/step - loss: 0.4333 - accuracy: 0.8187 - val_loss: 0.4470 - val_accuracy: 0.8075\n",
            "Epoch 20/100\n",
            "37/37 [==============================] - 0s 7ms/step - loss: 0.4391 - accuracy: 0.8189 - val_loss: 0.4731 - val_accuracy: 0.7913\n",
            "Epoch 21/100\n",
            "37/37 [==============================] - 0s 7ms/step - loss: 0.4214 - accuracy: 0.8260 - val_loss: 0.4526 - val_accuracy: 0.8033\n",
            "Epoch 22/100\n",
            "37/37 [==============================] - 0s 7ms/step - loss: 0.4264 - accuracy: 0.8174 - val_loss: 0.4352 - val_accuracy: 0.8092\n",
            "Epoch 23/100\n",
            "37/37 [==============================] - 0s 7ms/step - loss: 0.4283 - accuracy: 0.8204 - val_loss: 0.4598 - val_accuracy: 0.7836\n",
            "Epoch 24/100\n",
            "37/37 [==============================] - 0s 7ms/step - loss: 0.4253 - accuracy: 0.8230 - val_loss: 0.4469 - val_accuracy: 0.7938\n",
            "Epoch 25/100\n",
            "37/37 [==============================] - 0s 7ms/step - loss: 0.4148 - accuracy: 0.8267 - val_loss: 0.4316 - val_accuracy: 0.8075\n",
            "Epoch 26/100\n",
            "37/37 [==============================] - 0s 7ms/step - loss: 0.4212 - accuracy: 0.8232 - val_loss: 0.4384 - val_accuracy: 0.8024\n",
            "Epoch 27/100\n",
            "37/37 [==============================] - 0s 7ms/step - loss: 0.4219 - accuracy: 0.8232 - val_loss: 0.4481 - val_accuracy: 0.8067\n",
            "Epoch 28/100\n",
            "37/37 [==============================] - 0s 7ms/step - loss: 0.4263 - accuracy: 0.8228 - val_loss: 0.4362 - val_accuracy: 0.8075\n",
            "Epoch 29/100\n",
            "37/37 [==============================] - 0s 7ms/step - loss: 0.4223 - accuracy: 0.8239 - val_loss: 0.4574 - val_accuracy: 0.7913\n",
            "Epoch 30/100\n",
            "37/37 [==============================] - 0s 7ms/step - loss: 0.4261 - accuracy: 0.8209 - val_loss: 0.4544 - val_accuracy: 0.8033\n",
            "Epoch 31/100\n",
            "37/37 [==============================] - 0s 7ms/step - loss: 0.4098 - accuracy: 0.8252 - val_loss: 0.4944 - val_accuracy: 0.7682\n",
            "Epoch 32/100\n",
            "37/37 [==============================] - 0s 7ms/step - loss: 0.4068 - accuracy: 0.8292 - val_loss: 0.4687 - val_accuracy: 0.7767\n",
            "Epoch 33/100\n",
            "37/37 [==============================] - 0s 7ms/step - loss: 0.4238 - accuracy: 0.8187 - val_loss: 0.4688 - val_accuracy: 0.8024\n",
            "Epoch 34/100\n",
            "37/37 [==============================] - 0s 7ms/step - loss: 0.4171 - accuracy: 0.8241 - val_loss: 0.4284 - val_accuracy: 0.8075\n",
            "Epoch 35/100\n",
            "37/37 [==============================] - 0s 7ms/step - loss: 0.4238 - accuracy: 0.8222 - val_loss: 0.4299 - val_accuracy: 0.8024\n",
            "Epoch 36/100\n",
            "37/37 [==============================] - 0s 7ms/step - loss: 0.4175 - accuracy: 0.8209 - val_loss: 0.4123 - val_accuracy: 0.8067\n",
            "Epoch 37/100\n",
            "37/37 [==============================] - 0s 7ms/step - loss: 0.3931 - accuracy: 0.8290 - val_loss: 0.4304 - val_accuracy: 0.7973\n",
            "Epoch 38/100\n",
            "37/37 [==============================] - 0s 7ms/step - loss: 0.4051 - accuracy: 0.8140 - val_loss: 0.4185 - val_accuracy: 0.8033\n",
            "Epoch 39/100\n",
            "37/37 [==============================] - 0s 7ms/step - loss: 0.4133 - accuracy: 0.8052 - val_loss: 0.3956 - val_accuracy: 0.8050\n",
            "Epoch 40/100\n",
            "37/37 [==============================] - 0s 7ms/step - loss: 0.3840 - accuracy: 0.8258 - val_loss: 0.4646 - val_accuracy: 0.7733\n",
            "Epoch 41/100\n",
            "37/37 [==============================] - 0s 7ms/step - loss: 0.4355 - accuracy: 0.7969 - val_loss: 0.3836 - val_accuracy: 0.8127\n",
            "Epoch 42/100\n",
            "37/37 [==============================] - 0s 7ms/step - loss: 0.3866 - accuracy: 0.8132 - val_loss: 0.3631 - val_accuracy: 0.8375\n",
            "Epoch 43/100\n",
            "37/37 [==============================] - 0s 7ms/step - loss: 0.3649 - accuracy: 0.8245 - val_loss: 0.4410 - val_accuracy: 0.7819\n",
            "Epoch 44/100\n",
            "37/37 [==============================] - 0s 7ms/step - loss: 0.4509 - accuracy: 0.7761 - val_loss: 0.4413 - val_accuracy: 0.7896\n",
            "Epoch 45/100\n",
            "37/37 [==============================] - 0s 7ms/step - loss: 0.4194 - accuracy: 0.8082 - val_loss: 0.4294 - val_accuracy: 0.7733\n",
            "Epoch 46/100\n",
            "37/37 [==============================] - 0s 7ms/step - loss: 0.3662 - accuracy: 0.8168 - val_loss: 0.4010 - val_accuracy: 0.7879\n",
            "Epoch 47/100\n",
            "37/37 [==============================] - 0s 7ms/step - loss: 0.3628 - accuracy: 0.8269 - val_loss: 0.3565 - val_accuracy: 0.8118\n",
            "Epoch 48/100\n",
            "37/37 [==============================] - 0s 7ms/step - loss: 0.3921 - accuracy: 0.8136 - val_loss: 0.4741 - val_accuracy: 0.7759\n",
            "Epoch 49/100\n",
            "37/37 [==============================] - 0s 7ms/step - loss: 0.3662 - accuracy: 0.8243 - val_loss: 0.4190 - val_accuracy: 0.8212\n",
            "Epoch 50/100\n",
            "37/37 [==============================] - 0s 7ms/step - loss: 0.3757 - accuracy: 0.8142 - val_loss: 0.3869 - val_accuracy: 0.8255\n",
            "Epoch 51/100\n",
            "37/37 [==============================] - 0s 7ms/step - loss: 0.3608 - accuracy: 0.8258 - val_loss: 0.3840 - val_accuracy: 0.8067\n",
            "Epoch 52/100\n",
            "37/37 [==============================] - 0s 7ms/step - loss: 0.3797 - accuracy: 0.8183 - val_loss: 0.4489 - val_accuracy: 0.8015\n",
            "Epoch 53/100\n",
            "37/37 [==============================] - 0s 7ms/step - loss: 0.4044 - accuracy: 0.8009 - val_loss: 0.3584 - val_accuracy: 0.8101\n",
            "Epoch 54/100\n",
            "37/37 [==============================] - 0s 7ms/step - loss: 0.3366 - accuracy: 0.8320 - val_loss: 0.4208 - val_accuracy: 0.8041\n",
            "Epoch 55/100\n",
            "37/37 [==============================] - 0s 7ms/step - loss: 0.3363 - accuracy: 0.8350 - val_loss: 0.3707 - val_accuracy: 0.8512\n",
            "Epoch 56/100\n",
            "37/37 [==============================] - 0s 7ms/step - loss: 0.3455 - accuracy: 0.8288 - val_loss: 0.6471 - val_accuracy: 0.7562\n",
            "Epoch 57/100\n",
            "37/37 [==============================] - 0s 7ms/step - loss: 0.3874 - accuracy: 0.8183 - val_loss: 0.4447 - val_accuracy: 0.7964\n",
            "Epoch 58/100\n",
            "37/37 [==============================] - 0s 7ms/step - loss: 0.3744 - accuracy: 0.8299 - val_loss: 0.3770 - val_accuracy: 0.8084\n",
            "Epoch 59/100\n",
            "37/37 [==============================] - 0s 7ms/step - loss: 0.3360 - accuracy: 0.8318 - val_loss: 0.3690 - val_accuracy: 0.8426\n",
            "Epoch 60/100\n",
            "37/37 [==============================] - 0s 7ms/step - loss: 0.3723 - accuracy: 0.8121 - val_loss: 0.4165 - val_accuracy: 0.7938\n",
            "Epoch 61/100\n",
            "37/37 [==============================] - 0s 7ms/step - loss: 0.3747 - accuracy: 0.8104 - val_loss: 0.4047 - val_accuracy: 0.7913\n",
            "Epoch 62/100\n",
            "37/37 [==============================] - 0s 7ms/step - loss: 0.3463 - accuracy: 0.8294 - val_loss: 0.3742 - val_accuracy: 0.8366\n",
            "Epoch 63/100\n",
            "37/37 [==============================] - 0s 7ms/step - loss: 0.3471 - accuracy: 0.8228 - val_loss: 0.3737 - val_accuracy: 0.7853\n",
            "Epoch 64/100\n",
            "37/37 [==============================] - 0s 7ms/step - loss: 0.3299 - accuracy: 0.8312 - val_loss: 0.3402 - val_accuracy: 0.8460\n",
            "Epoch 65/100\n",
            "37/37 [==============================] - 0s 7ms/step - loss: 0.3970 - accuracy: 0.8029 - val_loss: 0.3958 - val_accuracy: 0.8221\n",
            "Epoch 66/100\n",
            "37/37 [==============================] - 0s 7ms/step - loss: 0.3469 - accuracy: 0.8352 - val_loss: 0.3752 - val_accuracy: 0.7998\n",
            "Epoch 67/100\n",
            "37/37 [==============================] - 0s 7ms/step - loss: 0.3343 - accuracy: 0.8376 - val_loss: 0.4323 - val_accuracy: 0.8263\n",
            "Epoch 68/100\n",
            "37/37 [==============================] - 0s 7ms/step - loss: 0.3426 - accuracy: 0.8262 - val_loss: 0.3496 - val_accuracy: 0.8563\n",
            "Epoch 69/100\n",
            "37/37 [==============================] - 0s 7ms/step - loss: 0.3159 - accuracy: 0.8376 - val_loss: 0.3502 - val_accuracy: 0.8546\n",
            "Epoch 70/100\n",
            "37/37 [==============================] - 0s 7ms/step - loss: 0.3076 - accuracy: 0.8455 - val_loss: 0.3602 - val_accuracy: 0.8486\n",
            "Epoch 71/100\n",
            "37/37 [==============================] - 0s 7ms/step - loss: 0.3177 - accuracy: 0.8352 - val_loss: 0.3571 - val_accuracy: 0.8186\n",
            "Epoch 72/100\n",
            "37/37 [==============================] - 0s 7ms/step - loss: 0.3391 - accuracy: 0.8290 - val_loss: 0.4503 - val_accuracy: 0.7990\n",
            "Epoch 73/100\n",
            "37/37 [==============================] - 0s 7ms/step - loss: 0.3349 - accuracy: 0.8350 - val_loss: 0.4265 - val_accuracy: 0.8084\n",
            "Epoch 74/100\n",
            "37/37 [==============================] - 0s 7ms/step - loss: 0.3555 - accuracy: 0.8262 - val_loss: 0.3786 - val_accuracy: 0.8118\n",
            "Epoch 75/100\n",
            "37/37 [==============================] - 0s 7ms/step - loss: 0.3005 - accuracy: 0.8427 - val_loss: 0.4124 - val_accuracy: 0.8058\n",
            "Epoch 76/100\n",
            "37/37 [==============================] - 0s 7ms/step - loss: 0.3210 - accuracy: 0.8307 - val_loss: 0.3562 - val_accuracy: 0.8503\n",
            "Epoch 77/100\n",
            "37/37 [==============================] - 0s 7ms/step - loss: 0.3338 - accuracy: 0.8337 - val_loss: 0.3692 - val_accuracy: 0.7981\n",
            "Epoch 78/100\n",
            "37/37 [==============================] - 0s 7ms/step - loss: 0.4007 - accuracy: 0.8052 - val_loss: 0.4123 - val_accuracy: 0.8169\n",
            "Epoch 79/100\n",
            "37/37 [==============================] - 0s 7ms/step - loss: 0.3649 - accuracy: 0.8159 - val_loss: 0.3725 - val_accuracy: 0.8084\n",
            "Epoch 80/100\n",
            "37/37 [==============================] - 0s 7ms/step - loss: 0.3230 - accuracy: 0.8442 - val_loss: 0.4362 - val_accuracy: 0.8050\n",
            "Epoch 81/100\n",
            "37/37 [==============================] - 0s 7ms/step - loss: 0.3081 - accuracy: 0.8451 - val_loss: 0.3742 - val_accuracy: 0.8537\n",
            "Epoch 82/100\n",
            "37/37 [==============================] - 0s 7ms/step - loss: 0.3153 - accuracy: 0.8447 - val_loss: 0.3606 - val_accuracy: 0.8101\n",
            "Epoch 83/100\n",
            "37/37 [==============================] - 0s 7ms/step - loss: 0.3665 - accuracy: 0.8140 - val_loss: 0.4048 - val_accuracy: 0.8289\n",
            "Epoch 84/100\n",
            "37/37 [==============================] - 0s 7ms/step - loss: 0.3246 - accuracy: 0.8322 - val_loss: 0.3507 - val_accuracy: 0.8546\n",
            "Epoch 85/100\n",
            "37/37 [==============================] - 0s 7ms/step - loss: 0.2997 - accuracy: 0.8515 - val_loss: 0.4060 - val_accuracy: 0.7964\n",
            "Epoch 86/100\n",
            "37/37 [==============================] - 0s 7ms/step - loss: 0.2946 - accuracy: 0.8513 - val_loss: 0.3910 - val_accuracy: 0.8477\n",
            "Epoch 87/100\n",
            "37/37 [==============================] - 0s 7ms/step - loss: 0.3198 - accuracy: 0.8372 - val_loss: 0.4268 - val_accuracy: 0.8426\n",
            "Epoch 88/100\n",
            "37/37 [==============================] - 0s 7ms/step - loss: 0.3250 - accuracy: 0.8402 - val_loss: 0.4411 - val_accuracy: 0.8289\n",
            "Epoch 89/100\n",
            "37/37 [==============================] - 0s 7ms/step - loss: 0.3065 - accuracy: 0.8502 - val_loss: 0.3484 - val_accuracy: 0.8537\n",
            "Epoch 90/100\n",
            "37/37 [==============================] - 0s 7ms/step - loss: 0.3373 - accuracy: 0.8335 - val_loss: 0.3899 - val_accuracy: 0.8400\n",
            "Epoch 91/100\n",
            "37/37 [==============================] - 0s 7ms/step - loss: 0.3338 - accuracy: 0.8359 - val_loss: 0.3807 - val_accuracy: 0.8417\n",
            "Epoch 92/100\n",
            "37/37 [==============================] - 0s 7ms/step - loss: 0.2995 - accuracy: 0.8466 - val_loss: 0.3833 - val_accuracy: 0.8469\n",
            "Epoch 93/100\n",
            "37/37 [==============================] - 0s 7ms/step - loss: 0.2995 - accuracy: 0.8481 - val_loss: 0.3728 - val_accuracy: 0.8537\n",
            "Epoch 94/100\n",
            "37/37 [==============================] - 0s 7ms/step - loss: 0.3491 - accuracy: 0.8320 - val_loss: 0.3539 - val_accuracy: 0.8486\n",
            "Epoch 95/100\n",
            "37/37 [==============================] - 0s 7ms/step - loss: 0.3061 - accuracy: 0.8472 - val_loss: 0.3875 - val_accuracy: 0.8443\n",
            "Epoch 96/100\n",
            "37/37 [==============================] - 0s 7ms/step - loss: 0.2982 - accuracy: 0.8432 - val_loss: 0.3894 - val_accuracy: 0.8238\n",
            "Epoch 97/100\n",
            "37/37 [==============================] - 0s 7ms/step - loss: 0.2993 - accuracy: 0.8404 - val_loss: 0.4382 - val_accuracy: 0.8375\n",
            "Epoch 98/100\n",
            "37/37 [==============================] - 0s 7ms/step - loss: 0.3009 - accuracy: 0.8425 - val_loss: 0.4895 - val_accuracy: 0.7896\n",
            "Epoch 99/100\n",
            "37/37 [==============================] - 0s 7ms/step - loss: 0.3151 - accuracy: 0.8436 - val_loss: 0.3762 - val_accuracy: 0.8435\n",
            "Epoch 100/100\n",
            "37/37 [==============================] - 0s 7ms/step - loss: 0.2976 - accuracy: 0.8545 - val_loss: 0.3585 - val_accuracy: 0.8503\n"
          ]
        }
      ]
    },
    {
      "cell_type": "markdown",
      "source": [
        "Test accuracy"
      ],
      "metadata": {
        "id": "IGzhls_sihSZ"
      }
    },
    {
      "cell_type": "code",
      "source": [
        "y_prob=model.predict(x_test_modified)\n",
        "y_pred_test = np.argmax(y_prob, axis=1)\n",
        "print(classification_report(y_testo, y_pred_test))"
      ],
      "metadata": {
        "colab": {
          "base_uri": "https://localhost:8080/"
        },
        "id": "8gFPDsWAh51K",
        "outputId": "f32cfe94-2b87-43f9-8428-892bab16c8b7"
      },
      "execution_count": null,
      "outputs": [
        {
          "output_type": "stream",
          "name": "stdout",
          "text": [
            "37/37 [==============================] - 0s 2ms/step\n",
            "              precision    recall  f1-score   support\n",
            "\n",
            "           0       0.95      0.70      0.81       295\n",
            "           1       0.87      0.73      0.80       281\n",
            "           2       0.81      0.98      0.89       593\n",
            "\n",
            "    accuracy                           0.85      1169\n",
            "   macro avg       0.88      0.80      0.83      1169\n",
            "weighted avg       0.86      0.85      0.85      1169\n",
            "\n"
          ]
        }
      ]
    },
    {
      "cell_type": "markdown",
      "source": [
        "Train accuracy"
      ],
      "metadata": {
        "id": "tvwUdV1Ji19e"
      }
    },
    {
      "cell_type": "code",
      "source": [
        "y_prob=model.predict(x_train_modified)\n",
        "y_pred_train = np.argmax(y_prob, axis=1)\n",
        "print(classification_report(y_traino, y_pred_train))"
      ],
      "metadata": {
        "colab": {
          "base_uri": "https://localhost:8080/"
        },
        "id": "PmKSA-XBh5yc",
        "outputId": "b7bbd23b-0bae-4482-c64a-ff16d840b887"
      },
      "execution_count": null,
      "outputs": [
        {
          "output_type": "stream",
          "name": "stdout",
          "text": [
            "146/146 [==============================] - 0s 2ms/step\n",
            "              precision    recall  f1-score   support\n",
            "\n",
            "           0       1.00      0.78      0.88      1178\n",
            "           1       0.99      0.79      0.88      1120\n",
            "           2       0.83      1.00      0.91      2369\n",
            "\n",
            "    accuracy                           0.89      4667\n",
            "   macro avg       0.94      0.86      0.89      4667\n",
            "weighted avg       0.91      0.89      0.89      4667\n",
            "\n"
          ]
        }
      ]
    },
    {
      "cell_type": "code",
      "source": [
        "\n",
        "#generate plots\n",
        "plt.figure()\n",
        "plt.plot(history.history['loss'], lw=2.0, color='b', label='train')\n",
        "plt.plot(history.history['val_loss'], lw=2.0, color='r', label='val')\n",
        "plt.title('LSTM sentiment Muril')\n",
        "plt.xlabel('Epochs')\n",
        "plt.ylabel('Cross-Entropy Loss')\n",
        "plt.legend(loc='upper right')\n",
        "plt.show()\n",
        "\n",
        "plt.figure()\n",
        "plt.plot(history.history['accuracy'], lw=2.0, color='b', label='train')\n",
        "plt.plot(history.history['val_accuracy'], lw=2.0, color='r', label='val')\n",
        "plt.title('LSTM sentiment Muril')\n",
        "plt.xlabel('Epochs')\n",
        "plt.ylabel('Accuracy')\n",
        "plt.legend(loc='upper left')\n",
        "plt.show()"
      ],
      "metadata": {
        "colab": {
          "base_uri": "https://localhost:8080/",
          "height": 573
        },
        "id": "ZtriMy3Rh5vt",
        "outputId": "ff280d0a-e448-4017-9d95-c39b51599a4e"
      },
      "execution_count": null,
      "outputs": [
        {
          "output_type": "display_data",
          "data": {
            "text/plain": [
              "<Figure size 432x288 with 1 Axes>"
            ],
            "image/png": "[encoded data removed]"
          },
          "metadata": {}
        },
        {
          "output_type": "display_data",
          "data": {
            "text/plain": [
              "<Figure size 432x288 with 1 Axes>"
            ],
            "image/png": "[encoded data removed]"
          },
          "metadata": {}
        }
      ]
    },
    {
      "cell_type": "code",
      "source": [
        "LSTM_MU_STM_accuracy, LSTM_MU_STM_precision, LSTM_MU_STM_recall,LSTM_MU_STM_f1_score,LSTM_MU_STM_y_pred  = evaluate_model(x_test_modified, y_testo, model)"
      ],
      "metadata": {
        "id": "Y85zHKpUh5p4"
      },
      "execution_count": null,
      "outputs": []
    },
    {
      "cell_type": "code",
      "source": [
        "h0=[\"Algorithm\"]\n",
        "h1=[\"LSTM\",LSTM_MU_STM_accuracy,LSTM_MU_STM_f1_score,LSTM_MU_STM_precision,LSTM_MU_STM_recall]\n",
        "\n",
        "h0.append(\"LSTM_MU_STM_accuracy\")\n",
        "h0.append(\"LSTM_MU_STM_F1 Measure\")\n",
        "h0.append(\"LSTM_MU_STM_Precision\")\n",
        "h0.append(\"LSTM_MU_STM_Recall\")\n",
        "\n",
        "from beautifultable import BeautifulTable\n",
        "table = BeautifulTable()\n",
        "table.column_headers = h0\n",
        "table.append_row(h1)\n",
        "print(table)"
      ],
      "metadata": {
        "colab": {
          "base_uri": "https://localhost:8080/"
        },
        "id": "K_B3m7Tfh5nC",
        "outputId": "e0958c8d-6c28-4082-c742-542651532e72"
      },
      "execution_count": null,
      "outputs": [
        {
          "output_type": "stream",
          "name": "stdout",
          "text": [
            "+-----------+---------------+----------------+------------------+--------------+\n",
            "| Algorithm | LSTM_MU_STM_a | LSTM_MU_STM_F1 | LSTM_MU_STM_Prec | LSTM_MU_STM_ |\n",
            "|           |    ccuracy    |     Measure    |      ision       |    Recall    |\n",
            "+-----------+---------------+----------------+------------------+--------------+\n",
            "|   LSTM    |     0.85      |     0.831      |      0.879       |    0.805     |\n",
            "+-----------+---------------+----------------+------------------+--------------+\n"
          ]
        },
        {
          "output_type": "stream",
          "name": "stderr",
          "text": [
            "/usr/local/lib/python3.7/dist-packages/beautifultable/utils.py:125: FutureWarning: 'BeautifulTable.column_headers' has been deprecated in 'v1.0.0' and will be removed in 'v1.2.0'. Use 'BTColumnCollection.header' instead.\n",
            "  warnings.warn(message, FutureWarning)\n",
            "/usr/local/lib/python3.7/dist-packages/beautifultable/utils.py:125: FutureWarning: 'BeautifulTable.append_row' has been deprecated in 'v1.0.0' and will be removed in 'v1.2.0'. Use 'BTRowCollection.append' instead.\n",
            "  warnings.warn(message, FutureWarning)\n"
          ]
        }
      ]
    },
    {
      "cell_type": "code",
      "source": [
        "class_name = ['Negative','Neutral','Positive']\n",
        "from sklearn.metrics import classification_report,confusion_matrix\n",
        "print(classification_report(y_testo, y_pred_test, target_names=class_name, zero_division=0, digits=4))\n"
      ],
      "metadata": {
        "colab": {
          "base_uri": "https://localhost:8080/"
        },
        "id": "z_Y-sFhTjywv",
        "outputId": "469fa447-a898-4886-bb92-8eb78907a75e"
      },
      "execution_count": null,
      "outputs": [
        {
          "output_type": "stream",
          "name": "stdout",
          "text": [
            "              precision    recall  f1-score   support\n",
            "\n",
            "    Negative     0.9539    0.7017    0.8086       295\n",
            "     Neutral     0.8692    0.7331    0.7954       281\n",
            "    Positive     0.8126    0.9798    0.8884       593\n",
            "\n",
            "    accuracy                         0.8503      1169\n",
            "   macro avg     0.8786    0.8049    0.8308      1169\n",
            "weighted avg     0.8619    0.8503    0.8459      1169\n",
            "\n"
          ]
        }
      ]
    },
    {
      "cell_type": "code",
      "source": [
        "cm = confusion_matrix(y_testo, y_pred_test)\n",
        "df_cm = pd.DataFrame(cm, index=class_name, columns=class_name)\n",
        "show_confusion_matrix(df_cm)"
      ],
      "metadata": {
        "colab": {
          "base_uri": "https://localhost:8080/",
          "height": 300
        },
        "id": "g_7-sIMPj0ro",
        "outputId": "5a642ee8-c4c3-4b45-8c35-8c5b13016477"
      },
      "execution_count": null,
      "outputs": [
        {
          "output_type": "display_data",
          "data": {
            "text/plain": [
              "<Figure size 432x288 with 2 Axes>"
            ],
            "image/png": "[encoded data removed]"
          },
          "metadata": {}
        }
      ]
    },
    {
      "cell_type": "markdown",
      "source": [
        "#SVM MuRIL"
      ],
      "metadata": {
        "id": "ToTKYJ3_mqE4"
      }
    },
    {
      "cell_type": "code",
      "source": [
        "import string\n",
        "import sys\n",
        "import time\n",
        "import json\n",
        "from sklearn.metrics import classification_report, confusion_matrix, accuracy_score\n",
        "from sklearn.svm import LinearSVC\n",
        "from sklearn.svm import SVC\n",
        "import random as rn\n",
        "from sklearn.pipeline import Pipeline\n",
        "from sklearn.model_selection import GridSearchCV\n",
        "from sklearn.svm import LinearSVC\n",
        "from sklearn.feature_selection import SelectKBest\n",
        "from sklearn.feature_selection import f_classif\n"
      ],
      "metadata": {
        "id": "f8O0BmSLSDu7"
      },
      "execution_count": 97,
      "outputs": []
    },
    {
      "cell_type": "code",
      "source": [
        "dataframe = pd.read_csv('/content/drive/MyDrive/dataframe1.csv')"
      ],
      "metadata": {
        "id": "Xm4ooXeeJl4F"
      },
      "execution_count": 98,
      "outputs": []
    },
    {
      "cell_type": "code",
      "source": [
        "traindf, testdf = testtrainsplit(dataframe)\n",
        "x_train = traindf.iloc[:, :-1]\n",
        "x_test = testdf.iloc[:, :-1]\n",
        "y_train = traindf.sentiment\n",
        "y_test = testdf.sentiment"
      ],
      "metadata": {
        "id": "gNRWLBCkpHwK"
      },
      "execution_count": 99,
      "outputs": []
    },
    {
      "cell_type": "code",
      "source": [
        "x_train = traindf.iloc[:, :-1].to_numpy()\n",
        "x_test = testdf.iloc[:, :-1].to_numpy()\n",
        "y_train = traindf.sentiment.to_numpy()\n",
        "y_test = testdf.sentiment.to_numpy()"
      ],
      "metadata": {
        "id": "YK9r1uOGKyR-"
      },
      "execution_count": 102,
      "outputs": []
    },
    {
      "cell_type": "code",
      "source": [
        "encoder = LabelEncoder()\n",
        "encoder.fit(list(y_train)+list(y_test))\n",
        "y_traino = encoder.transform(y_train)\n",
        "y_testo = encoder.transform(y_test)"
      ],
      "metadata": {
        "id": "zsrqlWd1CC_R"
      },
      "execution_count": 103,
      "outputs": []
    },
    {
      "cell_type": "code",
      "source": [
        "np.unique(y_traino)"
      ],
      "metadata": {
        "colab": {
          "base_uri": "https://localhost:8080/"
        },
        "id": "4j-5Wol5CExG",
        "outputId": "4eca65d9-63e0-464c-e3c7-32bf5722cc1f"
      },
      "execution_count": null,
      "outputs": [
        {
          "output_type": "execute_result",
          "data": {
            "text/plain": [
              "array([0, 1, 2])"
            ]
          },
          "metadata": {},
          "execution_count": 69
        }
      ]
    },
    {
      "cell_type": "code",
      "source": [
        "x_train.shape"
      ],
      "metadata": {
        "colab": {
          "base_uri": "https://localhost:8080/"
        },
        "id": "uN5Jh40-LIKM",
        "outputId": "ec4183d8-ad40-457e-d2e9-0638ba254057"
      },
      "execution_count": null,
      "outputs": [
        {
          "output_type": "execute_result",
          "data": {
            "text/plain": [
              "(4667, 1025)"
            ]
          },
          "metadata": {},
          "execution_count": 70
        }
      ]
    },
    {
      "cell_type": "code",
      "source": [
        "y_traino.shape"
      ],
      "metadata": {
        "colab": {
          "base_uri": "https://localhost:8080/"
        },
        "id": "jub99KHlQYYL",
        "outputId": "704ba186-c05a-439b-cc50-8f8ad37751ab"
      },
      "execution_count": null,
      "outputs": [
        {
          "output_type": "execute_result",
          "data": {
            "text/plain": [
              "(4667,)"
            ]
          },
          "metadata": {},
          "execution_count": 71
        }
      ]
    },
    {
      "cell_type": "code",
      "source": [
        "from sklearn.svm import SVC\n",
        "\n",
        "# model = SVC(kernel = 'poly',decision_function_shape='ovr', random_state = 0, C=1000)\n",
        "\n",
        "model = SVC(kernel = 'rbf',decision_function_shape='ovr', random_state = 0, C=1000)\n",
        "\n",
        "# model = SVC(kernel = 'linear',decision_function_shape='ovr', random_state = 0, C=10,probability=True)"
      ],
      "metadata": {
        "id": "ecfEi1E5TUdO"
      },
      "execution_count": 104,
      "outputs": []
    },
    {
      "cell_type": "code",
      "source": [
        "model.fit(x_train, y_traino)\n",
        "predicted_labels = model.predict(x_test)"
      ],
      "metadata": {
        "id": "IIFutO_ZTdRz"
      },
      "execution_count": 105,
      "outputs": []
    },
    {
      "cell_type": "code",
      "source": [
        "accuracyscore=accuracy_score(y_testo, predicted_labels)"
      ],
      "metadata": {
        "id": "UmnT3VFMTt0J"
      },
      "execution_count": 106,
      "outputs": []
    },
    {
      "cell_type": "code",
      "source": [
        "accuracyscore"
      ],
      "metadata": {
        "colab": {
          "base_uri": "https://localhost:8080/"
        },
        "id": "vxnkcqH4T2gH",
        "outputId": "9726bc93-9f32-4ec3-aa44-c1d36f2d0157"
      },
      "execution_count": null,
      "outputs": [
        {
          "output_type": "execute_result",
          "data": {
            "text/plain": [
              "0.632164242942686"
            ]
          },
          "metadata": {},
          "execution_count": 179
        }
      ]
    },
    {
      "cell_type": "code",
      "source": [
        "accuracyscore=accuracy_score(y_testo, predicted_labels)\n",
        "print(\"Accuracy score for MuRIL SVM model \",accuracyscore)\n",
        "cm = confusion_matrix(y_testo, predicted_labels)\n",
        "class_name = ['Negative','Neutral','Positive']\n",
        "df_cm = pd.DataFrame(cm, index=class_name, columns=class_name)\n",
        "show_confusion_matrix(df_cm)"
      ],
      "metadata": {
        "colab": {
          "base_uri": "https://localhost:8080/",
          "height": 317
        },
        "id": "BICR-RcZqQVn",
        "outputId": "e20c7f96-17a2-40ad-9afb-7dff553c385a"
      },
      "execution_count": null,
      "outputs": [
        {
          "output_type": "stream",
          "name": "stdout",
          "text": [
            "Accuracy score for MuRIL SVM model  0.632164242942686\n"
          ]
        },
        {
          "output_type": "display_data",
          "data": {
            "text/plain": [
              "<Figure size 432x288 with 2 Axes>"
            ],
            "image/png": "[encoded data removed]"
          },
          "metadata": {}
        }
      ]
    },
    {
      "cell_type": "code",
      "source": [
        "mean_fpr = np.linspace(start=0, stop=1, num=100)\n",
        "\n",
        "def evaluate_model1(X_test, y_test, model):\n",
        "    # compute probabilistic predictiond for the evaluation set\n",
        "    # _probabilities = model.predict_proba(X_test)[:, 1]\n",
        "    \n",
        "    # compute exact predictiond for the evaluation set\n",
        "    _predicted_values = model.predict(X_test)\n",
        "        \n",
        "    # compute accuracy\n",
        "    _accuracy = accuracy_score(y_test, _predicted_values)\n",
        "        \n",
        "    # compute precision, recall and f1 score for class 1\n",
        "    _precision, _recall, _f1_score, _ = precision_recall_fscore_support(y_test, _predicted_values, labels=[1])\n",
        "    \n",
        "    # # compute fpr and tpr values for various thresholds \n",
        "    # # by comparing the true target values to the predicted probabilities for class 1\n",
        "    # _fpr, _tpr, _ = roc_auc_score(y_test, _probabilities,multi_class=\"ovr\")\n",
        "        \n",
        "    # # compute true positive rates for the values in the array mean_fpr\n",
        "    # _tpr_transformed = np.array([interp(mean_fpr, _fpr, _tpr)])\n",
        "    \n",
        "    # # compute the area under the curve\n",
        "    # _auc = auc(_fpr, _tpr)\n",
        "            \n",
        "    return _accuracy, _precision[0], _recall[0], _f1_score[0]\n",
        "    #, _tpr_transformed, _auc"
      ],
      "metadata": {
        "id": "4G2LZnrxz_mM"
      },
      "execution_count": 107,
      "outputs": []
    },
    {
      "cell_type": "code",
      "source": [
        "\n",
        "print(\"Length of predicted labels \",len(predicted_labels))\n",
        "print (confusion_matrix(y_testo, predicted_labels))\n",
        "print (classification_report(y_testo, predicted_labels, digits=4, target_names=class_name))\n",
        "\n",
        "\n",
        "SVM_MU_accuracy, SVM_MU_precision, SVM_MU_recall ,SVM_MU_f1_score = evaluate_model1(x_test, y_testo, model)\n",
        "h0=[\"Algorithm\"]\n",
        "h1=[\"SVM\",SVM_MU_accuracy, SVM_MU_precision, SVM_MU_recall ,SVM_MU_f1_score]\n",
        "\n",
        "h0.append(\"Accuracy\")\n",
        "h0.append(\"F1 Measure\")\n",
        "h0.append(\"Precision\")\n",
        "h0.append(\"Recall\")\n",
        "\n",
        "from beautifultable import BeautifulTable\n",
        "table = BeautifulTable()\n",
        "table.column_headers = h0\n",
        "table.append_row(h1)\n",
        "print(table)"
      ],
      "metadata": {
        "colab": {
          "base_uri": "https://localhost:8080/"
        },
        "id": "zEVQ5wqyqOmJ",
        "outputId": "cd236c0f-b286-49e4-8c8c-a65eb55ccbae"
      },
      "execution_count": null,
      "outputs": [
        {
          "output_type": "stream",
          "name": "stdout",
          "text": [
            "Length of predicted labels  1169\n",
            "[[  0   0 295]\n",
            " [  0 146 135]\n",
            " [  0   0 593]]\n",
            "              precision    recall  f1-score   support\n",
            "\n",
            "    Negative     0.0000    0.0000    0.0000       295\n",
            "     Neutral     1.0000    0.5196    0.6838       281\n",
            "    Positive     0.5797    1.0000    0.7339       593\n",
            "\n",
            "    accuracy                         0.6322      1169\n",
            "   macro avg     0.5266    0.5065    0.4726      1169\n",
            "weighted avg     0.5344    0.6322    0.5367      1169\n",
            "\n"
          ]
        },
        {
          "output_type": "stream",
          "name": "stderr",
          "text": [
            "/usr/local/lib/python3.7/dist-packages/sklearn/metrics/_classification.py:1318: UndefinedMetricWarning: Precision and F-score are ill-defined and being set to 0.0 in labels with no predicted samples. Use `zero_division` parameter to control this behavior.\n",
            "  _warn_prf(average, modifier, msg_start, len(result))\n",
            "/usr/local/lib/python3.7/dist-packages/sklearn/metrics/_classification.py:1318: UndefinedMetricWarning: Precision and F-score are ill-defined and being set to 0.0 in labels with no predicted samples. Use `zero_division` parameter to control this behavior.\n",
            "  _warn_prf(average, modifier, msg_start, len(result))\n",
            "/usr/local/lib/python3.7/dist-packages/sklearn/metrics/_classification.py:1318: UndefinedMetricWarning: Precision and F-score are ill-defined and being set to 0.0 in labels with no predicted samples. Use `zero_division` parameter to control this behavior.\n",
            "  _warn_prf(average, modifier, msg_start, len(result))\n"
          ]
        },
        {
          "output_type": "stream",
          "name": "stdout",
          "text": [
            "+-----------+----------+------------+-----------+--------+\n",
            "| Algorithm | Accuracy | F1 Measure | Precision | Recall |\n",
            "+-----------+----------+------------+-----------+--------+\n",
            "|    SVM    |  0.632   |    1.0     |   0.52    | 0.684  |\n",
            "+-----------+----------+------------+-----------+--------+\n"
          ]
        },
        {
          "output_type": "stream",
          "name": "stderr",
          "text": [
            "/usr/local/lib/python3.7/dist-packages/beautifultable/utils.py:125: FutureWarning: 'BeautifulTable.column_headers' has been deprecated in 'v1.0.0' and will be removed in 'v1.2.0'. Use 'BTColumnCollection.header' instead.\n",
            "  warnings.warn(message, FutureWarning)\n",
            "/usr/local/lib/python3.7/dist-packages/beautifultable/utils.py:125: FutureWarning: 'BeautifulTable.append_row' has been deprecated in 'v1.0.0' and will be removed in 'v1.2.0'. Use 'BTRowCollection.append' instead.\n",
            "  warnings.warn(message, FutureWarning)\n"
          ]
        }
      ]
    },
    {
      "cell_type": "markdown",
      "source": [
        "#SVM with MuRIL stemming"
      ],
      "metadata": {
        "id": "qlVyj5YA9ERT"
      }
    },
    {
      "cell_type": "code",
      "source": [
        "dataframe_stem = pd.read_csv('/content/drive/MyDrive/dataframe_stem1.csv')\n"
      ],
      "metadata": {
        "id": "d_7JNPYU9SCo"
      },
      "execution_count": null,
      "outputs": []
    },
    {
      "cell_type": "code",
      "source": [
        "traindf, testdf = testtrainsplit(dataframe_stem)\n",
        "x_train = traindf.iloc[:, :-1]\n",
        "x_test = testdf.iloc[:, :-1]\n",
        "y_train = traindf.sentiment\n",
        "y_test = testdf.sentiment\n",
        "\n",
        "x_train = traindf.iloc[:, :-1].to_numpy()\n",
        "x_test = testdf.iloc[:, :-1].to_numpy()\n",
        "y_train = traindf.sentiment.to_numpy()\n",
        "y_test = testdf.sentiment.to_numpy()\n",
        "\n",
        "encoder = LabelEncoder()\n",
        "encoder.fit(list(y_train)+list(y_test))\n",
        "y_traino = encoder.transform(y_train)\n",
        "y_testo = encoder.transform(y_test)"
      ],
      "metadata": {
        "id": "3xdyh5KY9eHf"
      },
      "execution_count": null,
      "outputs": []
    },
    {
      "cell_type": "code",
      "source": [
        "from sklearn.svm import SVC\n",
        "\n",
        "# model = SVC(kernel = 'poly',decision_function_shape='ovr', random_state = 0, C=1000)\n",
        "\n",
        "model = SVC(kernel = 'rbf',decision_function_shape='ovr', random_state = 0, C=1000)\n",
        "\n",
        "# model = SVC(kernel = 'linear',decision_function_shape='ovr', random_state = 0, C=10,probability=True)"
      ],
      "metadata": {
        "id": "L7btIwTb9liY"
      },
      "execution_count": null,
      "outputs": []
    },
    {
      "cell_type": "code",
      "source": [
        "model.fit(x_train, y_traino)\n",
        "predicted_labels = model.predict(x_test)\n",
        "accuracyscore=accuracy_score(y_testo, predicted_labels)"
      ],
      "metadata": {
        "id": "SmIidDjD9st4"
      },
      "execution_count": null,
      "outputs": []
    },
    {
      "cell_type": "code",
      "source": [
        "predicted_labels = model.predict(x_train)"
      ],
      "metadata": {
        "id": "0MOD0C0BCoPc"
      },
      "execution_count": null,
      "outputs": []
    },
    {
      "cell_type": "code",
      "source": [
        "accuracyscore=accuracy_score(y_testo, predicted_labels)"
      ],
      "metadata": {
        "id": "5tazChriCl5K"
      },
      "execution_count": null,
      "outputs": []
    },
    {
      "cell_type": "code",
      "source": [
        "accuracyscore"
      ],
      "metadata": {
        "colab": {
          "base_uri": "https://localhost:8080/"
        },
        "id": "2NoYnAp09vwb",
        "outputId": "91a0c1b9-9801-4597-d70a-b90dd8b80844"
      },
      "execution_count": null,
      "outputs": [
        {
          "output_type": "execute_result",
          "data": {
            "text/plain": [
              "0.9940119760479041"
            ]
          },
          "metadata": {},
          "execution_count": 191
        }
      ]
    },
    {
      "cell_type": "code",
      "source": [
        "accuracyscore=accuracy_score(y_testo, predicted_labels)\n",
        "print(\"Accuracy score for MuRIL SVM model \",accuracyscore)\n",
        "cm = confusion_matrix(y_testo, predicted_labels)\n",
        "class_name = ['Negative','Neutral','Positive']\n",
        "df_cm = pd.DataFrame(cm, index=class_name, columns=class_name)\n",
        "show_confusion_matrix(df_cm)"
      ],
      "metadata": {
        "colab": {
          "base_uri": "https://localhost:8080/",
          "height": 317
        },
        "id": "t5_IyclA928W",
        "outputId": "25c68a8f-f5c1-43a3-a235-c3f10b69ec29"
      },
      "execution_count": null,
      "outputs": [
        {
          "output_type": "stream",
          "name": "stdout",
          "text": [
            "Accuracy score for MuRIL SVM model  0.9940119760479041\n"
          ]
        },
        {
          "output_type": "display_data",
          "data": {
            "text/plain": [
              "<Figure size 432x288 with 2 Axes>"
            ],
            "image/png": "[encoded data removed]"
          },
          "metadata": {}
        }
      ]
    },
    {
      "cell_type": "code",
      "source": [
        "\n",
        "print(\"Length of predicted labels \",len(predicted_labels))\n",
        "print (confusion_matrix(y_testo, predicted_labels))\n",
        "print (classification_report(y_testo, predicted_labels, digits=4, target_names=class_name))\n",
        "\n",
        "\n",
        "SVM_MU_stem_accuracy, SVM_MU_stem_precision, SVM_MU_stem_recall ,SVM_MU_stem_f1_score = evaluate_model1(x_test, y_testo, model)\n",
        "h0=[\"Algorithm\"]\n",
        "h1=[\"SVM\",SVM_MU_stem_accuracy, SVM_MU_stem_precision, SVM_MU_stem_recall ,SVM_MU_stem_f1_score]\n",
        "\n",
        "h0.append(\"Accuracy\")\n",
        "h0.append(\"F1 Measure\")\n",
        "h0.append(\"Precision\")\n",
        "h0.append(\"Recall\")\n",
        "\n",
        "from beautifultable import BeautifulTable\n",
        "table = BeautifulTable()\n",
        "table.column_headers = h0\n",
        "table.append_row(h1)\n",
        "print(table)"
      ],
      "metadata": {
        "colab": {
          "base_uri": "https://localhost:8080/"
        },
        "id": "yjUWD7LX99Kg",
        "outputId": "5f6b55ee-45ae-41b8-a672-e9dac3ed2a7a"
      },
      "execution_count": null,
      "outputs": [
        {
          "output_type": "stream",
          "name": "stdout",
          "text": [
            "Length of predicted labels  1169\n",
            "[[293   0   2]\n",
            " [  4 276   1]\n",
            " [  0   0 593]]\n",
            "              precision    recall  f1-score   support\n",
            "\n",
            "    Negative     0.9865    0.9932    0.9899       295\n",
            "     Neutral     1.0000    0.9822    0.9910       281\n",
            "    Positive     0.9950    1.0000    0.9975       593\n",
            "\n",
            "    accuracy                         0.9940      1169\n",
            "   macro avg     0.9938    0.9918    0.9928      1169\n",
            "weighted avg     0.9940    0.9940    0.9940      1169\n",
            "\n",
            "+-----------+----------+------------+-----------+--------+\n",
            "| Algorithm | Accuracy | F1 Measure | Precision | Recall |\n",
            "+-----------+----------+------------+-----------+--------+\n",
            "|    SVM    |  0.994   |    1.0     |   0.982   | 0.991  |\n",
            "+-----------+----------+------------+-----------+--------+\n"
          ]
        },
        {
          "output_type": "stream",
          "name": "stderr",
          "text": [
            "/usr/local/lib/python3.7/dist-packages/beautifultable/utils.py:125: FutureWarning: 'BeautifulTable.column_headers' has been deprecated in 'v1.0.0' and will be removed in 'v1.2.0'. Use 'BTColumnCollection.header' instead.\n",
            "  warnings.warn(message, FutureWarning)\n",
            "/usr/local/lib/python3.7/dist-packages/beautifultable/utils.py:125: FutureWarning: 'BeautifulTable.append_row' has been deprecated in 'v1.0.0' and will be removed in 'v1.2.0'. Use 'BTRowCollection.append' instead.\n",
            "  warnings.warn(message, FutureWarning)\n"
          ]
        }
      ]
    },
    {
      "cell_type": "markdown",
      "source": [
        "Experiment 2 Results"
      ],
      "metadata": {
        "id": "Y-KuJYJ7nbpP"
      }
    },
    {
      "cell_type": "code",
      "execution_count": null,
      "metadata": {
        "colab": {
          "base_uri": "https://localhost:8080/",
          "height": 265
        },
        "id": "zWos6j9hzgq4",
        "outputId": "e679a69c-675a-40a9-dff9-f0a603ff7be1"
      },
      "outputs": [
        {
          "output_type": "display_data",
          "data": {
            "text/plain": [
              "<Figure size 432x288 with 1 Axes>"
            ],
            "image/png": "[encoded data removed]"
          },
          "metadata": {}
        }
      ],
      "source": [
        "LSTM_MU_metrics = np.array([LSTM_MU_accuracy, LSTM_MU_precision, LSTM_MU_recall,LSTM_MU_f1_score])\n",
        "LSTM_MU_STM_metrics = np.array([LSTM_MU_STM_accuracy,LSTM_MU_STM_f1_score,LSTM_MU_STM_precision,LSTM_MU_STM_recall])\n",
        "SVM_MU_metrics = np.array([SVM_MU_accuracy, SVM_MU_precision, SVM_MU_recall ,SVM_MU_f1_score])\n",
        "SVM_MU_STM_metrics = np.array([SVM_MU_stem_accuracy, SVM_MU_stem_precision, SVM_MU_stem_recall ,SVM_MU_stem_f1_score])\n",
        "index = ['accuracy', 'precision', 'recall', 'F1-score']\n",
        "df_metrics_mu = pd.DataFrame({'LSTM MU wo stem': LSTM_MU_metrics, 'LSTM MU with stem': LSTM_MU_STM_metrics, 'SVM MU wo stem': SVM_MU_metrics, 'SVM_MU_STM_metrics': SVM_MU_STM_metrics }, index=index)\n",
        "df_metrics_mu.plot.bar(rot=0)\n",
        "plt.legend(loc=\"lower right\")\n",
        "plt.show()"
      ]
    }
  ],
  "metadata": {
    "colab": {
      "collapsed_sections": [],
      "machine_shape": "hm",
      "name": "Experiment 2.ipynb",
      "provenance": []
    },
    "gpuClass": "standard",
    "kernelspec": {
      "display_name": "Python 3",
      "name": "python3"
    },
    "language_info": {
      "name": "python"
    },
    "accelerator": "GPU",
    "widgets": {
      "application/vnd.jupyter.widget-state+json": {
        "dfdab0fb00df479c9846ccbc61e1ea78": {
          "model_module": "@jupyter-widgets/controls",
          "model_name": "HBoxModel",
          "model_module_version": "2.0.0",
          "state": {
            "_dom_classes": [],
            "_model_module": "@jupyter-widgets/controls",
            "_model_module_version": "2.0.0",
            "_model_name": "HBoxModel",
            "_view_count": null,
            "_view_module": "@jupyter-widgets/controls",
            "_view_module_version": "2.0.0",
            "_view_name": "HBoxView",
            "box_style": "",
            "children": [
              "IPY_MODEL_d0185802b5724c5d8aa7389d5cc6caf4",
              "IPY_MODEL_c3b8209ca9014c769ae831063fcea637",
              "IPY_MODEL_98387de91113463bb2053c5a9818368b"
            ],
            "layout": "IPY_MODEL_51a5a308fce741b5900002631ffbaddf",
            "tabbable": null,
            "tooltip": null
          }
        },
        "d0185802b5724c5d8aa7389d5cc6caf4": {
          "model_module": "@jupyter-widgets/controls",
          "model_name": "HTMLModel",
          "model_module_version": "2.0.0",
          "state": {
            "_dom_classes": [],
            "_model_module": "@jupyter-widgets/controls",
            "_model_module_version": "2.0.0",
            "_model_name": "HTMLModel",
            "_view_count": null,
            "_view_module": "@jupyter-widgets/controls",
            "_view_module_version": "2.0.0",
            "_view_name": "HTMLView",
            "description": "",
            "description_allow_html": false,
            "layout": "IPY_MODEL_140dc9e1804d4ad4989ccecf77b93596",
            "placeholder": "​",
            "style": "IPY_MODEL_c40f67867b6741acb9704e47e085609e",
            "tabbable": null,
            "tooltip": null,
            "value": "Downloading config.json: 100%"
          }
        },
        "c3b8209ca9014c769ae831063fcea637": {
          "model_module": "@jupyter-widgets/controls",
          "model_name": "FloatProgressModel",
          "model_module_version": "2.0.0",
          "state": {
            "_dom_classes": [],
            "_model_module": "@jupyter-widgets/controls",
            "_model_module_version": "2.0.0",
            "_model_name": "FloatProgressModel",
            "_view_count": null,
            "_view_module": "@jupyter-widgets/controls",
            "_view_module_version": "2.0.0",
            "_view_name": "ProgressView",
            "bar_style": "success",
            "description": "",
            "description_allow_html": false,
            "layout": "IPY_MODEL_9aa5f5ea8dcd462a8db57606b526a9eb",
            "max": 406,
            "min": 0,
            "orientation": "horizontal",
            "style": "IPY_MODEL_dd99187cdfc94c538a5ff61344e813e9",
            "tabbable": null,
            "tooltip": null,
            "value": 406
          }
        },
        "98387de91113463bb2053c5a9818368b": {
          "model_module": "@jupyter-widgets/controls",
          "model_name": "HTMLModel",
          "model_module_version": "2.0.0",
          "state": {
            "_dom_classes": [],
            "_model_module": "@jupyter-widgets/controls",
            "_model_module_version": "2.0.0",
            "_model_name": "HTMLModel",
            "_view_count": null,
            "_view_module": "@jupyter-widgets/controls",
            "_view_module_version": "2.0.0",
            "_view_name": "HTMLView",
            "description": "",
            "description_allow_html": false,
            "layout": "IPY_MODEL_ce3488bae51748f7b485950ae9aa07dd",
            "placeholder": "​",
            "style": "IPY_MODEL_6d89a0d5c6674ef0abce8e6144dd53d4",
            "tabbable": null,
            "tooltip": null,
            "value": " 406/406 [00:00&lt;00:00, 15.0kB/s]"
          }
        },
        "51a5a308fce741b5900002631ffbaddf": {
          "model_module": "@jupyter-widgets/base",
          "model_name": "LayoutModel",
          "model_module_version": "2.0.0",
          "state": {
            "_model_module": "@jupyter-widgets/base",
            "_model_module_version": "2.0.0",
            "_model_name": "LayoutModel",
            "_view_count": null,
            "_view_module": "@jupyter-widgets/base",
            "_view_module_version": "2.0.0",
            "_view_name": "LayoutView",
            "align_content": null,
            "align_items": null,
            "align_self": null,
            "border_bottom": null,
            "border_left": null,
            "border_right": null,
            "border_top": null,
            "bottom": null,
            "display": null,
            "flex": null,
            "flex_flow": null,
            "grid_area": null,
            "grid_auto_columns": null,
            "grid_auto_flow": null,
            "grid_auto_rows": null,
            "grid_column": null,
            "grid_gap": null,
            "grid_row": null,
            "grid_template_areas": null,
            "grid_template_columns": null,
            "grid_template_rows": null,
            "height": null,
            "justify_content": null,
            "justify_items": null,
            "left": null,
            "margin": null,
            "max_height": null,
            "max_width": null,
            "min_height": null,
            "min_width": null,
            "object_fit": null,
            "object_position": null,
            "order": null,
            "overflow": null,
            "padding": null,
            "right": null,
            "top": null,
            "visibility": null,
            "width": null
          }
        },
        "140dc9e1804d4ad4989ccecf77b93596": {
          "model_module": "@jupyter-widgets/base",
          "model_name": "LayoutModel",
          "model_module_version": "2.0.0",
          "state": {
            "_model_module": "@jupyter-widgets/base",
            "_model_module_version": "2.0.0",
            "_model_name": "LayoutModel",
            "_view_count": null,
            "_view_module": "@jupyter-widgets/base",
            "_view_module_version": "2.0.0",
            "_view_name": "LayoutView",
            "align_content": null,
            "align_items": null,
            "align_self": null,
            "border_bottom": null,
            "border_left": null,
            "border_right": null,
            "border_top": null,
            "bottom": null,
            "display": null,
            "flex": null,
            "flex_flow": null,
            "grid_area": null,
            "grid_auto_columns": null,
            "grid_auto_flow": null,
            "grid_auto_rows": null,
            "grid_column": null,
            "grid_gap": null,
            "grid_row": null,
            "grid_template_areas": null,
            "grid_template_columns": null,
            "grid_template_rows": null,
            "height": null,
            "justify_content": null,
            "justify_items": null,
            "left": null,
            "margin": null,
            "max_height": null,
            "max_width": null,
            "min_height": null,
            "min_width": null,
            "object_fit": null,
            "object_position": null,
            "order": null,
            "overflow": null,
            "padding": null,
            "right": null,
            "top": null,
            "visibility": null,
            "width": null
          }
        },
        "c40f67867b6741acb9704e47e085609e": {
          "model_module": "@jupyter-widgets/controls",
          "model_name": "HTMLStyleModel",
          "model_module_version": "2.0.0",
          "state": {
            "_model_module": "@jupyter-widgets/controls",
            "_model_module_version": "2.0.0",
            "_model_name": "HTMLStyleModel",
            "_view_count": null,
            "_view_module": "@jupyter-widgets/base",
            "_view_module_version": "2.0.0",
            "_view_name": "StyleView",
            "background": null,
            "description_width": "",
            "font_size": null,
            "text_color": null
          }
        },
        "9aa5f5ea8dcd462a8db57606b526a9eb": {
          "model_module": "@jupyter-widgets/base",
          "model_name": "LayoutModel",
          "model_module_version": "2.0.0",
          "state": {
            "_model_module": "@jupyter-widgets/base",
            "_model_module_version": "2.0.0",
            "_model_name": "LayoutModel",
            "_view_count": null,
            "_view_module": "@jupyter-widgets/base",
            "_view_module_version": "2.0.0",
            "_view_name": "LayoutView",
            "align_content": null,
            "align_items": null,
            "align_self": null,
            "border_bottom": null,
            "border_left": null,
            "border_right": null,
            "border_top": null,
            "bottom": null,
            "display": null,
            "flex": null,
            "flex_flow": null,
            "grid_area": null,
            "grid_auto_columns": null,
            "grid_auto_flow": null,
            "grid_auto_rows": null,
            "grid_column": null,
            "grid_gap": null,
            "grid_row": null,
            "grid_template_areas": null,
            "grid_template_columns": null,
            "grid_template_rows": null,
            "height": null,
            "justify_content": null,
            "justify_items": null,
            "left": null,
            "margin": null,
            "max_height": null,
            "max_width": null,
            "min_height": null,
            "min_width": null,
            "object_fit": null,
            "object_position": null,
            "order": null,
            "overflow": null,
            "padding": null,
            "right": null,
            "top": null,
            "visibility": null,
            "width": null
          }
        },
        "dd99187cdfc94c538a5ff61344e813e9": {
          "model_module": "@jupyter-widgets/controls",
          "model_name": "ProgressStyleModel",
          "model_module_version": "2.0.0",
          "state": {
            "_model_module": "@jupyter-widgets/controls",
            "_model_module_version": "2.0.0",
            "_model_name": "ProgressStyleModel",
            "_view_count": null,
            "_view_module": "@jupyter-widgets/base",
            "_view_module_version": "2.0.0",
            "_view_name": "StyleView",
            "bar_color": null,
            "description_width": ""
          }
        },
        "ce3488bae51748f7b485950ae9aa07dd": {
          "model_module": "@jupyter-widgets/base",
          "model_name": "LayoutModel",
          "model_module_version": "2.0.0",
          "state": {
            "_model_module": "@jupyter-widgets/base",
            "_model_module_version": "2.0.0",
            "_model_name": "LayoutModel",
            "_view_count": null,
            "_view_module": "@jupyter-widgets/base",
            "_view_module_version": "2.0.0",
            "_view_name": "LayoutView",
            "align_content": null,
            "align_items": null,
            "align_self": null,
            "border_bottom": null,
            "border_left": null,
            "border_right": null,
            "border_top": null,
            "bottom": null,
            "display": null,
            "flex": null,
            "flex_flow": null,
            "grid_area": null,
            "grid_auto_columns": null,
            "grid_auto_flow": null,
            "grid_auto_rows": null,
            "grid_column": null,
            "grid_gap": null,
            "grid_row": null,
            "grid_template_areas": null,
            "grid_template_columns": null,
            "grid_template_rows": null,
            "height": null,
            "justify_content": null,
            "justify_items": null,
            "left": null,
            "margin": null,
            "max_height": null,
            "max_width": null,
            "min_height": null,
            "min_width": null,
            "object_fit": null,
            "object_position": null,
            "order": null,
            "overflow": null,
            "padding": null,
            "right": null,
            "top": null,
            "visibility": null,
            "width": null
          }
        },
        "6d89a0d5c6674ef0abce8e6144dd53d4": {
          "model_module": "@jupyter-widgets/controls",
          "model_name": "HTMLStyleModel",
          "model_module_version": "2.0.0",
          "state": {
            "_model_module": "@jupyter-widgets/controls",
            "_model_module_version": "2.0.0",
            "_model_name": "HTMLStyleModel",
            "_view_count": null,
            "_view_module": "@jupyter-widgets/base",
            "_view_module_version": "2.0.0",
            "_view_name": "StyleView",
            "background": null,
            "description_width": "",
            "font_size": null,
            "text_color": null
          }
        },
        "80fd2fc9024a4628b3500e7b473ade2a": {
          "model_module": "@jupyter-widgets/controls",
          "model_name": "HBoxModel",
          "model_module_version": "2.0.0",
          "state": {
            "_dom_classes": [],
            "_model_module": "@jupyter-widgets/controls",
            "_model_module_version": "2.0.0",
            "_model_name": "HBoxModel",
            "_view_count": null,
            "_view_module": "@jupyter-widgets/controls",
            "_view_module_version": "2.0.0",
            "_view_name": "HBoxView",
            "box_style": "",
            "children": [
              "IPY_MODEL_6012581151d743b286a7eb869b9e2859",
              "IPY_MODEL_777960ffa92546f282e024911341fa3f",
              "IPY_MODEL_67d019e767c64c9ab6ce68732a5ff88d"
            ],
            "layout": "IPY_MODEL_4a86e740628049baa2bc731d85d062ab",
            "tabbable": null,
            "tooltip": null
          }
        },
        "6012581151d743b286a7eb869b9e2859": {
          "model_module": "@jupyter-widgets/controls",
          "model_name": "HTMLModel",
          "model_module_version": "2.0.0",
          "state": {
            "_dom_classes": [],
            "_model_module": "@jupyter-widgets/controls",
            "_model_module_version": "2.0.0",
            "_model_name": "HTMLModel",
            "_view_count": null,
            "_view_module": "@jupyter-widgets/controls",
            "_view_module_version": "2.0.0",
            "_view_name": "HTMLView",
            "description": "",
            "description_allow_html": false,
            "layout": "IPY_MODEL_dea8c83784084ac5a776da0fc3698fc4",
            "placeholder": "​",
            "style": "IPY_MODEL_927782b06acb4e409711d709f8b263ef",
            "tabbable": null,
            "tooltip": null,
            "value": "Downloading pytorch_model.bin: 100%"
          }
        },
        "777960ffa92546f282e024911341fa3f": {
          "model_module": "@jupyter-widgets/controls",
          "model_name": "FloatProgressModel",
          "model_module_version": "2.0.0",
          "state": {
            "_dom_classes": [],
            "_model_module": "@jupyter-widgets/controls",
            "_model_module_version": "2.0.0",
            "_model_name": "FloatProgressModel",
            "_view_count": null,
            "_view_module": "@jupyter-widgets/controls",
            "_view_module_version": "2.0.0",
            "_view_name": "ProgressView",
            "bar_style": "success",
            "description": "",
            "description_allow_html": false,
            "layout": "IPY_MODEL_d0051cafe7ff4220b500e7d1cffc5d5f",
            "max": 2028800502,
            "min": 0,
            "orientation": "horizontal",
            "style": "IPY_MODEL_880d501cc8c44c7a9ebf057b941c24e6",
            "tabbable": null,
            "tooltip": null,
            "value": 2028800502
          }
        },
        "67d019e767c64c9ab6ce68732a5ff88d": {
          "model_module": "@jupyter-widgets/controls",
          "model_name": "HTMLModel",
          "model_module_version": "2.0.0",
          "state": {
            "_dom_classes": [],
            "_model_module": "@jupyter-widgets/controls",
            "_model_module_version": "2.0.0",
            "_model_name": "HTMLModel",
            "_view_count": null,
            "_view_module": "@jupyter-widgets/controls",
            "_view_module_version": "2.0.0",
            "_view_name": "HTMLView",
            "description": "",
            "description_allow_html": false,
            "layout": "IPY_MODEL_f48f4a326e264f20bb52bd72b7456b11",
            "placeholder": "​",
            "style": "IPY_MODEL_cbd49df74e7a471285535615af41dccf",
            "tabbable": null,
            "tooltip": null,
            "value": " 1.89G/1.89G [00:38&lt;00:00, 55.4MB/s]"
          }
        },
        "4a86e740628049baa2bc731d85d062ab": {
          "model_module": "@jupyter-widgets/base",
          "model_name": "LayoutModel",
          "model_module_version": "2.0.0",
          "state": {
            "_model_module": "@jupyter-widgets/base",
            "_model_module_version": "2.0.0",
            "_model_name": "LayoutModel",
            "_view_count": null,
            "_view_module": "@jupyter-widgets/base",
            "_view_module_version": "2.0.0",
            "_view_name": "LayoutView",
            "align_content": null,
            "align_items": null,
            "align_self": null,
            "border_bottom": null,
            "border_left": null,
            "border_right": null,
            "border_top": null,
            "bottom": null,
            "display": null,
            "flex": null,
            "flex_flow": null,
            "grid_area": null,
            "grid_auto_columns": null,
            "grid_auto_flow": null,
            "grid_auto_rows": null,
            "grid_column": null,
            "grid_gap": null,
            "grid_row": null,
            "grid_template_areas": null,
            "grid_template_columns": null,
            "grid_template_rows": null,
            "height": null,
            "justify_content": null,
            "justify_items": null,
            "left": null,
            "margin": null,
            "max_height": null,
            "max_width": null,
            "min_height": null,
            "min_width": null,
            "object_fit": null,
            "object_position": null,
            "order": null,
            "overflow": null,
            "padding": null,
            "right": null,
            "top": null,
            "visibility": null,
            "width": null
          }
        },
        "dea8c83784084ac5a776da0fc3698fc4": {
          "model_module": "@jupyter-widgets/base",
          "model_name": "LayoutModel",
          "model_module_version": "2.0.0",
          "state": {
            "_model_module": "@jupyter-widgets/base",
            "_model_module_version": "2.0.0",
            "_model_name": "LayoutModel",
            "_view_count": null,
            "_view_module": "@jupyter-widgets/base",
            "_view_module_version": "2.0.0",
            "_view_name": "LayoutView",
            "align_content": null,
            "align_items": null,
            "align_self": null,
            "border_bottom": null,
            "border_left": null,
            "border_right": null,
            "border_top": null,
            "bottom": null,
            "display": null,
            "flex": null,
            "flex_flow": null,
            "grid_area": null,
            "grid_auto_columns": null,
            "grid_auto_flow": null,
            "grid_auto_rows": null,
            "grid_column": null,
            "grid_gap": null,
            "grid_row": null,
            "grid_template_areas": null,
            "grid_template_columns": null,
            "grid_template_rows": null,
            "height": null,
            "justify_content": null,
            "justify_items": null,
            "left": null,
            "margin": null,
            "max_height": null,
            "max_width": null,
            "min_height": null,
            "min_width": null,
            "object_fit": null,
            "object_position": null,
            "order": null,
            "overflow": null,
            "padding": null,
            "right": null,
            "top": null,
            "visibility": null,
            "width": null
          }
        },
        "927782b06acb4e409711d709f8b263ef": {
          "model_module": "@jupyter-widgets/controls",
          "model_name": "HTMLStyleModel",
          "model_module_version": "2.0.0",
          "state": {
            "_model_module": "@jupyter-widgets/controls",
            "_model_module_version": "2.0.0",
            "_model_name": "HTMLStyleModel",
            "_view_count": null,
            "_view_module": "@jupyter-widgets/base",
            "_view_module_version": "2.0.0",
            "_view_name": "StyleView",
            "background": null,
            "description_width": "",
            "font_size": null,
            "text_color": null
          }
        },
        "d0051cafe7ff4220b500e7d1cffc5d5f": {
          "model_module": "@jupyter-widgets/base",
          "model_name": "LayoutModel",
          "model_module_version": "2.0.0",
          "state": {
            "_model_module": "@jupyter-widgets/base",
            "_model_module_version": "2.0.0",
            "_model_name": "LayoutModel",
            "_view_count": null,
            "_view_module": "@jupyter-widgets/base",
            "_view_module_version": "2.0.0",
            "_view_name": "LayoutView",
            "align_content": null,
            "align_items": null,
            "align_self": null,
            "border_bottom": null,
            "border_left": null,
            "border_right": null,
            "border_top": null,
            "bottom": null,
            "display": null,
            "flex": null,
            "flex_flow": null,
            "grid_area": null,
            "grid_auto_columns": null,
            "grid_auto_flow": null,
            "grid_auto_rows": null,
            "grid_column": null,
            "grid_gap": null,
            "grid_row": null,
            "grid_template_areas": null,
            "grid_template_columns": null,
            "grid_template_rows": null,
            "height": null,
            "justify_content": null,
            "justify_items": null,
            "left": null,
            "margin": null,
            "max_height": null,
            "max_width": null,
            "min_height": null,
            "min_width": null,
            "object_fit": null,
            "object_position": null,
            "order": null,
            "overflow": null,
            "padding": null,
            "right": null,
            "top": null,
            "visibility": null,
            "width": null
          }
        },
        "880d501cc8c44c7a9ebf057b941c24e6": {
          "model_module": "@jupyter-widgets/controls",
          "model_name": "ProgressStyleModel",
          "model_module_version": "2.0.0",
          "state": {
            "_model_module": "@jupyter-widgets/controls",
            "_model_module_version": "2.0.0",
            "_model_name": "ProgressStyleModel",
            "_view_count": null,
            "_view_module": "@jupyter-widgets/base",
            "_view_module_version": "2.0.0",
            "_view_name": "StyleView",
            "bar_color": null,
            "description_width": ""
          }
        },
        "f48f4a326e264f20bb52bd72b7456b11": {
          "model_module": "@jupyter-widgets/base",
          "model_name": "LayoutModel",
          "model_module_version": "2.0.0",
          "state": {
            "_model_module": "@jupyter-widgets/base",
            "_model_module_version": "2.0.0",
            "_model_name": "LayoutModel",
            "_view_count": null,
            "_view_module": "@jupyter-widgets/base",
            "_view_module_version": "2.0.0",
            "_view_name": "LayoutView",
            "align_content": null,
            "align_items": null,
            "align_self": null,
            "border_bottom": null,
            "border_left": null,
            "border_right": null,
            "border_top": null,
            "bottom": null,
            "display": null,
            "flex": null,
            "flex_flow": null,
            "grid_area": null,
            "grid_auto_columns": null,
            "grid_auto_flow": null,
            "grid_auto_rows": null,
            "grid_column": null,
            "grid_gap": null,
            "grid_row": null,
            "grid_template_areas": null,
            "grid_template_columns": null,
            "grid_template_rows": null,
            "height": null,
            "justify_content": null,
            "justify_items": null,
            "left": null,
            "margin": null,
            "max_height": null,
            "max_width": null,
            "min_height": null,
            "min_width": null,
            "object_fit": null,
            "object_position": null,
            "order": null,
            "overflow": null,
            "padding": null,
            "right": null,
            "top": null,
            "visibility": null,
            "width": null
          }
        },
        "cbd49df74e7a471285535615af41dccf": {
          "model_module": "@jupyter-widgets/controls",
          "model_name": "HTMLStyleModel",
          "model_module_version": "2.0.0",
          "state": {
            "_model_module": "@jupyter-widgets/controls",
            "_model_module_version": "2.0.0",
            "_model_name": "HTMLStyleModel",
            "_view_count": null,
            "_view_module": "@jupyter-widgets/base",
            "_view_module_version": "2.0.0",
            "_view_name": "StyleView",
            "background": null,
            "description_width": "",
            "font_size": null,
            "text_color": null
          }
        },
        "e97cc2a457e748beb45439c8ff704cf3": {
          "model_module": "@jupyter-widgets/controls",
          "model_name": "HBoxModel",
          "model_module_version": "2.0.0",
          "state": {
            "_dom_classes": [],
            "_model_module": "@jupyter-widgets/controls",
            "_model_module_version": "2.0.0",
            "_model_name": "HBoxModel",
            "_view_count": null,
            "_view_module": "@jupyter-widgets/controls",
            "_view_module_version": "2.0.0",
            "_view_name": "HBoxView",
            "box_style": "",
            "children": [
              "IPY_MODEL_66b1c99edd204208b1e7ad33ad3cb4e1",
              "IPY_MODEL_a26f06baf1884e43b83e2436f2abef30",
              "IPY_MODEL_b7338c2b78e248249c85fb7019f5f311"
            ],
            "layout": "IPY_MODEL_e9a601e0bad54197b8fb9fc2167cf752",
            "tabbable": null,
            "tooltip": null
          }
        },
        "66b1c99edd204208b1e7ad33ad3cb4e1": {
          "model_module": "@jupyter-widgets/controls",
          "model_name": "HTMLModel",
          "model_module_version": "2.0.0",
          "state": {
            "_dom_classes": [],
            "_model_module": "@jupyter-widgets/controls",
            "_model_module_version": "2.0.0",
            "_model_name": "HTMLModel",
            "_view_count": null,
            "_view_module": "@jupyter-widgets/controls",
            "_view_module_version": "2.0.0",
            "_view_name": "HTMLView",
            "description": "",
            "description_allow_html": false,
            "layout": "IPY_MODEL_0aaa8d4f38914e08aeeb593289cbe8e8",
            "placeholder": "​",
            "style": "IPY_MODEL_dc28398ca9cc4fb187cf064dbc58a4a5",
            "tabbable": null,
            "tooltip": null,
            "value": "Downloading tokenizer_config.json: 100%"
          }
        },
        "a26f06baf1884e43b83e2436f2abef30": {
          "model_module": "@jupyter-widgets/controls",
          "model_name": "FloatProgressModel",
          "model_module_version": "2.0.0",
          "state": {
            "_dom_classes": [],
            "_model_module": "@jupyter-widgets/controls",
            "_model_module_version": "2.0.0",
            "_model_name": "FloatProgressModel",
            "_view_count": null,
            "_view_module": "@jupyter-widgets/controls",
            "_view_module_version": "2.0.0",
            "_view_name": "ProgressView",
            "bar_style": "success",
            "description": "",
            "description_allow_html": false,
            "layout": "IPY_MODEL_5ba69fbe8cd74e9f93ea9e0bc111ba34",
            "max": 181,
            "min": 0,
            "orientation": "horizontal",
            "style": "IPY_MODEL_5327d5e5b8004445bd9ce82549902897",
            "tabbable": null,
            "tooltip": null,
            "value": 181
          }
        },
        "b7338c2b78e248249c85fb7019f5f311": {
          "model_module": "@jupyter-widgets/controls",
          "model_name": "HTMLModel",
          "model_module_version": "2.0.0",
          "state": {
            "_dom_classes": [],
            "_model_module": "@jupyter-widgets/controls",
            "_model_module_version": "2.0.0",
            "_model_name": "HTMLModel",
            "_view_count": null,
            "_view_module": "@jupyter-widgets/controls",
            "_view_module_version": "2.0.0",
            "_view_name": "HTMLView",
            "description": "",
            "description_allow_html": false,
            "layout": "IPY_MODEL_7fd7043d40c94719a307465194a6bb6f",
            "placeholder": "​",
            "style": "IPY_MODEL_4aac11e86a8d4ff0973967b8bac6ad6e",
            "tabbable": null,
            "tooltip": null,
            "value": " 181/181 [00:00&lt;00:00, 7.22kB/s]"
          }
        },
        "e9a601e0bad54197b8fb9fc2167cf752": {
          "model_module": "@jupyter-widgets/base",
          "model_name": "LayoutModel",
          "model_module_version": "2.0.0",
          "state": {
            "_model_module": "@jupyter-widgets/base",
            "_model_module_version": "2.0.0",
            "_model_name": "LayoutModel",
            "_view_count": null,
            "_view_module": "@jupyter-widgets/base",
            "_view_module_version": "2.0.0",
            "_view_name": "LayoutView",
            "align_content": null,
            "align_items": null,
            "align_self": null,
            "border_bottom": null,
            "border_left": null,
            "border_right": null,
            "border_top": null,
            "bottom": null,
            "display": null,
            "flex": null,
            "flex_flow": null,
            "grid_area": null,
            "grid_auto_columns": null,
            "grid_auto_flow": null,
            "grid_auto_rows": null,
            "grid_column": null,
            "grid_gap": null,
            "grid_row": null,
            "grid_template_areas": null,
            "grid_template_columns": null,
            "grid_template_rows": null,
            "height": null,
            "justify_content": null,
            "justify_items": null,
            "left": null,
            "margin": null,
            "max_height": null,
            "max_width": null,
            "min_height": null,
            "min_width": null,
            "object_fit": null,
            "object_position": null,
            "order": null,
            "overflow": null,
            "padding": null,
            "right": null,
            "top": null,
            "visibility": null,
            "width": null
          }
        },
        "0aaa8d4f38914e08aeeb593289cbe8e8": {
          "model_module": "@jupyter-widgets/base",
          "model_name": "LayoutModel",
          "model_module_version": "2.0.0",
          "state": {
            "_model_module": "@jupyter-widgets/base",
            "_model_module_version": "2.0.0",
            "_model_name": "LayoutModel",
            "_view_count": null,
            "_view_module": "@jupyter-widgets/base",
            "_view_module_version": "2.0.0",
            "_view_name": "LayoutView",
            "align_content": null,
            "align_items": null,
            "align_self": null,
            "border_bottom": null,
            "border_left": null,
            "border_right": null,
            "border_top": null,
            "bottom": null,
            "display": null,
            "flex": null,
            "flex_flow": null,
            "grid_area": null,
            "grid_auto_columns": null,
            "grid_auto_flow": null,
            "grid_auto_rows": null,
            "grid_column": null,
            "grid_gap": null,
            "grid_row": null,
            "grid_template_areas": null,
            "grid_template_columns": null,
            "grid_template_rows": null,
            "height": null,
            "justify_content": null,
            "justify_items": null,
            "left": null,
            "margin": null,
            "max_height": null,
            "max_width": null,
            "min_height": null,
            "min_width": null,
            "object_fit": null,
            "object_position": null,
            "order": null,
            "overflow": null,
            "padding": null,
            "right": null,
            "top": null,
            "visibility": null,
            "width": null
          }
        },
        "dc28398ca9cc4fb187cf064dbc58a4a5": {
          "model_module": "@jupyter-widgets/controls",
          "model_name": "HTMLStyleModel",
          "model_module_version": "2.0.0",
          "state": {
            "_model_module": "@jupyter-widgets/controls",
            "_model_module_version": "2.0.0",
            "_model_name": "HTMLStyleModel",
            "_view_count": null,
            "_view_module": "@jupyter-widgets/base",
            "_view_module_version": "2.0.0",
            "_view_name": "StyleView",
            "background": null,
            "description_width": "",
            "font_size": null,
            "text_color": null
          }
        },
        "5ba69fbe8cd74e9f93ea9e0bc111ba34": {
          "model_module": "@jupyter-widgets/base",
          "model_name": "LayoutModel",
          "model_module_version": "2.0.0",
          "state": {
            "_model_module": "@jupyter-widgets/base",
            "_model_module_version": "2.0.0",
            "_model_name": "LayoutModel",
            "_view_count": null,
            "_view_module": "@jupyter-widgets/base",
            "_view_module_version": "2.0.0",
            "_view_name": "LayoutView",
            "align_content": null,
            "align_items": null,
            "align_self": null,
            "border_bottom": null,
            "border_left": null,
            "border_right": null,
            "border_top": null,
            "bottom": null,
            "display": null,
            "flex": null,
            "flex_flow": null,
            "grid_area": null,
            "grid_auto_columns": null,
            "grid_auto_flow": null,
            "grid_auto_rows": null,
            "grid_column": null,
            "grid_gap": null,
            "grid_row": null,
            "grid_template_areas": null,
            "grid_template_columns": null,
            "grid_template_rows": null,
            "height": null,
            "justify_content": null,
            "justify_items": null,
            "left": null,
            "margin": null,
            "max_height": null,
            "max_width": null,
            "min_height": null,
            "min_width": null,
            "object_fit": null,
            "object_position": null,
            "order": null,
            "overflow": null,
            "padding": null,
            "right": null,
            "top": null,
            "visibility": null,
            "width": null
          }
        },
        "5327d5e5b8004445bd9ce82549902897": {
          "model_module": "@jupyter-widgets/controls",
          "model_name": "ProgressStyleModel",
          "model_module_version": "2.0.0",
          "state": {
            "_model_module": "@jupyter-widgets/controls",
            "_model_module_version": "2.0.0",
            "_model_name": "ProgressStyleModel",
            "_view_count": null,
            "_view_module": "@jupyter-widgets/base",
            "_view_module_version": "2.0.0",
            "_view_name": "StyleView",
            "bar_color": null,
            "description_width": ""
          }
        },
        "7fd7043d40c94719a307465194a6bb6f": {
          "model_module": "@jupyter-widgets/base",
          "model_name": "LayoutModel",
          "model_module_version": "2.0.0",
          "state": {
            "_model_module": "@jupyter-widgets/base",
            "_model_module_version": "2.0.0",
            "_model_name": "LayoutModel",
            "_view_count": null,
            "_view_module": "@jupyter-widgets/base",
            "_view_module_version": "2.0.0",
            "_view_name": "LayoutView",
            "align_content": null,
            "align_items": null,
            "align_self": null,
            "border_bottom": null,
            "border_left": null,
            "border_right": null,
            "border_top": null,
            "bottom": null,
            "display": null,
            "flex": null,
            "flex_flow": null,
            "grid_area": null,
            "grid_auto_columns": null,
            "grid_auto_flow": null,
            "grid_auto_rows": null,
            "grid_column": null,
            "grid_gap": null,
            "grid_row": null,
            "grid_template_areas": null,
            "grid_template_columns": null,
            "grid_template_rows": null,
            "height": null,
            "justify_content": null,
            "justify_items": null,
            "left": null,
            "margin": null,
            "max_height": null,
            "max_width": null,
            "min_height": null,
            "min_width": null,
            "object_fit": null,
            "object_position": null,
            "order": null,
            "overflow": null,
            "padding": null,
            "right": null,
            "top": null,
            "visibility": null,
            "width": null
          }
        },
        "4aac11e86a8d4ff0973967b8bac6ad6e": {
          "model_module": "@jupyter-widgets/controls",
          "model_name": "HTMLStyleModel",
          "model_module_version": "2.0.0",
          "state": {
            "_model_module": "@jupyter-widgets/controls",
            "_model_module_version": "2.0.0",
            "_model_name": "HTMLStyleModel",
            "_view_count": null,
            "_view_module": "@jupyter-widgets/base",
            "_view_module_version": "2.0.0",
            "_view_name": "StyleView",
            "background": null,
            "description_width": "",
            "font_size": null,
            "text_color": null
          }
        },
        "a51437bf2cef46d59c266fd657b4d757": {
          "model_module": "@jupyter-widgets/controls",
          "model_name": "HBoxModel",
          "model_module_version": "2.0.0",
          "state": {
            "_dom_classes": [],
            "_model_module": "@jupyter-widgets/controls",
            "_model_module_version": "2.0.0",
            "_model_name": "HBoxModel",
            "_view_count": null,
            "_view_module": "@jupyter-widgets/controls",
            "_view_module_version": "2.0.0",
            "_view_name": "HBoxView",
            "box_style": "",
            "children": [
              "IPY_MODEL_35251dce68b245409f531401550c13ef",
              "IPY_MODEL_3b4df85e9206473a8399d4fe3dee4a30",
              "IPY_MODEL_41dd261decdd4b4792811ec79c60f358"
            ],
            "layout": "IPY_MODEL_7f05c28466234fbe833ac54690d1cdc2",
            "tabbable": null,
            "tooltip": null
          }
        },
        "35251dce68b245409f531401550c13ef": {
          "model_module": "@jupyter-widgets/controls",
          "model_name": "HTMLModel",
          "model_module_version": "2.0.0",
          "state": {
            "_dom_classes": [],
            "_model_module": "@jupyter-widgets/controls",
            "_model_module_version": "2.0.0",
            "_model_name": "HTMLModel",
            "_view_count": null,
            "_view_module": "@jupyter-widgets/controls",
            "_view_module_version": "2.0.0",
            "_view_name": "HTMLView",
            "description": "",
            "description_allow_html": false,
            "layout": "IPY_MODEL_6064775dc84144cd82edfdda54ad9244",
            "placeholder": "​",
            "style": "IPY_MODEL_5f6ed3fbcb7545729a2d28dc7c73b68e",
            "tabbable": null,
            "tooltip": null,
            "value": "Downloading vocab.txt: 100%"
          }
        },
        "3b4df85e9206473a8399d4fe3dee4a30": {
          "model_module": "@jupyter-widgets/controls",
          "model_name": "FloatProgressModel",
          "model_module_version": "2.0.0",
          "state": {
            "_dom_classes": [],
            "_model_module": "@jupyter-widgets/controls",
            "_model_module_version": "2.0.0",
            "_model_name": "FloatProgressModel",
            "_view_count": null,
            "_view_module": "@jupyter-widgets/controls",
            "_view_module_version": "2.0.0",
            "_view_name": "ProgressView",
            "bar_style": "success",
            "description": "",
            "description_allow_html": false,
            "layout": "IPY_MODEL_8b632bb2f2eb40c78219c98bedbd9ddd",
            "max": 3162999,
            "min": 0,
            "orientation": "horizontal",
            "style": "IPY_MODEL_f02658dbf91340749e0249ca632d0871",
            "tabbable": null,
            "tooltip": null,
            "value": 3162999
          }
        },
        "41dd261decdd4b4792811ec79c60f358": {
          "model_module": "@jupyter-widgets/controls",
          "model_name": "HTMLModel",
          "model_module_version": "2.0.0",
          "state": {
            "_dom_classes": [],
            "_model_module": "@jupyter-widgets/controls",
            "_model_module_version": "2.0.0",
            "_model_name": "HTMLModel",
            "_view_count": null,
            "_view_module": "@jupyter-widgets/controls",
            "_view_module_version": "2.0.0",
            "_view_name": "HTMLView",
            "description": "",
            "description_allow_html": false,
            "layout": "IPY_MODEL_de7c0853b5024ffbb206c095976136bd",
            "placeholder": "​",
            "style": "IPY_MODEL_3469bc5ccc6d44f2ab5027cfd9285b58",
            "tabbable": null,
            "tooltip": null,
            "value": " 3.02M/3.02M [00:00&lt;00:00, 5.64MB/s]"
          }
        },
        "7f05c28466234fbe833ac54690d1cdc2": {
          "model_module": "@jupyter-widgets/base",
          "model_name": "LayoutModel",
          "model_module_version": "2.0.0",
          "state": {
            "_model_module": "@jupyter-widgets/base",
            "_model_module_version": "2.0.0",
            "_model_name": "LayoutModel",
            "_view_count": null,
            "_view_module": "@jupyter-widgets/base",
            "_view_module_version": "2.0.0",
            "_view_name": "LayoutView",
            "align_content": null,
            "align_items": null,
            "align_self": null,
            "border_bottom": null,
            "border_left": null,
            "border_right": null,
            "border_top": null,
            "bottom": null,
            "display": null,
            "flex": null,
            "flex_flow": null,
            "grid_area": null,
            "grid_auto_columns": null,
            "grid_auto_flow": null,
            "grid_auto_rows": null,
            "grid_column": null,
            "grid_gap": null,
            "grid_row": null,
            "grid_template_areas": null,
            "grid_template_columns": null,
            "grid_template_rows": null,
            "height": null,
            "justify_content": null,
            "justify_items": null,
            "left": null,
            "margin": null,
            "max_height": null,
            "max_width": null,
            "min_height": null,
            "min_width": null,
            "object_fit": null,
            "object_position": null,
            "order": null,
            "overflow": null,
            "padding": null,
            "right": null,
            "top": null,
            "visibility": null,
            "width": null
          }
        },
        "6064775dc84144cd82edfdda54ad9244": {
          "model_module": "@jupyter-widgets/base",
          "model_name": "LayoutModel",
          "model_module_version": "2.0.0",
          "state": {
            "_model_module": "@jupyter-widgets/base",
            "_model_module_version": "2.0.0",
            "_model_name": "LayoutModel",
            "_view_count": null,
            "_view_module": "@jupyter-widgets/base",
            "_view_module_version": "2.0.0",
            "_view_name": "LayoutView",
            "align_content": null,
            "align_items": null,
            "align_self": null,
            "border_bottom": null,
            "border_left": null,
            "border_right": null,
            "border_top": null,
            "bottom": null,
            "display": null,
            "flex": null,
            "flex_flow": null,
            "grid_area": null,
            "grid_auto_columns": null,
            "grid_auto_flow": null,
            "grid_auto_rows": null,
            "grid_column": null,
            "grid_gap": null,
            "grid_row": null,
            "grid_template_areas": null,
            "grid_template_columns": null,
            "grid_template_rows": null,
            "height": null,
            "justify_content": null,
            "justify_items": null,
            "left": null,
            "margin": null,
            "max_height": null,
            "max_width": null,
            "min_height": null,
            "min_width": null,
            "object_fit": null,
            "object_position": null,
            "order": null,
            "overflow": null,
            "padding": null,
            "right": null,
            "top": null,
            "visibility": null,
            "width": null
          }
        },
        "5f6ed3fbcb7545729a2d28dc7c73b68e": {
          "model_module": "@jupyter-widgets/controls",
          "model_name": "HTMLStyleModel",
          "model_module_version": "2.0.0",
          "state": {
            "_model_module": "@jupyter-widgets/controls",
            "_model_module_version": "2.0.0",
            "_model_name": "HTMLStyleModel",
            "_view_count": null,
            "_view_module": "@jupyter-widgets/base",
            "_view_module_version": "2.0.0",
            "_view_name": "StyleView",
            "background": null,
            "description_width": "",
            "font_size": null,
            "text_color": null
          }
        },
        "8b632bb2f2eb40c78219c98bedbd9ddd": {
          "model_module": "@jupyter-widgets/base",
          "model_name": "LayoutModel",
          "model_module_version": "2.0.0",
          "state": {
            "_model_module": "@jupyter-widgets/base",
            "_model_module_version": "2.0.0",
            "_model_name": "LayoutModel",
            "_view_count": null,
            "_view_module": "@jupyter-widgets/base",
            "_view_module_version": "2.0.0",
            "_view_name": "LayoutView",
            "align_content": null,
            "align_items": null,
            "align_self": null,
            "border_bottom": null,
            "border_left": null,
            "border_right": null,
            "border_top": null,
            "bottom": null,
            "display": null,
            "flex": null,
            "flex_flow": null,
            "grid_area": null,
            "grid_auto_columns": null,
            "grid_auto_flow": null,
            "grid_auto_rows": null,
            "grid_column": null,
            "grid_gap": null,
            "grid_row": null,
            "grid_template_areas": null,
            "grid_template_columns": null,
            "grid_template_rows": null,
            "height": null,
            "justify_content": null,
            "justify_items": null,
            "left": null,
            "margin": null,
            "max_height": null,
            "max_width": null,
            "min_height": null,
            "min_width": null,
            "object_fit": null,
            "object_position": null,
            "order": null,
            "overflow": null,
            "padding": null,
            "right": null,
            "top": null,
            "visibility": null,
            "width": null
          }
        },
        "f02658dbf91340749e0249ca632d0871": {
          "model_module": "@jupyter-widgets/controls",
          "model_name": "ProgressStyleModel",
          "model_module_version": "2.0.0",
          "state": {
            "_model_module": "@jupyter-widgets/controls",
            "_model_module_version": "2.0.0",
            "_model_name": "ProgressStyleModel",
            "_view_count": null,
            "_view_module": "@jupyter-widgets/base",
            "_view_module_version": "2.0.0",
            "_view_name": "StyleView",
            "bar_color": null,
            "description_width": ""
          }
        },
        "de7c0853b5024ffbb206c095976136bd": {
          "model_module": "@jupyter-widgets/base",
          "model_name": "LayoutModel",
          "model_module_version": "2.0.0",
          "state": {
            "_model_module": "@jupyter-widgets/base",
            "_model_module_version": "2.0.0",
            "_model_name": "LayoutModel",
            "_view_count": null,
            "_view_module": "@jupyter-widgets/base",
            "_view_module_version": "2.0.0",
            "_view_name": "LayoutView",
            "align_content": null,
            "align_items": null,
            "align_self": null,
            "border_bottom": null,
            "border_left": null,
            "border_right": null,
            "border_top": null,
            "bottom": null,
            "display": null,
            "flex": null,
            "flex_flow": null,
            "grid_area": null,
            "grid_auto_columns": null,
            "grid_auto_flow": null,
            "grid_auto_rows": null,
            "grid_column": null,
            "grid_gap": null,
            "grid_row": null,
            "grid_template_areas": null,
            "grid_template_columns": null,
            "grid_template_rows": null,
            "height": null,
            "justify_content": null,
            "justify_items": null,
            "left": null,
            "margin": null,
            "max_height": null,
            "max_width": null,
            "min_height": null,
            "min_width": null,
            "object_fit": null,
            "object_position": null,
            "order": null,
            "overflow": null,
            "padding": null,
            "right": null,
            "top": null,
            "visibility": null,
            "width": null
          }
        },
        "3469bc5ccc6d44f2ab5027cfd9285b58": {
          "model_module": "@jupyter-widgets/controls",
          "model_name": "HTMLStyleModel",
          "model_module_version": "2.0.0",
          "state": {
            "_model_module": "@jupyter-widgets/controls",
            "_model_module_version": "2.0.0",
            "_model_name": "HTMLStyleModel",
            "_view_count": null,
            "_view_module": "@jupyter-widgets/base",
            "_view_module_version": "2.0.0",
            "_view_name": "StyleView",
            "background": null,
            "description_width": "",
            "font_size": null,
            "text_color": null
          }
        },
        "dcf4662a9fa040f7b4ab3936a795bda8": {
          "model_module": "@jupyter-widgets/controls",
          "model_name": "HBoxModel",
          "model_module_version": "2.0.0",
          "state": {
            "_dom_classes": [],
            "_model_module": "@jupyter-widgets/controls",
            "_model_module_version": "2.0.0",
            "_model_name": "HBoxModel",
            "_view_count": null,
            "_view_module": "@jupyter-widgets/controls",
            "_view_module_version": "2.0.0",
            "_view_name": "HBoxView",
            "box_style": "",
            "children": [
              "IPY_MODEL_a32642fe9a07458990b68d8da8a02956",
              "IPY_MODEL_11925ea8e5ae4cd5bc51d0add972b11d",
              "IPY_MODEL_df5203e2db1341c9a0734dc19feb911e"
            ],
            "layout": "IPY_MODEL_6033433dbb2b49489e5f1cb6a967068a",
            "tabbable": null,
            "tooltip": null
          }
        },
        "a32642fe9a07458990b68d8da8a02956": {
          "model_module": "@jupyter-widgets/controls",
          "model_name": "HTMLModel",
          "model_module_version": "2.0.0",
          "state": {
            "_dom_classes": [],
            "_model_module": "@jupyter-widgets/controls",
            "_model_module_version": "2.0.0",
            "_model_name": "HTMLModel",
            "_view_count": null,
            "_view_module": "@jupyter-widgets/controls",
            "_view_module_version": "2.0.0",
            "_view_name": "HTMLView",
            "description": "",
            "description_allow_html": false,
            "layout": "IPY_MODEL_cfb5bbb6dee444f193b219ca482f4440",
            "placeholder": "​",
            "style": "IPY_MODEL_d09cf4b1e6c842449beb7a71b1e88217",
            "tabbable": null,
            "tooltip": null,
            "value": "Downloading special_tokens_map.json: 100%"
          }
        },
        "11925ea8e5ae4cd5bc51d0add972b11d": {
          "model_module": "@jupyter-widgets/controls",
          "model_name": "FloatProgressModel",
          "model_module_version": "2.0.0",
          "state": {
            "_dom_classes": [],
            "_model_module": "@jupyter-widgets/controls",
            "_model_module_version": "2.0.0",
            "_model_name": "FloatProgressModel",
            "_view_count": null,
            "_view_module": "@jupyter-widgets/controls",
            "_view_module_version": "2.0.0",
            "_view_name": "ProgressView",
            "bar_style": "success",
            "description": "",
            "description_allow_html": false,
            "layout": "IPY_MODEL_13e040d4c5b3463bad8c569110e632c2",
            "max": 112,
            "min": 0,
            "orientation": "horizontal",
            "style": "IPY_MODEL_2f44bde433264bf39cfd2408cfc2af75",
            "tabbable": null,
            "tooltip": null,
            "value": 112
          }
        },
        "df5203e2db1341c9a0734dc19feb911e": {
          "model_module": "@jupyter-widgets/controls",
          "model_name": "HTMLModel",
          "model_module_version": "2.0.0",
          "state": {
            "_dom_classes": [],
            "_model_module": "@jupyter-widgets/controls",
            "_model_module_version": "2.0.0",
            "_model_name": "HTMLModel",
            "_view_count": null,
            "_view_module": "@jupyter-widgets/controls",
            "_view_module_version": "2.0.0",
            "_view_name": "HTMLView",
            "description": "",
            "description_allow_html": false,
            "layout": "IPY_MODEL_141c274df2ec4068934bfc803511dfd2",
            "placeholder": "​",
            "style": "IPY_MODEL_3225c021185f4ae9b2aa6b351bc93571",
            "tabbable": null,
            "tooltip": null,
            "value": " 112/112 [00:00&lt;00:00, 4.79kB/s]"
          }
        },
        "6033433dbb2b49489e5f1cb6a967068a": {
          "model_module": "@jupyter-widgets/base",
          "model_name": "LayoutModel",
          "model_module_version": "2.0.0",
          "state": {
            "_model_module": "@jupyter-widgets/base",
            "_model_module_version": "2.0.0",
            "_model_name": "LayoutModel",
            "_view_count": null,
            "_view_module": "@jupyter-widgets/base",
            "_view_module_version": "2.0.0",
            "_view_name": "LayoutView",
            "align_content": null,
            "align_items": null,
            "align_self": null,
            "border_bottom": null,
            "border_left": null,
            "border_right": null,
            "border_top": null,
            "bottom": null,
            "display": null,
            "flex": null,
            "flex_flow": null,
            "grid_area": null,
            "grid_auto_columns": null,
            "grid_auto_flow": null,
            "grid_auto_rows": null,
            "grid_column": null,
            "grid_gap": null,
            "grid_row": null,
            "grid_template_areas": null,
            "grid_template_columns": null,
            "grid_template_rows": null,
            "height": null,
            "justify_content": null,
            "justify_items": null,
            "left": null,
            "margin": null,
            "max_height": null,
            "max_width": null,
            "min_height": null,
            "min_width": null,
            "object_fit": null,
            "object_position": null,
            "order": null,
            "overflow": null,
            "padding": null,
            "right": null,
            "top": null,
            "visibility": null,
            "width": null
          }
        },
        "cfb5bbb6dee444f193b219ca482f4440": {
          "model_module": "@jupyter-widgets/base",
          "model_name": "LayoutModel",
          "model_module_version": "2.0.0",
          "state": {
            "_model_module": "@jupyter-widgets/base",
            "_model_module_version": "2.0.0",
            "_model_name": "LayoutModel",
            "_view_count": null,
            "_view_module": "@jupyter-widgets/base",
            "_view_module_version": "2.0.0",
            "_view_name": "LayoutView",
            "align_content": null,
            "align_items": null,
            "align_self": null,
            "border_bottom": null,
            "border_left": null,
            "border_right": null,
            "border_top": null,
            "bottom": null,
            "display": null,
            "flex": null,
            "flex_flow": null,
            "grid_area": null,
            "grid_auto_columns": null,
            "grid_auto_flow": null,
            "grid_auto_rows": null,
            "grid_column": null,
            "grid_gap": null,
            "grid_row": null,
            "grid_template_areas": null,
            "grid_template_columns": null,
            "grid_template_rows": null,
            "height": null,
            "justify_content": null,
            "justify_items": null,
            "left": null,
            "margin": null,
            "max_height": null,
            "max_width": null,
            "min_height": null,
            "min_width": null,
            "object_fit": null,
            "object_position": null,
            "order": null,
            "overflow": null,
            "padding": null,
            "right": null,
            "top": null,
            "visibility": null,
            "width": null
          }
        },
        "d09cf4b1e6c842449beb7a71b1e88217": {
          "model_module": "@jupyter-widgets/controls",
          "model_name": "HTMLStyleModel",
          "model_module_version": "2.0.0",
          "state": {
            "_model_module": "@jupyter-widgets/controls",
            "_model_module_version": "2.0.0",
            "_model_name": "HTMLStyleModel",
            "_view_count": null,
            "_view_module": "@jupyter-widgets/base",
            "_view_module_version": "2.0.0",
            "_view_name": "StyleView",
            "background": null,
            "description_width": "",
            "font_size": null,
            "text_color": null
          }
        },
        "13e040d4c5b3463bad8c569110e632c2": {
          "model_module": "@jupyter-widgets/base",
          "model_name": "LayoutModel",
          "model_module_version": "2.0.0",
          "state": {
            "_model_module": "@jupyter-widgets/base",
            "_model_module_version": "2.0.0",
            "_model_name": "LayoutModel",
            "_view_count": null,
            "_view_module": "@jupyter-widgets/base",
            "_view_module_version": "2.0.0",
            "_view_name": "LayoutView",
            "align_content": null,
            "align_items": null,
            "align_self": null,
            "border_bottom": null,
            "border_left": null,
            "border_right": null,
            "border_top": null,
            "bottom": null,
            "display": null,
            "flex": null,
            "flex_flow": null,
            "grid_area": null,
            "grid_auto_columns": null,
            "grid_auto_flow": null,
            "grid_auto_rows": null,
            "grid_column": null,
            "grid_gap": null,
            "grid_row": null,
            "grid_template_areas": null,
            "grid_template_columns": null,
            "grid_template_rows": null,
            "height": null,
            "justify_content": null,
            "justify_items": null,
            "left": null,
            "margin": null,
            "max_height": null,
            "max_width": null,
            "min_height": null,
            "min_width": null,
            "object_fit": null,
            "object_position": null,
            "order": null,
            "overflow": null,
            "padding": null,
            "right": null,
            "top": null,
            "visibility": null,
            "width": null
          }
        },
        "2f44bde433264bf39cfd2408cfc2af75": {
          "model_module": "@jupyter-widgets/controls",
          "model_name": "ProgressStyleModel",
          "model_module_version": "2.0.0",
          "state": {
            "_model_module": "@jupyter-widgets/controls",
            "_model_module_version": "2.0.0",
            "_model_name": "ProgressStyleModel",
            "_view_count": null,
            "_view_module": "@jupyter-widgets/base",
            "_view_module_version": "2.0.0",
            "_view_name": "StyleView",
            "bar_color": null,
            "description_width": ""
          }
        },
        "141c274df2ec4068934bfc803511dfd2": {
          "model_module": "@jupyter-widgets/base",
          "model_name": "LayoutModel",
          "model_module_version": "2.0.0",
          "state": {
            "_model_module": "@jupyter-widgets/base",
            "_model_module_version": "2.0.0",
            "_model_name": "LayoutModel",
            "_view_count": null,
            "_view_module": "@jupyter-widgets/base",
            "_view_module_version": "2.0.0",
            "_view_name": "LayoutView",
            "align_content": null,
            "align_items": null,
            "align_self": null,
            "border_bottom": null,
            "border_left": null,
            "border_right": null,
            "border_top": null,
            "bottom": null,
            "display": null,
            "flex": null,
            "flex_flow": null,
            "grid_area": null,
            "grid_auto_columns": null,
            "grid_auto_flow": null,
            "grid_auto_rows": null,
            "grid_column": null,
            "grid_gap": null,
            "grid_row": null,
            "grid_template_areas": null,
            "grid_template_columns": null,
            "grid_template_rows": null,
            "height": null,
            "justify_content": null,
            "justify_items": null,
            "left": null,
            "margin": null,
            "max_height": null,
            "max_width": null,
            "min_height": null,
            "min_width": null,
            "object_fit": null,
            "object_position": null,
            "order": null,
            "overflow": null,
            "padding": null,
            "right": null,
            "top": null,
            "visibility": null,
            "width": null
          }
        },
        "3225c021185f4ae9b2aa6b351bc93571": {
          "model_module": "@jupyter-widgets/controls",
          "model_name": "HTMLStyleModel",
          "model_module_version": "2.0.0",
          "state": {
            "_model_module": "@jupyter-widgets/controls",
            "_model_module_version": "2.0.0",
            "_model_name": "HTMLStyleModel",
            "_view_count": null,
            "_view_module": "@jupyter-widgets/base",
            "_view_module_version": "2.0.0",
            "_view_name": "StyleView",
            "background": null,
            "description_width": "",
            "font_size": null,
            "text_color": null
          }
        }
      }
    }
  },
  "nbformat": 4,
  "nbformat_minor": 0
}
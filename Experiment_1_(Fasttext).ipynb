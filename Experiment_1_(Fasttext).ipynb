{
  "cells": [
    {
      "cell_type": "markdown",
      "metadata": {
        "id": "JWOT8ThmsFpb"
      },
      "source": [
        "# Importing required Libraries"
      ]
    },
    {
      "cell_type": "code",
      "execution_count": 1,
      "metadata": {
        "id": "Ei3695CRSsd6"
      },
      "outputs": [],
      "source": [
        "#--importing required libraries-----------\n",
        "import matplotlib.pyplot as plt # plotting\n",
        "import numpy as np # linear algebra\n",
        "import os # accessing directory structure\n",
        "import pandas as pd # data processing, CSV file I/O (e.g. pd.read_csv)\n",
        "import re\n",
        "from collections import Counter"
      ]
    },
    {
      "cell_type": "markdown",
      "metadata": {
        "id": "840XcFsAh5hT"
      },
      "source": [
        "## Reading the news dataset input file"
      ]
    },
    {
      "cell_type": "code",
      "execution_count": 2,
      "metadata": {
        "id": "WSoMeRyKTYda"
      },
      "outputs": [],
      "source": [
        "data = pd.ExcelFile('News Dataset.xlsx')\n",
        "df_nd = data.parse(\"train\")\n"
      ]
    },
    {
      "cell_type": "code",
      "execution_count": 3,
      "metadata": {
        "colab": {
          "base_uri": "https://localhost:8080/",
          "height": 363
        },
        "id": "Z7SW9wizUDG4",
        "outputId": "972ac3be-8965-4f96-fd33-c68bf92643e5"
      },
      "outputs": [
        {
          "output_type": "execute_result",
          "data": {
            "text/plain": [
              "                                                text       category sentiment  \\\n",
              "0  കൊച്ചി ചെരുപ്പ് വിതരണ കേന്ദ്രത്തിലെ തീപിടിത്തം...       business  negative   \n",
              "1  ഈ​​​സ്റ്റേ​​​ണ്‍ ക​​​റി പൗ​​​ഡ​​​റി​​​ന് പു​​​...       business  positive   \n",
              "2      ശ്രീശാന്തിന്റെ ആജീവനാന്ത വിലക്ക് പിന്‍വലിച്ചു         sports  positive   \n",
              "3  റയല്‍ മാഡ്രിഡിനെ ഞെട്ടിച്ച യുവതാരം ബ്രസീല്‍ ടീ...         sports  positive   \n",
              "4  എനിക്ക് ശ്രീനിവാസന്‍ ആകേണ്ട, ലോഹിതദാസ് മതി : ക...  entertainment   neutral   \n",
              "5  മുല്ലപ്പൂ വിപ്ലവം ഇന്നു മുതല്‍, തിയറ്റര്‍ ലിസ്...  entertainment  positive   \n",
              "6  'അനാന്‍' ചിത്രത്തിന്‍റെ പുതിയ പോസ്റ്റര്‍ പുറത്...  entertainment  positive   \n",
              "7                         മുകേഷ് അംബാനി കുതിക്കുന്നു       business  positive   \n",
              "8  കിസാന്‍ സമ്മാന്‍ നിധിക്കായി സംസ്ഥാനത്തെ കൃഷിഭവ...       business  positive   \n",
              "9  \\nഒടുവില്‍ ടി വി ചന്ദ്രന്‍ അയ്യപ്പനോടുള്ള വാക്...  entertainment  positive   \n",
              "\n",
              "       offensive  \n",
              "0      Offensive  \n",
              "1  Not Offensive  \n",
              "2  Not Offensive  \n",
              "3  Not Offensive  \n",
              "4      Offensive  \n",
              "5            NaN  \n",
              "6            NaN  \n",
              "7            NaN  \n",
              "8            NaN  \n",
              "9            NaN  "
            ],
            "text/html": [
              "\n",
              "  <div id=\"df-bf15c767-ecce-4d64-a3d2-e8eb50b873b3\">\n",
              "    <div class=\"colab-df-container\">\n",
              "      <div>\n",
              "<style scoped>\n",
              "    .dataframe tbody tr th:only-of-type {\n",
              "        vertical-align: middle;\n",
              "    }\n",
              "\n",
              "    .dataframe tbody tr th {\n",
              "        vertical-align: top;\n",
              "    }\n",
              "\n",
              "    .dataframe thead th {\n",
              "        text-align: right;\n",
              "    }\n",
              "</style>\n",
              "<table border=\"1\" class=\"dataframe\">\n",
              "  <thead>\n",
              "    <tr style=\"text-align: right;\">\n",
              "      <th></th>\n",
              "      <th>text</th>\n",
              "      <th>category</th>\n",
              "      <th>sentiment</th>\n",
              "      <th>offensive</th>\n",
              "    </tr>\n",
              "  </thead>\n",
              "  <tbody>\n",
              "    <tr>\n",
              "      <th>0</th>\n",
              "      <td>കൊച്ചി ചെരുപ്പ് വിതരണ കേന്ദ്രത്തിലെ തീപിടിത്തം...</td>\n",
              "      <td>business</td>\n",
              "      <td>negative</td>\n",
              "      <td>Offensive</td>\n",
              "    </tr>\n",
              "    <tr>\n",
              "      <th>1</th>\n",
              "      <td>ഈ​​​സ്റ്റേ​​​ണ്‍ ക​​​റി പൗ​​​ഡ​​​റി​​​ന് പു​​​...</td>\n",
              "      <td>business</td>\n",
              "      <td>positive</td>\n",
              "      <td>Not Offensive</td>\n",
              "    </tr>\n",
              "    <tr>\n",
              "      <th>2</th>\n",
              "      <td>ശ്രീശാന്തിന്റെ ആജീവനാന്ത വിലക്ക് പിന്‍വലിച്ചു</td>\n",
              "      <td>sports</td>\n",
              "      <td>positive</td>\n",
              "      <td>Not Offensive</td>\n",
              "    </tr>\n",
              "    <tr>\n",
              "      <th>3</th>\n",
              "      <td>റയല്‍ മാഡ്രിഡിനെ ഞെട്ടിച്ച യുവതാരം ബ്രസീല്‍ ടീ...</td>\n",
              "      <td>sports</td>\n",
              "      <td>positive</td>\n",
              "      <td>Not Offensive</td>\n",
              "    </tr>\n",
              "    <tr>\n",
              "      <th>4</th>\n",
              "      <td>എനിക്ക് ശ്രീനിവാസന്‍ ആകേണ്ട, ലോഹിതദാസ് മതി : ക...</td>\n",
              "      <td>entertainment</td>\n",
              "      <td>neutral</td>\n",
              "      <td>Offensive</td>\n",
              "    </tr>\n",
              "    <tr>\n",
              "      <th>5</th>\n",
              "      <td>മുല്ലപ്പൂ വിപ്ലവം ഇന്നു മുതല്‍, തിയറ്റര്‍ ലിസ്...</td>\n",
              "      <td>entertainment</td>\n",
              "      <td>positive</td>\n",
              "      <td>NaN</td>\n",
              "    </tr>\n",
              "    <tr>\n",
              "      <th>6</th>\n",
              "      <td>'അനാന്‍' ചിത്രത്തിന്‍റെ പുതിയ പോസ്റ്റര്‍ പുറത്...</td>\n",
              "      <td>entertainment</td>\n",
              "      <td>positive</td>\n",
              "      <td>NaN</td>\n",
              "    </tr>\n",
              "    <tr>\n",
              "      <th>7</th>\n",
              "      <td>മുകേഷ് അംബാനി കുതിക്കുന്നു</td>\n",
              "      <td>business</td>\n",
              "      <td>positive</td>\n",
              "      <td>NaN</td>\n",
              "    </tr>\n",
              "    <tr>\n",
              "      <th>8</th>\n",
              "      <td>കിസാന്‍ സമ്മാന്‍ നിധിക്കായി സംസ്ഥാനത്തെ കൃഷിഭവ...</td>\n",
              "      <td>business</td>\n",
              "      <td>positive</td>\n",
              "      <td>NaN</td>\n",
              "    </tr>\n",
              "    <tr>\n",
              "      <th>9</th>\n",
              "      <td>\\nഒടുവില്‍ ടി വി ചന്ദ്രന്‍ അയ്യപ്പനോടുള്ള വാക്...</td>\n",
              "      <td>entertainment</td>\n",
              "      <td>positive</td>\n",
              "      <td>NaN</td>\n",
              "    </tr>\n",
              "  </tbody>\n",
              "</table>\n",
              "</div>\n",
              "      <button class=\"colab-df-convert\" onclick=\"convertToInteractive('df-bf15c767-ecce-4d64-a3d2-e8eb50b873b3')\"\n",
              "              title=\"Convert this dataframe to an interactive table.\"\n",
              "              style=\"display:none;\">\n",
              "        \n",
              "  <svg xmlns=\"http://www.w3.org/2000/svg\" height=\"24px\"viewBox=\"0 0 24 24\"\n",
              "       width=\"24px\">\n",
              "    <path d=\"M0 0h24v24H0V0z\" fill=\"none\"/>\n",
              "    <path d=\"M18.56 5.44l.94 2.06.94-2.06 2.06-.94-2.06-.94-.94-2.06-.94 2.06-2.06.94zm-11 1L8.5 8.5l.94-2.06 2.06-.94-2.06-.94L8.5 2.5l-.94 2.06-2.06.94zm10 10l.94 2.06.94-2.06 2.06-.94-2.06-.94-.94-2.06-.94 2.06-2.06.94z\"/><path d=\"M17.41 7.96l-1.37-1.37c-.4-.4-.92-.59-1.43-.59-.52 0-1.04.2-1.43.59L10.3 9.45l-7.72 7.72c-.78.78-.78 2.05 0 2.83L4 21.41c.39.39.9.59 1.41.59.51 0 1.02-.2 1.41-.59l7.78-7.78 2.81-2.81c.8-.78.8-2.07 0-2.86zM5.41 20L4 18.59l7.72-7.72 1.47 1.35L5.41 20z\"/>\n",
              "  </svg>\n",
              "      </button>\n",
              "      \n",
              "  <style>\n",
              "    .colab-df-container {\n",
              "      display:flex;\n",
              "      flex-wrap:wrap;\n",
              "      gap: 12px;\n",
              "    }\n",
              "\n",
              "    .colab-df-convert {\n",
              "      background-color: #E8F0FE;\n",
              "      border: none;\n",
              "      border-radius: 50%;\n",
              "      cursor: pointer;\n",
              "      display: none;\n",
              "      fill: #1967D2;\n",
              "      height: 32px;\n",
              "      padding: 0 0 0 0;\n",
              "      width: 32px;\n",
              "    }\n",
              "\n",
              "    .colab-df-convert:hover {\n",
              "      background-color: #E2EBFA;\n",
              "      box-shadow: 0px 1px 2px rgba(60, 64, 67, 0.3), 0px 1px 3px 1px rgba(60, 64, 67, 0.15);\n",
              "      fill: #174EA6;\n",
              "    }\n",
              "\n",
              "    [theme=dark] .colab-df-convert {\n",
              "      background-color: #3B4455;\n",
              "      fill: #D2E3FC;\n",
              "    }\n",
              "\n",
              "    [theme=dark] .colab-df-convert:hover {\n",
              "      background-color: #434B5C;\n",
              "      box-shadow: 0px 1px 3px 1px rgba(0, 0, 0, 0.15);\n",
              "      filter: drop-shadow(0px 1px 2px rgba(0, 0, 0, 0.3));\n",
              "      fill: #FFFFFF;\n",
              "    }\n",
              "  </style>\n",
              "\n",
              "      <script>\n",
              "        const buttonEl =\n",
              "          document.querySelector('#df-bf15c767-ecce-4d64-a3d2-e8eb50b873b3 button.colab-df-convert');\n",
              "        buttonEl.style.display =\n",
              "          google.colab.kernel.accessAllowed ? 'block' : 'none';\n",
              "\n",
              "        async function convertToInteractive(key) {\n",
              "          const element = document.querySelector('#df-bf15c767-ecce-4d64-a3d2-e8eb50b873b3');\n",
              "          const dataTable =\n",
              "            await google.colab.kernel.invokeFunction('convertToInteractive',\n",
              "                                                     [key], {});\n",
              "          if (!dataTable) return;\n",
              "\n",
              "          const docLinkHtml = 'Like what you see? Visit the ' +\n",
              "            '<a target=\"_blank\" href=https://colab.research.google.com/notebooks/data_table.ipynb>data table notebook</a>'\n",
              "            + ' to learn more about interactive tables.';\n",
              "          element.innerHTML = '';\n",
              "          dataTable['output_type'] = 'display_data';\n",
              "          await google.colab.output.renderOutput(dataTable, element);\n",
              "          const docLink = document.createElement('div');\n",
              "          docLink.innerHTML = docLinkHtml;\n",
              "          element.appendChild(docLink);\n",
              "        }\n",
              "      </script>\n",
              "    </div>\n",
              "  </div>\n",
              "  "
            ]
          },
          "metadata": {},
          "execution_count": 3
        }
      ],
      "source": [
        "# reading first 10 rows\n",
        "df_nd.head(10)"
      ]
    },
    {
      "cell_type": "code",
      "execution_count": 4,
      "metadata": {
        "colab": {
          "base_uri": "https://localhost:8080/"
        },
        "id": "Gx8wMN1aVJo_",
        "outputId": "fe92f4fd-f2ca-49cc-a5a2-13c855fbf075"
      },
      "outputs": [
        {
          "output_type": "stream",
          "name": "stdout",
          "text": [
            "There are 5036 rows and 4 columns in news dataset\n"
          ]
        }
      ],
      "source": [
        "# Number of rows and columns\n",
        "nRow, nCol = df_nd.shape\n",
        "print(f'There are {nRow} rows and {nCol} columns in news dataset')"
      ]
    },
    {
      "cell_type": "markdown",
      "metadata": {
        "id": "xIxPiwz2tpks"
      },
      "source": [
        "## Reading youtube comment dataset"
      ]
    },
    {
      "cell_type": "code",
      "execution_count": 5,
      "metadata": {
        "colab": {
          "base_uri": "https://localhost:8080/",
          "height": 363
        },
        "id": "EZ2oew91uaSx",
        "outputId": "0a323474-0f68-4488-d57d-1bbe7ab49041"
      },
      "outputs": [
        {
          "output_type": "execute_result",
          "data": {
            "text/plain": [
              "                                                text          category  \\\n",
              "0  ഇത്തരം  വനജീവികളെ വീട്ടിൽ  വളർത്തുന്നവരോട് പറയ...  Pets_and_Animals   \n",
              "1  ജീവിതത്തിൽ പലപ്പോഴും തോന്നിട്ടുണ്ട്  സുഹൃത്തുക...  Pets_and_Animals   \n",
              "2  ഈ പൂച്ച കുട്ടിയെ ഞങ്ങളാ വാങ്ങിയത് സുറുമി എന്ന ...  Pets_and_Animals   \n",
              "3  അവന്റെ കണ്ണുകളിൽ അന്നു കണ്ട ദയനീയത കണ്ടവർക്ക് ...  Pets_and_Animals   \n",
              "4  പൊള്ളിയാലോ  ഗ്രീൻ ഗപ്പി ഫുഡ്  ഈ വിഡിയോ  ഇട്ട  ...  Pets_and_Animals   \n",
              "5  ജാസ്മിനിൽ പൂർണമായി  ആ വൈരാഗ്യം അവസാനിക്കും എന്...  Pets_and_Animals   \n",
              "6  പൊന്നേട്ടൻ വിശേഷങ്ങൾ നന്നായി പോകുന്നുണ്ട് ട്ടോ...  Pets_and_Animals   \n",
              "7  ഗുരുവായൂർ കണ്ണന്റെ ഇന്ദ്രസേൻ ഗജരത്നം പത്മനാഭന്...  Pets_and_Animals   \n",
              "8  ചെരിഞ്ഞപ്പോൾ ആദരാഞ്ജലികൾ ഇടാൻ എല്ലാവരുമുണ്ട് ഇ...  Pets_and_Animals   \n",
              "9  ടീം നോക്കാതെ ക്രിക്കറ്റ് കണ്ടിരുന്ന കാലം 260 പ...            Sports   \n",
              "\n",
              "  sentiment  offensive  \n",
              "0  negative          0  \n",
              "1  positive          0  \n",
              "2  positive          0  \n",
              "3  positive          0  \n",
              "4  positive          0  \n",
              "5  negative          0  \n",
              "6  positive          0  \n",
              "7  positive          0  \n",
              "8  negative          0  \n",
              "9  positive          0  "
            ],
            "text/html": [
              "\n",
              "  <div id=\"df-16f72df2-3564-4f31-8259-95af2e7219ed\">\n",
              "    <div class=\"colab-df-container\">\n",
              "      <div>\n",
              "<style scoped>\n",
              "    .dataframe tbody tr th:only-of-type {\n",
              "        vertical-align: middle;\n",
              "    }\n",
              "\n",
              "    .dataframe tbody tr th {\n",
              "        vertical-align: top;\n",
              "    }\n",
              "\n",
              "    .dataframe thead th {\n",
              "        text-align: right;\n",
              "    }\n",
              "</style>\n",
              "<table border=\"1\" class=\"dataframe\">\n",
              "  <thead>\n",
              "    <tr style=\"text-align: right;\">\n",
              "      <th></th>\n",
              "      <th>text</th>\n",
              "      <th>category</th>\n",
              "      <th>sentiment</th>\n",
              "      <th>offensive</th>\n",
              "    </tr>\n",
              "  </thead>\n",
              "  <tbody>\n",
              "    <tr>\n",
              "      <th>0</th>\n",
              "      <td>ഇത്തരം  വനജീവികളെ വീട്ടിൽ  വളർത്തുന്നവരോട് പറയ...</td>\n",
              "      <td>Pets_and_Animals</td>\n",
              "      <td>negative</td>\n",
              "      <td>0</td>\n",
              "    </tr>\n",
              "    <tr>\n",
              "      <th>1</th>\n",
              "      <td>ജീവിതത്തിൽ പലപ്പോഴും തോന്നിട്ടുണ്ട്  സുഹൃത്തുക...</td>\n",
              "      <td>Pets_and_Animals</td>\n",
              "      <td>positive</td>\n",
              "      <td>0</td>\n",
              "    </tr>\n",
              "    <tr>\n",
              "      <th>2</th>\n",
              "      <td>ഈ പൂച്ച കുട്ടിയെ ഞങ്ങളാ വാങ്ങിയത് സുറുമി എന്ന ...</td>\n",
              "      <td>Pets_and_Animals</td>\n",
              "      <td>positive</td>\n",
              "      <td>0</td>\n",
              "    </tr>\n",
              "    <tr>\n",
              "      <th>3</th>\n",
              "      <td>അവന്റെ കണ്ണുകളിൽ അന്നു കണ്ട ദയനീയത കണ്ടവർക്ക് ...</td>\n",
              "      <td>Pets_and_Animals</td>\n",
              "      <td>positive</td>\n",
              "      <td>0</td>\n",
              "    </tr>\n",
              "    <tr>\n",
              "      <th>4</th>\n",
              "      <td>പൊള്ളിയാലോ  ഗ്രീൻ ഗപ്പി ഫുഡ്  ഈ വിഡിയോ  ഇട്ട  ...</td>\n",
              "      <td>Pets_and_Animals</td>\n",
              "      <td>positive</td>\n",
              "      <td>0</td>\n",
              "    </tr>\n",
              "    <tr>\n",
              "      <th>5</th>\n",
              "      <td>ജാസ്മിനിൽ പൂർണമായി  ആ വൈരാഗ്യം അവസാനിക്കും എന്...</td>\n",
              "      <td>Pets_and_Animals</td>\n",
              "      <td>negative</td>\n",
              "      <td>0</td>\n",
              "    </tr>\n",
              "    <tr>\n",
              "      <th>6</th>\n",
              "      <td>പൊന്നേട്ടൻ വിശേഷങ്ങൾ നന്നായി പോകുന്നുണ്ട് ട്ടോ...</td>\n",
              "      <td>Pets_and_Animals</td>\n",
              "      <td>positive</td>\n",
              "      <td>0</td>\n",
              "    </tr>\n",
              "    <tr>\n",
              "      <th>7</th>\n",
              "      <td>ഗുരുവായൂർ കണ്ണന്റെ ഇന്ദ്രസേൻ ഗജരത്നം പത്മനാഭന്...</td>\n",
              "      <td>Pets_and_Animals</td>\n",
              "      <td>positive</td>\n",
              "      <td>0</td>\n",
              "    </tr>\n",
              "    <tr>\n",
              "      <th>8</th>\n",
              "      <td>ചെരിഞ്ഞപ്പോൾ ആദരാഞ്ജലികൾ ഇടാൻ എല്ലാവരുമുണ്ട് ഇ...</td>\n",
              "      <td>Pets_and_Animals</td>\n",
              "      <td>negative</td>\n",
              "      <td>0</td>\n",
              "    </tr>\n",
              "    <tr>\n",
              "      <th>9</th>\n",
              "      <td>ടീം നോക്കാതെ ക്രിക്കറ്റ് കണ്ടിരുന്ന കാലം 260 പ...</td>\n",
              "      <td>Sports</td>\n",
              "      <td>positive</td>\n",
              "      <td>0</td>\n",
              "    </tr>\n",
              "  </tbody>\n",
              "</table>\n",
              "</div>\n",
              "      <button class=\"colab-df-convert\" onclick=\"convertToInteractive('df-16f72df2-3564-4f31-8259-95af2e7219ed')\"\n",
              "              title=\"Convert this dataframe to an interactive table.\"\n",
              "              style=\"display:none;\">\n",
              "        \n",
              "  <svg xmlns=\"http://www.w3.org/2000/svg\" height=\"24px\"viewBox=\"0 0 24 24\"\n",
              "       width=\"24px\">\n",
              "    <path d=\"M0 0h24v24H0V0z\" fill=\"none\"/>\n",
              "    <path d=\"M18.56 5.44l.94 2.06.94-2.06 2.06-.94-2.06-.94-.94-2.06-.94 2.06-2.06.94zm-11 1L8.5 8.5l.94-2.06 2.06-.94-2.06-.94L8.5 2.5l-.94 2.06-2.06.94zm10 10l.94 2.06.94-2.06 2.06-.94-2.06-.94-.94-2.06-.94 2.06-2.06.94z\"/><path d=\"M17.41 7.96l-1.37-1.37c-.4-.4-.92-.59-1.43-.59-.52 0-1.04.2-1.43.59L10.3 9.45l-7.72 7.72c-.78.78-.78 2.05 0 2.83L4 21.41c.39.39.9.59 1.41.59.51 0 1.02-.2 1.41-.59l7.78-7.78 2.81-2.81c.8-.78.8-2.07 0-2.86zM5.41 20L4 18.59l7.72-7.72 1.47 1.35L5.41 20z\"/>\n",
              "  </svg>\n",
              "      </button>\n",
              "      \n",
              "  <style>\n",
              "    .colab-df-container {\n",
              "      display:flex;\n",
              "      flex-wrap:wrap;\n",
              "      gap: 12px;\n",
              "    }\n",
              "\n",
              "    .colab-df-convert {\n",
              "      background-color: #E8F0FE;\n",
              "      border: none;\n",
              "      border-radius: 50%;\n",
              "      cursor: pointer;\n",
              "      display: none;\n",
              "      fill: #1967D2;\n",
              "      height: 32px;\n",
              "      padding: 0 0 0 0;\n",
              "      width: 32px;\n",
              "    }\n",
              "\n",
              "    .colab-df-convert:hover {\n",
              "      background-color: #E2EBFA;\n",
              "      box-shadow: 0px 1px 2px rgba(60, 64, 67, 0.3), 0px 1px 3px 1px rgba(60, 64, 67, 0.15);\n",
              "      fill: #174EA6;\n",
              "    }\n",
              "\n",
              "    [theme=dark] .colab-df-convert {\n",
              "      background-color: #3B4455;\n",
              "      fill: #D2E3FC;\n",
              "    }\n",
              "\n",
              "    [theme=dark] .colab-df-convert:hover {\n",
              "      background-color: #434B5C;\n",
              "      box-shadow: 0px 1px 3px 1px rgba(0, 0, 0, 0.15);\n",
              "      filter: drop-shadow(0px 1px 2px rgba(0, 0, 0, 0.3));\n",
              "      fill: #FFFFFF;\n",
              "    }\n",
              "  </style>\n",
              "\n",
              "      <script>\n",
              "        const buttonEl =\n",
              "          document.querySelector('#df-16f72df2-3564-4f31-8259-95af2e7219ed button.colab-df-convert');\n",
              "        buttonEl.style.display =\n",
              "          google.colab.kernel.accessAllowed ? 'block' : 'none';\n",
              "\n",
              "        async function convertToInteractive(key) {\n",
              "          const element = document.querySelector('#df-16f72df2-3564-4f31-8259-95af2e7219ed');\n",
              "          const dataTable =\n",
              "            await google.colab.kernel.invokeFunction('convertToInteractive',\n",
              "                                                     [key], {});\n",
              "          if (!dataTable) return;\n",
              "\n",
              "          const docLinkHtml = 'Like what you see? Visit the ' +\n",
              "            '<a target=\"_blank\" href=https://colab.research.google.com/notebooks/data_table.ipynb>data table notebook</a>'\n",
              "            + ' to learn more about interactive tables.';\n",
              "          element.innerHTML = '';\n",
              "          dataTable['output_type'] = 'display_data';\n",
              "          await google.colab.output.renderOutput(dataTable, element);\n",
              "          const docLink = document.createElement('div');\n",
              "          docLink.innerHTML = docLinkHtml;\n",
              "          element.appendChild(docLink);\n",
              "        }\n",
              "      </script>\n",
              "    </div>\n",
              "  </div>\n",
              "  "
            ]
          },
          "metadata": {},
          "execution_count": 5
        }
      ],
      "source": [
        "df_yc = pd.read_csv('youtube_comments_dataset.csv')\n",
        "\n",
        "# reading first 10 rows\n",
        "df_yc.head(10)"
      ]
    },
    {
      "cell_type": "code",
      "execution_count": 6,
      "metadata": {
        "colab": {
          "base_uri": "https://localhost:8080/"
        },
        "id": "pi6qCdSmvffo",
        "outputId": "b4ae4971-6b65-4b49-c729-fa62d58261a3"
      },
      "outputs": [
        {
          "output_type": "stream",
          "name": "stdout",
          "text": [
            "There are 6105 rows and 4 columns in youtube comments dataset\n"
          ]
        }
      ],
      "source": [
        "# Number of rows and columns\n",
        "nRow, nCol = df_yc.shape\n",
        "print(f'There are {nRow} rows and {nCol} columns in youtube comments dataset')"
      ]
    },
    {
      "cell_type": "markdown",
      "metadata": {
        "id": "PJYAHm3aiQs7"
      },
      "source": [
        "### Plotting the sentiments in the news and youtube comment dataset"
      ]
    },
    {
      "cell_type": "code",
      "execution_count": 7,
      "metadata": {
        "colab": {
          "base_uri": "https://localhost:8080/",
          "height": 346
        },
        "id": "s5ghYwYqXWKE",
        "outputId": "3475cc26-5c65-4d6a-a15c-0867d88e4667"
      },
      "outputs": [
        {
          "output_type": "execute_result",
          "data": {
            "text/plain": [
              "Text(0.5, 0, 'Sentiments')"
            ]
          },
          "metadata": {},
          "execution_count": 7
        },
        {
          "output_type": "display_data",
          "data": {
            "text/plain": [
              "<Figure size 432x288 with 1 Axes>"
            ],
            "image/png": "[encoded data removed]"
          },
          "metadata": {
            "needs_background": "light"
          }
        }
      ],
      "source": [
        "plt.title(\"Sentiment Distribution for News dataset\")\n",
        "plt.ylabel('counts')\n",
        "df_nd['sentiment'].value_counts().plot.bar()\n",
        "plt.xlabel('Sentiments')"
      ]
    },
    {
      "cell_type": "code",
      "execution_count": 8,
      "metadata": {
        "colab": {
          "base_uri": "https://localhost:8080/"
        },
        "id": "O9Obq6Xl7kqF",
        "outputId": "dafa4d73-0b20-4f5a-8af1-651ca7c64b68"
      },
      "outputs": [
        {
          "output_type": "execute_result",
          "data": {
            "text/plain": [
              "positive    2962\n",
              "negative    1473\n",
              "neutral      601\n",
              "Name: sentiment, dtype: int64"
            ]
          },
          "metadata": {},
          "execution_count": 8
        }
      ],
      "source": [
        "df_nd.sentiment.value_counts()"
      ]
    },
    {
      "cell_type": "code",
      "execution_count": 9,
      "metadata": {
        "colab": {
          "base_uri": "https://localhost:8080/",
          "height": 346
        },
        "id": "P-WscHHYw_P2",
        "outputId": "ec002c98-70da-40c6-ee49-389a26fb745f"
      },
      "outputs": [
        {
          "output_type": "execute_result",
          "data": {
            "text/plain": [
              "Text(0.5, 0, 'Sentiments')"
            ]
          },
          "metadata": {},
          "execution_count": 9
        },
        {
          "output_type": "display_data",
          "data": {
            "text/plain": [
              "<Figure size 432x288 with 1 Axes>"
            ],
            "image/png": "[encoded data removed]"
          },
          "metadata": {
            "needs_background": "light"
          }
        }
      ],
      "source": [
        "plt.title(\"Sentiment Distribution for Youtube Comment dataset\")\n",
        "plt.ylabel('counts')\n",
        "df_yc['sentiment'].value_counts().plot.bar()\n",
        "plt.xlabel('Sentiments')"
      ]
    },
    {
      "cell_type": "code",
      "execution_count": 10,
      "metadata": {
        "colab": {
          "base_uri": "https://localhost:8080/"
        },
        "id": "JonVaj1m7tWB",
        "outputId": "61a5e3cb-f768-4d39-caf6-2fc1cc2efc23"
      },
      "outputs": [
        {
          "output_type": "execute_result",
          "data": {
            "text/plain": [
              "positive    2394\n",
              "negative    2391\n",
              "neutral     1320\n",
              "Name: sentiment, dtype: int64"
            ]
          },
          "metadata": {},
          "execution_count": 10
        }
      ],
      "source": [
        "df_yc.sentiment.value_counts()"
      ]
    },
    {
      "cell_type": "markdown",
      "metadata": {
        "id": "DtvEIPSW80Cz"
      },
      "source": [
        "### Appending the neutral values from youtube comments to the news dataset"
      ]
    },
    {
      "cell_type": "code",
      "execution_count": 11,
      "metadata": {
        "id": "Ok83Sfa65Dy_"
      },
      "outputs": [],
      "source": [
        "df_neutral_yc=df_yc.loc[df_yc['sentiment'] == 'neutral']"
      ]
    },
    {
      "cell_type": "code",
      "execution_count": 12,
      "metadata": {
        "id": "pSnihV0E7Vi8"
      },
      "outputs": [],
      "source": [
        "df = df_nd.append(df_neutral_yc.head(800))"
      ]
    },
    {
      "cell_type": "code",
      "execution_count": 13,
      "metadata": {
        "colab": {
          "base_uri": "https://localhost:8080/"
        },
        "id": "OULhgj6piwLO",
        "outputId": "bd8bb9e4-3880-460a-d1d6-c8a01c0fdf60"
      },
      "outputs": [
        {
          "output_type": "stream",
          "name": "stdout",
          "text": [
            "There are 5836 rows and 4 columns in youtube comments dataset\n"
          ]
        }
      ],
      "source": [
        "# Number of rows and columns\n",
        "nRow, nCol = df.shape\n",
        "print(f'There are {nRow} rows and {nCol} columns in youtube comments dataset')"
      ]
    },
    {
      "cell_type": "code",
      "execution_count": 14,
      "metadata": {
        "colab": {
          "base_uri": "https://localhost:8080/",
          "height": 363
        },
        "id": "NFDN7wFfmeGB",
        "outputId": "0c6f8494-f992-4fb6-8d72-196e24727907"
      },
      "outputs": [
        {
          "output_type": "execute_result",
          "data": {
            "text/plain": [
              "                                                text       category sentiment  \\\n",
              "0  കൊച്ചി ചെരുപ്പ് വിതരണ കേന്ദ്രത്തിലെ തീപിടിത്തം...       business  negative   \n",
              "1  ഈ​​​സ്റ്റേ​​​ണ്‍ ക​​​റി പൗ​​​ഡ​​​റി​​​ന് പു​​​...       business  positive   \n",
              "2      ശ്രീശാന്തിന്റെ ആജീവനാന്ത വിലക്ക് പിന്‍വലിച്ചു         sports  positive   \n",
              "3  റയല്‍ മാഡ്രിഡിനെ ഞെട്ടിച്ച യുവതാരം ബ്രസീല്‍ ടീ...         sports  positive   \n",
              "4  എനിക്ക് ശ്രീനിവാസന്‍ ആകേണ്ട, ലോഹിതദാസ് മതി : ക...  entertainment   neutral   \n",
              "5  മുല്ലപ്പൂ വിപ്ലവം ഇന്നു മുതല്‍, തിയറ്റര്‍ ലിസ്...  entertainment  positive   \n",
              "6  'അനാന്‍' ചിത്രത്തിന്‍റെ പുതിയ പോസ്റ്റര്‍ പുറത്...  entertainment  positive   \n",
              "7                         മുകേഷ് അംബാനി കുതിക്കുന്നു       business  positive   \n",
              "8  കിസാന്‍ സമ്മാന്‍ നിധിക്കായി സംസ്ഥാനത്തെ കൃഷിഭവ...       business  positive   \n",
              "9  \\nഒടുവില്‍ ടി വി ചന്ദ്രന്‍ അയ്യപ്പനോടുള്ള വാക്...  entertainment  positive   \n",
              "\n",
              "       offensive  \n",
              "0      Offensive  \n",
              "1  Not Offensive  \n",
              "2  Not Offensive  \n",
              "3  Not Offensive  \n",
              "4      Offensive  \n",
              "5            NaN  \n",
              "6            NaN  \n",
              "7            NaN  \n",
              "8            NaN  \n",
              "9            NaN  "
            ],
            "text/html": [
              "\n",
              "  <div id=\"df-6d827fb9-f28b-468c-8647-ed42a2117c7e\">\n",
              "    <div class=\"colab-df-container\">\n",
              "      <div>\n",
              "<style scoped>\n",
              "    .dataframe tbody tr th:only-of-type {\n",
              "        vertical-align: middle;\n",
              "    }\n",
              "\n",
              "    .dataframe tbody tr th {\n",
              "        vertical-align: top;\n",
              "    }\n",
              "\n",
              "    .dataframe thead th {\n",
              "        text-align: right;\n",
              "    }\n",
              "</style>\n",
              "<table border=\"1\" class=\"dataframe\">\n",
              "  <thead>\n",
              "    <tr style=\"text-align: right;\">\n",
              "      <th></th>\n",
              "      <th>text</th>\n",
              "      <th>category</th>\n",
              "      <th>sentiment</th>\n",
              "      <th>offensive</th>\n",
              "    </tr>\n",
              "  </thead>\n",
              "  <tbody>\n",
              "    <tr>\n",
              "      <th>0</th>\n",
              "      <td>കൊച്ചി ചെരുപ്പ് വിതരണ കേന്ദ്രത്തിലെ തീപിടിത്തം...</td>\n",
              "      <td>business</td>\n",
              "      <td>negative</td>\n",
              "      <td>Offensive</td>\n",
              "    </tr>\n",
              "    <tr>\n",
              "      <th>1</th>\n",
              "      <td>ഈ​​​സ്റ്റേ​​​ണ്‍ ക​​​റി പൗ​​​ഡ​​​റി​​​ന് പു​​​...</td>\n",
              "      <td>business</td>\n",
              "      <td>positive</td>\n",
              "      <td>Not Offensive</td>\n",
              "    </tr>\n",
              "    <tr>\n",
              "      <th>2</th>\n",
              "      <td>ശ്രീശാന്തിന്റെ ആജീവനാന്ത വിലക്ക് പിന്‍വലിച്ചു</td>\n",
              "      <td>sports</td>\n",
              "      <td>positive</td>\n",
              "      <td>Not Offensive</td>\n",
              "    </tr>\n",
              "    <tr>\n",
              "      <th>3</th>\n",
              "      <td>റയല്‍ മാഡ്രിഡിനെ ഞെട്ടിച്ച യുവതാരം ബ്രസീല്‍ ടീ...</td>\n",
              "      <td>sports</td>\n",
              "      <td>positive</td>\n",
              "      <td>Not Offensive</td>\n",
              "    </tr>\n",
              "    <tr>\n",
              "      <th>4</th>\n",
              "      <td>എനിക്ക് ശ്രീനിവാസന്‍ ആകേണ്ട, ലോഹിതദാസ് മതി : ക...</td>\n",
              "      <td>entertainment</td>\n",
              "      <td>neutral</td>\n",
              "      <td>Offensive</td>\n",
              "    </tr>\n",
              "    <tr>\n",
              "      <th>5</th>\n",
              "      <td>മുല്ലപ്പൂ വിപ്ലവം ഇന്നു മുതല്‍, തിയറ്റര്‍ ലിസ്...</td>\n",
              "      <td>entertainment</td>\n",
              "      <td>positive</td>\n",
              "      <td>NaN</td>\n",
              "    </tr>\n",
              "    <tr>\n",
              "      <th>6</th>\n",
              "      <td>'അനാന്‍' ചിത്രത്തിന്‍റെ പുതിയ പോസ്റ്റര്‍ പുറത്...</td>\n",
              "      <td>entertainment</td>\n",
              "      <td>positive</td>\n",
              "      <td>NaN</td>\n",
              "    </tr>\n",
              "    <tr>\n",
              "      <th>7</th>\n",
              "      <td>മുകേഷ് അംബാനി കുതിക്കുന്നു</td>\n",
              "      <td>business</td>\n",
              "      <td>positive</td>\n",
              "      <td>NaN</td>\n",
              "    </tr>\n",
              "    <tr>\n",
              "      <th>8</th>\n",
              "      <td>കിസാന്‍ സമ്മാന്‍ നിധിക്കായി സംസ്ഥാനത്തെ കൃഷിഭവ...</td>\n",
              "      <td>business</td>\n",
              "      <td>positive</td>\n",
              "      <td>NaN</td>\n",
              "    </tr>\n",
              "    <tr>\n",
              "      <th>9</th>\n",
              "      <td>\\nഒടുവില്‍ ടി വി ചന്ദ്രന്‍ അയ്യപ്പനോടുള്ള വാക്...</td>\n",
              "      <td>entertainment</td>\n",
              "      <td>positive</td>\n",
              "      <td>NaN</td>\n",
              "    </tr>\n",
              "  </tbody>\n",
              "</table>\n",
              "</div>\n",
              "      <button class=\"colab-df-convert\" onclick=\"convertToInteractive('df-6d827fb9-f28b-468c-8647-ed42a2117c7e')\"\n",
              "              title=\"Convert this dataframe to an interactive table.\"\n",
              "              style=\"display:none;\">\n",
              "        \n",
              "  <svg xmlns=\"http://www.w3.org/2000/svg\" height=\"24px\"viewBox=\"0 0 24 24\"\n",
              "       width=\"24px\">\n",
              "    <path d=\"M0 0h24v24H0V0z\" fill=\"none\"/>\n",
              "    <path d=\"M18.56 5.44l.94 2.06.94-2.06 2.06-.94-2.06-.94-.94-2.06-.94 2.06-2.06.94zm-11 1L8.5 8.5l.94-2.06 2.06-.94-2.06-.94L8.5 2.5l-.94 2.06-2.06.94zm10 10l.94 2.06.94-2.06 2.06-.94-2.06-.94-.94-2.06-.94 2.06-2.06.94z\"/><path d=\"M17.41 7.96l-1.37-1.37c-.4-.4-.92-.59-1.43-.59-.52 0-1.04.2-1.43.59L10.3 9.45l-7.72 7.72c-.78.78-.78 2.05 0 2.83L4 21.41c.39.39.9.59 1.41.59.51 0 1.02-.2 1.41-.59l7.78-7.78 2.81-2.81c.8-.78.8-2.07 0-2.86zM5.41 20L4 18.59l7.72-7.72 1.47 1.35L5.41 20z\"/>\n",
              "  </svg>\n",
              "      </button>\n",
              "      \n",
              "  <style>\n",
              "    .colab-df-container {\n",
              "      display:flex;\n",
              "      flex-wrap:wrap;\n",
              "      gap: 12px;\n",
              "    }\n",
              "\n",
              "    .colab-df-convert {\n",
              "      background-color: #E8F0FE;\n",
              "      border: none;\n",
              "      border-radius: 50%;\n",
              "      cursor: pointer;\n",
              "      display: none;\n",
              "      fill: #1967D2;\n",
              "      height: 32px;\n",
              "      padding: 0 0 0 0;\n",
              "      width: 32px;\n",
              "    }\n",
              "\n",
              "    .colab-df-convert:hover {\n",
              "      background-color: #E2EBFA;\n",
              "      box-shadow: 0px 1px 2px rgba(60, 64, 67, 0.3), 0px 1px 3px 1px rgba(60, 64, 67, 0.15);\n",
              "      fill: #174EA6;\n",
              "    }\n",
              "\n",
              "    [theme=dark] .colab-df-convert {\n",
              "      background-color: #3B4455;\n",
              "      fill: #D2E3FC;\n",
              "    }\n",
              "\n",
              "    [theme=dark] .colab-df-convert:hover {\n",
              "      background-color: #434B5C;\n",
              "      box-shadow: 0px 1px 3px 1px rgba(0, 0, 0, 0.15);\n",
              "      filter: drop-shadow(0px 1px 2px rgba(0, 0, 0, 0.3));\n",
              "      fill: #FFFFFF;\n",
              "    }\n",
              "  </style>\n",
              "\n",
              "      <script>\n",
              "        const buttonEl =\n",
              "          document.querySelector('#df-6d827fb9-f28b-468c-8647-ed42a2117c7e button.colab-df-convert');\n",
              "        buttonEl.style.display =\n",
              "          google.colab.kernel.accessAllowed ? 'block' : 'none';\n",
              "\n",
              "        async function convertToInteractive(key) {\n",
              "          const element = document.querySelector('#df-6d827fb9-f28b-468c-8647-ed42a2117c7e');\n",
              "          const dataTable =\n",
              "            await google.colab.kernel.invokeFunction('convertToInteractive',\n",
              "                                                     [key], {});\n",
              "          if (!dataTable) return;\n",
              "\n",
              "          const docLinkHtml = 'Like what you see? Visit the ' +\n",
              "            '<a target=\"_blank\" href=https://colab.research.google.com/notebooks/data_table.ipynb>data table notebook</a>'\n",
              "            + ' to learn more about interactive tables.';\n",
              "          element.innerHTML = '';\n",
              "          dataTable['output_type'] = 'display_data';\n",
              "          await google.colab.output.renderOutput(dataTable, element);\n",
              "          const docLink = document.createElement('div');\n",
              "          docLink.innerHTML = docLinkHtml;\n",
              "          element.appendChild(docLink);\n",
              "        }\n",
              "      </script>\n",
              "    </div>\n",
              "  </div>\n",
              "  "
            ]
          },
          "metadata": {},
          "execution_count": 14
        }
      ],
      "source": [
        "df.head(10)"
      ]
    },
    {
      "cell_type": "code",
      "execution_count": 15,
      "metadata": {
        "colab": {
          "base_uri": "https://localhost:8080/",
          "height": 346
        },
        "id": "X2SeGl3M8FFT",
        "outputId": "d509a90d-8044-40a2-cb7c-322db4641fc5"
      },
      "outputs": [
        {
          "output_type": "execute_result",
          "data": {
            "text/plain": [
              "Text(0.5, 0, 'Sentiments')"
            ]
          },
          "metadata": {},
          "execution_count": 15
        },
        {
          "output_type": "display_data",
          "data": {
            "text/plain": [
              "<Figure size 432x288 with 1 Axes>"
            ],
            "image/png": "[encoded data removed]"
          },
          "metadata": {
            "needs_background": "light"
          }
        }
      ],
      "source": [
        "plt.title(\"Sentiment Distribution for final dataset\")\n",
        "plt.ylabel('counts')\n",
        "df['sentiment'].value_counts().plot.bar()\n",
        "plt.xlabel('Sentiments')"
      ]
    },
    {
      "cell_type": "code",
      "execution_count": 16,
      "metadata": {
        "colab": {
          "base_uri": "https://localhost:8080/"
        },
        "id": "kotgBk5k8nAS",
        "outputId": "85aa714a-d724-4598-c207-2602ea364575"
      },
      "outputs": [
        {
          "output_type": "execute_result",
          "data": {
            "text/plain": [
              "positive    2962\n",
              "negative    1473\n",
              "neutral     1401\n",
              "Name: sentiment, dtype: int64"
            ]
          },
          "metadata": {},
          "execution_count": 16
        }
      ],
      "source": [
        "df.sentiment.value_counts()"
      ]
    },
    {
      "cell_type": "code",
      "execution_count": 17,
      "metadata": {
        "colab": {
          "base_uri": "https://localhost:8080/"
        },
        "id": "rH4yo_T29HTF",
        "outputId": "224b8381-1eb2-45dd-a388-592d6f57a996"
      },
      "outputs": [
        {
          "output_type": "stream",
          "name": "stdout",
          "text": [
            "There are 5836 rows and 4 columns in final dataset\n"
          ]
        }
      ],
      "source": [
        "# Number of rows and columns\n",
        "nRow, nCol = df.shape\n",
        "print(f'There are {nRow} rows and {nCol} columns in final dataset')"
      ]
    },
    {
      "cell_type": "code",
      "execution_count": 18,
      "metadata": {
        "colab": {
          "base_uri": "https://localhost:8080/",
          "height": 421
        },
        "id": "_rjY_7GaLHFh",
        "outputId": "43f431c1-a4d4-41ff-fae7-fd462296cc48"
      },
      "outputs": [
        {
          "output_type": "display_data",
          "data": {
            "text/plain": [
              "<Figure size 432x288 with 1 Axes>"
            ],
            "image/png": "[encoded data removed]"
          },
          "metadata": {
            "needs_background": "light"
          }
        },
        {
          "output_type": "execute_result",
          "data": {
            "text/plain": [
              "count    5836.000000\n",
              "mean       95.149589\n",
              "std        68.139708\n",
              "min         4.000000\n",
              "25%        57.000000\n",
              "50%        78.000000\n",
              "75%       107.000000\n",
              "max      1358.000000\n",
              "dtype: float64"
            ]
          },
          "metadata": {},
          "execution_count": 18
        }
      ],
      "source": [
        "text_len = [len(x) for x in df['text']]\n",
        "pd.Series(text_len).hist()\n",
        "plt.show()\n",
        "pd.Series(text_len).describe()"
      ]
    },
    {
      "cell_type": "markdown",
      "metadata": {
        "id": "U587x_hBLiXx"
      },
      "source": [
        "### Number of words"
      ]
    },
    {
      "cell_type": "code",
      "execution_count": 19,
      "metadata": {
        "colab": {
          "base_uri": "https://localhost:8080/",
          "height": 424
        },
        "id": "KpA06JdqLlgr",
        "outputId": "936bdd0e-204f-4c8d-9706-812efd229771"
      },
      "outputs": [
        {
          "output_type": "execute_result",
          "data": {
            "text/plain": [
              "                                                   text  \\\n",
              "0     കൊച്ചി ചെരുപ്പ് വിതരണ കേന്ദ്രത്തിലെ തീപിടിത്തം...   \n",
              "1     ഈ​​​സ്റ്റേ​​​ണ്‍ ക​​​റി പൗ​​​ഡ​​​റി​​​ന് പു​​​...   \n",
              "2         ശ്രീശാന്തിന്റെ ആജീവനാന്ത വിലക്ക് പിന്‍വലിച്ചു   \n",
              "3     റയല്‍ മാഡ്രിഡിനെ ഞെട്ടിച്ച യുവതാരം ബ്രസീല്‍ ടീ...   \n",
              "4     എനിക്ക് ശ്രീനിവാസന്‍ ആകേണ്ട, ലോഹിതദാസ് മതി : ക...   \n",
              "...                                                 ...   \n",
              "4968  സുമ്മുൻ ബുക് മുൻ ഉംയുൻ ഫഹും ലായർജി ഊൻ (ദുൽ മത്...   \n",
              "4969  സുധാകരനും സതീശനും മുട്ടനാടുകളെ രക്ഷ പെടുത്താൻ ...   \n",
              "4970              സുകന്യ അക്കൌണ്ടിന്റെ പ്രായം പറഞ്ഞില്ല   \n",
              "4971  ഷൈനപ്പൻ അശ്വതിപ്രീന തിരുവാതിര അനുജ രേവതി ദിയ പ...   \n",
              "4972  ഷാജനെപോലുള്ള ഓൺലൈൻ പത്രക്കാർ ഉള്ളത് കൊണ്ടാണ് പ...   \n",
              "\n",
              "                    category sentiment      offensive  number_of_words  \n",
              "0                   business  negative      Offensive               10  \n",
              "1                   business  positive  Not Offensive               14  \n",
              "2                     sports  positive  Not Offensive                4  \n",
              "3                     sports  positive  Not Offensive                6  \n",
              "4              entertainment   neutral      Offensive               11  \n",
              "...                      ...       ...            ...              ...  \n",
              "4968               Education   neutral              0               10  \n",
              "4969       News_and_Politics   neutral              0                8  \n",
              "4970       News_and_Politics   neutral              0                4  \n",
              "4971  Science_and_Technology   neutral              0               10  \n",
              "4972       News_and_Politics   neutral              0                9  \n",
              "\n",
              "[5836 rows x 5 columns]"
            ],
            "text/html": [
              "\n",
              "  <div id=\"df-b906d6c9-1528-418b-ba87-ef70a84669e6\">\n",
              "    <div class=\"colab-df-container\">\n",
              "      <div>\n",
              "<style scoped>\n",
              "    .dataframe tbody tr th:only-of-type {\n",
              "        vertical-align: middle;\n",
              "    }\n",
              "\n",
              "    .dataframe tbody tr th {\n",
              "        vertical-align: top;\n",
              "    }\n",
              "\n",
              "    .dataframe thead th {\n",
              "        text-align: right;\n",
              "    }\n",
              "</style>\n",
              "<table border=\"1\" class=\"dataframe\">\n",
              "  <thead>\n",
              "    <tr style=\"text-align: right;\">\n",
              "      <th></th>\n",
              "      <th>text</th>\n",
              "      <th>category</th>\n",
              "      <th>sentiment</th>\n",
              "      <th>offensive</th>\n",
              "      <th>number_of_words</th>\n",
              "    </tr>\n",
              "  </thead>\n",
              "  <tbody>\n",
              "    <tr>\n",
              "      <th>0</th>\n",
              "      <td>കൊച്ചി ചെരുപ്പ് വിതരണ കേന്ദ്രത്തിലെ തീപിടിത്തം...</td>\n",
              "      <td>business</td>\n",
              "      <td>negative</td>\n",
              "      <td>Offensive</td>\n",
              "      <td>10</td>\n",
              "    </tr>\n",
              "    <tr>\n",
              "      <th>1</th>\n",
              "      <td>ഈ​​​സ്റ്റേ​​​ണ്‍ ക​​​റി പൗ​​​ഡ​​​റി​​​ന് പു​​​...</td>\n",
              "      <td>business</td>\n",
              "      <td>positive</td>\n",
              "      <td>Not Offensive</td>\n",
              "      <td>14</td>\n",
              "    </tr>\n",
              "    <tr>\n",
              "      <th>2</th>\n",
              "      <td>ശ്രീശാന്തിന്റെ ആജീവനാന്ത വിലക്ക് പിന്‍വലിച്ചു</td>\n",
              "      <td>sports</td>\n",
              "      <td>positive</td>\n",
              "      <td>Not Offensive</td>\n",
              "      <td>4</td>\n",
              "    </tr>\n",
              "    <tr>\n",
              "      <th>3</th>\n",
              "      <td>റയല്‍ മാഡ്രിഡിനെ ഞെട്ടിച്ച യുവതാരം ബ്രസീല്‍ ടീ...</td>\n",
              "      <td>sports</td>\n",
              "      <td>positive</td>\n",
              "      <td>Not Offensive</td>\n",
              "      <td>6</td>\n",
              "    </tr>\n",
              "    <tr>\n",
              "      <th>4</th>\n",
              "      <td>എനിക്ക് ശ്രീനിവാസന്‍ ആകേണ്ട, ലോഹിതദാസ് മതി : ക...</td>\n",
              "      <td>entertainment</td>\n",
              "      <td>neutral</td>\n",
              "      <td>Offensive</td>\n",
              "      <td>11</td>\n",
              "    </tr>\n",
              "    <tr>\n",
              "      <th>...</th>\n",
              "      <td>...</td>\n",
              "      <td>...</td>\n",
              "      <td>...</td>\n",
              "      <td>...</td>\n",
              "      <td>...</td>\n",
              "    </tr>\n",
              "    <tr>\n",
              "      <th>4968</th>\n",
              "      <td>സുമ്മുൻ ബുക് മുൻ ഉംയുൻ ഫഹും ലായർജി ഊൻ (ദുൽ മത്...</td>\n",
              "      <td>Education</td>\n",
              "      <td>neutral</td>\n",
              "      <td>0</td>\n",
              "      <td>10</td>\n",
              "    </tr>\n",
              "    <tr>\n",
              "      <th>4969</th>\n",
              "      <td>സുധാകരനും സതീശനും മുട്ടനാടുകളെ രക്ഷ പെടുത്താൻ ...</td>\n",
              "      <td>News_and_Politics</td>\n",
              "      <td>neutral</td>\n",
              "      <td>0</td>\n",
              "      <td>8</td>\n",
              "    </tr>\n",
              "    <tr>\n",
              "      <th>4970</th>\n",
              "      <td>സുകന്യ അക്കൌണ്ടിന്റെ പ്രായം പറഞ്ഞില്ല</td>\n",
              "      <td>News_and_Politics</td>\n",
              "      <td>neutral</td>\n",
              "      <td>0</td>\n",
              "      <td>4</td>\n",
              "    </tr>\n",
              "    <tr>\n",
              "      <th>4971</th>\n",
              "      <td>ഷൈനപ്പൻ അശ്വതിപ്രീന തിരുവാതിര അനുജ രേവതി ദിയ പ...</td>\n",
              "      <td>Science_and_Technology</td>\n",
              "      <td>neutral</td>\n",
              "      <td>0</td>\n",
              "      <td>10</td>\n",
              "    </tr>\n",
              "    <tr>\n",
              "      <th>4972</th>\n",
              "      <td>ഷാജനെപോലുള്ള ഓൺലൈൻ പത്രക്കാർ ഉള്ളത് കൊണ്ടാണ് പ...</td>\n",
              "      <td>News_and_Politics</td>\n",
              "      <td>neutral</td>\n",
              "      <td>0</td>\n",
              "      <td>9</td>\n",
              "    </tr>\n",
              "  </tbody>\n",
              "</table>\n",
              "<p>5836 rows × 5 columns</p>\n",
              "</div>\n",
              "      <button class=\"colab-df-convert\" onclick=\"convertToInteractive('df-b906d6c9-1528-418b-ba87-ef70a84669e6')\"\n",
              "              title=\"Convert this dataframe to an interactive table.\"\n",
              "              style=\"display:none;\">\n",
              "        \n",
              "  <svg xmlns=\"http://www.w3.org/2000/svg\" height=\"24px\"viewBox=\"0 0 24 24\"\n",
              "       width=\"24px\">\n",
              "    <path d=\"M0 0h24v24H0V0z\" fill=\"none\"/>\n",
              "    <path d=\"M18.56 5.44l.94 2.06.94-2.06 2.06-.94-2.06-.94-.94-2.06-.94 2.06-2.06.94zm-11 1L8.5 8.5l.94-2.06 2.06-.94-2.06-.94L8.5 2.5l-.94 2.06-2.06.94zm10 10l.94 2.06.94-2.06 2.06-.94-2.06-.94-.94-2.06-.94 2.06-2.06.94z\"/><path d=\"M17.41 7.96l-1.37-1.37c-.4-.4-.92-.59-1.43-.59-.52 0-1.04.2-1.43.59L10.3 9.45l-7.72 7.72c-.78.78-.78 2.05 0 2.83L4 21.41c.39.39.9.59 1.41.59.51 0 1.02-.2 1.41-.59l7.78-7.78 2.81-2.81c.8-.78.8-2.07 0-2.86zM5.41 20L4 18.59l7.72-7.72 1.47 1.35L5.41 20z\"/>\n",
              "  </svg>\n",
              "      </button>\n",
              "      \n",
              "  <style>\n",
              "    .colab-df-container {\n",
              "      display:flex;\n",
              "      flex-wrap:wrap;\n",
              "      gap: 12px;\n",
              "    }\n",
              "\n",
              "    .colab-df-convert {\n",
              "      background-color: #E8F0FE;\n",
              "      border: none;\n",
              "      border-radius: 50%;\n",
              "      cursor: pointer;\n",
              "      display: none;\n",
              "      fill: #1967D2;\n",
              "      height: 32px;\n",
              "      padding: 0 0 0 0;\n",
              "      width: 32px;\n",
              "    }\n",
              "\n",
              "    .colab-df-convert:hover {\n",
              "      background-color: #E2EBFA;\n",
              "      box-shadow: 0px 1px 2px rgba(60, 64, 67, 0.3), 0px 1px 3px 1px rgba(60, 64, 67, 0.15);\n",
              "      fill: #174EA6;\n",
              "    }\n",
              "\n",
              "    [theme=dark] .colab-df-convert {\n",
              "      background-color: #3B4455;\n",
              "      fill: #D2E3FC;\n",
              "    }\n",
              "\n",
              "    [theme=dark] .colab-df-convert:hover {\n",
              "      background-color: #434B5C;\n",
              "      box-shadow: 0px 1px 3px 1px rgba(0, 0, 0, 0.15);\n",
              "      filter: drop-shadow(0px 1px 2px rgba(0, 0, 0, 0.3));\n",
              "      fill: #FFFFFF;\n",
              "    }\n",
              "  </style>\n",
              "\n",
              "      <script>\n",
              "        const buttonEl =\n",
              "          document.querySelector('#df-b906d6c9-1528-418b-ba87-ef70a84669e6 button.colab-df-convert');\n",
              "        buttonEl.style.display =\n",
              "          google.colab.kernel.accessAllowed ? 'block' : 'none';\n",
              "\n",
              "        async function convertToInteractive(key) {\n",
              "          const element = document.querySelector('#df-b906d6c9-1528-418b-ba87-ef70a84669e6');\n",
              "          const dataTable =\n",
              "            await google.colab.kernel.invokeFunction('convertToInteractive',\n",
              "                                                     [key], {});\n",
              "          if (!dataTable) return;\n",
              "\n",
              "          const docLinkHtml = 'Like what you see? Visit the ' +\n",
              "            '<a target=\"_blank\" href=https://colab.research.google.com/notebooks/data_table.ipynb>data table notebook</a>'\n",
              "            + ' to learn more about interactive tables.';\n",
              "          element.innerHTML = '';\n",
              "          dataTable['output_type'] = 'display_data';\n",
              "          await google.colab.output.renderOutput(dataTable, element);\n",
              "          const docLink = document.createElement('div');\n",
              "          docLink.innerHTML = docLinkHtml;\n",
              "          element.appendChild(docLink);\n",
              "        }\n",
              "      </script>\n",
              "    </div>\n",
              "  </div>\n",
              "  "
            ]
          },
          "metadata": {},
          "execution_count": 19
        }
      ],
      "source": [
        "df['number_of_words'] = [len(tw.split()) for tw in df.text]\n",
        "df"
      ]
    },
    {
      "cell_type": "code",
      "execution_count": 20,
      "metadata": {
        "id": "Ff8FqZjb62RX"
      },
      "outputs": [],
      "source": [
        "#counting the number of unique words in the corpora\n",
        "\n",
        "def counter_word(text):\n",
        "    print(\"Started counting words\")\n",
        "    count = Counter()\n",
        "    for i in text.values:\n",
        "        for word in i.split():\n",
        "            count[word] += 1\n",
        "    print(\"Finished counting words\")\n",
        "    return count"
      ]
    },
    {
      "cell_type": "code",
      "execution_count": 21,
      "metadata": {
        "colab": {
          "base_uri": "https://localhost:8080/"
        },
        "id": "SxLrl8NP7Prm",
        "outputId": "5b6f0fd8-bdaf-42fa-f7dd-8b489430c182"
      },
      "outputs": [
        {
          "output_type": "stream",
          "name": "stdout",
          "text": [
            "Started counting words\n",
            "Finished counting words\n",
            "24983\n"
          ]
        }
      ],
      "source": [
        "no_of_words= counter_word(df['text'])\n",
        "print(len(no_of_words))"
      ]
    },
    {
      "cell_type": "markdown",
      "source": [
        "Importing Rachana font for printing Malayalam words in plot"
      ],
      "metadata": {
        "id": "lN-KGxkzpLNT"
      }
    },
    {
      "cell_type": "code",
      "execution_count": 42,
      "metadata": {
        "colab": {
          "base_uri": "https://localhost:8080/",
          "height": 294
        },
        "id": "GThkVmJGXoYf",
        "outputId": "761cce3f-1dae-4e55-993c-c78b7479c32b"
      },
      "outputs": [
        {
          "output_type": "display_data",
          "data": {
            "text/plain": [
              "<Figure size 432x288 with 1 Axes>"
            ],
            "image/png": "[encoded data removed]"
          },
          "metadata": {}
        }
      ],
      "source": [
        "import matplotlib.pyplot as plt\n",
        "from matplotlib import font_manager\n",
        "from matplotlib import rcParams\n",
        "\n",
        "# download and save any malayalam font file in current directory\n",
        "font_path = 'Rachana.ttf'  \n",
        "font_manager.fontManager.addfont(font_path)\n",
        "rcParams['font.family'] = 'Rachana'\n",
        "fig, ax = plt.subplots()\n",
        "\n",
        "ax.set_title(f'പുതിയ:  font')\n",
        "ax.set_xlabel('This is the default font')\n",
        "plt.show()"
      ]
    },
    {
      "cell_type": "markdown",
      "metadata": {
        "id": "P7K_BuMpJ0gK"
      },
      "source": [
        "Filtering the most common words which are considered as stop words."
      ]
    },
    {
      "cell_type": "code",
      "execution_count": 43,
      "metadata": {
        "id": "mPp-kbwjYOtE"
      },
      "outputs": [],
      "source": [
        "from wordcloud import WordCloud\n",
        "import matplotlib.pyplot as plt\n",
        "import pandas as pd\n",
        "from collections import Counter\n",
        "mystopwords = ['ഒരു', 'ഈ',  'ആണ്', 'വളരെ', 'ഞാൻ', 'തന്നെ', 'ആ', 'വീഡിയോ',  'എന്റെ', 'നമ്മുടെ', 'എല്ലാ', 'അത്', 'എന്ന', 'കൊണ്ട്', 'ഉള്ള', 'ഇത്',  'എല്ലാം', 'എനിക്ക്', 'ഓരോ',  'പിന്നെ',  'ഒക്കെ',  'നിങ്ങൾ', 'വേണ്ടി', 'മാത്രം', 'നിങ്ങളുടെ', 'നിന്നും', 'കൂടെ', 'ഏറ്റവും', 'ഇങ്ങനെ', 'അവരുടെ',  'കാരണം', 'ഇല്ല', 'കൂടുതൽ', '-', 'എല്ലാവർക്കും', 'അവർ', 'പോലും', 'വീണ്ടും', 'എന്നു', 'ചെയ്യാൻ', 'അവിടെ', 'സ്വന്തം', 'അതിന്റെ', 'ഇവിടെ', 'അങ്ങനെ',  'എല്ലാവരും',  'ഞങ്ങൾ',  'നമ്മൾ', 'നമുക്ക്',  'പക്ഷെ', 'നീ',  'പക്ഷേ', 'എന്നെ',  'എന്നാൽ',  'ആരും', 'അതിൽ',  'അല്ല', 'ശേഷം',  'എന്ത്', 'താങ്കൾ', 'എങ്ങനെ', 'അതാണ്',  'നിങ്ങൾക്ക്', ')', 'അവർക്ക്',  'ഏത്',  'മറ്റു', 'അവരെ',\n",
        "'നല്ല', 'ഉണ്ട്','എന്ന്', 'പോലെ', 'ആയി', 'കണ്ടു', 'ഒന്നും', 'നിന്ന്', 'വരെ', 'ചെയ്തു', 'വന്നു', 'ആയിരുന്നു', 'അടുത്ത', 'ചെയ്യുന്ന', 'പല', 'വേറെ', 'ചില', 'മതി', 'ഒരിക്കലും', 'കുറിച്ച്', 'പറഞ്ഞ', 'വന്ന', 'താങ്കളുടെ', 'ചേട്ടൻ', 'ചേട്ടാ', 'ചെയ്ത', 'നൽകി', 'കണ്ട്', 'എൻറെ', 'വെച്ച്', 'യും', 'നിങ്ങളെ', 'പറഞ്ഞത്', 'മാത്രമേ', 'അവൻ', 'എന്തെങ്കിലും', 'എന്നത്', 'എന്താണ്', 'കഴിഞ്ഞു', 'അറിയാം', 'അതു', 'മാത്രമാണ്', 'അതിനെ', 'ചെയ്ത്', 'ഇവർ', 'സ്വയം', 'മുൻപ്', 'ഉള്ളത്', 'പേര്'\n",
        "'ഇപ്പോൾ', 'ഇനി', 'ഇനിയും', 'ഇനി' , 'ഇപ്പോൾ' , 'എങ്കിൽ', 'അപ്പോൾ', 'അല്ലെങ്കിൽ', 'ഇതിൽ', 'ഇതൊക്കെ', 'ഇത്രയും', 'ഇതിന്റെ', 'ഞങ്ങളുടെ', 'ഇതാണ്' , 'പിന്നീട്']\n",
        "# mystopwords = set(mystopwords)\n",
        "\n",
        "stop_words= ['.', ',', '\"', \"'\", ':', ';', '(', ')', '[', ']', '{', '}','-']\n",
        "\n",
        "mystopwords = mystopwords + stop_words\n",
        "mystopwords = set(mystopwords)\n",
        "\n",
        "text =\" \".join(df.text)\n",
        "f_words = filter(lambda x : x not in mystopwords, text.split())\n",
        "f_words = filter(lambda x : x not in stop_words, text.split())\n",
        "# create a word frequency dictionary\n",
        "# wordfreq = Counter(all_words_xn)\n",
        "\n",
        "# plt.figure(figsize = (25, 25))\n",
        "# plt.axis('off')\n",
        "# wordcloud_fig = WordCloud(font_path='Rachana.ttf', max_words = 2000 , stopwords=mystopwords,\n",
        "#                           width = 1600 , height = 800, background_color ='white',\n",
        "#                           min_font_size = 10).generate_from_frequencies(wordfreq)\n",
        "# #.generate(text)\n",
        "# plt.imshow(wordcloud_fig, interpolation = 'bilinear')"
      ]
    },
    {
      "cell_type": "code",
      "execution_count": 24,
      "metadata": {
        "colab": {
          "base_uri": "https://localhost:8080/"
        },
        "id": "i-oFQeRcjcjB",
        "outputId": "a9b66823-9188-4976-90a4-05828fdc20f6"
      },
      "outputs": [
        {
          "output_type": "execute_result",
          "data": {
            "text/plain": [
              "{'\"',\n",
              " \"'\",\n",
              " '(',\n",
              " ')',\n",
              " ',',\n",
              " '-',\n",
              " '.',\n",
              " ':',\n",
              " ';',\n",
              " '[',\n",
              " ']',\n",
              " '{',\n",
              " '}',\n",
              " 'അങ്ങനെ',\n",
              " 'അടുത്ത',\n",
              " 'അതാണ്',\n",
              " 'അതിനെ',\n",
              " 'അതിന്റെ',\n",
              " 'അതിൽ',\n",
              " 'അതു',\n",
              " 'അത്',\n",
              " 'അപ്പോൾ',\n",
              " 'അറിയാം',\n",
              " 'അല്ല',\n",
              " 'അല്ലെങ്കിൽ',\n",
              " 'അവരുടെ',\n",
              " 'അവരെ',\n",
              " 'അവിടെ',\n",
              " 'അവൻ',\n",
              " 'അവർ',\n",
              " 'അവർക്ക്',\n",
              " 'ആ',\n",
              " 'ആണ്',\n",
              " 'ആയി',\n",
              " 'ആയിരുന്നു',\n",
              " 'ആരും',\n",
              " 'ഇങ്ങനെ',\n",
              " 'ഇതാണ്',\n",
              " 'ഇതിന്റെ',\n",
              " 'ഇതിൽ',\n",
              " 'ഇതൊക്കെ',\n",
              " 'ഇത്',\n",
              " 'ഇത്രയും',\n",
              " 'ഇനി',\n",
              " 'ഇനിയും',\n",
              " 'ഇപ്പോൾ',\n",
              " 'ഇല്ല',\n",
              " 'ഇവിടെ',\n",
              " 'ഇവർ',\n",
              " 'ഈ',\n",
              " 'ഉണ്ട്',\n",
              " 'ഉള്ള',\n",
              " 'ഉള്ളത്',\n",
              " 'എങ്കിൽ',\n",
              " 'എങ്ങനെ',\n",
              " 'എനിക്ക്',\n",
              " 'എന്താണ്',\n",
              " 'എന്തെങ്കിലും',\n",
              " 'എന്ത്',\n",
              " 'എന്ന',\n",
              " 'എന്നത്',\n",
              " 'എന്നാൽ',\n",
              " 'എന്നു',\n",
              " 'എന്നെ',\n",
              " 'എന്ന്',\n",
              " 'എന്റെ',\n",
              " 'എല്ലാ',\n",
              " 'എല്ലാം',\n",
              " 'എല്ലാവരും',\n",
              " 'എല്ലാവർക്കും',\n",
              " 'എൻറെ',\n",
              " 'ഏത്',\n",
              " 'ഏറ്റവും',\n",
              " 'ഒക്കെ',\n",
              " 'ഒന്നും',\n",
              " 'ഒരിക്കലും',\n",
              " 'ഒരു',\n",
              " 'ഓരോ',\n",
              " 'കണ്ടു',\n",
              " 'കണ്ട്',\n",
              " 'കഴിഞ്ഞു',\n",
              " 'കാരണം',\n",
              " 'കുറിച്ച്',\n",
              " 'കൂടുതൽ',\n",
              " 'കൂടെ',\n",
              " 'കൊണ്ട്',\n",
              " 'ചില',\n",
              " 'ചെയ്ത',\n",
              " 'ചെയ്തു',\n",
              " 'ചെയ്ത്',\n",
              " 'ചെയ്യാൻ',\n",
              " 'ചെയ്യുന്ന',\n",
              " 'ചേട്ടാ',\n",
              " 'ചേട്ടൻ',\n",
              " 'ഞങ്ങളുടെ',\n",
              " 'ഞങ്ങൾ',\n",
              " 'ഞാൻ',\n",
              " 'തന്നെ',\n",
              " 'താങ്കളുടെ',\n",
              " 'താങ്കൾ',\n",
              " 'നമുക്ക്',\n",
              " 'നമ്മുടെ',\n",
              " 'നമ്മൾ',\n",
              " 'നല്ല',\n",
              " 'നിങ്ങളുടെ',\n",
              " 'നിങ്ങളെ',\n",
              " 'നിങ്ങൾ',\n",
              " 'നിങ്ങൾക്ക്',\n",
              " 'നിന്നും',\n",
              " 'നിന്ന്',\n",
              " 'നീ',\n",
              " 'നൽകി',\n",
              " 'പക്ഷെ',\n",
              " 'പക്ഷേ',\n",
              " 'പറഞ്ഞ',\n",
              " 'പറഞ്ഞത്',\n",
              " 'പല',\n",
              " 'പിന്നീട്',\n",
              " 'പിന്നെ',\n",
              " 'പേര്ഇപ്പോൾ',\n",
              " 'പോലും',\n",
              " 'പോലെ',\n",
              " 'മതി',\n",
              " 'മറ്റു',\n",
              " 'മാത്രം',\n",
              " 'മാത്രമാണ്',\n",
              " 'മാത്രമേ',\n",
              " 'മുൻപ്',\n",
              " 'യും',\n",
              " 'വന്ന',\n",
              " 'വന്നു',\n",
              " 'വരെ',\n",
              " 'വളരെ',\n",
              " 'വീഡിയോ',\n",
              " 'വീണ്ടും',\n",
              " 'വെച്ച്',\n",
              " 'വേണ്ടി',\n",
              " 'വേറെ',\n",
              " 'ശേഷം',\n",
              " 'സ്വന്തം',\n",
              " 'സ്വയം'}"
            ]
          },
          "metadata": {},
          "execution_count": 24
        }
      ],
      "source": [
        "mystopwords"
      ]
    },
    {
      "cell_type": "markdown",
      "metadata": {
        "id": "SHwV4JoMMBQS"
      },
      "source": [
        "### Positive + Negative + Neutral"
      ]
    },
    {
      "cell_type": "code",
      "execution_count": 25,
      "metadata": {
        "colab": {
          "base_uri": "https://localhost:8080/",
          "height": 311
        },
        "id": "E3HKqCwJKK5v",
        "outputId": "b7ea90da-e183-4b42-ff02-d203f2af59e9"
      },
      "outputs": [
        {
          "output_type": "execute_result",
          "data": {
            "text/plain": [
              "<BarContainer object of 20 artists>"
            ]
          },
          "metadata": {},
          "execution_count": 25
        },
        {
          "output_type": "display_data",
          "data": {
            "text/plain": [
              "<Figure size 1152x288 with 1 Axes>"
            ],
            "image/png": "[encoded data removed]"
          },
          "metadata": {
            "needs_background": "light"
          }
        }
      ],
      "source": [
        "text_pos =\" \".join(df[df['sentiment']==\"positive\"].text)\n",
        "f_words = filter(lambda x : x not in mystopwords, text_pos.split())\n",
        "counted_words = Counter(f_words)\n",
        "words = []\n",
        "counts = []\n",
        "for letter, count in counted_words.most_common(20):\n",
        "    words.append(letter)\n",
        "    counts.append(count)\n",
        "\n",
        "# plt.rcParams['font.sans-serif'] = ['Source Han Sans TW', 'sans-serif']   \n",
        "\n",
        "plt.figure(figsize = (16, 4))\n",
        "plt.title('Most common words for postive texts')\n",
        "plt.xlabel('Words')\n",
        "plt.ylabel('Count')\n",
        "plt.bar(words, counts)\n",
        "# matplotlib.rc('font', family='Your Font')"
      ]
    },
    {
      "cell_type": "code",
      "execution_count": 26,
      "metadata": {
        "colab": {
          "base_uri": "https://localhost:8080/",
          "height": 311
        },
        "id": "y-y5lgnYKnmK",
        "outputId": "550e5422-bf6d-4eea-f041-ba857f2c009f"
      },
      "outputs": [
        {
          "output_type": "execute_result",
          "data": {
            "text/plain": [
              "<BarContainer object of 20 artists>"
            ]
          },
          "metadata": {},
          "execution_count": 26
        },
        {
          "output_type": "display_data",
          "data": {
            "text/plain": [
              "<Figure size 1152x288 with 1 Axes>"
            ],
            "image/png": "[encoded data removed]"
          },
          "metadata": {
            "needs_background": "light"
          }
        }
      ],
      "source": [
        "text_neg =\" \".join(df[df['sentiment']==\"negative\"].text)\n",
        "f_words = filter(lambda x : x not in mystopwords, text_neg.split())\n",
        "counted_words = Counter(f_words)\n",
        "words = []\n",
        "counts = []\n",
        "for letter, count in counted_words.most_common(20):\n",
        "    words.append(letter)\n",
        "    counts.append(count)\n",
        "\n",
        "# plt.rcParams['font.sans-serif'] = ['Source Han Sans TW', 'sans-serif']   \n",
        "\n",
        "plt.figure(figsize = (16, 4))\n",
        "plt.title('Most common words for negative texts')\n",
        "plt.xlabel('Words')\n",
        "plt.ylabel('Count')\n",
        "plt.bar(words, counts)\n",
        "# matplotlib.rc('font', family='Your Font')"
      ]
    },
    {
      "cell_type": "code",
      "execution_count": 27,
      "metadata": {
        "colab": {
          "base_uri": "https://localhost:8080/",
          "height": 310
        },
        "id": "9xbJYAhcLVub",
        "outputId": "91bc9925-32e9-492d-aca2-fee83fc880eb"
      },
      "outputs": [
        {
          "output_type": "execute_result",
          "data": {
            "text/plain": [
              "<BarContainer object of 20 artists>"
            ]
          },
          "metadata": {},
          "execution_count": 27
        },
        {
          "output_type": "display_data",
          "data": {
            "text/plain": [
              "<Figure size 1152x288 with 1 Axes>"
            ],
            "image/png": "[encoded data removed]"
          },
          "metadata": {
            "needs_background": "light"
          }
        }
      ],
      "source": [
        "text_neg =\" \".join(df[df['sentiment']==\"neutral\"].text)\n",
        "f_words = filter(lambda x : x not in mystopwords, text_neg.split())\n",
        "counted_words = Counter(f_words)\n",
        "words = []\n",
        "counts = []\n",
        "for letter, count in counted_words.most_common(20):\n",
        "    words.append(letter)\n",
        "    counts.append(count)\n",
        "\n",
        "# plt.rcParams['font.sans-serif'] = ['Source Han Sans TW', 'sans-serif']   \n",
        "\n",
        "plt.figure(figsize = (16, 4))\n",
        "plt.title('Most common words for neutral texts')\n",
        "plt.xlabel('Words')\n",
        "plt.ylabel('Count')\n",
        "plt.bar(words, counts)\n",
        "# matplotlib.rc('font', family='Your Font')"
      ]
    },
    {
      "cell_type": "markdown",
      "metadata": {
        "id": "9aCN-DPBjAsI"
      },
      "source": [
        "# Installing mlmorph for stemming "
      ]
    },
    {
      "cell_type": "code",
      "execution_count": 6,
      "metadata": {
        "colab": {
          "base_uri": "https://localhost:8080/"
        },
        "id": "8uqzt8CCUH-t",
        "outputId": "7e30f02b-439c-4b67-b6ab-b66323519086"
      },
      "outputs": [
        {
          "output_type": "stream",
          "name": "stdout",
          "text": [
            "Looking in indexes: https://pypi.org/simple, https://us-python.pkg.dev/colab-wheels/public/simple/\n",
            "Collecting mlmorph\n",
            "  Downloading mlmorph-1.3.5.tar.gz (5.6 MB)\n",
            "\u001b[K     |████████████████████████████████| 5.6 MB 4.6 MB/s \n",
            "\u001b[?25hRequirement already satisfied: regex in /usr/local/lib/python3.7/dist-packages (from mlmorph) (2022.6.2)\n",
            "Collecting sfst>=1.5.4\n",
            "  Downloading sfst-1.5.6-cp37-cp37m-manylinux_2_17_x86_64.manylinux2014_x86_64.whl (365 kB)\n",
            "\u001b[K     |████████████████████████████████| 365 kB 56.0 MB/s \n",
            "\u001b[?25hBuilding wheels for collected packages: mlmorph\n",
            "  Building wheel for mlmorph (setup.py) ... \u001b[?25l\u001b[?25hdone\n",
            "  Created wheel for mlmorph: filename=mlmorph-1.3.5-py3-none-any.whl size=5646002 sha256=02861ac65017f1edd884911f20667fc4de5e958ebae78d024ef2d58d7e2fc2e1\n",
            "  Stored in directory: /root/.cache/pip/wheels/d2/8a/c6/b8acaed490e36c02f00f9adb345eb50a5c6124a15037db7119\n",
            "Successfully built mlmorph\n",
            "Installing collected packages: sfst, mlmorph\n",
            "Successfully installed mlmorph-1.3.5 sfst-1.5.6\n"
          ]
        }
      ],
      "source": [
        "#installing mlmorph\n",
        "! pip install mlmorph"
      ]
    },
    {
      "cell_type": "markdown",
      "metadata": {
        "id": "CD8pLS10jLYw"
      },
      "source": [
        "Example of mlmorph with some malayalam words"
      ]
    },
    {
      "cell_type": "code",
      "execution_count": 7,
      "metadata": {
        "colab": {
          "base_uri": "https://localhost:8080/"
        },
        "id": "q6sp4IYGT7oA",
        "outputId": "849d088c-8236-4d7e-f6a4-7103833d3b12"
      },
      "outputs": [
        {
          "output_type": "execute_result",
          "data": {
            "text/plain": [
              "[('ആലാപനം<n>', 123),\n",
              " ('ആൽ<n><adj>ആപനം<n>', 265),\n",
              " ('ആൽ<n><coordinative>ആപനം<n>', 265)]"
            ]
          },
          "metadata": {},
          "execution_count": 7
        }
      ],
      "source": [
        "from mlmorph import Analyser\n",
        "analyser = Analyser()\n",
        "import sfst\n",
        "\n",
        "analyser.analyse(\"ആലാപനം\")"
      ]
    },
    {
      "cell_type": "code",
      "execution_count": 8,
      "metadata": {
        "colab": {
          "base_uri": "https://localhost:8080/"
        },
        "id": "FcGDYiDRxsCf",
        "outputId": "20182159-f860-4793-b376-8b7dfa684e2d"
      },
      "outputs": [
        {
          "output_type": "execute_result",
          "data": {
            "text/plain": [
              "[('കേന്ദ്രം<n><locative>എ<indeclinable>', 325)]"
            ]
          },
          "metadata": {},
          "execution_count": 8
        }
      ],
      "source": [
        "analyser.analyse(\"കേന്ദ്രത്തിലെ\")"
      ]
    },
    {
      "cell_type": "code",
      "execution_count": 9,
      "metadata": {
        "colab": {
          "base_uri": "https://localhost:8080/"
        },
        "id": "kf0rDZITxubt",
        "outputId": "b942e036-66a0-4f58-add4-ee196b75da96"
      },
      "outputs": [
        {
          "output_type": "execute_result",
          "data": {
            "text/plain": [
              "[('പൊളിയുക<v><causative-voice><past>', 247)]"
            ]
          },
          "metadata": {},
          "execution_count": 9
        }
      ],
      "source": [
        "analyser.analyse(\"പൊളിച്ചു\")"
      ]
    },
    {
      "cell_type": "markdown",
      "metadata": {
        "id": "UtIZD-MDjiBC"
      },
      "source": [
        "#Reading text calling from dataset "
      ]
    },
    {
      "cell_type": "code",
      "execution_count": 15,
      "metadata": {
        "id": "uMnMn-4Z1yXT"
      },
      "outputs": [],
      "source": [
        "#Getting all the news to string from padas dataframe\n",
        "string_lst = df[\"text\"].values.tolist()"
      ]
    },
    {
      "cell_type": "markdown",
      "metadata": {
        "id": "h_smKvCpjhNB"
      },
      "source": [
        "Splitting the string to words of list"
      ]
    },
    {
      "cell_type": "code",
      "execution_count": 16,
      "metadata": {
        "id": "FFUWxjKSvBzJ"
      },
      "outputs": [],
      "source": [
        "# function for splitting the string\n",
        "def string_to_list(string_lst):\n",
        "  str_list_stem=[]\n",
        "  for string in string_lst:\n",
        "    split_string_list=string.split()\n",
        "    str_list_stem.append(split_string_list)\n",
        "  return str_list_stem"
      ]
    },
    {
      "cell_type": "code",
      "execution_count": 17,
      "metadata": {
        "id": "n5f4mUlCeHjN"
      },
      "outputs": [],
      "source": [
        "str_list_stem=string_to_list(string_lst)"
      ]
    },
    {
      "cell_type": "code",
      "execution_count": 18,
      "metadata": {
        "colab": {
          "base_uri": "https://localhost:8080/"
        },
        "id": "PGxOI3EPzn-L",
        "outputId": "6bbc03ad-8587-4085-ab1d-a419094a474f"
      },
      "outputs": [
        {
          "output_type": "stream",
          "name": "stdout",
          "text": [
            "Length of list which are splitted into words: 5836\n"
          ]
        }
      ],
      "source": [
        "\n",
        "print('Length of list which are splitted into words:',len(str_list_stem))\n"
      ]
    },
    {
      "cell_type": "markdown",
      "metadata": {
        "id": "lD1-Lzfkkh2Y"
      },
      "source": [
        "#Function for stemming"
      ]
    },
    {
      "cell_type": "code",
      "execution_count": 19,
      "metadata": {
        "id": "ljisVuh7yt00"
      },
      "outputs": [],
      "source": [
        "# function for stemming\n",
        "def stemmer(string_lst):\n",
        "\n",
        "  for words in string_lst:\n",
        "    stem_words=analyser.analyse(words)\n",
        "    # print(stem_words)\n",
        "\n",
        "    if  not stem_words:\n",
        "      stem_list.append(words)\n",
        "    else:\n",
        "      pat = re.compile(r'[^\\u0d00-\\u0d7f\\s]',re.UNICODE)\n",
        "      stem_list.append(re.sub(pat, \"\", stem_words[0][0]).strip())\n",
        "\n",
        "  return stem_list"
      ]
    },
    {
      "cell_type": "code",
      "execution_count": null,
      "metadata": {
        "id": "TwB5zqGqytxW"
      },
      "outputs": [],
      "source": [
        "# for loop for entire dataframe\n",
        "final_stem_list=[]\n",
        "for str in str_list_stem:\n",
        "  # print('String is',str)\n",
        "  stem_list=[]\n",
        "  stem=stemmer(str)\n",
        "  # print('stemmed list is',stem)\n",
        "  final_stem_list.append(stem)\n"
      ]
    },
    {
      "cell_type": "code",
      "execution_count": null,
      "metadata": {
        "colab": {
          "base_uri": "https://localhost:8080/"
        },
        "id": "8VIqSzzeicbE",
        "outputId": "14055a97-9a19-4f0e-a888-7640d1940f42"
      },
      "outputs": [
        {
          "name": "stdout",
          "output_type": "stream",
          "text": [
            "Length of stemmed list:  5836\n"
          ]
        }
      ],
      "source": [
        "print('Length of stemmed list: ',len(final_stem_list))"
      ]
    },
    {
      "cell_type": "code",
      "execution_count": null,
      "metadata": {
        "id": "ZL_TFOGpyrZe"
      },
      "outputs": [],
      "source": [
        "final_stem_list"
      ]
    },
    {
      "cell_type": "markdown",
      "metadata": {
        "id": "YzTsf6F5JBsS"
      },
      "source": [
        "###importing necessary libraries"
      ]
    },
    {
      "cell_type": "code",
      "execution_count": 20,
      "metadata": {
        "colab": {
          "base_uri": "https://localhost:8080/"
        },
        "id": "yVpLMnE-JAF1",
        "outputId": "8edbdb40-e1ac-44f9-e64b-b1f021b09e8d"
      },
      "outputs": [
        {
          "output_type": "stream",
          "name": "stderr",
          "text": [
            "[nltk_data] Downloading package punkt to /root/nltk_data...\n",
            "[nltk_data]   Unzipping tokenizers/punkt.zip.\n"
          ]
        }
      ],
      "source": [
        "#For Pre-Processing\n",
        "from tqdm import tqdm\n",
        "import nltk\n",
        "nltk.download('punkt')\n",
        "from nltk.tokenize import word_tokenize\n",
        "import os, re, csv, math, codecs\n",
        "\n",
        "\n",
        "# For Training\n",
        "import keras\n",
        "from keras import optimizers\n",
        "from keras import backend as K\n",
        "from keras import regularizers\n",
        "from keras.models import Sequential\n",
        "from keras.layers import Dense, Activation, Dropout, Flatten\n",
        "from keras.layers import Embedding, Conv1D, MaxPooling1D, GlobalMaxPooling1D\n",
        "from tensorflow.keras.layers import Embedding, LSTM, Dense, Dropout, Bidirectional\n",
        "# from keras.utils import plot_model\n",
        "from keras.preprocessing import sequence\n",
        "from keras.preprocessing.text import Tokenizer\n",
        "from keras.callbacks import EarlyStopping\n",
        "from nltk.tokenize import RegexpTokenizer \n",
        "\n",
        "# For array, dataset, and visualizing\n",
        "import numpy as np\n",
        "import pandas as pd\n",
        "import seaborn as sns\n",
        "import matplotlib.pyplot as plt\n",
        "\n",
        "sns.set_style(\"whitegrid\")\n",
        "np.random.seed(0)\n",
        "\n",
        "MAX_NB_WORDS = 100000\n",
        "tokenizer = RegexpTokenizer(r'\\w+')\n",
        "# stop_words = set(stopwords.words('english'))\n",
        "stop_words= set(['.', ',', '\"', \"'\", ':', ';', '(', ')', '[', ']', '{', '}'])\n",
        "from sklearn.preprocessing import LabelEncoder"
      ]
    },
    {
      "cell_type": "code",
      "source": [
        "#All this for reproducibility\n",
        "np.random.seed(1)\n",
        "rn.seed(1)"
      ],
      "metadata": {
        "id": "dnEHwfEVp-Nh"
      },
      "execution_count": null,
      "outputs": []
    },
    {
      "cell_type": "markdown",
      "source": [
        "#**Fasttext with LSTM**"
      ],
      "metadata": {
        "id": "Kv9anxdgQjuJ"
      }
    },
    {
      "cell_type": "markdown",
      "metadata": {
        "id": "0OoxP4hwjfk2"
      },
      "source": [
        "##Downloading pre-trained fastText, preparing datasets, and pre-processing**"
      ]
    },
    {
      "cell_type": "code",
      "execution_count": 44,
      "metadata": {
        "colab": {
          "base_uri": "https://localhost:8080/"
        },
        "id": "zCiaKCbONm9d",
        "outputId": "9d86cd01-4355-477b-9212-03b792406e64"
      },
      "outputs": [
        {
          "output_type": "stream",
          "name": "stdout",
          "text": [
            "--2022-08-21 08:24:49--  https://dl.fbaipublicfiles.com/fasttext/vectors-crawl/cc.ml.300.vec.gz\n",
            "Resolving dl.fbaipublicfiles.com (dl.fbaipublicfiles.com)... 104.22.75.142, 172.67.9.4, 104.22.74.142, ...\n",
            "Connecting to dl.fbaipublicfiles.com (dl.fbaipublicfiles.com)|104.22.75.142|:443... connected.\n",
            "HTTP request sent, awaiting response... 200 OK\n",
            "Length: 1215270076 (1.1G) [binary/octet-stream]\n",
            "Saving to: ‘cc.ml.300.vec.gz’\n",
            "\n",
            "cc.ml.300.vec.gz    100%[===================>]   1.13G  36.3MB/s    in 37s     \n",
            "\n",
            "2022-08-21 08:25:26 (31.6 MB/s) - ‘cc.ml.300.vec.gz’ saved [1215270076/1215270076]\n",
            "\n"
          ]
        }
      ],
      "source": [
        "#installing fasttext pretrained vectors\n",
        "! wget  https://dl.fbaipublicfiles.com/fasttext/vectors-crawl/cc.ml.300.vec.gz\n",
        "! gunzip cc.ml.300.vec.gz\n",
        "\n"
      ]
    },
    {
      "cell_type": "markdown",
      "metadata": {
        "id": "6uLXG4_0HVOC"
      },
      "source": [
        "\n",
        "Converting all the words to index in number, to the embedding index in pre-trained model and converted all the missing words to 0,"
      ]
    },
    {
      "cell_type": "code",
      "execution_count": 45,
      "metadata": {
        "colab": {
          "base_uri": "https://localhost:8080/"
        },
        "id": "ANqMlSH6UN0Q",
        "outputId": "d8371aef-9f94-486c-a14a-5bfd9d93034a"
      },
      "outputs": [
        {
          "output_type": "stream",
          "name": "stdout",
          "text": [
            "loading word embeddings...\n"
          ]
        },
        {
          "output_type": "stream",
          "name": "stderr",
          "text": [
            "2000001it [03:02, 10987.82it/s]"
          ]
        },
        {
          "output_type": "stream",
          "name": "stdout",
          "text": [
            "found 2000000 word vectors\n"
          ]
        },
        {
          "output_type": "stream",
          "name": "stderr",
          "text": [
            "\n"
          ]
        }
      ],
      "source": [
        "import numpy as np\n",
        "\n",
        "import os, re, csv, math, codecs\n",
        "from tqdm import tqdm\n",
        "print('loading word embeddings...')\n",
        "embeddings_index = {}\n",
        "f = codecs.open('cc.ml.300.vec', encoding='utf-8')\n",
        "\n",
        "for line in tqdm(f):\n",
        "    values = line.rstrip().rsplit(' ')\n",
        "    word = values[0]\n",
        "    coefs = np.asarray(values[1:], dtype='float32')\n",
        "    embeddings_index[word] = coefs\n",
        "f.close()\n",
        "\n",
        "print('found %s word vectors' % len(embeddings_index))"
      ]
    },
    {
      "cell_type": "code",
      "execution_count": 51,
      "metadata": {
        "colab": {
          "base_uri": "https://localhost:8080/"
        },
        "id": "xC7mlDjPUNw6",
        "outputId": "ee1781cd-7446-416c-ebac-ab90c8524983"
      },
      "outputs": [
        {
          "output_type": "stream",
          "name": "stdout",
          "text": [
            "Length of embedding matrix  2000000\n"
          ]
        }
      ],
      "source": [
        "print(\"Length of embedding matrix \",len(embeddings_index))"
      ]
    },
    {
      "cell_type": "markdown",
      "metadata": {
        "id": "0oQ6dRmTHY58"
      },
      "source": [
        "Read both the train data and test data"
      ]
    },
    {
      "cell_type": "markdown",
      "source": [
        "Function for splitting data in to train and test with all classes"
      ],
      "metadata": {
        "id": "gg0Ce-mW1T6r"
      }
    },
    {
      "cell_type": "code",
      "source": [
        "def testtrainsplit(df,frac=0.20):\n",
        "\n",
        "  from sklearn.model_selection import train_test_split\n",
        "\n",
        "  trainx = [] \n",
        "\n",
        "  testx = []\n",
        "\n",
        "  for i in ['positive','negative','neutral']:\n",
        "\n",
        "     tdf = df[df['sentiment'] == i]\n",
        "\n",
        "     t1, t2 = train_test_split(tdf, test_size=frac, random_state=0)\n",
        "\n",
        "     num=len(tdf)\n",
        "\n",
        "     trainx.append(t1)\n",
        "\n",
        "     testx.append(t2)\n",
        "\n",
        "  return pd.concat(trainx),pd.concat(testx)"
      ],
      "metadata": {
        "id": "JyulGwB10wI-"
      },
      "execution_count": 52,
      "outputs": []
    },
    {
      "cell_type": "code",
      "source": [
        "train_df,test_df=testtrainsplit(df,frac=0.20)"
      ],
      "metadata": {
        "id": "4pYBilQ91Z4h"
      },
      "execution_count": 53,
      "outputs": []
    },
    {
      "cell_type": "code",
      "source": [
        "print(\"Number of training data \", train_df.shape[0])\n",
        "print(\"Number of testing data: \", test_df.shape[0])"
      ],
      "metadata": {
        "colab": {
          "base_uri": "https://localhost:8080/"
        },
        "id": "vTBqGTCE1vXe",
        "outputId": "f83df8bf-c9b6-4c7e-ce55-6794b5b57173"
      },
      "execution_count": 54,
      "outputs": [
        {
          "output_type": "stream",
          "name": "stdout",
          "text": [
            "Number of training data  4667\n",
            "Number of testing data:  1169\n"
          ]
        }
      ]
    },
    {
      "cell_type": "code",
      "execution_count": 55,
      "metadata": {
        "colab": {
          "base_uri": "https://localhost:8080/",
          "height": 424
        },
        "id": "0E3Hf1UIlKwO",
        "outputId": "1fda390d-e0cb-4f55-9f73-062872cc1049"
      },
      "outputs": [
        {
          "output_type": "execute_result",
          "data": {
            "text/plain": [
              "                                                   text            category  \\\n",
              "233          ശ്രീശാന്തിന് ആശ്വാസം, വിലക്ക് പിന്‍വലിച്ചു              sports   \n",
              "2623  പുതിയ കളികളുമായി പത്മനാഭന്റെ മണ്ണിലേക്ക് 'പട്ട...       entertainment   \n",
              "2589  സിനിമയ്ക്ക് പുറമേ മോദിയുടെ ജീവിതകഥ വെബ് സീരീസാ...       entertainment   \n",
              "4096  'നീര്‍മാതളം പൂത്തകാലം' ചിത്രത്തിലെ പുതിയ വീഡിയ...       entertainment   \n",
              "1942  \\nമൊഹാലി ഏകദിനം: പ്രതീക്ഷ കൈവിടാതെ ഓസീസ്; ഹാന്...              sports   \n",
              "...                                                 ...                 ...   \n",
              "1806  ശരിയാണ് പറഞ്ഞത് കാട്ടാനകളുടെ എണ്ണം കൂടുമ്പോൾ  ...  Autos_and_Vehicles   \n",
              "2406  എടാ വിമാനം അവിടേക്ക് സർവീസ് നടത്തിയാലല്ലേ ഇവിട...    People_and_Blogs   \n",
              "4368  അസ്സലാമുഅലൈക്കും വറഹ്മതുള്ളാഹിവബറകാതുഹു ഷ ഹമാര...           Education   \n",
              "4676  കുമ്ബളങ്ങി നെറ്റസിലെ ഫ്രാങ്കി എന്ന കഥാപാത്രത്ത...       entertainment   \n",
              "998   ബ്രദർ ബാബസാഹിബ് അംബേദ്കർ എന്ന ഇതിഹാസത്തെ പറ്റി...       Entertainment   \n",
              "\n",
              "     sentiment offensive  \n",
              "233   positive       NaN  \n",
              "2623  positive       NaN  \n",
              "2589  positive       NaN  \n",
              "4096  positive       NaN  \n",
              "1942  positive       NaN  \n",
              "...        ...       ...  \n",
              "1806   neutral         0  \n",
              "2406   neutral         0  \n",
              "4368   neutral         0  \n",
              "4676   neutral       NaN  \n",
              "998    neutral         0  \n",
              "\n",
              "[4667 rows x 4 columns]"
            ],
            "text/html": [
              "\n",
              "  <div id=\"df-93f71cf7-7182-4c9f-ae0f-0154de5a407c\">\n",
              "    <div class=\"colab-df-container\">\n",
              "      <div>\n",
              "<style scoped>\n",
              "    .dataframe tbody tr th:only-of-type {\n",
              "        vertical-align: middle;\n",
              "    }\n",
              "\n",
              "    .dataframe tbody tr th {\n",
              "        vertical-align: top;\n",
              "    }\n",
              "\n",
              "    .dataframe thead th {\n",
              "        text-align: right;\n",
              "    }\n",
              "</style>\n",
              "<table border=\"1\" class=\"dataframe\">\n",
              "  <thead>\n",
              "    <tr style=\"text-align: right;\">\n",
              "      <th></th>\n",
              "      <th>text</th>\n",
              "      <th>category</th>\n",
              "      <th>sentiment</th>\n",
              "      <th>offensive</th>\n",
              "    </tr>\n",
              "  </thead>\n",
              "  <tbody>\n",
              "    <tr>\n",
              "      <th>233</th>\n",
              "      <td>ശ്രീശാന്തിന് ആശ്വാസം, വിലക്ക് പിന്‍വലിച്ചു</td>\n",
              "      <td>sports</td>\n",
              "      <td>positive</td>\n",
              "      <td>NaN</td>\n",
              "    </tr>\n",
              "    <tr>\n",
              "      <th>2623</th>\n",
              "      <td>പുതിയ കളികളുമായി പത്മനാഭന്റെ മണ്ണിലേക്ക് 'പട്ട...</td>\n",
              "      <td>entertainment</td>\n",
              "      <td>positive</td>\n",
              "      <td>NaN</td>\n",
              "    </tr>\n",
              "    <tr>\n",
              "      <th>2589</th>\n",
              "      <td>സിനിമയ്ക്ക് പുറമേ മോദിയുടെ ജീവിതകഥ വെബ് സീരീസാ...</td>\n",
              "      <td>entertainment</td>\n",
              "      <td>positive</td>\n",
              "      <td>NaN</td>\n",
              "    </tr>\n",
              "    <tr>\n",
              "      <th>4096</th>\n",
              "      <td>'നീര്‍മാതളം പൂത്തകാലം' ചിത്രത്തിലെ പുതിയ വീഡിയ...</td>\n",
              "      <td>entertainment</td>\n",
              "      <td>positive</td>\n",
              "      <td>NaN</td>\n",
              "    </tr>\n",
              "    <tr>\n",
              "      <th>1942</th>\n",
              "      <td>\\nമൊഹാലി ഏകദിനം: പ്രതീക്ഷ കൈവിടാതെ ഓസീസ്; ഹാന്...</td>\n",
              "      <td>sports</td>\n",
              "      <td>positive</td>\n",
              "      <td>NaN</td>\n",
              "    </tr>\n",
              "    <tr>\n",
              "      <th>...</th>\n",
              "      <td>...</td>\n",
              "      <td>...</td>\n",
              "      <td>...</td>\n",
              "      <td>...</td>\n",
              "    </tr>\n",
              "    <tr>\n",
              "      <th>1806</th>\n",
              "      <td>ശരിയാണ് പറഞ്ഞത് കാട്ടാനകളുടെ എണ്ണം കൂടുമ്പോൾ  ...</td>\n",
              "      <td>Autos_and_Vehicles</td>\n",
              "      <td>neutral</td>\n",
              "      <td>0</td>\n",
              "    </tr>\n",
              "    <tr>\n",
              "      <th>2406</th>\n",
              "      <td>എടാ വിമാനം അവിടേക്ക് സർവീസ് നടത്തിയാലല്ലേ ഇവിട...</td>\n",
              "      <td>People_and_Blogs</td>\n",
              "      <td>neutral</td>\n",
              "      <td>0</td>\n",
              "    </tr>\n",
              "    <tr>\n",
              "      <th>4368</th>\n",
              "      <td>അസ്സലാമുഅലൈക്കും വറഹ്മതുള്ളാഹിവബറകാതുഹു ഷ ഹമാര...</td>\n",
              "      <td>Education</td>\n",
              "      <td>neutral</td>\n",
              "      <td>0</td>\n",
              "    </tr>\n",
              "    <tr>\n",
              "      <th>4676</th>\n",
              "      <td>കുമ്ബളങ്ങി നെറ്റസിലെ ഫ്രാങ്കി എന്ന കഥാപാത്രത്ത...</td>\n",
              "      <td>entertainment</td>\n",
              "      <td>neutral</td>\n",
              "      <td>NaN</td>\n",
              "    </tr>\n",
              "    <tr>\n",
              "      <th>998</th>\n",
              "      <td>ബ്രദർ ബാബസാഹിബ് അംബേദ്കർ എന്ന ഇതിഹാസത്തെ പറ്റി...</td>\n",
              "      <td>Entertainment</td>\n",
              "      <td>neutral</td>\n",
              "      <td>0</td>\n",
              "    </tr>\n",
              "  </tbody>\n",
              "</table>\n",
              "<p>4667 rows × 4 columns</p>\n",
              "</div>\n",
              "      <button class=\"colab-df-convert\" onclick=\"convertToInteractive('df-93f71cf7-7182-4c9f-ae0f-0154de5a407c')\"\n",
              "              title=\"Convert this dataframe to an interactive table.\"\n",
              "              style=\"display:none;\">\n",
              "        \n",
              "  <svg xmlns=\"http://www.w3.org/2000/svg\" height=\"24px\"viewBox=\"0 0 24 24\"\n",
              "       width=\"24px\">\n",
              "    <path d=\"M0 0h24v24H0V0z\" fill=\"none\"/>\n",
              "    <path d=\"M18.56 5.44l.94 2.06.94-2.06 2.06-.94-2.06-.94-.94-2.06-.94 2.06-2.06.94zm-11 1L8.5 8.5l.94-2.06 2.06-.94-2.06-.94L8.5 2.5l-.94 2.06-2.06.94zm10 10l.94 2.06.94-2.06 2.06-.94-2.06-.94-.94-2.06-.94 2.06-2.06.94z\"/><path d=\"M17.41 7.96l-1.37-1.37c-.4-.4-.92-.59-1.43-.59-.52 0-1.04.2-1.43.59L10.3 9.45l-7.72 7.72c-.78.78-.78 2.05 0 2.83L4 21.41c.39.39.9.59 1.41.59.51 0 1.02-.2 1.41-.59l7.78-7.78 2.81-2.81c.8-.78.8-2.07 0-2.86zM5.41 20L4 18.59l7.72-7.72 1.47 1.35L5.41 20z\"/>\n",
              "  </svg>\n",
              "      </button>\n",
              "      \n",
              "  <style>\n",
              "    .colab-df-container {\n",
              "      display:flex;\n",
              "      flex-wrap:wrap;\n",
              "      gap: 12px;\n",
              "    }\n",
              "\n",
              "    .colab-df-convert {\n",
              "      background-color: #E8F0FE;\n",
              "      border: none;\n",
              "      border-radius: 50%;\n",
              "      cursor: pointer;\n",
              "      display: none;\n",
              "      fill: #1967D2;\n",
              "      height: 32px;\n",
              "      padding: 0 0 0 0;\n",
              "      width: 32px;\n",
              "    }\n",
              "\n",
              "    .colab-df-convert:hover {\n",
              "      background-color: #E2EBFA;\n",
              "      box-shadow: 0px 1px 2px rgba(60, 64, 67, 0.3), 0px 1px 3px 1px rgba(60, 64, 67, 0.15);\n",
              "      fill: #174EA6;\n",
              "    }\n",
              "\n",
              "    [theme=dark] .colab-df-convert {\n",
              "      background-color: #3B4455;\n",
              "      fill: #D2E3FC;\n",
              "    }\n",
              "\n",
              "    [theme=dark] .colab-df-convert:hover {\n",
              "      background-color: #434B5C;\n",
              "      box-shadow: 0px 1px 3px 1px rgba(0, 0, 0, 0.15);\n",
              "      filter: drop-shadow(0px 1px 2px rgba(0, 0, 0, 0.3));\n",
              "      fill: #FFFFFF;\n",
              "    }\n",
              "  </style>\n",
              "\n",
              "      <script>\n",
              "        const buttonEl =\n",
              "          document.querySelector('#df-93f71cf7-7182-4c9f-ae0f-0154de5a407c button.colab-df-convert');\n",
              "        buttonEl.style.display =\n",
              "          google.colab.kernel.accessAllowed ? 'block' : 'none';\n",
              "\n",
              "        async function convertToInteractive(key) {\n",
              "          const element = document.querySelector('#df-93f71cf7-7182-4c9f-ae0f-0154de5a407c');\n",
              "          const dataTable =\n",
              "            await google.colab.kernel.invokeFunction('convertToInteractive',\n",
              "                                                     [key], {});\n",
              "          if (!dataTable) return;\n",
              "\n",
              "          const docLinkHtml = 'Like what you see? Visit the ' +\n",
              "            '<a target=\"_blank\" href=https://colab.research.google.com/notebooks/data_table.ipynb>data table notebook</a>'\n",
              "            + ' to learn more about interactive tables.';\n",
              "          element.innerHTML = '';\n",
              "          dataTable['output_type'] = 'display_data';\n",
              "          await google.colab.output.renderOutput(dataTable, element);\n",
              "          const docLink = document.createElement('div');\n",
              "          docLink.innerHTML = docLinkHtml;\n",
              "          element.appendChild(docLink);\n",
              "        }\n",
              "      </script>\n",
              "    </div>\n",
              "  </div>\n",
              "  "
            ]
          },
          "metadata": {},
          "execution_count": 55
        }
      ],
      "source": [
        "train_df"
      ]
    },
    {
      "cell_type": "code",
      "execution_count": 56,
      "metadata": {
        "colab": {
          "base_uri": "https://localhost:8080/",
          "height": 348
        },
        "id": "sW8w3E6iAZ1R",
        "outputId": "74bf643e-8092-435f-8a2a-dc8b578def20"
      },
      "outputs": [
        {
          "output_type": "stream",
          "name": "stderr",
          "text": [
            "/usr/local/lib/python3.7/dist-packages/seaborn/distributions.py:2619: FutureWarning: `distplot` is a deprecated function and will be removed in a future version. Please adapt your code to use either `displot` (a figure-level function with similar flexibility) or `histplot` (an axes-level function for histograms).\n",
            "  warnings.warn(msg, FutureWarning)\n"
          ]
        },
        {
          "output_type": "display_data",
          "data": {
            "text/plain": [
              "<Figure size 432x288 with 1 Axes>"
            ],
            "image/png": "[encoded data removed]"
          },
          "metadata": {}
        }
      ],
      "source": [
        "y_train = train_df[\"sentiment\"].tolist()\n",
        "y_test = test_df[\"sentiment\"].tolist()\n",
        "train_df['doc_len'] = train_df['text'].apply(lambda words: len(words.split(\" \")))\n",
        "max_seq_len = np.round(train_df['doc_len'].mean() + train_df['doc_len'].std()).astype(int)\n",
        "\n",
        "sns.distplot(train_df['doc_len'], hist=True, kde=True, color='b', label='doc len')\n",
        "plt.axvline(x=max_seq_len, color='k', linestyle='--', label='max len')\n",
        "plt.title('comment length'); plt.legend()\n",
        "plt.show()"
      ]
    },
    {
      "cell_type": "code",
      "execution_count": 57,
      "metadata": {
        "colab": {
          "base_uri": "https://localhost:8080/"
        },
        "id": "snXw7zz7A9oI",
        "outputId": "12c02e28-1ab5-4e07-fcda-682b07668ea3"
      },
      "outputs": [
        {
          "output_type": "stream",
          "name": "stdout",
          "text": [
            "Maximum length:  28\n"
          ]
        }
      ],
      "source": [
        "print('Maximum length: ',max_seq_len)"
      ]
    },
    {
      "cell_type": "markdown",
      "metadata": {
        "id": "OIwRQkSnImaY"
      },
      "source": [
        "tokenizing the data with tokenizer from tensorflow"
      ]
    },
    {
      "cell_type": "code",
      "source": [
        "mystopwords = ['ഒരു', 'ഈ',  'ആണ്', 'വളരെ', 'ഞാൻ', 'തന്നെ', 'ആ', 'വീഡിയോ',  'എന്റെ', 'നമ്മുടെ', 'എല്ലാ', 'അത്', 'എന്ന', 'കൊണ്ട്', 'ഉള്ള', 'ഇത്',  'എല്ലാം', 'എനിക്ക്', 'ഓരോ',  'പിന്നെ',  'ഒക്കെ',  'നിങ്ങൾ', 'വേണ്ടി', 'മാത്രം', 'നിങ്ങളുടെ', 'നിന്നും', 'കൂടെ', 'ഏറ്റവും', 'ഇങ്ങനെ', 'അവരുടെ',  'കാരണം', 'ഇല്ല', 'കൂടുതൽ', '-', 'എല്ലാവർക്കും', 'അവർ', 'പോലും', 'വീണ്ടും', 'എന്നു', 'ചെയ്യാൻ', 'അവിടെ', 'സ്വന്തം', 'അതിന്റെ', 'ഇവിടെ', 'അങ്ങനെ',  'എല്ലാവരും',  'ഞങ്ങൾ',  'നമ്മൾ', 'നമുക്ക്',  'പക്ഷെ', 'നീ',  'പക്ഷേ', 'എന്നെ',  'എന്നാൽ',  'ആരും', 'അതിൽ',  'അല്ല', 'ശേഷം',  'എന്ത്', 'താങ്കൾ', 'എങ്ങനെ', 'അതാണ്',  'നിങ്ങൾക്ക്', ')', 'അവർക്ക്',  'ഏത്',  'മറ്റു', 'അവരെ',\n",
        "'നല്ല', 'ഉണ്ട്','എന്ന്', 'പോലെ', 'ആയി', 'കണ്ടു', 'ഒന്നും', 'നിന്ന്', 'വരെ', 'ചെയ്തു', 'വന്നു', 'ആയിരുന്നു', 'അടുത്ത', 'ചെയ്യുന്ന', 'പല', 'വേറെ', 'ചില', 'മതി', 'ഒരിക്കലും', 'കുറിച്ച്', 'പറഞ്ഞ', 'വന്ന', 'താങ്കളുടെ', 'ചേട്ടൻ', 'ചേട്ടാ', 'ചെയ്ത', 'നൽകി', 'കണ്ട്', 'എൻറെ', 'വെച്ച്', 'യും', 'നിങ്ങളെ', 'പറഞ്ഞത്', 'മാത്രമേ', 'അവൻ', 'എന്തെങ്കിലും', 'എന്നത്', 'എന്താണ്', 'കഴിഞ്ഞു', 'അറിയാം', 'അതു', 'മാത്രമാണ്', 'അതിനെ', 'ചെയ്ത്', 'ഇവർ', 'സ്വയം', 'മുൻപ്', 'ഉള്ളത്', 'പേര്'\n",
        "'ഇപ്പോൾ', 'ഇനി', 'ഇനിയും', 'ഇനി' , 'ഇപ്പോൾ' , 'എങ്കിൽ', 'അപ്പോൾ', 'അല്ലെങ്കിൽ', 'ഇതിൽ', 'ഇതൊക്കെ', 'ഇത്രയും', 'ഇതിന്റെ', 'ഞങ്ങളുടെ', 'ഇതാണ്' , 'പിന്നീട്']\n",
        "# mystopwords = set(mystopwords)"
      ],
      "metadata": {
        "id": "8NnPQPFdfFA6"
      },
      "execution_count": 58,
      "outputs": []
    },
    {
      "cell_type": "code",
      "source": [
        "stop_words=mystopwords"
      ],
      "metadata": {
        "id": "ksZZNR3g44xA"
      },
      "execution_count": 59,
      "outputs": []
    },
    {
      "cell_type": "code",
      "source": [
        "mystopwords"
      ],
      "metadata": {
        "id": "mUkidRKlOMZ7"
      },
      "execution_count": null,
      "outputs": []
    },
    {
      "cell_type": "code",
      "execution_count": 61,
      "metadata": {
        "colab": {
          "base_uri": "https://localhost:8080/"
        },
        "id": "aru_Fg6OjeGp",
        "outputId": "47185004-2d92-4383-d6e5-bc1ef81787bf"
      },
      "outputs": [
        {
          "output_type": "stream",
          "name": "stdout",
          "text": [
            "pre-processing train data...\n"
          ]
        },
        {
          "output_type": "stream",
          "name": "stderr",
          "text": [
            "100%|██████████| 4667/4667 [00:00<00:00, 5644.32it/s]\n"
          ]
        }
      ],
      "source": [
        "from sklearn.utils import shuffle \n",
        "\n",
        "raw_docs_train = train_df['text'].tolist()\n",
        "raw_docs_test = test_df['text'].tolist() \n",
        "# num_classes = len(label_names)\n",
        "\n",
        "print(\"pre-processing train data...\")\n",
        "\n",
        "#Training data\n",
        "processed_docs_train = []\n",
        "for doc in tqdm(raw_docs_train):\n",
        "    tokens = word_tokenize(doc)\n",
        "    filtered = [word for word in tokens if word not in stop_words]\n",
        "    processed_docs_train.append(\" \".join(filtered))\n",
        "#end for\n",
        "\n"
      ]
    },
    {
      "cell_type": "code",
      "execution_count": 62,
      "metadata": {
        "colab": {
          "base_uri": "https://localhost:8080/"
        },
        "id": "HW40CVmABpip",
        "outputId": "03489bc8-7dd0-47b6-e531-d4eec80538a2"
      },
      "outputs": [
        {
          "output_type": "stream",
          "name": "stdout",
          "text": [
            "Length of processed train list : 4667\n"
          ]
        }
      ],
      "source": [
        "print('Length of processed train list :',len(processed_docs_train))"
      ]
    },
    {
      "cell_type": "code",
      "execution_count": 63,
      "metadata": {
        "colab": {
          "base_uri": "https://localhost:8080/"
        },
        "id": "JqV51MOsjeDL",
        "outputId": "5dc7d4a8-4b35-4904-e871-cbe56ff81227"
      },
      "outputs": [
        {
          "output_type": "stream",
          "name": "stderr",
          "text": [
            "100%|██████████| 1169/1169 [00:00<00:00, 5583.10it/s]\n"
          ]
        }
      ],
      "source": [
        "#Testing data\n",
        "processed_docs_test = []\n",
        "for doc in tqdm(raw_docs_test):\n",
        "    tokens = word_tokenize(doc)\n",
        "    filtered = [word for word in tokens if word not in stop_words]\n",
        "    processed_docs_test.append(\" \".join(filtered))\n",
        "#end for\n",
        "\n"
      ]
    },
    {
      "cell_type": "code",
      "execution_count": 64,
      "metadata": {
        "colab": {
          "base_uri": "https://localhost:8080/"
        },
        "id": "Vg6hdyKLJfbb",
        "outputId": "1f370eba-ba42-4525-e760-185bf15f9d6f"
      },
      "outputs": [
        {
          "output_type": "stream",
          "name": "stdout",
          "text": [
            "Length of processed test list : 1169\n"
          ]
        }
      ],
      "source": [
        "print('Length of processed test list :',len(processed_docs_test))"
      ]
    },
    {
      "cell_type": "code",
      "execution_count": 65,
      "metadata": {
        "colab": {
          "base_uri": "https://localhost:8080/"
        },
        "id": "EsuXrYrljeAq",
        "outputId": "c08cfef3-4c71-4c66-c08b-72c1737b3bfc"
      },
      "outputs": [
        {
          "output_type": "stream",
          "name": "stdout",
          "text": [
            "tokenizing input data...\n",
            "dictionary size:  22763\n"
          ]
        }
      ],
      "source": [
        "print(\"tokenizing input data...\")\n",
        "tokenizer = Tokenizer(num_words=MAX_NB_WORDS, lower=True, char_level=False)\n",
        "tokenizer.fit_on_texts(processed_docs_train + processed_docs_test)  #leaky\n",
        "word_seq_train = tokenizer.texts_to_sequences(processed_docs_train)\n",
        "word_seq_test = tokenizer.texts_to_sequences(processed_docs_test)\n",
        "word_index = tokenizer.word_index\n",
        "print(\"dictionary size: \", len(word_index))\n",
        "\n",
        "#pad sequences\n",
        "word_seq_train = sequence.pad_sequences(word_seq_train, maxlen=max_seq_len)\n",
        "word_seq_test = sequence.pad_sequences(word_seq_test, maxlen=max_seq_len)"
      ]
    },
    {
      "cell_type": "code",
      "execution_count": 66,
      "metadata": {
        "colab": {
          "base_uri": "https://localhost:8080/"
        },
        "id": "q8X1SFPEuiBJ",
        "outputId": "7ff87947-f070-4aa8-e580-8715502c069e"
      },
      "outputs": [
        {
          "output_type": "stream",
          "name": "stdout",
          "text": [
            "{'neutral', 'positive', 'negative'}\n"
          ]
        }
      ],
      "source": [
        "\n",
        "labels=df['sentiment'].tolist()\n",
        "print(set(labels))"
      ]
    },
    {
      "cell_type": "code",
      "source": [
        "y_train[-1]"
      ],
      "metadata": {
        "colab": {
          "base_uri": "https://localhost:8080/",
          "height": 35
        },
        "id": "qd8WiD3y_joM",
        "outputId": "a77bf469-24e3-4909-d520-8fb63cc667a2"
      },
      "execution_count": 67,
      "outputs": [
        {
          "output_type": "execute_result",
          "data": {
            "text/plain": [
              "'neutral'"
            ],
            "application/vnd.google.colaboratory.intrinsic+json": {
              "type": "string"
            }
          },
          "metadata": {},
          "execution_count": 67
        }
      ]
    },
    {
      "cell_type": "code",
      "source": [
        "encoder=LabelEncoder()"
      ],
      "metadata": {
        "id": "aCJIknDI-OhS"
      },
      "execution_count": 36,
      "outputs": []
    },
    {
      "cell_type": "code",
      "source": [
        "encoder.fit(list(y_train)+list(y_test))\n",
        "y_triano=encoder.transform(y_train)\n",
        "y_testo=encoder.transform(y_test)"
      ],
      "metadata": {
        "id": "Xyqor2HL_GgQ"
      },
      "execution_count": 37,
      "outputs": []
    },
    {
      "cell_type": "code",
      "source": [
        "y_triano[-1]"
      ],
      "metadata": {
        "colab": {
          "base_uri": "https://localhost:8080/"
        },
        "id": "rVvfNPCqfUoB",
        "outputId": "ba431b22-a2e6-4344-baa4-03b2d0d414e8"
      },
      "execution_count": 68,
      "outputs": [
        {
          "output_type": "execute_result",
          "data": {
            "text/plain": [
              "1"
            ]
          },
          "metadata": {},
          "execution_count": 68
        }
      ]
    },
    {
      "cell_type": "markdown",
      "source": [
        "One hot encoding"
      ],
      "metadata": {
        "id": "Jw2URjcOAy5G"
      }
    },
    {
      "cell_type": "code",
      "source": [
        "from keras.utils import np_utils"
      ],
      "metadata": {
        "id": "aAh4TNO8BA0Z"
      },
      "execution_count": 78,
      "outputs": []
    },
    {
      "cell_type": "code",
      "source": [
        "y_train_oh = np_utils.to_categorical(encoder.transform(y_train))\n",
        "y_test_oh  = np_utils.to_categorical(encoder.transform(y_test))"
      ],
      "metadata": {
        "id": "i99a62CPAyKk"
      },
      "execution_count": 79,
      "outputs": []
    },
    {
      "cell_type": "code",
      "source": [
        "y_train_oh.shape"
      ],
      "metadata": {
        "colab": {
          "base_uri": "https://localhost:8080/"
        },
        "id": "jshBMvuJBMdM",
        "outputId": "e53e6a31-a042-4cd7-ed4b-057b8a7f8007"
      },
      "execution_count": 80,
      "outputs": [
        {
          "output_type": "execute_result",
          "data": {
            "text/plain": [
              "(4667, 3)"
            ]
          },
          "metadata": {},
          "execution_count": 80
        }
      ]
    },
    {
      "cell_type": "markdown",
      "metadata": {
        "id": "a-AsE3OVKcR1"
      },
      "source": [
        "defining variables that used on training"
      ]
    },
    {
      "cell_type": "code",
      "execution_count": 69,
      "metadata": {
        "id": "iSv1eAjfjd7k"
      },
      "outputs": [],
      "source": [
        "#training params\n",
        "batch_size = 256 \n",
        "num_epochs = 40\n",
        "\n",
        "#model parameters\n",
        "num_filters = 64 \n",
        "embed_dim = 300 \n",
        "weight_decay = 1e-4"
      ]
    },
    {
      "cell_type": "markdown",
      "metadata": {
        "id": "xcl78WgvKgRo"
      },
      "source": [
        "Building the embedding matrix for the weights in Embedding Layer on training. more about embedding matrix: https://machinelearningmastery.com/use-word-embedding-layers-deep-learning-keras/\n",
        "\n",
        "all words that aren't in the pre-trained model from fasttext would be changed to 0. the words are basically the ones with typos or names, the words mostly dont matter so much to the pattern. so it's nicer to just weights it 0."
      ]
    },
    {
      "cell_type": "code",
      "execution_count": 70,
      "metadata": {
        "colab": {
          "base_uri": "https://localhost:8080/"
        },
        "id": "H316NdQojd46",
        "outputId": "c998b51d-2eab-4e03-de99-38fb606c9811"
      },
      "outputs": [
        {
          "output_type": "stream",
          "name": "stdout",
          "text": [
            "preparing embedding matrix...\n",
            "number of null word embeddings: 5853\n"
          ]
        }
      ],
      "source": [
        "#embedding matrix\n",
        "\n",
        "print('preparing embedding matrix...')\n",
        "\n",
        "words_not_found = []\n",
        "nb_words = min(MAX_NB_WORDS, len(word_index)+1)\n",
        "embedding_matrix = np.zeros((nb_words, embed_dim))\n",
        "\n",
        "for word, i in word_index.items():\n",
        "    if i >= nb_words:\n",
        "        continue\n",
        "    \n",
        "    embedding_vector = embeddings_index.get(word)\n",
        "    if (embedding_vector is not None) and len(embedding_vector) > 0:\n",
        "        # words not found in embedding index will be all-zeros.\n",
        "        embedding_matrix[i] = embedding_vector\n",
        "    else:\n",
        "        words_not_found.append(word)\n",
        "print('number of null word embeddings: %d' % np.sum(np.sum(embedding_matrix, axis=1) == 0))"
      ]
    },
    {
      "cell_type": "code",
      "execution_count": 71,
      "metadata": {
        "colab": {
          "base_uri": "https://localhost:8080/"
        },
        "id": "9ak9N7hO7UTz",
        "outputId": "ed1c432d-4b7e-40da-adae-99bafa1d0a67"
      },
      "outputs": [
        {
          "output_type": "stream",
          "name": "stdout",
          "text": [
            "sample words not found:  ['ഐമയും' 'നൈറ്റ്\\u200cസിലെ' 'കുനിഷ്ട്' 'സി\\u200bല്\\u200dക്സ്'\n",
            " 'ഇ\\u200bഎം\\u200bഐ' 'സമ്ബത്ത്' 'പൂര്\\u200dണ്ണമാവില്ലെന്ന്' 'മുടിയനോട്'\n",
            " 'റാഗ്\\u200cനോസ്' 'തീർന്നോടം']\n"
          ]
        }
      ],
      "source": [
        "print(\"sample words not found: \", np.random.choice(words_not_found, 10))"
      ]
    },
    {
      "cell_type": "code",
      "execution_count": 72,
      "metadata": {
        "colab": {
          "base_uri": "https://localhost:8080/"
        },
        "id": "fRQFzbcViniN",
        "outputId": "625f9c27-79a5-4776-ffb4-ed4ab19526d3"
      },
      "outputs": [
        {
          "output_type": "execute_result",
          "data": {
            "text/plain": [
              "(22764, 300)"
            ]
          },
          "metadata": {},
          "execution_count": 72
        }
      ],
      "source": [
        "embedding_matrix.shape"
      ]
    },
    {
      "cell_type": "markdown",
      "metadata": {
        "id": "wO3pG7GzKxQI"
      },
      "source": [
        "let's start training! here are the layers. i have been doing some test and modification on using the layer, unit cells, etc."
      ]
    },
    {
      "cell_type": "code",
      "execution_count": 81,
      "metadata": {
        "colab": {
          "base_uri": "https://localhost:8080/"
        },
        "id": "QZaP16znjd2U",
        "outputId": "53cf8dbc-8c76-449b-b8b0-7e8547d25164"
      },
      "outputs": [
        {
          "output_type": "stream",
          "name": "stdout",
          "text": [
            "Model: \"sequential_1\"\n",
            "_________________________________________________________________\n",
            " Layer (type)                Output Shape              Param #   \n",
            "=================================================================\n",
            " embedding_1 (Embedding)     (None, 28, 300)           6828900   \n",
            "                                                                 \n",
            " dropout_1 (Dropout)         (None, 28, 300)           0         \n",
            "                                                                 \n",
            " bidirectional_1 (Bidirectio  (None, 600)              1442400   \n",
            " nal)                                                            \n",
            "                                                                 \n",
            " dense_1 (Dense)             (None, 3)                 1803      \n",
            "                                                                 \n",
            "=================================================================\n",
            "Total params: 8,273,103\n",
            "Trainable params: 1,444,203\n",
            "Non-trainable params: 6,828,900\n",
            "_________________________________________________________________\n"
          ]
        }
      ],
      "source": [
        "from keras.layers import BatchNormalization\n",
        "import tensorflow as tf\n",
        "\n",
        "model = Sequential()\n",
        "\n",
        "model.add(Embedding(nb_words,embed_dim,input_length=max_seq_len, weights=[embedding_matrix],trainable=False))\n",
        "\n",
        "# model.add(LSTM(128))\n",
        "# # model.add(Dense(32,activation='relu'))\n",
        "# # model.add(Dropout(0.5))\n",
        "# # model.add(Bidirectional(LSTM(embed_dim)))\n",
        "# model.add(Dense(1,activation='softmax'))\n",
        "# model.summary()\n",
        "\n",
        "model.add(Dropout(0.5))\n",
        "model.add(Bidirectional(LSTM(embed_dim)))\n",
        "model.add(Dense(3,activation='softmax'))\n",
        "model.summary()"
      ]
    },
    {
      "cell_type": "code",
      "execution_count": 82,
      "metadata": {
        "id": "ryQkOWbTjdzx",
        "colab": {
          "base_uri": "https://localhost:8080/"
        },
        "outputId": "87d56288-4a72-48c2-f464-eea6d474a935"
      },
      "outputs": [
        {
          "output_type": "stream",
          "name": "stderr",
          "text": [
            "/usr/local/lib/python3.7/dist-packages/keras/optimizer_v2/adam.py:105: UserWarning: The `lr` argument is deprecated, use `learning_rate` instead.\n",
            "  super(Adam, self).__init__(name, **kwargs)\n"
          ]
        }
      ],
      "source": [
        "# from keras.optimizers import RMSprop\n",
        "from keras.callbacks import ModelCheckpoint\n",
        "from tensorflow.keras.callbacks import EarlyStopping\n",
        "\n",
        "opt = tf.keras.optimizers.Adam(lr=0.001, decay=1e-6)\n",
        "\n",
        "model.compile(loss='categorical_crossentropy', optimizer='adam', metrics=['accuracy'])#,tf.keras.metrics.Precision(),tf.keras.metrics.Recall()])\n",
        "              #,tf.keras.metrics.AUC(),tf.keras.metrics.TrueNegatives(),tf.keras.metrics.TruePositives(),tf.keras.metrics.FalseNegatives(),tf.keras.metrics.FalsePositives()])\n",
        "\n",
        "\n"
      ]
    },
    {
      "cell_type": "code",
      "source": [
        "y_train_oh.shape"
      ],
      "metadata": {
        "colab": {
          "base_uri": "https://localhost:8080/"
        },
        "id": "yz0mUFQIBtRz",
        "outputId": "d5d12759-798b-4529-9897-e8dafda0d391"
      },
      "execution_count": 85,
      "outputs": [
        {
          "output_type": "execute_result",
          "data": {
            "text/plain": [
              "(4667, 3)"
            ]
          },
          "metadata": {},
          "execution_count": 85
        }
      ]
    },
    {
      "cell_type": "code",
      "execution_count": 86,
      "metadata": {
        "colab": {
          "base_uri": "https://localhost:8080/"
        },
        "id": "_eLrSKfWydHJ",
        "outputId": "7282875c-e064-4473-98e8-b2caa23f8014"
      },
      "outputs": [
        {
          "output_type": "stream",
          "name": "stdout",
          "text": [
            "Epoch 1/40\n",
            "146/146 [==============================] - 25s 170ms/step - loss: 0.7092 - accuracy: 0.6979 - val_loss: 0.7091 - val_accuracy: 0.6895\n",
            "Epoch 2/40\n",
            "146/146 [==============================] - 25s 169ms/step - loss: 0.6687 - accuracy: 0.7238 - val_loss: 0.6745 - val_accuracy: 0.7083\n",
            "Epoch 3/40\n",
            "146/146 [==============================] - 25s 170ms/step - loss: 0.6464 - accuracy: 0.7302 - val_loss: 0.6765 - val_accuracy: 0.7263\n",
            "Epoch 4/40\n",
            "146/146 [==============================] - 25s 173ms/step - loss: 0.6217 - accuracy: 0.7414 - val_loss: 0.6352 - val_accuracy: 0.7391\n",
            "Epoch 5/40\n",
            "146/146 [==============================] - 25s 172ms/step - loss: 0.5981 - accuracy: 0.7529 - val_loss: 0.6377 - val_accuracy: 0.7391\n",
            "Epoch 6/40\n",
            "146/146 [==============================] - 25s 171ms/step - loss: 0.5866 - accuracy: 0.7564 - val_loss: 0.6266 - val_accuracy: 0.7305\n",
            "Epoch 7/40\n",
            "146/146 [==============================] - 25s 170ms/step - loss: 0.5803 - accuracy: 0.7551 - val_loss: 0.6603 - val_accuracy: 0.7288\n",
            "Epoch 8/40\n",
            "146/146 [==============================] - 26s 177ms/step - loss: 0.5786 - accuracy: 0.7604 - val_loss: 0.6274 - val_accuracy: 0.7408\n",
            "Epoch 9/40\n",
            "146/146 [==============================] - 28s 190ms/step - loss: 0.5559 - accuracy: 0.7664 - val_loss: 0.6561 - val_accuracy: 0.7237\n"
          ]
        }
      ],
      "source": [
        "num_epochs = 40\n",
        "# history = model.fit(word_seq_train, training_label_seq, epochs=num_epochs, validation_data=(word_seq_test,testing_label_seq),callbacks=[EarlyStopping(monitor='val_loss', patience=3, min_delta=0.0001)])\n",
        "\n",
        "history_lst_ft = model.fit(word_seq_train, y_train_oh, epochs=num_epochs, validation_data=(word_seq_test,y_test_oh),callbacks=[EarlyStopping(monitor='val_loss', patience=3, min_delta=0.0001)])"
      ]
    },
    {
      "cell_type": "code",
      "execution_count": 87,
      "metadata": {
        "colab": {
          "base_uri": "https://localhost:8080/",
          "height": 295
        },
        "id": "NSiwgLhAkG42",
        "outputId": "22b0b34d-f2e5-4c54-a1a2-02d348828e8b"
      },
      "outputs": [
        {
          "output_type": "display_data",
          "data": {
            "text/plain": [
              "<Figure size 432x288 with 1 Axes>"
            ],
            "image/png": "[encoded data removed]"
          },
          "metadata": {}
        }
      ],
      "source": [
        "#generate plots\n",
        "plt.figure()\n",
        "plt.plot(history_lst_ft.history['loss'], lw=2.0, color='b', label='train')\n",
        "plt.plot(history_lst_ft.history['val_loss'], lw=2.0, color='r', label='val')\n",
        "plt.title('LSTM sentiment')\n",
        "plt.xlabel('Epochs')\n",
        "plt.ylabel('Cross-Entropy Loss')\n",
        "plt.legend(loc='upper right')\n",
        "plt.show()\n",
        "\n"
      ]
    },
    {
      "cell_type": "code",
      "execution_count": 88,
      "metadata": {
        "colab": {
          "base_uri": "https://localhost:8080/",
          "height": 295
        },
        "id": "i871qLGukLlk",
        "outputId": "1fae2e80-0f48-4263-b941-bae7a7d3ea0e"
      },
      "outputs": [
        {
          "output_type": "display_data",
          "data": {
            "text/plain": [
              "<Figure size 432x288 with 1 Axes>"
            ],
            "image/png": "[encoded data removed]"
          },
          "metadata": {}
        }
      ],
      "source": [
        "plt.figure()\n",
        "plt.plot(history_lst_ft.history['accuracy'], lw=2.0, color='b', label='train')\n",
        "plt.plot(history_lst_ft.history['val_accuracy'], lw=2.0, color='r', label='val')\n",
        "plt.title('LSTM sentiment')\n",
        "plt.xlabel('Epochs')\n",
        "plt.ylabel('Accuracy')\n",
        "plt.legend(loc='upper left')\n",
        "plt.show()"
      ]
    },
    {
      "cell_type": "markdown",
      "metadata": {
        "id": "bQobQtvpB8L8"
      },
      "source": [
        "Printing the accuracy of the model"
      ]
    },
    {
      "cell_type": "markdown",
      "metadata": {
        "id": "F86A3cHXbgQz"
      },
      "source": [
        "###Fuunction for f1score/precision/accuracy/recall"
      ]
    },
    {
      "cell_type": "code",
      "execution_count": 89,
      "metadata": {
        "id": "7ktjxbhEZQju"
      },
      "outputs": [],
      "source": [
        "mean_fpr = np.linspace(start=0, stop=1, num=100)\n",
        "from sklearn.metrics import roc_curve, auc, accuracy_score, precision_recall_fscore_support\n",
        "from sklearn.metrics import f1_score, precision_score, recall_score, classification_report, confusion_matrix\n",
        "from scipy import interp\n",
        "\n",
        "def evaluate_model(X_test, y_test, model):\n",
        "    # predict probabilities for test set\n",
        "    _probs = model.predict(X_test, verbose=0)\n",
        "    # predict crisp classes for test set\n",
        "    _classes=np.argmax(_probs,axis=1)\n",
        "    # _classes = model.predict_classes(X_test, verbose=0)\n",
        "    # reduce to 1d array\n",
        "    # _probs = _probs[:, 0]\n",
        "    # _classes = _classes[:, 0]\n",
        "\n",
        "    # accuracy: (tp + tn) / (p + n)\n",
        "    accuracy = accuracy_score(y_test, _classes)\n",
        "    # precision tp / (tp + fp)\n",
        "    precision = precision_score(y_test, _classes, average='macro')\n",
        "    # recall: tp / (tp + fn)\n",
        "    recall = recall_score(y_test, _classes, average='macro')\n",
        "    # f1: 2 tp / (2 tp + fp + fn)\n",
        "    f1 = f1_score(y_test, _classes, average='macro')\n",
        "    \n",
        "    # fpr, tpr, _ = roc_curve(y_test, _probs)\n",
        "    \n",
        "    # tpr_transformed = np.array([interp(mean_fpr, fpr, tpr)])\n",
        "    \n",
        "    # compute the area under the curve\n",
        "    # _auc = auc(fpr, tpr)\n",
        "    \n",
        "    return accuracy, precision, recall , f1,_classes#,tpr_transformed #,_auc"
      ]
    },
    {
      "cell_type": "code",
      "execution_count": 94,
      "metadata": {
        "id": "ECCP8DG_ZTYK"
      },
      "outputs": [],
      "source": [
        "LSTM_FT_accuracy, LSTM_FT_precision, LSTM_FT_recall,LSTM_FT_f1_score,LSTM_FT_y_pred  = evaluate_model(word_seq_test, y_testo, model)\n"
      ]
    },
    {
      "cell_type": "code",
      "execution_count": 95,
      "metadata": {
        "colab": {
          "base_uri": "https://localhost:8080/"
        },
        "id": "BCaMqsVt7C0r",
        "outputId": "da7f8d99-ff82-433b-e0fc-b8c89395487e"
      },
      "outputs": [
        {
          "output_type": "stream",
          "name": "stdout",
          "text": [
            "Looking in indexes: https://pypi.org/simple, https://us-python.pkg.dev/colab-wheels/public/simple/\n",
            "Collecting beautifultable\n",
            "  Downloading beautifultable-1.1.0-py2.py3-none-any.whl (28 kB)\n",
            "Requirement already satisfied: wcwidth in /usr/local/lib/python3.7/dist-packages (from beautifultable) (0.2.5)\n",
            "Installing collected packages: beautifultable\n",
            "Successfully installed beautifultable-1.1.0\n"
          ]
        }
      ],
      "source": [
        "!pip install beautifultable"
      ]
    },
    {
      "cell_type": "code",
      "execution_count": 96,
      "metadata": {
        "colab": {
          "base_uri": "https://localhost:8080/"
        },
        "id": "BddKG2F361ZB",
        "outputId": "3767b642-2c0a-4aee-9101-0f254dfa861b"
      },
      "outputs": [
        {
          "output_type": "stream",
          "name": "stdout",
          "text": [
            "+-----------+---------------+-------------------+----------------+-------------+\n",
            "| Algorithm | LSTM_FT_Accur | LSTM_FT_F1 Measur | LSTM_FT_Precis | LSTM_FT_Rec |\n",
            "|           |      acy      |         e         |      ion       |     all     |\n",
            "+-----------+---------------+-------------------+----------------+-------------+\n",
            "|   LSTM    |     0.724     |       0.681       |     0.775      |    0.651    |\n",
            "+-----------+---------------+-------------------+----------------+-------------+\n"
          ]
        },
        {
          "output_type": "stream",
          "name": "stderr",
          "text": [
            "/usr/local/lib/python3.7/dist-packages/beautifultable/utils.py:125: FutureWarning: 'BeautifulTable.column_headers' has been deprecated in 'v1.0.0' and will be removed in 'v1.2.0'. Use 'BTColumnCollection.header' instead.\n",
            "  warnings.warn(message, FutureWarning)\n",
            "/usr/local/lib/python3.7/dist-packages/beautifultable/utils.py:125: FutureWarning: 'BeautifulTable.append_row' has been deprecated in 'v1.0.0' and will be removed in 'v1.2.0'. Use 'BTRowCollection.append' instead.\n",
            "  warnings.warn(message, FutureWarning)\n"
          ]
        }
      ],
      "source": [
        "\n",
        "h0=[\"Algorithm\"]\n",
        "h1=[\"LSTM\",LSTM_FT_accuracy,LSTM_FT_f1_score,LSTM_FT_precision,LSTM_FT_recall]\n",
        "\n",
        "h0.append(\"LSTM_FT_Accuracy\")\n",
        "h0.append(\"LSTM_FT_F1 Measure\")\n",
        "h0.append(\"LSTM_FT_Precision\")\n",
        "h0.append(\"LSTM_FT_Recall\")\n",
        "\n",
        "from beautifultable import BeautifulTable\n",
        "table = BeautifulTable()\n",
        "table.column_headers = h0\n",
        "table.append_row(h1)\n",
        "print(table)"
      ]
    },
    {
      "cell_type": "code",
      "execution_count": 97,
      "metadata": {
        "id": "0s4W503B9QAt"
      },
      "outputs": [],
      "source": [
        "class_name = ['Negative','Neutral','Positive']"
      ]
    },
    {
      "cell_type": "code",
      "execution_count": 100,
      "metadata": {
        "colab": {
          "base_uri": "https://localhost:8080/"
        },
        "id": "fByswr5O8AGe",
        "outputId": "806c27e0-2d1f-495f-eb3a-e116bb151b1b"
      },
      "outputs": [
        {
          "output_type": "stream",
          "name": "stdout",
          "text": [
            "              precision    recall  f1-score   support\n",
            "\n",
            "    Negative     0.7849    0.4576    0.5782       295\n",
            "     Neutral     0.8587    0.5623    0.6796       281\n",
            "    Positive     0.6802    0.9325    0.7866       593\n",
            "\n",
            "    accuracy                         0.7237      1169\n",
            "   macro avg     0.7746    0.6508    0.6815      1169\n",
            "weighted avg     0.7495    0.7237    0.7083      1169\n",
            "\n"
          ]
        }
      ],
      "source": [
        "\n",
        "from sklearn.metrics import classification_report,confusion_matrix\n",
        "print(classification_report(y_testo, LSTM_FT_y_pred, target_names=class_name, zero_division=0, digits=4))"
      ]
    },
    {
      "cell_type": "markdown",
      "metadata": {
        "id": "Qh6uOyE96_nT"
      },
      "source": [
        "###function for confusion matrix"
      ]
    },
    {
      "cell_type": "code",
      "source": [
        "import seaborn as sns\n",
        "def show_confusion_matrix(confusion_matrix):\n",
        "  hmap = sns.heatmap(confusion_matrix, annot=True, fmt=\"d\", cmap=\"Blues\")\n",
        "  hmap.yaxis.set_ticklabels(hmap.yaxis.get_ticklabels(), rotation=0, ha='right')\n",
        "  hmap.xaxis.set_ticklabels(hmap.xaxis.get_ticklabels(), rotation=30, ha='right')\n",
        "  plt.ylabel('True sentiment')\n",
        "  plt.xlabel('Predicted sentiment');"
      ],
      "metadata": {
        "id": "dORhPfBotn0u"
      },
      "execution_count": 110,
      "outputs": []
    },
    {
      "cell_type": "code",
      "execution_count": 101,
      "metadata": {
        "colab": {
          "base_uri": "https://localhost:8080/",
          "height": 300
        },
        "id": "NCWXhu6UmSnU",
        "outputId": "5f88c6be-ba40-4cb2-fa7d-b0007f58cde1"
      },
      "outputs": [
        {
          "output_type": "display_data",
          "data": {
            "text/plain": [
              "<Figure size 432x288 with 2 Axes>"
            ],
            "image/png": "[encoded data removed]"
          },
          "metadata": {}
        }
      ],
      "source": [
        "\n",
        "cm = confusion_matrix(y_testo, LSTM_FT_y_pred)\n",
        "df_cm = pd.DataFrame(cm, index=class_name, columns=class_name)\n",
        "show_confusion_matrix(df_cm)"
      ]
    },
    {
      "cell_type": "markdown",
      "metadata": {
        "id": "_5gTYUKz6aS9"
      },
      "source": [
        "# LSTM with fasttext stemming"
      ]
    },
    {
      "cell_type": "markdown",
      "metadata": {
        "id": "27fXIzjPeD9f"
      },
      "source": [
        "processing train and test data for stemming"
      ]
    },
    {
      "cell_type": "code",
      "execution_count": 73,
      "metadata": {
        "id": "eDPlS5hy6qXE"
      },
      "outputs": [],
      "source": [
        "from sklearn.utils import shuffle \n",
        "\n",
        "raw_docs_train = train_df['text'].tolist()\n",
        "raw_docs_test = test_df['text'].tolist() \n",
        "# num_classes = len(label_names)\n",
        "\n"
      ]
    },
    {
      "cell_type": "code",
      "execution_count": 115,
      "metadata": {
        "id": "jn-ERdJI6w8m"
      },
      "outputs": [],
      "source": [
        "#splitting train list for stemming\n",
        "str_list_stem_train=string_to_list(raw_docs_train)"
      ]
    },
    {
      "cell_type": "code",
      "execution_count": 116,
      "metadata": {
        "id": "pCFG49sN63Lb"
      },
      "outputs": [],
      "source": [
        "#splitting test list for stemming\n",
        "str_list_stem_test=string_to_list(raw_docs_test)"
      ]
    },
    {
      "cell_type": "code",
      "execution_count": 117,
      "metadata": {
        "colab": {
          "base_uri": "https://localhost:8080/"
        },
        "id": "DaPKyafl7IZ7",
        "outputId": "5f883441-fe4d-4acf-d2ff-249d78bd14a4"
      },
      "outputs": [
        {
          "output_type": "stream",
          "name": "stdout",
          "text": [
            "Length of list which are splitted into words in train list: 4667\n"
          ]
        }
      ],
      "source": [
        "#stemming for train list\n",
        "print('Length of list which are splitted into words in train list:',len(str_list_stem_train))\n",
        "raw_docs_train_stem=[]\n",
        "for str in str_list_stem_train:\n",
        "  # print('String is',str)\n",
        "  stem_list=[]\n",
        "  stem=stemmer(str)\n",
        "  # print('stemmed list is',stem)\n",
        "  raw_docs_train_stem.append(\" \".join(stem))"
      ]
    },
    {
      "cell_type": "code",
      "execution_count": 118,
      "metadata": {
        "colab": {
          "base_uri": "https://localhost:8080/"
        },
        "id": "nlOYfRWZ8flP",
        "outputId": "1e49b78d-4aee-41d7-b65a-653b65124cd4"
      },
      "outputs": [
        {
          "output_type": "stream",
          "name": "stdout",
          "text": [
            "Length of list which are splitted into words in test list: 1169\n"
          ]
        }
      ],
      "source": [
        "#stemming for test list\n",
        "print('Length of list which are splitted into words in test list:',len(str_list_stem_test))\n",
        "raw_docs_test_stem=[]\n",
        "for str in str_list_stem_test:\n",
        "  # print('String is',str)\n",
        "  stem_list=[]\n",
        "  stem=stemmer(str)\n",
        "  # print('stemmed list is',stem)\n",
        "  raw_docs_test_stem.append(\" \".join(stem))"
      ]
    },
    {
      "cell_type": "code",
      "execution_count": 119,
      "metadata": {
        "colab": {
          "base_uri": "https://localhost:8080/"
        },
        "id": "T_Me0VDe8zMV",
        "outputId": "cc4b266b-19aa-47f2-d729-2112eb8de2e0"
      },
      "outputs": [
        {
          "output_type": "stream",
          "name": "stdout",
          "text": [
            "pre-processing train data...\n"
          ]
        },
        {
          "output_type": "stream",
          "name": "stderr",
          "text": [
            "100%|██████████| 4667/4667 [00:00<00:00, 6233.07it/s]\n"
          ]
        }
      ],
      "source": [
        "print(\"pre-processing train data...\")\n",
        "\n",
        "#Training data\n",
        "processed_docs_train_stem = []\n",
        "for doc in tqdm(raw_docs_train_stem):\n",
        "    tokens = word_tokenize(doc)\n",
        "    filtered = [word for word in tokens if word not in stop_words]\n",
        "    processed_docs_train_stem.append(\" \".join(filtered))\n",
        "#end for\n"
      ]
    },
    {
      "cell_type": "code",
      "execution_count": 120,
      "metadata": {
        "colab": {
          "base_uri": "https://localhost:8080/"
        },
        "id": "FvGAtKWD6-h-",
        "outputId": "3edc031f-9eea-4c86-b5af-06cbb1c8482e"
      },
      "outputs": [
        {
          "output_type": "stream",
          "name": "stdout",
          "text": [
            "pre-processing test data...\n"
          ]
        },
        {
          "output_type": "stream",
          "name": "stderr",
          "text": [
            "100%|██████████| 1169/1169 [00:00<00:00, 6399.50it/s]\n"
          ]
        }
      ],
      "source": [
        "print(\"pre-processing test data...\")\n",
        "\n",
        "#test data\n",
        "processed_docs_test_stem = []\n",
        "for doc in tqdm(raw_docs_test_stem):\n",
        "    tokens = word_tokenize(doc)\n",
        "    filtered = [word for word in tokens if word not in stop_words]\n",
        "    processed_docs_test_stem.append(\" \".join(filtered))\n",
        "#end for\n"
      ]
    },
    {
      "cell_type": "code",
      "execution_count": 121,
      "metadata": {
        "colab": {
          "base_uri": "https://localhost:8080/"
        },
        "id": "khPwffaw9aaV",
        "outputId": "b95481f5-5609-45b0-f131-58339f55c1a8"
      },
      "outputs": [
        {
          "output_type": "stream",
          "name": "stdout",
          "text": [
            "Length of processed train list : 4667\n",
            "Length of processed train list : 1169\n"
          ]
        }
      ],
      "source": [
        "print('Length of processed train list :',len(processed_docs_train_stem))\n",
        "print('Length of processed train list :',len(processed_docs_test_stem))"
      ]
    },
    {
      "cell_type": "markdown",
      "metadata": {
        "id": "eTKlCr5NeKXm"
      },
      "source": [
        "Tokenizing stemmed data"
      ]
    },
    {
      "cell_type": "code",
      "execution_count": 110,
      "metadata": {
        "colab": {
          "base_uri": "https://localhost:8080/"
        },
        "id": "-zzPMFP99mrB",
        "outputId": "5bd596b2-f677-4f83-dd15-79bc6937f6cb"
      },
      "outputs": [
        {
          "output_type": "stream",
          "name": "stdout",
          "text": [
            "tokenizing input data...\n",
            "dictionary size:  17859\n"
          ]
        }
      ],
      "source": [
        "print(\"tokenizing input data...\")\n",
        "tokenizer = Tokenizer(num_words=MAX_NB_WORDS, lower=True, char_level=False)\n",
        "tokenizer.fit_on_texts(processed_docs_train_stem + processed_docs_test_stem)  #leaky\n",
        "word_seq_train_stem = tokenizer.texts_to_sequences(processed_docs_train_stem)\n",
        "word_seq_test_stem = tokenizer.texts_to_sequences(processed_docs_test_stem)\n",
        "word_index_stem = tokenizer.word_index\n",
        "print(\"dictionary size: \", len(word_index_stem))\n",
        "\n",
        "#pad sequences\n",
        "word_seq_train_stem = sequence.pad_sequences(word_seq_train_stem, maxlen=max_seq_len)\n",
        "word_seq_test_stem = sequence.pad_sequences(word_seq_test_stem, maxlen=max_seq_len)"
      ]
    },
    {
      "cell_type": "markdown",
      "metadata": {
        "id": "wm18vSvyeMc7"
      },
      "source": [
        "Embedding matrix for stemmed data"
      ]
    },
    {
      "cell_type": "code",
      "execution_count": 111,
      "metadata": {
        "colab": {
          "base_uri": "https://localhost:8080/"
        },
        "id": "g_W9tx4W-aMO",
        "outputId": "41dc1fb3-2852-4bad-db0e-a5f30932db4f"
      },
      "outputs": [
        {
          "output_type": "stream",
          "name": "stdout",
          "text": [
            "preparing embedding matrix...\n",
            "number of null word embeddings: 8756\n"
          ]
        }
      ],
      "source": [
        "#embedding matrix\n",
        "\n",
        "print('preparing embedding matrix...')\n",
        "\n",
        "words_not_found = []\n",
        "nb_words = min(MAX_NB_WORDS, len(word_index_stem)+1)\n",
        "embedding_matrix_ft_stem = np.zeros((nb_words, embed_dim))\n",
        "\n",
        "for word, i in word_index_stem.items():\n",
        "    if i >= nb_words:\n",
        "        continue\n",
        "    \n",
        "    embedding_vector = embeddings_index.get(word)\n",
        "    if (embedding_vector is not None) and len(embedding_vector) > 0:\n",
        "        # words not found in embedding index will be all-zeros.\n",
        "        embedding_matrix_ft_stem[i] = embedding_vector\n",
        "    else:\n",
        "        words_not_found.append(word)\n",
        "print('number of null word embeddings: %d' % np.sum(np.sum(embedding_matrix_ft_stem, axis=1) == 0))"
      ]
    },
    {
      "cell_type": "code",
      "execution_count": 112,
      "metadata": {
        "colab": {
          "base_uri": "https://localhost:8080/"
        },
        "id": "7esh6TKm--Q0",
        "outputId": "b32fc40c-bb59-41b0-90e0-f54b3d4acaaa"
      },
      "outputs": [
        {
          "output_type": "execute_result",
          "data": {
            "text/plain": [
              "(17860, 300)"
            ]
          },
          "metadata": {},
          "execution_count": 112
        }
      ],
      "source": [
        "embedding_matrix_ft_stem.shape"
      ]
    },
    {
      "cell_type": "markdown",
      "metadata": {
        "id": "eP9nGdmh_rVh"
      },
      "source": [
        "let's start training! here are the layers. -Stemming"
      ]
    },
    {
      "cell_type": "code",
      "execution_count": 113,
      "metadata": {
        "colab": {
          "base_uri": "https://localhost:8080/"
        },
        "id": "MKEIxclf_FMi",
        "outputId": "3f2645db-5dca-41d7-e48d-17fea8998fd0"
      },
      "outputs": [
        {
          "output_type": "stream",
          "name": "stdout",
          "text": [
            "Model: \"sequential_2\"\n",
            "_________________________________________________________________\n",
            " Layer (type)                Output Shape              Param #   \n",
            "=================================================================\n",
            " embedding_2 (Embedding)     (None, 28, 300)           5358000   \n",
            "                                                                 \n",
            " dropout_2 (Dropout)         (None, 28, 300)           0         \n",
            "                                                                 \n",
            " bidirectional_2 (Bidirectio  (None, 600)              1442400   \n",
            " nal)                                                            \n",
            "                                                                 \n",
            " dense_2 (Dense)             (None, 3)                 1803      \n",
            "                                                                 \n",
            "=================================================================\n",
            "Total params: 6,802,203\n",
            "Trainable params: 1,444,203\n",
            "Non-trainable params: 5,358,000\n",
            "_________________________________________________________________\n"
          ]
        }
      ],
      "source": [
        "from keras.layers import BatchNormalization\n",
        "import tensorflow as tf\n",
        "\n",
        "model = Sequential()\n",
        "\n",
        "model.add(Embedding(nb_words,embed_dim,input_length=max_seq_len, weights=[embedding_matrix_ft_stem],trainable=False))\n",
        "model.add(Dropout(0.5))\n",
        "model.add(Bidirectional(LSTM(embed_dim)))\n",
        "model.add(Dense(3,activation='softmax'))\n",
        "model.summary()"
      ]
    },
    {
      "cell_type": "code",
      "execution_count": 114,
      "metadata": {
        "colab": {
          "base_uri": "https://localhost:8080/"
        },
        "id": "8AZJGxlP_Owr",
        "outputId": "9ee41967-a577-4a1e-ea86-11247f99b575"
      },
      "outputs": [
        {
          "output_type": "stream",
          "name": "stderr",
          "text": [
            "/usr/local/lib/python3.7/dist-packages/keras/optimizer_v2/adam.py:105: UserWarning: The `lr` argument is deprecated, use `learning_rate` instead.\n",
            "  super(Adam, self).__init__(name, **kwargs)\n"
          ]
        }
      ],
      "source": [
        "# from keras.optimizers import RMSprop\n",
        "from keras.callbacks import ModelCheckpoint\n",
        "from tensorflow.keras.callbacks import EarlyStopping\n",
        "\n",
        "opt = tf.keras.optimizers.Adam(lr=0.001, decay=1e-6)\n",
        "\n",
        "model.compile(loss='categorical_crossentropy', optimizer='adam', metrics=['accuracy'])#,tf.keras.metrics.Precision(),tf.keras.metrics.Recall()])\n",
        "              #,tf.keras.metrics.AUC(),tf.keras.metrics.TrueNegatives(),tf.keras.metrics.TruePositives(),tf.keras.metrics.FalseNegatives(),tf.keras.metrics.FalsePositives()])\n",
        "\n",
        "\n"
      ]
    },
    {
      "cell_type": "code",
      "execution_count": 115,
      "metadata": {
        "colab": {
          "base_uri": "https://localhost:8080/"
        },
        "id": "b2jGvu02_WHI",
        "outputId": "355b8e1d-d0ee-40ca-8446-d6c838a1fe76"
      },
      "outputs": [
        {
          "output_type": "stream",
          "name": "stdout",
          "text": [
            "Epoch 1/40\n",
            "146/146 [==============================] - 61s 240ms/step - loss: 0.8565 - accuracy: 0.6137 - val_loss: 0.7849 - val_accuracy: 0.6459\n",
            "Epoch 2/40\n",
            "146/146 [==============================] - 25s 170ms/step - loss: 0.7559 - accuracy: 0.6715 - val_loss: 0.7702 - val_accuracy: 0.6724\n",
            "Epoch 3/40\n",
            "146/146 [==============================] - 26s 175ms/step - loss: 0.7222 - accuracy: 0.6885 - val_loss: 0.7426 - val_accuracy: 0.6895\n",
            "Epoch 4/40\n",
            "146/146 [==============================] - 25s 171ms/step - loss: 0.6944 - accuracy: 0.7039 - val_loss: 0.7329 - val_accuracy: 0.6955\n",
            "Epoch 5/40\n",
            "146/146 [==============================] - 25s 172ms/step - loss: 0.6773 - accuracy: 0.7167 - val_loss: 0.7167 - val_accuracy: 0.6997\n",
            "Epoch 6/40\n",
            "146/146 [==============================] - 25s 168ms/step - loss: 0.6523 - accuracy: 0.7212 - val_loss: 0.7465 - val_accuracy: 0.6818\n",
            "Epoch 7/40\n",
            "146/146 [==============================] - 24s 167ms/step - loss: 0.6408 - accuracy: 0.7300 - val_loss: 0.7110 - val_accuracy: 0.7126\n",
            "Epoch 8/40\n",
            "146/146 [==============================] - 25s 170ms/step - loss: 0.6370 - accuracy: 0.7311 - val_loss: 0.7120 - val_accuracy: 0.7092\n",
            "Epoch 9/40\n",
            "146/146 [==============================] - 24s 168ms/step - loss: 0.6193 - accuracy: 0.7356 - val_loss: 0.7066 - val_accuracy: 0.6997\n",
            "Epoch 10/40\n",
            "146/146 [==============================] - 24s 165ms/step - loss: 0.6080 - accuracy: 0.7427 - val_loss: 0.6973 - val_accuracy: 0.7228\n",
            "Epoch 11/40\n",
            "146/146 [==============================] - 25s 171ms/step - loss: 0.5900 - accuracy: 0.7527 - val_loss: 0.6986 - val_accuracy: 0.7117\n",
            "Epoch 12/40\n",
            "146/146 [==============================] - 24s 167ms/step - loss: 0.5762 - accuracy: 0.7508 - val_loss: 0.7198 - val_accuracy: 0.7083\n",
            "Epoch 13/40\n",
            "146/146 [==============================] - 25s 173ms/step - loss: 0.5655 - accuracy: 0.7572 - val_loss: 0.6911 - val_accuracy: 0.7194\n",
            "Epoch 14/40\n",
            "146/146 [==============================] - 24s 168ms/step - loss: 0.5447 - accuracy: 0.7705 - val_loss: 0.7054 - val_accuracy: 0.7246\n",
            "Epoch 15/40\n",
            "146/146 [==============================] - 25s 170ms/step - loss: 0.5326 - accuracy: 0.7709 - val_loss: 0.6822 - val_accuracy: 0.7211\n",
            "Epoch 16/40\n",
            "146/146 [==============================] - 26s 177ms/step - loss: 0.5327 - accuracy: 0.7759 - val_loss: 0.6974 - val_accuracy: 0.7126\n",
            "Epoch 17/40\n",
            "146/146 [==============================] - 26s 176ms/step - loss: 0.4907 - accuracy: 0.7939 - val_loss: 0.7475 - val_accuracy: 0.7100\n",
            "Epoch 18/40\n",
            "146/146 [==============================] - 26s 179ms/step - loss: 0.4991 - accuracy: 0.7949 - val_loss: 0.6916 - val_accuracy: 0.7211\n"
          ]
        }
      ],
      "source": [
        "num_epochs = 40\n",
        "# history = model.fit(word_seq_train, training_label_seq, epochs=num_epochs, validation_data=(word_seq_test,testing_label_seq),callbacks=[EarlyStopping(monitor='val_loss', patience=3, min_delta=0.0001)])\n",
        "\n",
        "\n",
        "history_lst_ft_stm = model.fit(word_seq_train_stem, y_train_oh, epochs=num_epochs, validation_data=(word_seq_test_stem,y_test_oh),callbacks=[EarlyStopping(monitor='val_loss', patience=3, min_delta=0.0001)])"
      ]
    },
    {
      "cell_type": "code",
      "execution_count": 116,
      "metadata": {
        "colab": {
          "base_uri": "https://localhost:8080/",
          "height": 295
        },
        "id": "uVKyxll3_yiu",
        "outputId": "9a4093d4-d60d-4ece-97bf-8127818c07c8"
      },
      "outputs": [
        {
          "output_type": "display_data",
          "data": {
            "text/plain": [
              "<Figure size 432x288 with 1 Axes>"
            ],
            "image/png": "[encoded data removed]"
          },
          "metadata": {}
        }
      ],
      "source": [
        "#generate plots\n",
        "plt.figure()\n",
        "plt.plot(history_lst_ft_stm.history['loss'], lw=2.0, color='b', label='train')\n",
        "plt.plot(history_lst_ft_stm.history['val_loss'], lw=2.0, color='r', label='val')\n",
        "plt.title('LSTM sentiment with stemming')\n",
        "plt.xlabel('Epochs')\n",
        "plt.ylabel('Cross-Entropy Loss')\n",
        "plt.legend(loc='upper right')\n",
        "plt.show()\n"
      ]
    },
    {
      "cell_type": "code",
      "execution_count": 117,
      "metadata": {
        "colab": {
          "base_uri": "https://localhost:8080/",
          "height": 295
        },
        "id": "p2v1xWwu_25S",
        "outputId": "65f8f272-129c-43a4-e5a5-1e84046ad265"
      },
      "outputs": [
        {
          "output_type": "display_data",
          "data": {
            "text/plain": [
              "<Figure size 432x288 with 1 Axes>"
            ],
            "image/png": "[encoded data removed]"
          },
          "metadata": {}
        }
      ],
      "source": [
        "plt.figure()\n",
        "plt.plot(history_lst_ft_stm.history['accuracy'], lw=2.0, color='b', label='train')\n",
        "plt.plot(history_lst_ft_stm.history['val_accuracy'], lw=2.0, color='r', label='val')\n",
        "plt.title('LSTM sentiment with stemming')\n",
        "plt.xlabel('Epochs')\n",
        "plt.ylabel('Accuracy')\n",
        "plt.legend(loc='upper left')\n",
        "plt.show()"
      ]
    },
    {
      "cell_type": "markdown",
      "metadata": {
        "id": "ZzhQ2BA9fSuw"
      },
      "source": [
        "LSTM_accuracy, LSTM_precision, LSTM_recall,LSTM_f1_score for stemmed data"
      ]
    },
    {
      "cell_type": "code",
      "execution_count": 119,
      "metadata": {
        "colab": {
          "base_uri": "https://localhost:8080/"
        },
        "id": "vCD3bAZGAdMR",
        "outputId": "1298ad28-c558-413a-97d8-1232e26523c6"
      },
      "outputs": [
        {
          "output_type": "stream",
          "name": "stdout",
          "text": [
            "+-----------+----------+------------+-----------+--------+\n",
            "| Algorithm | Accuracy | F1 Measure | Precision | Recall |\n",
            "+-----------+----------+------------+-----------+--------+\n",
            "|   LSTM    |  0.721   |   0.692    |   0.712   |  0.68  |\n",
            "+-----------+----------+------------+-----------+--------+\n"
          ]
        },
        {
          "output_type": "stream",
          "name": "stderr",
          "text": [
            "/usr/local/lib/python3.7/dist-packages/beautifultable/utils.py:125: FutureWarning: 'BeautifulTable.column_headers' has been deprecated in 'v1.0.0' and will be removed in 'v1.2.0'. Use 'BTColumnCollection.header' instead.\n",
            "  warnings.warn(message, FutureWarning)\n",
            "/usr/local/lib/python3.7/dist-packages/beautifultable/utils.py:125: FutureWarning: 'BeautifulTable.append_row' has been deprecated in 'v1.0.0' and will be removed in 'v1.2.0'. Use 'BTRowCollection.append' instead.\n",
            "  warnings.warn(message, FutureWarning)\n"
          ]
        }
      ],
      "source": [
        "LSTM_FT_STM_accuracy, LSTM_FT_STM_precision, LSTM_FT_STM_recall,LSTM_FT_STM_f1_score,LSTM_FT_STM_y_pred  = evaluate_model(word_seq_test_stem, y_testo, model)\n",
        "h0=[\"Algorithm\"]\n",
        "h1=[\"LSTM\",LSTM_FT_STM_accuracy,LSTM_FT_STM_f1_score,LSTM_FT_STM_precision,LSTM_FT_STM_recall]\n",
        "\n",
        "h0.append(\"Accuracy\")\n",
        "h0.append(\"F1 Measure\")\n",
        "h0.append(\"Precision\")\n",
        "h0.append(\"Recall\")\n",
        "\n",
        "from beautifultable import BeautifulTable\n",
        "table = BeautifulTable()\n",
        "table.column_headers = h0\n",
        "table.append_row(h1)\n",
        "print(table)"
      ]
    },
    {
      "cell_type": "code",
      "execution_count": 120,
      "metadata": {
        "colab": {
          "base_uri": "https://localhost:8080/"
        },
        "id": "RiXqtKfmAIis",
        "outputId": "64206634-168d-44d6-d660-af9dbc6ecfdc"
      },
      "outputs": [
        {
          "output_type": "stream",
          "name": "stdout",
          "text": [
            "              precision    recall  f1-score   support\n",
            "\n",
            "    Negative     0.6460    0.6000    0.6221       295\n",
            "     Neutral     0.7478    0.6014    0.6667       281\n",
            "    Positive     0.7429    0.8381    0.7876       593\n",
            "\n",
            "    accuracy                         0.7211      1169\n",
            "   macro avg     0.7122    0.6798    0.6921      1169\n",
            "weighted avg     0.7196    0.7211    0.7168      1169\n",
            "\n"
          ]
        }
      ],
      "source": [
        "\n",
        "from sklearn.metrics import classification_report,confusion_matrix\n",
        "print(classification_report(y_testo, LSTM_FT_STM_y_pred, target_names=class_name, zero_division=0, digits=4))"
      ]
    },
    {
      "cell_type": "markdown",
      "metadata": {
        "id": "nhJBGzoKe87n"
      },
      "source": [
        "Confusionmatrix for stemming data"
      ]
    },
    {
      "cell_type": "code",
      "execution_count": 121,
      "metadata": {
        "colab": {
          "base_uri": "https://localhost:8080/",
          "height": 300
        },
        "id": "R628cuORe8Jf",
        "outputId": "481eef65-4b43-43b5-95c3-c6bd03921096"
      },
      "outputs": [
        {
          "output_type": "display_data",
          "data": {
            "text/plain": [
              "<Figure size 432x288 with 2 Axes>"
            ],
            "image/png": "[encoded data removed]"
          },
          "metadata": {}
        }
      ],
      "source": [
        "cm = confusion_matrix(y_testo, LSTM_FT_STM_y_pred)\n",
        "df_cm = pd.DataFrame(cm, index=class_name, columns=class_name)\n",
        "show_confusion_matrix(df_cm)"
      ]
    },
    {
      "cell_type": "markdown",
      "metadata": {
        "id": "2SrkG91DajYp"
      },
      "source": [
        "#SVM with fasttext"
      ]
    },
    {
      "cell_type": "markdown",
      "metadata": {
        "id": "WQu8W0hGCPlJ"
      },
      "source": [
        "Importing required libraries"
      ]
    },
    {
      "cell_type": "code",
      "execution_count": 74,
      "metadata": {
        "id": "asoagqGRkDU4"
      },
      "outputs": [],
      "source": [
        "import string\n",
        "import sys\n",
        "import time\n",
        "import json\n",
        "from sklearn.metrics import classification_report, confusion_matrix, accuracy_score\n",
        "from sklearn.feature_extraction.text import TfidfVectorizer\n",
        "from sklearn.model_selection import StratifiedShuffleSplit\n",
        "from sklearn.svm import LinearSVC\n",
        "from sklearn.svm import SVC\n",
        "import random as rn\n",
        "from sklearn.pipeline import Pipeline\n",
        "from sklearn.model_selection import GridSearchCV\n",
        "from sklearn.svm import LinearSVC\n",
        "from sklearn.feature_selection import SelectKBest\n",
        "from sklearn.feature_selection import f_classif"
      ]
    },
    {
      "cell_type": "code",
      "execution_count": 75,
      "metadata": {
        "id": "sP6VkWdPkDRc"
      },
      "outputs": [],
      "source": [
        "#All this for reproducibility\n",
        "np.random.seed(1)\n",
        "rn.seed(1)"
      ]
    },
    {
      "cell_type": "code",
      "execution_count": 76,
      "metadata": {
        "id": "-kJMIV8kkDOj"
      },
      "outputs": [],
      "source": [
        "wvLength = 300\n",
        "vectorSource='fasttext'"
      ]
    },
    {
      "cell_type": "markdown",
      "metadata": {
        "id": "KyOlPXlu4HH4"
      },
      "source": [
        "function for Xencoding, #Xencoded is a sparse nDocs x nWords matrix. When using word-embeddings we convert that to a dense nDocs x 300 matrix by multiplying with the embedding matrix "
      ]
    },
    {
      "cell_type": "code",
      "execution_count": 77,
      "metadata": {
        "id": "ZHz3JNHjMCql"
      },
      "outputs": [],
      "source": [
        "def sparseMultiply (sparseX, corpus_embedding_matrix):\n",
        "    denseZ = []\n",
        "    for row in sparseX:\n",
        "        newRow = np.zeros(wvLength)\n",
        "        for nonzeroLocation, value in list(zip(row.indices, row.data)):\n",
        "            newRow = newRow + value * corpus_embedding_matrix[nonzeroLocation]\n",
        "        denseZ.append(newRow)\n",
        "    denseZ = np.array([np.array(xi) for xi in denseZ])\n",
        "    return denseZ"
      ]
    },
    {
      "cell_type": "markdown",
      "metadata": {
        "id": "br6z55jLxZrC"
      },
      "source": [
        "function for getting embedding matrix."
      ]
    },
    {
      "cell_type": "code",
      "execution_count": 78,
      "metadata": {
        "id": "B919RCdGzwYV"
      },
      "outputs": [],
      "source": [
        "\n",
        "def getEmbeddingMatrix (word_index, vectorSource):\n",
        "    wordVecSources = {'fasttext' : '/content/cc.ml.300.vec' }\n",
        "    f = open (wordVecSources[vectorSource])\n",
        "    allWv = {}\n",
        "    if (vectorSource == 'fasttext'):\n",
        "        errorCount = 0\n",
        "        for line in f:\n",
        "            values = line.split()\n",
        "            word = values[0].strip()\n",
        "            try:\n",
        "                wv = np.asarray(values[1:], dtype='float32')\n",
        "                if (len(wv) != wvLength):\n",
        "                    errorCount = errorCount + 1\n",
        "                    continue\n",
        "            except:\n",
        "                errorCount = errorCount + 1\n",
        "                continue\n",
        "            allWv[word] = wv\n",
        "        print (\"# Bad Word Vectors:\", errorCount)\n",
        "    f.close()\n",
        "    embedding_matrix = np.zeros((len(word_index)+1, wvLength))  # +1 for the masked 0\n",
        "    for word, i in word_index.items():\n",
        "        if word in allWv:\n",
        "            embedding_matrix[i] = allWv[word]\n",
        "    return embedding_matrix"
      ]
    },
    {
      "cell_type": "markdown",
      "metadata": {
        "id": "OxQhjv0MyfVQ"
      },
      "source": [
        "Getting the number of classes"
      ]
    },
    {
      "cell_type": "code",
      "execution_count": 79,
      "metadata": {
        "id": "ws6ruE4xRtDU"
      },
      "outputs": [],
      "source": [
        "numClasses = len(set(labels))"
      ]
    },
    {
      "cell_type": "code",
      "execution_count": 80,
      "metadata": {
        "colab": {
          "base_uri": "https://localhost:8080/"
        },
        "id": "KRlursGER2ww",
        "outputId": "4aa0d3c8-8cfc-425e-d48e-ff9c93811fc5"
      },
      "outputs": [
        {
          "output_type": "stream",
          "name": "stdout",
          "text": [
            "Number of classes to be predicted  3\n"
          ]
        }
      ],
      "source": [
        "print(\"Number of classes to be predicted \",numClasses)"
      ]
    },
    {
      "cell_type": "markdown",
      "metadata": {
        "id": "1Y-32puwyn_J"
      },
      "source": [
        "Appending processed train and test document "
      ]
    },
    {
      "cell_type": "code",
      "execution_count": 81,
      "metadata": {
        "id": "bynRc1W13bG3"
      },
      "outputs": [],
      "source": [
        "processed_docs = [*processed_docs_train, *processed_docs_test]\n"
      ]
    },
    {
      "cell_type": "code",
      "source": [
        "y_triano.shape"
      ],
      "metadata": {
        "colab": {
          "base_uri": "https://localhost:8080/"
        },
        "id": "kXRZ5Ae1M3TI",
        "outputId": "1370e27b-8870-472a-843b-74d3842ef786"
      },
      "execution_count": 82,
      "outputs": [
        {
          "output_type": "execute_result",
          "data": {
            "text/plain": [
              "(4667,)"
            ]
          },
          "metadata": {},
          "execution_count": 82
        }
      ]
    },
    {
      "cell_type": "code",
      "execution_count": 83,
      "metadata": {
        "id": "2ZsOZRENtrpz"
      },
      "outputs": [],
      "source": [
        "training_label_seq_r=y_triano.reshape(1,y_triano.shape[0])"
      ]
    },
    {
      "cell_type": "code",
      "execution_count": 84,
      "metadata": {
        "id": "jj450EDkuDyt"
      },
      "outputs": [],
      "source": [
        "testing_label_seq_r=y_testo.reshape(1,y_testo.shape[0])"
      ]
    },
    {
      "cell_type": "code",
      "source": [
        "training_label_seq_r.shape"
      ],
      "metadata": {
        "colab": {
          "base_uri": "https://localhost:8080/"
        },
        "id": "dR4TxrPSNCUf",
        "outputId": "6dc943e9-c276-45d8-964d-e84b01cd07fe"
      },
      "execution_count": 85,
      "outputs": [
        {
          "output_type": "execute_result",
          "data": {
            "text/plain": [
              "(1, 4667)"
            ]
          },
          "metadata": {},
          "execution_count": 85
        }
      ]
    },
    {
      "cell_type": "markdown",
      "metadata": {
        "id": "8Gx12IHpzwMo"
      },
      "source": [
        "Appending train and test labels"
      ]
    },
    {
      "cell_type": "code",
      "execution_count": 86,
      "metadata": {
        "id": "FA8ZMcRQuLoa"
      },
      "outputs": [],
      "source": [
        "labels = np.append(training_label_seq_r, testing_label_seq_r)"
      ]
    },
    {
      "cell_type": "code",
      "execution_count": 87,
      "metadata": {
        "colab": {
          "base_uri": "https://localhost:8080/"
        },
        "id": "wz4mD_2HtjNX",
        "outputId": "8d278c59-8f62-466c-f030-cc7aa4b21578"
      },
      "outputs": [
        {
          "output_type": "execute_result",
          "data": {
            "text/plain": [
              "(5836,)"
            ]
          },
          "metadata": {},
          "execution_count": 87
        }
      ],
      "source": [
        "labels.shape"
      ]
    },
    {
      "cell_type": "markdown",
      "metadata": {
        "id": "hNyrhR1Pxknm"
      },
      "source": [
        "Splittig the text to words before building vocabulary"
      ]
    },
    {
      "cell_type": "code",
      "execution_count": 88,
      "metadata": {
        "id": "_YVAAKf1wrx1"
      },
      "outputs": [],
      "source": [
        "X=[]\n",
        "for string in processed_docs:\n",
        "\n",
        "  split_string_list=string.split()\n",
        "  X.append(split_string_list)"
      ]
    },
    {
      "cell_type": "code",
      "execution_count": 89,
      "metadata": {
        "colab": {
          "base_uri": "https://localhost:8080/"
        },
        "id": "yNVT3P3qwruV",
        "outputId": "e229ce46-c73a-41d4-83b5-9d445f071a10"
      },
      "outputs": [
        {
          "output_type": "stream",
          "name": "stdout",
          "text": [
            "Length of total docs passed  5836\n"
          ]
        }
      ],
      "source": [
        "print(\"Length of total docs passed \",len(X))"
      ]
    },
    {
      "cell_type": "markdown",
      "metadata": {
        "id": "-2NbmZGTyU4x"
      },
      "source": [
        "Using scikit-learn Tf-Idf Vectorizer to build the vocabulary "
      ]
    },
    {
      "cell_type": "code",
      "execution_count": 90,
      "metadata": {
        "colab": {
          "base_uri": "https://localhost:8080/"
        },
        "id": "PO-T6paZyLIs",
        "outputId": "3848b88c-5941-42e7-e892-b5aa3af9b5d2"
      },
      "outputs": [
        {
          "output_type": "stream",
          "name": "stderr",
          "text": [
            "/usr/local/lib/python3.7/dist-packages/ipykernel_launcher.py:1: VisibleDeprecationWarning: Creating an ndarray from ragged nested sequences (which is a list-or-tuple of lists-or-tuples-or ndarrays with different lengths or shapes) is deprecated. If you meant to do this, you must specify 'dtype=object' when creating the ndarray.\n",
            "  \"\"\"Entry point for launching an IPython kernel.\n"
          ]
        },
        {
          "output_type": "stream",
          "name": "stdout",
          "text": [
            "Vocab sparse-Xencoded 23007 (5836, 23007) \n"
          ]
        }
      ],
      "source": [
        "X=np.array([np.array(xi) for xi in X])          #   rows: Docs. columns: words\n",
        "vectorizer = TfidfVectorizer(analyzer=lambda x: x, min_df=1).fit(X)\n",
        "word_index_tf = vectorizer.vocabulary_\n",
        "\n",
        "\n",
        "Xencoded = vectorizer.transform(X)\n",
        "print ('Vocab sparse-Xencoded {} {} '.format(len(word_index_tf), (Xencoded.shape)))"
      ]
    },
    {
      "cell_type": "code",
      "execution_count": 91,
      "metadata": {
        "colab": {
          "base_uri": "https://localhost:8080/"
        },
        "id": "6johWOQvybp8",
        "outputId": "d23457b3-a2a6-47bd-82dd-8f2732ddb089"
      },
      "outputs": [
        {
          "output_type": "execute_result",
          "data": {
            "text/plain": [
              "(5836,)"
            ]
          },
          "metadata": {},
          "execution_count": 91
        }
      ],
      "source": [
        "X.shape"
      ]
    },
    {
      "cell_type": "code",
      "execution_count": 92,
      "metadata": {
        "colab": {
          "base_uri": "https://localhost:8080/"
        },
        "id": "JgSw95996O3x",
        "outputId": "08d164f1-ae29-414e-fad7-f67ab232e982"
      },
      "outputs": [
        {
          "output_type": "execute_result",
          "data": {
            "text/plain": [
              "23007"
            ]
          },
          "metadata": {},
          "execution_count": 92
        }
      ],
      "source": [
        "len(word_index_tf)"
      ]
    },
    {
      "cell_type": "code",
      "execution_count": 93,
      "metadata": {
        "colab": {
          "base_uri": "https://localhost:8080/"
        },
        "id": "2YJ5sNUH6Jtz",
        "outputId": "e9baaaf1-0ac4-44dd-a890-0025cb3c657b"
      },
      "outputs": [
        {
          "output_type": "execute_result",
          "data": {
            "text/plain": [
              "(5836, 23007)"
            ]
          },
          "metadata": {},
          "execution_count": 93
        }
      ],
      "source": [
        "Xencoded.shape"
      ]
    },
    {
      "cell_type": "markdown",
      "metadata": {
        "id": "hriubZ51pLPU"
      },
      "source": [
        "getting embedding matrix for fastext word index"
      ]
    },
    {
      "cell_type": "code",
      "execution_count": 94,
      "metadata": {
        "colab": {
          "base_uri": "https://localhost:8080/"
        },
        "id": "5iheIBjCRBtS",
        "outputId": "f11e1be5-f723-44b1-fdd1-c94f888b423c"
      },
      "outputs": [
        {
          "output_type": "stream",
          "name": "stdout",
          "text": [
            "# Bad Word Vectors: 1\n"
          ]
        }
      ],
      "source": [
        "embedding_matrix_f = getEmbeddingMatrix(word_index_tf, vectorSource)\n"
      ]
    },
    {
      "cell_type": "code",
      "execution_count": 95,
      "metadata": {
        "id": "l4XCbrOTFiG4"
      },
      "outputs": [],
      "source": [
        "#Xencoded is a sparse nDocs x nWords matrix. When using word-embeddings we convert that to a dense nDocs x 300 matrix by multiplying with the embedding matrix \n",
        "Xencoded_f = sparseMultiply (Xencoded, embedding_matrix_f)\n"
      ]
    },
    {
      "cell_type": "code",
      "execution_count": 96,
      "metadata": {
        "colab": {
          "base_uri": "https://localhost:8080/"
        },
        "id": "8Pnd87AOGg-G",
        "outputId": "e28761fb-8fa5-4388-a7d5-c7da793be24e"
      },
      "outputs": [
        {
          "output_type": "stream",
          "name": "stdout",
          "text": [
            "Dense-Xencoded (5836, 300)\n"
          ]
        }
      ],
      "source": [
        "print ('Dense-Xencoded {}'.format((Xencoded_f.shape)))"
      ]
    },
    {
      "cell_type": "code",
      "source": [
        "embedding_matrix_f.shape"
      ],
      "metadata": {
        "colab": {
          "base_uri": "https://localhost:8080/"
        },
        "id": "1GeCDI_K7Fol",
        "outputId": "5893e0b5-70ab-4c8f-a2c5-e0fc67b9e80f"
      },
      "execution_count": 138,
      "outputs": [
        {
          "output_type": "execute_result",
          "data": {
            "text/plain": [
              "(23008, 300)"
            ]
          },
          "metadata": {},
          "execution_count": 138
        }
      ]
    },
    {
      "cell_type": "markdown",
      "metadata": {
        "id": "xHUNXXXV4pW5"
      },
      "source": [
        "###splitting data into train and test and fitting to model"
      ]
    },
    {
      "cell_type": "code",
      "source": [
        "# Test & Train Split\n",
        "sss = StratifiedShuffleSplit(n_splits=1, test_size=0.2, random_state=1).split(Xencoded_f, labels)\n",
        "train_indices, test_indices = next(sss)\n",
        "train_x, test_x = Xencoded_f[train_indices], Xencoded_f[test_indices]\n",
        "train_labels, test_labels = labels[train_indices], labels[test_indices]\n",
        "start_time = time.time()"
      ],
      "metadata": {
        "id": "UnbKuS7EObsX"
      },
      "execution_count": 97,
      "outputs": []
    },
    {
      "cell_type": "code",
      "source": [
        "train_x.shape"
      ],
      "metadata": {
        "colab": {
          "base_uri": "https://localhost:8080/"
        },
        "id": "THRlQBkoOjdg",
        "outputId": "d04a88e0-66bb-4197-8b91-da2b03920f6e"
      },
      "execution_count": 98,
      "outputs": [
        {
          "output_type": "execute_result",
          "data": {
            "text/plain": [
              "(4668, 300)"
            ]
          },
          "metadata": {},
          "execution_count": 98
        }
      ]
    },
    {
      "cell_type": "code",
      "source": [
        "train_x"
      ],
      "metadata": {
        "colab": {
          "base_uri": "https://localhost:8080/"
        },
        "id": "SB_8rJuqOmM9",
        "outputId": "27432abb-5790-492d-b0db-3f5b29a1c1c0"
      },
      "execution_count": 99,
      "outputs": [
        {
          "output_type": "execute_result",
          "data": {
            "text/plain": [
              "array([[ 0.00265469, -0.00724   ,  0.04653403, ..., -0.04543449,\n",
              "         0.06427837, -0.06641102],\n",
              "       [-0.04453702, -0.04116803,  0.05305351, ..., -0.03430597,\n",
              "        -0.00085099, -0.05673002],\n",
              "       [ 0.00520968,  0.0973384 ,  0.11137645, ...,  0.03640306,\n",
              "         0.01052594, -0.04492969],\n",
              "       ...,\n",
              "       [-0.02410523,  0.03630971, -0.01158395, ..., -0.01144196,\n",
              "         0.02730486,  0.05162507],\n",
              "       [ 0.07584102, -0.02734386,  0.03674372, ..., -0.03055861,\n",
              "         0.061947  ,  0.07723835],\n",
              "       [-0.01046912,  0.01587473,  0.02278351, ..., -0.00862719,\n",
              "        -0.01419241, -0.0113465 ]])"
            ]
          },
          "metadata": {},
          "execution_count": 99
        }
      ]
    },
    {
      "cell_type": "code",
      "source": [
        "train_labels.shape"
      ],
      "metadata": {
        "colab": {
          "base_uri": "https://localhost:8080/"
        },
        "id": "BWymEFAXOpIb",
        "outputId": "e99a0f1f-c4b7-4e83-abfe-da6a1ec96d77"
      },
      "execution_count": 100,
      "outputs": [
        {
          "output_type": "execute_result",
          "data": {
            "text/plain": [
              "(4668,)"
            ]
          },
          "metadata": {},
          "execution_count": 100
        }
      ]
    },
    {
      "cell_type": "code",
      "source": [
        "train_labels"
      ],
      "metadata": {
        "colab": {
          "base_uri": "https://localhost:8080/"
        },
        "id": "NFP6WLAsOspJ",
        "outputId": "05a342dc-2c81-43e3-f1ee-5e1b23952ef9"
      },
      "execution_count": 101,
      "outputs": [
        {
          "output_type": "execute_result",
          "data": {
            "text/plain": [
              "array([2, 2, 2, ..., 2, 2, 2])"
            ]
          },
          "metadata": {},
          "execution_count": 101
        }
      ]
    },
    {
      "cell_type": "code",
      "source": [
        "np.unique(train_labels)"
      ],
      "metadata": {
        "colab": {
          "base_uri": "https://localhost:8080/"
        },
        "id": "Sw7czf77Ov59",
        "outputId": "016d2831-3833-4a4f-912b-27729f16cffc"
      },
      "execution_count": 102,
      "outputs": [
        {
          "output_type": "execute_result",
          "data": {
            "text/plain": [
              "array([0, 1, 2])"
            ]
          },
          "metadata": {},
          "execution_count": 102
        }
      ]
    },
    {
      "cell_type": "code",
      "source": [
        "pipe = Pipeline(steps=[('fclasif',SelectKBest(f_classif,k=100)),('svm', SVC(probability=True))])\n",
        "param_grid = {\n",
        "    'svm__C': [0.1, 1, 10, 100],  \n",
        "    'svm__gamma': [1, 0.1, 0.01, 0.001], \n",
        "    'svm__kernel': ['rbf', 'linear', 'poly']\n",
        "}\n",
        "search = GridSearchCV(pipe, param_grid, cv=5,  refit=True)\n",
        "search.fit(train_x, train_labels)\n",
        "print(\"Best CV score = %0.3f:\" % search.best_score_)\n",
        "print(\"Best parameters: \", search.best_params_)\n",
        "\n",
        "# store the best params and best model for later use\n",
        "SVM_best_params = search.best_params_\n",
        "SVM_best_model_wo_stem_ft = search.best_estimator_\n"
      ],
      "metadata": {
        "colab": {
          "base_uri": "https://localhost:8080/"
        },
        "id": "F5t2xJeFOhP8",
        "outputId": "8a4aafe5-9480-4587-84ce-abc705955e58"
      },
      "execution_count": 103,
      "outputs": [
        {
          "output_type": "stream",
          "name": "stdout",
          "text": [
            "Best CV score = 0.752:\n",
            "Best parameters:  {'svm__C': 10, 'svm__gamma': 1, 'svm__kernel': 'rbf'}\n"
          ]
        }
      ]
    },
    {
      "cell_type": "code",
      "source": [
        "test_pred = SVM_best_model_wo_stem_ft.predict(test_x)"
      ],
      "metadata": {
        "id": "UgSb91oaO7ec"
      },
      "execution_count": 104,
      "outputs": []
    },
    {
      "cell_type": "code",
      "execution_count": 105,
      "metadata": {
        "colab": {
          "base_uri": "https://localhost:8080/"
        },
        "id": "6NIy9lMQxaFz",
        "outputId": "8befb2b9-ba76-4b6a-c140-6ff230893185"
      },
      "outputs": [
        {
          "output_type": "stream",
          "name": "stdout",
          "text": [
            "[(0, 'Negative'), (1, 'Neutral'), (2, 'Positive')]\n"
          ]
        }
      ],
      "source": [
        "\n",
        "labelToName={2: 'Positive', 0:'Negative',1:'Neutral'}\n",
        "labelToNameSortedByLabel = sorted(labelToName.items(), key=lambda kv: kv[0]) # List of tuples sorted by the label number [ (0, ''), (1, ''), .. ]\n",
        "print(labelToNameSortedByLabel)"
      ]
    },
    {
      "cell_type": "code",
      "execution_count": 106,
      "metadata": {
        "colab": {
          "base_uri": "https://localhost:8080/"
        },
        "id": "M_tTpnVpy2oM",
        "outputId": "767d27e8-a2b0-4199-aedc-36111062e00d"
      },
      "outputs": [
        {
          "output_type": "stream",
          "name": "stdout",
          "text": [
            "['Negative', 'Neutral', 'Positive']\n"
          ]
        }
      ],
      "source": [
        "namesInLabelOrder = [item[1] for item in labelToNameSortedByLabel]\n",
        "print(namesInLabelOrder)"
      ]
    },
    {
      "cell_type": "code",
      "execution_count": 107,
      "metadata": {
        "colab": {
          "base_uri": "https://localhost:8080/"
        },
        "id": "xBaCw37ozbmj",
        "outputId": "1328f5c7-8d79-4e04-b5f5-d71b96f09fb9"
      },
      "outputs": [
        {
          "output_type": "stream",
          "name": "stdout",
          "text": [
            "[[187  11  97]\n",
            " [ 16 160 104]\n",
            " [ 54  23 516]]\n",
            "              precision    recall  f1-score   support\n",
            "\n",
            "    Negative     0.7276    0.6339    0.6775       295\n",
            "     Neutral     0.8247    0.5714    0.6751       280\n",
            "    Positive     0.7197    0.8702    0.7878       593\n",
            "\n",
            "    accuracy                         0.7389      1168\n",
            "   macro avg     0.7573    0.6918    0.7135      1168\n",
            "weighted avg     0.7469    0.7389    0.7329      1168\n",
            "\n"
          ]
        }
      ],
      "source": [
        "print (confusion_matrix(test_labels, test_pred))\n",
        "print (classification_report(test_labels, test_pred, digits=4, target_names=namesInLabelOrder))\n"
      ]
    },
    {
      "cell_type": "markdown",
      "metadata": {
        "id": "UcveJnS96B_d"
      },
      "source": [
        "Accuracy score for the model"
      ]
    },
    {
      "cell_type": "code",
      "execution_count": 108,
      "metadata": {
        "colab": {
          "base_uri": "https://localhost:8080/"
        },
        "id": "kdH-l0tlLGzs",
        "outputId": "71114042-6c1e-4c82-956a-cff2596bb5c7"
      },
      "outputs": [
        {
          "output_type": "stream",
          "name": "stdout",
          "text": [
            "Accuracy score for fast-text SVM model  0.7388698630136986\n"
          ]
        }
      ],
      "source": [
        "accuracyscore=accuracy_score(test_labels, test_pred)\n",
        "print(\"Accuracy score for fast-text SVM model \",accuracyscore)"
      ]
    },
    {
      "cell_type": "code",
      "execution_count": 111,
      "metadata": {
        "colab": {
          "base_uri": "https://localhost:8080/",
          "height": 296
        },
        "id": "WSEdnNns7Qt_",
        "outputId": "d125b7d5-dfb4-4f2d-b054-7156050011f3"
      },
      "outputs": [
        {
          "output_type": "display_data",
          "data": {
            "text/plain": [
              "<Figure size 432x288 with 2 Axes>"
            ],
            "image/png": "[encoded data removed]"
          },
          "metadata": {}
        }
      ],
      "source": [
        "\n",
        "cm = confusion_matrix(test_labels, test_pred)\n",
        "df_cm = pd.DataFrame(cm, index=namesInLabelOrder, columns=namesInLabelOrder)\n",
        "show_confusion_matrix(df_cm)"
      ]
    },
    {
      "cell_type": "code",
      "source": [
        "mean_fpr = np.linspace(start=0, stop=1, num=100)\n",
        "\n",
        "def evaluate_model1(X_test, y_test, model):\n",
        "    # compute probabilistic predictiond for the evaluation set\n",
        "    _probabilities = model.predict_proba(X_test)[:, 1]\n",
        "    \n",
        "    # compute exact predictiond for the evaluation set\n",
        "    _predicted_values = model.predict(X_test)\n",
        "        \n",
        "    # compute accuracy\n",
        "    _accuracy = accuracy_score(y_test, _predicted_values)\n",
        "        \n",
        "    # compute precision, recall and f1 score for class 1\n",
        "    _precision, _recall, _f1_score, _ = precision_recall_fscore_support(y_test, _predicted_values, labels=[1])\n",
        "    \n",
        "    # # compute fpr and tpr values for various thresholds \n",
        "    # # by comparing the true target values to the predicted probabilities for class 1\n",
        "    # _fpr, _tpr, _ = roc_auc_score(y_test, _probabilities,multi_class=\"ovr\")\n",
        "        \n",
        "    # # compute true positive rates for the values in the array mean_fpr\n",
        "    # _tpr_transformed = np.array([interp(mean_fpr, _fpr, _tpr)])\n",
        "    \n",
        "    # # compute the area under the curve\n",
        "    # _auc = auc(_fpr, _tpr)\n",
        "            \n",
        "    return _accuracy, _precision[0], _recall[0], _f1_score[0]\n",
        "    #, _tpr_transformed, _auc"
      ],
      "metadata": {
        "id": "G1wG6mpsUirx"
      },
      "execution_count": 112,
      "outputs": []
    },
    {
      "cell_type": "code",
      "source": [
        "SVM_FT_accuracy, SVM_FT_precision, SVM_FT_recall ,SVM_FT_f1_score = evaluate_model1(test_x, test_labels, SVM_best_model_wo_stem_ft)\n",
        "h0=[\"Algorithm\"]\n",
        "h1=[\"SVM\",SVM_FT_accuracy,SVM_FT_f1_score,SVM_FT_precision,SVM_FT_recall]\n",
        "\n",
        "h0.append(\"Accuracy\")\n",
        "h0.append(\"F1 Measure\")\n",
        "h0.append(\"Precision\")\n",
        "h0.append(\"Recall\")\n",
        "\n",
        "from beautifultable import BeautifulTable\n",
        "table = BeautifulTable()\n",
        "table.column_headers = h0\n",
        "table.append_row(h1)\n",
        "print(table)"
      ],
      "metadata": {
        "colab": {
          "base_uri": "https://localhost:8080/"
        },
        "id": "HYWeKK38Mg0E",
        "outputId": "cf8ba138-cab1-45ac-be85-6e09d9ee70a7"
      },
      "execution_count": 181,
      "outputs": [
        {
          "output_type": "stream",
          "name": "stdout",
          "text": [
            "+-----------+----------+------------+-----------+--------+\n",
            "| Algorithm | Accuracy | F1 Measure | Precision | Recall |\n",
            "+-----------+----------+------------+-----------+--------+\n",
            "|    SVM    |  0.738   |   0.658    |   0.777   | 0.571  |\n",
            "+-----------+----------+------------+-----------+--------+\n"
          ]
        },
        {
          "output_type": "stream",
          "name": "stderr",
          "text": [
            "/usr/local/lib/python3.7/dist-packages/beautifultable/utils.py:125: FutureWarning: 'BeautifulTable.column_headers' has been deprecated in 'v1.0.0' and will be removed in 'v1.2.0'. Use 'BTColumnCollection.header' instead.\n",
            "  warnings.warn(message, FutureWarning)\n",
            "/usr/local/lib/python3.7/dist-packages/beautifultable/utils.py:125: FutureWarning: 'BeautifulTable.append_row' has been deprecated in 'v1.0.0' and will be removed in 'v1.2.0'. Use 'BTRowCollection.append' instead.\n",
            "  warnings.warn(message, FutureWarning)\n"
          ]
        }
      ]
    },
    {
      "cell_type": "markdown",
      "metadata": {
        "id": "EwwlbE79fmmf"
      },
      "source": [
        "#SVM fasttext with stemmming"
      ]
    },
    {
      "cell_type": "markdown",
      "metadata": {
        "id": "KHdFE_WRomlE"
      },
      "source": [
        "Appending processed train and test stemmed document "
      ]
    },
    {
      "cell_type": "code",
      "execution_count": 122,
      "metadata": {
        "id": "xMZ3lzj8mIiY"
      },
      "outputs": [],
      "source": [
        "processed_docs_stem = [*processed_docs_train_stem, *processed_docs_test_stem]"
      ]
    },
    {
      "cell_type": "code",
      "execution_count": 123,
      "metadata": {
        "id": "S_5mYzJFgHbg"
      },
      "outputs": [],
      "source": [
        "X_stem=[]\n",
        "for string in processed_docs_stem:\n",
        "\n",
        "  split_string_list=string.split()\n",
        "  X_stem.append(split_string_list)"
      ]
    },
    {
      "cell_type": "code",
      "execution_count": 124,
      "metadata": {
        "colab": {
          "base_uri": "https://localhost:8080/"
        },
        "id": "CHkCrBHFgOgf",
        "outputId": "4deacdc1-27de-43c9-b7c5-7ba288a210e9"
      },
      "outputs": [
        {
          "output_type": "stream",
          "name": "stdout",
          "text": [
            "Length of total docs passed  5836\n"
          ]
        }
      ],
      "source": [
        "print(\"Length of total docs passed \",len(X_stem))"
      ]
    },
    {
      "cell_type": "code",
      "execution_count": 125,
      "metadata": {
        "colab": {
          "base_uri": "https://localhost:8080/"
        },
        "id": "FUDvJlCVhfLf",
        "outputId": "ae998fba-873f-4750-e58d-8174e72b4433"
      },
      "outputs": [
        {
          "output_type": "stream",
          "name": "stdout",
          "text": [
            "Vocab sparse-Xencoded 17828 (5836, 17828) \n"
          ]
        },
        {
          "output_type": "stream",
          "name": "stderr",
          "text": [
            "/usr/local/lib/python3.7/dist-packages/ipykernel_launcher.py:1: VisibleDeprecationWarning: Creating an ndarray from ragged nested sequences (which is a list-or-tuple of lists-or-tuples-or ndarrays with different lengths or shapes) is deprecated. If you meant to do this, you must specify 'dtype=object' when creating the ndarray.\n",
            "  \"\"\"Entry point for launching an IPython kernel.\n"
          ]
        }
      ],
      "source": [
        "X_stem=np.array([np.array(xi) for xi in X_stem])          #   rows: Docs. columns: words\n",
        "vectorizer = TfidfVectorizer(analyzer=lambda x: x, min_df=1).fit(X_stem)\n",
        "word_index_tf_stem = vectorizer.vocabulary_\n",
        "\n",
        "\n",
        "Xencoded_stem = vectorizer.transform(X_stem)\n",
        "print ('Vocab sparse-Xencoded {} {} '.format(len(word_index_tf_stem), (Xencoded_stem.shape)))"
      ]
    },
    {
      "cell_type": "code",
      "execution_count": 126,
      "metadata": {
        "colab": {
          "base_uri": "https://localhost:8080/"
        },
        "id": "UXfNNAQ9iG4z",
        "outputId": "5c2da435-f513-49ce-e8e0-1636e498bfc7"
      },
      "outputs": [
        {
          "output_type": "execute_result",
          "data": {
            "text/plain": [
              "17828"
            ]
          },
          "metadata": {},
          "execution_count": 126
        }
      ],
      "source": [
        "len(word_index_tf_stem)"
      ]
    },
    {
      "cell_type": "code",
      "execution_count": 127,
      "metadata": {
        "colab": {
          "base_uri": "https://localhost:8080/"
        },
        "id": "W-ZQC2-MlsGq",
        "outputId": "d82bbf5e-67a0-470a-f743-92c87d7233ce"
      },
      "outputs": [
        {
          "output_type": "execute_result",
          "data": {
            "text/plain": [
              "(5836,)"
            ]
          },
          "metadata": {},
          "execution_count": 127
        }
      ],
      "source": [
        "X_stem.shape"
      ]
    },
    {
      "cell_type": "code",
      "execution_count": 128,
      "metadata": {
        "colab": {
          "base_uri": "https://localhost:8080/"
        },
        "id": "q79vLY9PpH0U",
        "outputId": "69de2c25-3c42-4fed-e875-48137dbcde98"
      },
      "outputs": [
        {
          "output_type": "execute_result",
          "data": {
            "text/plain": [
              "(5836, 17828)"
            ]
          },
          "metadata": {},
          "execution_count": 128
        }
      ],
      "source": [
        "Xencoded_stem.shape"
      ]
    },
    {
      "cell_type": "markdown",
      "metadata": {
        "id": "qmDR-QkjpUk1"
      },
      "source": [
        "getting embedding matrix for fastext word index -stemming"
      ]
    },
    {
      "cell_type": "code",
      "execution_count": 129,
      "metadata": {
        "colab": {
          "base_uri": "https://localhost:8080/"
        },
        "id": "7QIKtLc2pDV0",
        "outputId": "66aa351f-d4bc-468e-f9e2-ef4be86e56df"
      },
      "outputs": [
        {
          "output_type": "stream",
          "name": "stdout",
          "text": [
            "# Bad Word Vectors: 1\n"
          ]
        }
      ],
      "source": [
        "embedding_matrix_f_stem = getEmbeddingMatrix(word_index_tf_stem, vectorSource)"
      ]
    },
    {
      "cell_type": "code",
      "source": [
        "embedding_matrix_f_stem.shape"
      ],
      "metadata": {
        "colab": {
          "base_uri": "https://localhost:8080/"
        },
        "id": "u3EGTDKVvZeL",
        "outputId": "0c902d95-54ea-4d54-e3ab-2042a20fb50c"
      },
      "execution_count": 130,
      "outputs": [
        {
          "output_type": "execute_result",
          "data": {
            "text/plain": [
              "(17829, 300)"
            ]
          },
          "metadata": {},
          "execution_count": 130
        }
      ]
    },
    {
      "cell_type": "code",
      "execution_count": 131,
      "metadata": {
        "id": "pLtBMo9wpaDd"
      },
      "outputs": [],
      "source": [
        "#Xencoded is a sparse nDocs x nWords matrix. When using word-embeddings we convert that to a dense nDocs x 300 matrix by multiplying with the embedding matrix \n",
        "Xencoded_f_stem = sparseMultiply (Xencoded_stem, embedding_matrix_f_stem)\n"
      ]
    },
    {
      "cell_type": "code",
      "execution_count": 132,
      "metadata": {
        "colab": {
          "base_uri": "https://localhost:8080/"
        },
        "id": "04ZXi-UwpgHO",
        "outputId": "ad854279-d659-4253-dd1d-bf8954410d40"
      },
      "outputs": [
        {
          "output_type": "stream",
          "name": "stdout",
          "text": [
            "Dense-Xencoded (5836, 300) -stemming\n"
          ]
        }
      ],
      "source": [
        "print ('Dense-Xencoded {} -stemming'.format((Xencoded_f_stem.shape)))"
      ]
    },
    {
      "cell_type": "markdown",
      "metadata": {
        "id": "Bkj3nopTpm99"
      },
      "source": [
        "###splitting data into train and test and fitting to model-stemming"
      ]
    },
    {
      "cell_type": "code",
      "execution_count": 133,
      "metadata": {
        "id": "nuvuHjzlpkWF"
      },
      "outputs": [],
      "source": [
        "# Test & Train Split\n",
        "sss = StratifiedShuffleSplit(n_splits=1, test_size=0.2, random_state=1).split(Xencoded_f_stem, labels)\n",
        "train_indices, test_indices = next(sss)\n",
        "train_x, test_x = Xencoded_f_stem[train_indices], Xencoded_f_stem[test_indices]\n",
        "train_labels, test_labels = labels[train_indices], labels[test_indices]\n",
        "start_time = time.time()"
      ]
    },
    {
      "cell_type": "code",
      "source": [
        "pipe = Pipeline(steps=[('fclasif',SelectKBest(f_classif,k=100)),('svm', SVC(probability=True))])\n",
        "param_grid = {\n",
        "    'svm__C': [0.1, 1, 10, 100],  \n",
        "    'svm__gamma': [1, 0.1, 0.01, 0.001], \n",
        "    'svm__kernel': ['rbf', 'linear', 'poly']\n",
        "}\n",
        "search = GridSearchCV(pipe, param_grid, cv=5,  refit=True)\n",
        "search.fit(train_x, train_labels)\n",
        "print(\"Best CV score = %0.3f:\" % search.best_score_)\n",
        "print(\"Best parameters: \", search.best_params_)\n",
        "\n",
        "# store the best params and best model for later use\n",
        "SVM_best_params = search.best_params_\n",
        "SVM_best_model = search.best_estimator_\n",
        "test_pred = SVM_best_model.predict(test_x)"
      ],
      "metadata": {
        "colab": {
          "base_uri": "https://localhost:8080/"
        },
        "id": "71MXbg9uWqMK",
        "outputId": "731a6481-9b16-4eaf-c31e-34243888287c"
      },
      "execution_count": 134,
      "outputs": [
        {
          "output_type": "stream",
          "name": "stdout",
          "text": [
            "Best CV score = 0.704:\n",
            "Best parameters:  {'svm__C': 10, 'svm__gamma': 1, 'svm__kernel': 'rbf'}\n"
          ]
        }
      ]
    },
    {
      "cell_type": "code",
      "source": [
        "print(\"Length of predicted labels -stemmed \",len(test_pred))"
      ],
      "metadata": {
        "colab": {
          "base_uri": "https://localhost:8080/"
        },
        "id": "KmvM01qFW137",
        "outputId": "03a2294d-a596-4cc0-8aa2-caf73bc25920"
      },
      "execution_count": 135,
      "outputs": [
        {
          "output_type": "stream",
          "name": "stdout",
          "text": [
            "Length of predicted labels -stemmed  1168\n"
          ]
        }
      ]
    },
    {
      "cell_type": "code",
      "execution_count": 136,
      "metadata": {
        "colab": {
          "base_uri": "https://localhost:8080/"
        },
        "id": "MMkt9LklqE89",
        "outputId": "52fae055-2fc2-4fd1-b0a1-586ea78a0a0f"
      },
      "outputs": [
        {
          "output_type": "stream",
          "name": "stdout",
          "text": [
            "[[164  25 106]\n",
            " [ 27 152 101]\n",
            " [ 62  34 497]]\n",
            "              precision    recall  f1-score   support\n",
            "\n",
            "    Negative     0.6482    0.5559    0.5985       295\n",
            "     Neutral     0.7204    0.5429    0.6191       280\n",
            "    Positive     0.7060    0.8381    0.7664       593\n",
            "\n",
            "    accuracy                         0.6961      1168\n",
            "   macro avg     0.6915    0.6456    0.6614      1168\n",
            "weighted avg     0.6948    0.6961    0.6887      1168\n",
            "\n"
          ]
        }
      ],
      "source": [
        "print (confusion_matrix(labels[test_indices], test_pred))\n",
        "print (classification_report(labels[test_indices], test_pred, digits=4, target_names=namesInLabelOrder))\n"
      ]
    },
    {
      "cell_type": "code",
      "execution_count": 196,
      "metadata": {
        "colab": {
          "base_uri": "https://localhost:8080/"
        },
        "id": "1g58sbJYqPOJ",
        "outputId": "af6d6854-2d45-4142-e52f-6ffda7aaa079"
      },
      "outputs": [
        {
          "output_type": "stream",
          "name": "stdout",
          "text": [
            "Accuracy score for fast-text SVM model-stemmed  0.690068493150685\n"
          ]
        }
      ],
      "source": [
        "accuracyscore=accuracy_score(test_labels, test_pred)\n",
        "print(\"Accuracy score for fast-text SVM model-stemmed \",accuracyscore)"
      ]
    },
    {
      "cell_type": "code",
      "execution_count": 137,
      "metadata": {
        "colab": {
          "base_uri": "https://localhost:8080/",
          "height": 296
        },
        "id": "jShXcVneqYSW",
        "outputId": "9efc6125-31a7-4af8-94af-17059be0089b"
      },
      "outputs": [
        {
          "output_type": "display_data",
          "data": {
            "text/plain": [
              "<Figure size 432x288 with 2 Axes>"
            ],
            "image/png": "[encoded data removed]"
          },
          "metadata": {}
        }
      ],
      "source": [
        "cm = confusion_matrix(labels[test_indices], test_pred)\n",
        "df_cm = pd.DataFrame(cm, index=namesInLabelOrder, columns=namesInLabelOrder)\n",
        "show_confusion_matrix(df_cm)"
      ]
    },
    {
      "cell_type": "code",
      "source": [
        "SVM_FT_STM_accuracy, SVM_FT_STM_precision, SVM_FT_STM_recall ,SVM_FT_STM_f1_score = evaluate_model1(test_x, test_labels, SVM_best_model)\n",
        "h0=[\"Algorithm\"]\n",
        "h1=[\"SVM\",SVM_FT_STM_accuracy,SVM_FT_STM_f1_score,SVM_FT_STM_precision,SVM_FT_STM_recall]\n",
        "\n",
        "h0.append(\"Accuracy\")\n",
        "h0.append(\"F1 Measure\")\n",
        "h0.append(\"Precision\")\n",
        "h0.append(\"Recall\")\n",
        "\n",
        "from beautifultable import BeautifulTable\n",
        "table = BeautifulTable()\n",
        "table.column_headers = h0\n",
        "table.append_row(h1)\n",
        "print(table)"
      ],
      "metadata": {
        "colab": {
          "base_uri": "https://localhost:8080/"
        },
        "id": "k9S5fxqVXF8E",
        "outputId": "36f5482a-7339-4876-a6a8-4210a8bf9285"
      },
      "execution_count": 198,
      "outputs": [
        {
          "output_type": "stream",
          "name": "stdout",
          "text": [
            "+-----------+----------+------------+-----------+--------+\n",
            "| Algorithm | Accuracy | F1 Measure | Precision | Recall |\n",
            "+-----------+----------+------------+-----------+--------+\n",
            "|    SVM    |   0.69   |   0.609    |   0.681   |  0.55  |\n",
            "+-----------+----------+------------+-----------+--------+\n"
          ]
        },
        {
          "output_type": "stream",
          "name": "stderr",
          "text": [
            "/usr/local/lib/python3.7/dist-packages/beautifultable/utils.py:125: FutureWarning: 'BeautifulTable.column_headers' has been deprecated in 'v1.0.0' and will be removed in 'v1.2.0'. Use 'BTColumnCollection.header' instead.\n",
            "  warnings.warn(message, FutureWarning)\n",
            "/usr/local/lib/python3.7/dist-packages/beautifultable/utils.py:125: FutureWarning: 'BeautifulTable.append_row' has been deprecated in 'v1.0.0' and will be removed in 'v1.2.0'. Use 'BTRowCollection.append' instead.\n",
            "  warnings.warn(message, FutureWarning)\n"
          ]
        }
      ]
    },
    {
      "cell_type": "markdown",
      "source": [
        "##Experiment 1 Results"
      ],
      "metadata": {
        "id": "rz9poTuxdZPe"
      }
    },
    {
      "cell_type": "code",
      "source": [
        "LSTM_FT_metrics = np.array([LSTM_FT_accuracy, LSTM_FT_precision, LSTM_FT_recall,LSTM_FT_f1_score])\n",
        "LSTM_FT_STM_metrics = np.array([LSTM_FT_STM_accuracy, LSTM_FT_STM_precision, LSTM_FT_STM_recall,LSTM_FT_STM_f1_score])\n",
        "SVM_FT_metrics = np.array([SVM_FT_accuracy, SVM_FT_precision, SVM_FT_recall ,SVM_FT_f1_score])\n",
        "SVM_FT_STM_metrics = np.array([SVM_FT_STM_accuracy, SVM_FT_STM_precision, SVM_FT_STM_recall ,SVM_FT_STM_f1_score])\n",
        "index = ['accuracy', 'precision', 'recall', 'F1-score']\n",
        "df_metrics = pd.DataFrame({'LSTM FT wo stem': LSTM_FT_metrics, 'LSTM FT with stem': LSTM_FT_STM_metrics, 'SVM FT wo stem': SVM_FT_metrics, 'SVM_FT_STM_metrics': SVM_FT_STM_metrics }, index=index)\n",
        "df_metrics.plot.bar(rot=0)\n",
        "plt.legend(loc=\"lower right\")\n",
        "plt.show()"
      ],
      "metadata": {
        "colab": {
          "base_uri": "https://localhost:8080/",
          "height": 265
        },
        "id": "1W__0XBOdVBg",
        "outputId": "c61ed0a7-238f-4e8a-840e-4d1087244b26"
      },
      "execution_count": 199,
      "outputs": [
        {
          "output_type": "display_data",
          "data": {
            "text/plain": [
              "<Figure size 432x288 with 1 Axes>"
            ],
            "image/png": "[encoded data removed]"
          },
          "metadata": {}
        }
      ]
    }
  ],
  "metadata": {
    "colab": {
      "collapsed_sections": [],
      "machine_shape": "hm",
      "name": "Experiment 1 (Fasttext).ipynb",
      "provenance": []
    },
    "gpuClass": "standard",
    "kernelspec": {
      "display_name": "Python 3",
      "name": "python3"
    },
    "language_info": {
      "name": "python"
    }
  },
  "nbformat": 4,
  "nbformat_minor": 0
}